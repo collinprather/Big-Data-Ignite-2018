{
 "cells": [
  {
   "cell_type": "code",
   "execution_count": 1,
   "metadata": {},
   "outputs": [],
   "source": [
    "import numpy as np\n",
    "import pandas as pd\n",
    "import matplotlib.pyplot as plt\n",
    "%matplotlib inline\n",
    "\n",
    "import seaborn as sns\n",
    "\n",
    "from sklearn.linear_model import LogisticRegression\n",
    "from sklearn.preprocessing import LabelEncoder, OneHotEncoder, StandardScaler, Imputer\n",
    "from sklearn.model_selection import train_test_split, GridSearchCV\n",
    "\n",
    "from sklearn.metrics import confusion_matrix, classification_report, precision_score\n",
    "from sklearn.metrics import roc_curve, auc"
   ]
  },
  {
   "cell_type": "code",
   "execution_count": 2,
   "metadata": {},
   "outputs": [
    {
     "data": {
      "text/html": [
       "<div>\n",
       "<style>\n",
       "    .dataframe thead tr:only-child th {\n",
       "        text-align: right;\n",
       "    }\n",
       "\n",
       "    .dataframe thead th {\n",
       "        text-align: left;\n",
       "    }\n",
       "\n",
       "    .dataframe tbody tr th {\n",
       "        vertical-align: top;\n",
       "    }\n",
       "</style>\n",
       "<table border=\"1\" class=\"dataframe\">\n",
       "  <thead>\n",
       "    <tr style=\"text-align: right;\">\n",
       "      <th></th>\n",
       "      <th>X</th>\n",
       "      <th>Y</th>\n",
       "      <th>OBJECTID</th>\n",
       "      <th>ROADSOFTID</th>\n",
       "      <th>BIKE</th>\n",
       "      <th>CITY</th>\n",
       "      <th>CRASHDATE</th>\n",
       "      <th>CRASHSEVER</th>\n",
       "      <th>CRASHTYPE</th>\n",
       "      <th>WORKZNEACT</th>\n",
       "      <th>...</th>\n",
       "      <th>VEH3DIR</th>\n",
       "      <th>VEH3TYPE</th>\n",
       "      <th>VEH3USE</th>\n",
       "      <th>WEATHER</th>\n",
       "      <th>WHEREONRD</th>\n",
       "      <th>YEAR</th>\n",
       "      <th>RDCITYTWP</th>\n",
       "      <th>RDNUMLANES</th>\n",
       "      <th>RDWIDTH</th>\n",
       "      <th>FRAMEWORK</th>\n",
       "    </tr>\n",
       "  </thead>\n",
       "  <tbody>\n",
       "    <tr>\n",
       "      <th>0</th>\n",
       "      <td>-85.639647</td>\n",
       "      <td>42.927216</td>\n",
       "      <td>6001</td>\n",
       "      <td>929923</td>\n",
       "      <td>No</td>\n",
       "      <td>Grand Rapids</td>\n",
       "      <td>2007-02-16</td>\n",
       "      <td>Property Damage Only</td>\n",
       "      <td>Side-Swipe Same</td>\n",
       "      <td>Uncoded &amp; Errors</td>\n",
       "      <td>...</td>\n",
       "      <td>U</td>\n",
       "      <td>Uncoded &amp; Errors</td>\n",
       "      <td>Uncoded &amp; Errors</td>\n",
       "      <td>Cloudy</td>\n",
       "      <td>On the Road</td>\n",
       "      <td>2007</td>\n",
       "      <td>Grand Rapids</td>\n",
       "      <td>2</td>\n",
       "      <td>42.0</td>\n",
       "      <td>17</td>\n",
       "    </tr>\n",
       "    <tr>\n",
       "      <th>1</th>\n",
       "      <td>-85.639487</td>\n",
       "      <td>42.927213</td>\n",
       "      <td>6002</td>\n",
       "      <td>935745</td>\n",
       "      <td>No</td>\n",
       "      <td>Grand Rapids</td>\n",
       "      <td>2007-06-22</td>\n",
       "      <td>Property Damage Only</td>\n",
       "      <td>Side-Swipe Same</td>\n",
       "      <td>Uncoded &amp; Errors</td>\n",
       "      <td>...</td>\n",
       "      <td>U</td>\n",
       "      <td>Uncoded &amp; Errors</td>\n",
       "      <td>Uncoded &amp; Errors</td>\n",
       "      <td>Clear</td>\n",
       "      <td>On the Road</td>\n",
       "      <td>2007</td>\n",
       "      <td>Grand Rapids</td>\n",
       "      <td>2</td>\n",
       "      <td>42.0</td>\n",
       "      <td>17</td>\n",
       "    </tr>\n",
       "    <tr>\n",
       "      <th>2</th>\n",
       "      <td>-85.639387</td>\n",
       "      <td>42.927212</td>\n",
       "      <td>6003</td>\n",
       "      <td>926813</td>\n",
       "      <td>No</td>\n",
       "      <td>Grand Rapids</td>\n",
       "      <td>2007-01-08</td>\n",
       "      <td>Property Damage Only</td>\n",
       "      <td>Head-on</td>\n",
       "      <td>Work on Shoulder / Median</td>\n",
       "      <td>...</td>\n",
       "      <td>U</td>\n",
       "      <td>Uncoded &amp; Errors</td>\n",
       "      <td>Uncoded &amp; Errors</td>\n",
       "      <td>Snow</td>\n",
       "      <td>On the Road</td>\n",
       "      <td>2007</td>\n",
       "      <td>Grand Rapids</td>\n",
       "      <td>2</td>\n",
       "      <td>42.0</td>\n",
       "      <td>17</td>\n",
       "    </tr>\n",
       "    <tr>\n",
       "      <th>3</th>\n",
       "      <td>-85.639288</td>\n",
       "      <td>42.927210</td>\n",
       "      <td>6004</td>\n",
       "      <td>943813</td>\n",
       "      <td>No</td>\n",
       "      <td>Grand Rapids</td>\n",
       "      <td>2007-11-12</td>\n",
       "      <td>Property Damage Only</td>\n",
       "      <td>Side-Swipe Same</td>\n",
       "      <td>Uncoded &amp; Errors</td>\n",
       "      <td>...</td>\n",
       "      <td>U</td>\n",
       "      <td>Uncoded &amp; Errors</td>\n",
       "      <td>Uncoded &amp; Errors</td>\n",
       "      <td>Cloudy</td>\n",
       "      <td>On the Road</td>\n",
       "      <td>2007</td>\n",
       "      <td>Grand Rapids</td>\n",
       "      <td>2</td>\n",
       "      <td>42.0</td>\n",
       "      <td>17</td>\n",
       "    </tr>\n",
       "  </tbody>\n",
       "</table>\n",
       "<p>4 rows × 77 columns</p>\n",
       "</div>"
      ],
      "text/plain": [
       "           X          Y  OBJECTID  ROADSOFTID BIKE          CITY   CRASHDATE  \\\n",
       "0 -85.639647  42.927216      6001      929923   No  Grand Rapids  2007-02-16   \n",
       "1 -85.639487  42.927213      6002      935745   No  Grand Rapids  2007-06-22   \n",
       "2 -85.639387  42.927212      6003      926813   No  Grand Rapids  2007-01-08   \n",
       "3 -85.639288  42.927210      6004      943813   No  Grand Rapids  2007-11-12   \n",
       "\n",
       "             CRASHSEVER        CRASHTYPE                 WORKZNEACT    ...     \\\n",
       "0  Property Damage Only  Side-Swipe Same           Uncoded & Errors    ...      \n",
       "1  Property Damage Only  Side-Swipe Same           Uncoded & Errors    ...      \n",
       "2  Property Damage Only          Head-on  Work on Shoulder / Median    ...      \n",
       "3  Property Damage Only  Side-Swipe Same           Uncoded & Errors    ...      \n",
       "\n",
       "  VEH3DIR          VEH3TYPE           VEH3USE WEATHER    WHEREONRD  YEAR  \\\n",
       "0       U  Uncoded & Errors  Uncoded & Errors  Cloudy  On the Road  2007   \n",
       "1       U  Uncoded & Errors  Uncoded & Errors   Clear  On the Road  2007   \n",
       "2       U  Uncoded & Errors  Uncoded & Errors    Snow  On the Road  2007   \n",
       "3       U  Uncoded & Errors  Uncoded & Errors  Cloudy  On the Road  2007   \n",
       "\n",
       "      RDCITYTWP RDNUMLANES RDWIDTH FRAMEWORK  \n",
       "0  Grand Rapids          2    42.0        17  \n",
       "1  Grand Rapids          2    42.0        17  \n",
       "2  Grand Rapids          2    42.0        17  \n",
       "3  Grand Rapids          2    42.0        17  \n",
       "\n",
       "[4 rows x 77 columns]"
      ]
     },
     "execution_count": 2,
     "metadata": {},
     "output_type": "execute_result"
    }
   ],
   "source": [
    "crash = pd.read_csv('Data/CGR_Crash_Data.csv')\n",
    "crash.head(4)"
   ]
  },
  {
   "cell_type": "code",
   "execution_count": 3,
   "metadata": {},
   "outputs": [
    {
     "name": "stdout",
     "output_type": "stream",
     "text": [
      "(72977, 77)\n"
     ]
    }
   ],
   "source": [
    "initial_shape = crash.shape\n",
    "print(initial_shape)"
   ]
  },
  {
   "cell_type": "markdown",
   "metadata": {},
   "source": [
    "## Columns Dropped\n",
    "* Unfortunately, I do not know what the \"OBJECTID\" or \"ROADSOFTID\" columns mean, so I will drop them.\n",
    "* Since all crashes occur in Grand Rapids, I will drop the \"CITY\" column.\n",
    "* Since we have other features that may represent the time/date better than \"CRASHDATE\" we'll drop it.\n",
    "* \"WORKZNEACT\", \"WORKZNECLO\", \"WORKZNETYP\", \"ANIMAL\" are primarily errors\n",
    "* \"DAYOFMONTH\", \"DAYOFWEEK\" were fairly evenly distributed and did not seem to have any correlation with \"HITANDRUN\"\n",
    "* Wanted to use \"D1COND\", \"D2COND\", \"D3COND\", but not enough data recorded.\n",
    "* \"FLEEINGSIT\" looks like it could be helpful, but not sure what it means, and far too few instances\n",
    "* all read no for \"NONTRAFFIC\"\n",
    "* Such low amounts of data on Vehichle defect, dropped \"V1DEFECT\", \"V2DEFECT\"\n",
    "* Such low amounts of data on any third vehicle, drop 'D3DRINKIN', 'DRIVER3AGE', 'DRIVER3SEX', 'V3DEFECT', 'V3DAMAGE', 'VEH3DIR', 'VEH3TYPE', 'VEH3USE'\n",
    "\n",
    "\n",
    "* Drop all V3's"
   ]
  },
  {
   "cell_type": "code",
   "execution_count": 4,
   "metadata": {},
   "outputs": [],
   "source": [
    "labels = [\"OBJECTID\", \"ROADSOFTID\", \"CITY\", \"CRASHDATE\", \"WORKZNEACT\", \"WORKZNECLO\", \"WORKZNETYP\",\n",
    "         \"DAYOFMONTH\", \"DAYOFWEEK\", \"ANIMAL\", \"D2COND\", \"D3COND\", \"FARMEQUIP\", \"FLEEINGSIT\", \"NONTRAFFIC\", \n",
    "         \"NUMOFKILL\", \"ORV\", \"PUBLICPROP\", \"PEDESTRIAN\", \"SNOWMOBILE\", \"SCHOOLBUS\", \"TRAIN\", \"V1DEFECT\", \"V2DEFECT\", \n",
    "           'DRIVER3AGE', 'DRIVER3SEX', 'V3DEFECT', 'V3DAMAGE', 'VEH3DIR', 'VEH3TYPE', 'VEH3USE',\n",
    "           'DRIVER2AGE', 'DRIVER2SEX', \n",
    "          'V2DEFECT', 'V2DAMAGE', 'VEH2DIR', 'VEH2TYPE', 'VEH2USE',\n",
    "          'FRAMEWORK', 'RDCITYTWP', 'YEAR'\n",
    "         ]\n",
    "crash = crash.drop(labels=labels, axis=1)"
   ]
  },
  {
   "cell_type": "code",
   "execution_count": 6,
   "metadata": {},
   "outputs": [
    {
     "data": {
      "text/plain": [
       "Appeared Normal    56412\n",
       "Unknown            15890\n",
       "Fatigue / Sick       675\n",
       "Name: D1COND, dtype: int64"
      ]
     },
     "execution_count": 6,
     "metadata": {},
     "output_type": "execute_result"
    }
   ],
   "source": [
    "crash['D1COND'] = crash['D1COND'].replace(to_replace = ['Other', 'Uncoded & Errors'], value = 'Unknown')\n",
    "crash['D1COND'] = crash['D1COND'].replace(to_replace = ['Fatigue / Asleep', 'Sick', 'Medication', 'Emotional', 'Physically Disabled'], value = 'Fatigue / Sick')\n",
    "crash['D1COND'].value_counts()"
   ]
  },
  {
   "cell_type": "code",
   "execution_count": 7,
   "metadata": {},
   "outputs": [
    {
     "data": {
      "text/plain": [
       "D1COND           D1DRINKIN\n",
       "Appeared Normal  No           56242\n",
       "                 Yes            170\n",
       "Fatigue / Sick   No             642\n",
       "                 Yes             33\n",
       "Unknown          No           13376\n",
       "                 Yes           2514\n",
       "Name: NUMOFVEHIC, dtype: int64"
      ]
     },
     "execution_count": 7,
     "metadata": {},
     "output_type": "execute_result"
    }
   ],
   "source": [
    "crash.groupby([\"D1COND\", 'D1DRINKIN'])['NUMOFVEHIC'].count()"
   ]
  },
  {
   "cell_type": "code",
   "execution_count": 8,
   "metadata": {},
   "outputs": [
    {
     "data": {
      "text/plain": [
       "(72977, 37)"
      ]
     },
     "execution_count": 8,
     "metadata": {},
     "output_type": "execute_result"
    }
   ],
   "source": [
    "crash.shape"
   ]
  },
  {
   "cell_type": "code",
   "execution_count": 10,
   "metadata": {},
   "outputs": [
    {
     "data": {
      "text/plain": [
       "Uncoded & Errors    66960\n",
       "No                   5986\n",
       "Yes                    31\n",
       "Name: D3DRINKIN, dtype: int64"
      ]
     },
     "execution_count": 10,
     "metadata": {},
     "output_type": "execute_result"
    }
   ],
   "source": [
    "crash['D3DRINKIN'].value_counts()"
   ]
  },
  {
   "cell_type": "markdown",
   "metadata": {},
   "source": [
    "Here, we create an `ALCOHOL_INVOLVED` column that captures if any of the drivers involved were drinking."
   ]
  },
  {
   "cell_type": "code",
   "execution_count": 11,
   "metadata": {},
   "outputs": [],
   "source": [
    "def label_alcohol_involved(row):\n",
    "    if row['D1DRINKIN'] == 'Yes':\n",
    "        return 'Yes'\n",
    "    elif row['D2DRINKIN'] == 'Yes':\n",
    "        return 'Yes'\n",
    "    elif row['D3DRINKIN'] == 'Yes':\n",
    "        return 'Yes'\n",
    "    else:\n",
    "        return 'No'\n",
    "    \n",
    "\n",
    "crash['ALCOHOL_INVOLVED'] = crash.apply(lambda row: label_alcohol_involved(row),axis=1) "
   ]
  },
  {
   "cell_type": "code",
   "execution_count": 12,
   "metadata": {},
   "outputs": [
    {
     "data": {
      "text/plain": [
       "No     69753\n",
       "Yes     3224\n",
       "Name: ALCOHOL_INVOLVED, dtype: int64"
      ]
     },
     "execution_count": 12,
     "metadata": {},
     "output_type": "execute_result"
    }
   ],
   "source": [
    "crash['ALCOHOL_INVOLVED'].value_counts()"
   ]
  },
  {
   "cell_type": "code",
   "execution_count": 13,
   "metadata": {},
   "outputs": [],
   "source": [
    "# Now drop all the 'DRINKIN' columns since 'ALCOHOL_INVOlVED' has taken its place\n",
    "crash = crash.drop(['D1DRINKIN', 'D2DRINKIN', 'D3DRINKIN'], axis=1)"
   ]
  },
  {
   "cell_type": "code",
   "execution_count": 9,
   "metadata": {},
   "outputs": [],
   "source": [
    "# ran this one to test if D1 drinking was more predictable than ALCOHOL_INVOLVED\n",
    "crash = crash.drop(['D2DRINKIN', 'D3DRINKIN'], axis=1)"
   ]
  },
  {
   "cell_type": "code",
   "execution_count": 14,
   "metadata": {},
   "outputs": [
    {
     "data": {
      "text/plain": [
       "'# drop all rows with missing age for driver 1\\nmissing_age1 = crash.DRIVER1AGE[crash.DRIVER1AGE > 100]\\ncrash = crash.drop(missing_age1.index, axis=0)'"
      ]
     },
     "execution_count": 14,
     "metadata": {},
     "output_type": "execute_result"
    }
   ],
   "source": [
    "'''# drop all rows with missing age for driver 1\n",
    "missing_age1 = crash.DRIVER1AGE[crash.DRIVER1AGE > 100]\n",
    "crash = crash.drop(missing_age1.index, axis=0)'''"
   ]
  },
  {
   "cell_type": "code",
   "execution_count": 15,
   "metadata": {},
   "outputs": [],
   "source": [
    "# possibly fit regressor to predict age?\n",
    "#imputer = Imputer(missing_values=999, strategy='median', axis=0)\n",
    "#crash['DRIVER1AGE'] = imputer.fit_transform(crash.DRIVER1AGE.values.reshape(-1,1))"
   ]
  },
  {
   "cell_type": "code",
   "execution_count": 10,
   "metadata": {},
   "outputs": [
    {
     "data": {
      "text/plain": [
       "(72977, 35)"
      ]
     },
     "execution_count": 10,
     "metadata": {},
     "output_type": "execute_result"
    }
   ],
   "source": [
    "crash.shape"
   ]
  },
  {
   "cell_type": "code",
   "execution_count": 11,
   "metadata": {},
   "outputs": [
    {
     "ename": "KeyError",
     "evalue": "'ALCOHOL_INVOLVED'",
     "output_type": "error",
     "traceback": [
      "\u001b[0;31m---------------------------------------------------------------------------\u001b[0m",
      "\u001b[0;31mKeyError\u001b[0m                                  Traceback (most recent call last)",
      "\u001b[0;32m~/anaconda3/lib/python3.6/site-packages/pandas/core/indexes/base.py\u001b[0m in \u001b[0;36mget_loc\u001b[0;34m(self, key, method, tolerance)\u001b[0m\n\u001b[1;32m   2441\u001b[0m             \u001b[0;32mtry\u001b[0m\u001b[0;34m:\u001b[0m\u001b[0;34m\u001b[0m\u001b[0m\n\u001b[0;32m-> 2442\u001b[0;31m                 \u001b[0;32mreturn\u001b[0m \u001b[0mself\u001b[0m\u001b[0;34m.\u001b[0m\u001b[0m_engine\u001b[0m\u001b[0;34m.\u001b[0m\u001b[0mget_loc\u001b[0m\u001b[0;34m(\u001b[0m\u001b[0mkey\u001b[0m\u001b[0;34m)\u001b[0m\u001b[0;34m\u001b[0m\u001b[0m\n\u001b[0m\u001b[1;32m   2443\u001b[0m             \u001b[0;32mexcept\u001b[0m \u001b[0mKeyError\u001b[0m\u001b[0;34m:\u001b[0m\u001b[0;34m\u001b[0m\u001b[0m\n",
      "\u001b[0;32mpandas/_libs/index.pyx\u001b[0m in \u001b[0;36mpandas._libs.index.IndexEngine.get_loc\u001b[0;34m()\u001b[0m\n",
      "\u001b[0;32mpandas/_libs/index.pyx\u001b[0m in \u001b[0;36mpandas._libs.index.IndexEngine.get_loc\u001b[0;34m()\u001b[0m\n",
      "\u001b[0;32mpandas/_libs/hashtable_class_helper.pxi\u001b[0m in \u001b[0;36mpandas._libs.hashtable.PyObjectHashTable.get_item\u001b[0;34m()\u001b[0m\n",
      "\u001b[0;32mpandas/_libs/hashtable_class_helper.pxi\u001b[0m in \u001b[0;36mpandas._libs.hashtable.PyObjectHashTable.get_item\u001b[0;34m()\u001b[0m\n",
      "\u001b[0;31mKeyError\u001b[0m: 'ALCOHOL_INVOLVED'",
      "\nDuring handling of the above exception, another exception occurred:\n",
      "\u001b[0;31mKeyError\u001b[0m                                  Traceback (most recent call last)",
      "\u001b[0;32m<ipython-input-11-794cad22fc97>\u001b[0m in \u001b[0;36m<module>\u001b[0;34m()\u001b[0m\n\u001b[0;32m----> 1\u001b[0;31m \u001b[0mcrash\u001b[0m\u001b[0;34m[\u001b[0m\u001b[0;34m'ALCOHOL_INVOLVED'\u001b[0m\u001b[0;34m]\u001b[0m\u001b[0;34m.\u001b[0m\u001b[0mvalue_counts\u001b[0m\u001b[0;34m(\u001b[0m\u001b[0;34m)\u001b[0m\u001b[0;34m\u001b[0m\u001b[0m\n\u001b[0m",
      "\u001b[0;32m~/anaconda3/lib/python3.6/site-packages/pandas/core/frame.py\u001b[0m in \u001b[0;36m__getitem__\u001b[0;34m(self, key)\u001b[0m\n\u001b[1;32m   1962\u001b[0m             \u001b[0;32mreturn\u001b[0m \u001b[0mself\u001b[0m\u001b[0;34m.\u001b[0m\u001b[0m_getitem_multilevel\u001b[0m\u001b[0;34m(\u001b[0m\u001b[0mkey\u001b[0m\u001b[0;34m)\u001b[0m\u001b[0;34m\u001b[0m\u001b[0m\n\u001b[1;32m   1963\u001b[0m         \u001b[0;32melse\u001b[0m\u001b[0;34m:\u001b[0m\u001b[0;34m\u001b[0m\u001b[0m\n\u001b[0;32m-> 1964\u001b[0;31m             \u001b[0;32mreturn\u001b[0m \u001b[0mself\u001b[0m\u001b[0;34m.\u001b[0m\u001b[0m_getitem_column\u001b[0m\u001b[0;34m(\u001b[0m\u001b[0mkey\u001b[0m\u001b[0;34m)\u001b[0m\u001b[0;34m\u001b[0m\u001b[0m\n\u001b[0m\u001b[1;32m   1965\u001b[0m \u001b[0;34m\u001b[0m\u001b[0m\n\u001b[1;32m   1966\u001b[0m     \u001b[0;32mdef\u001b[0m \u001b[0m_getitem_column\u001b[0m\u001b[0;34m(\u001b[0m\u001b[0mself\u001b[0m\u001b[0;34m,\u001b[0m \u001b[0mkey\u001b[0m\u001b[0;34m)\u001b[0m\u001b[0;34m:\u001b[0m\u001b[0;34m\u001b[0m\u001b[0m\n",
      "\u001b[0;32m~/anaconda3/lib/python3.6/site-packages/pandas/core/frame.py\u001b[0m in \u001b[0;36m_getitem_column\u001b[0;34m(self, key)\u001b[0m\n\u001b[1;32m   1969\u001b[0m         \u001b[0;31m# get column\u001b[0m\u001b[0;34m\u001b[0m\u001b[0;34m\u001b[0m\u001b[0m\n\u001b[1;32m   1970\u001b[0m         \u001b[0;32mif\u001b[0m \u001b[0mself\u001b[0m\u001b[0;34m.\u001b[0m\u001b[0mcolumns\u001b[0m\u001b[0;34m.\u001b[0m\u001b[0mis_unique\u001b[0m\u001b[0;34m:\u001b[0m\u001b[0;34m\u001b[0m\u001b[0m\n\u001b[0;32m-> 1971\u001b[0;31m             \u001b[0;32mreturn\u001b[0m \u001b[0mself\u001b[0m\u001b[0;34m.\u001b[0m\u001b[0m_get_item_cache\u001b[0m\u001b[0;34m(\u001b[0m\u001b[0mkey\u001b[0m\u001b[0;34m)\u001b[0m\u001b[0;34m\u001b[0m\u001b[0m\n\u001b[0m\u001b[1;32m   1972\u001b[0m \u001b[0;34m\u001b[0m\u001b[0m\n\u001b[1;32m   1973\u001b[0m         \u001b[0;31m# duplicate columns & possible reduce dimensionality\u001b[0m\u001b[0;34m\u001b[0m\u001b[0;34m\u001b[0m\u001b[0m\n",
      "\u001b[0;32m~/anaconda3/lib/python3.6/site-packages/pandas/core/generic.py\u001b[0m in \u001b[0;36m_get_item_cache\u001b[0;34m(self, item)\u001b[0m\n\u001b[1;32m   1643\u001b[0m         \u001b[0mres\u001b[0m \u001b[0;34m=\u001b[0m \u001b[0mcache\u001b[0m\u001b[0;34m.\u001b[0m\u001b[0mget\u001b[0m\u001b[0;34m(\u001b[0m\u001b[0mitem\u001b[0m\u001b[0;34m)\u001b[0m\u001b[0;34m\u001b[0m\u001b[0m\n\u001b[1;32m   1644\u001b[0m         \u001b[0;32mif\u001b[0m \u001b[0mres\u001b[0m \u001b[0;32mis\u001b[0m \u001b[0;32mNone\u001b[0m\u001b[0;34m:\u001b[0m\u001b[0;34m\u001b[0m\u001b[0m\n\u001b[0;32m-> 1645\u001b[0;31m             \u001b[0mvalues\u001b[0m \u001b[0;34m=\u001b[0m \u001b[0mself\u001b[0m\u001b[0;34m.\u001b[0m\u001b[0m_data\u001b[0m\u001b[0;34m.\u001b[0m\u001b[0mget\u001b[0m\u001b[0;34m(\u001b[0m\u001b[0mitem\u001b[0m\u001b[0;34m)\u001b[0m\u001b[0;34m\u001b[0m\u001b[0m\n\u001b[0m\u001b[1;32m   1646\u001b[0m             \u001b[0mres\u001b[0m \u001b[0;34m=\u001b[0m \u001b[0mself\u001b[0m\u001b[0;34m.\u001b[0m\u001b[0m_box_item_values\u001b[0m\u001b[0;34m(\u001b[0m\u001b[0mitem\u001b[0m\u001b[0;34m,\u001b[0m \u001b[0mvalues\u001b[0m\u001b[0;34m)\u001b[0m\u001b[0;34m\u001b[0m\u001b[0m\n\u001b[1;32m   1647\u001b[0m             \u001b[0mcache\u001b[0m\u001b[0;34m[\u001b[0m\u001b[0mitem\u001b[0m\u001b[0;34m]\u001b[0m \u001b[0;34m=\u001b[0m \u001b[0mres\u001b[0m\u001b[0;34m\u001b[0m\u001b[0m\n",
      "\u001b[0;32m~/anaconda3/lib/python3.6/site-packages/pandas/core/internals.py\u001b[0m in \u001b[0;36mget\u001b[0;34m(self, item, fastpath)\u001b[0m\n\u001b[1;32m   3588\u001b[0m \u001b[0;34m\u001b[0m\u001b[0m\n\u001b[1;32m   3589\u001b[0m             \u001b[0;32mif\u001b[0m \u001b[0;32mnot\u001b[0m \u001b[0misnull\u001b[0m\u001b[0;34m(\u001b[0m\u001b[0mitem\u001b[0m\u001b[0;34m)\u001b[0m\u001b[0;34m:\u001b[0m\u001b[0;34m\u001b[0m\u001b[0m\n\u001b[0;32m-> 3590\u001b[0;31m                 \u001b[0mloc\u001b[0m \u001b[0;34m=\u001b[0m \u001b[0mself\u001b[0m\u001b[0;34m.\u001b[0m\u001b[0mitems\u001b[0m\u001b[0;34m.\u001b[0m\u001b[0mget_loc\u001b[0m\u001b[0;34m(\u001b[0m\u001b[0mitem\u001b[0m\u001b[0;34m)\u001b[0m\u001b[0;34m\u001b[0m\u001b[0m\n\u001b[0m\u001b[1;32m   3591\u001b[0m             \u001b[0;32melse\u001b[0m\u001b[0;34m:\u001b[0m\u001b[0;34m\u001b[0m\u001b[0m\n\u001b[1;32m   3592\u001b[0m                 \u001b[0mindexer\u001b[0m \u001b[0;34m=\u001b[0m \u001b[0mnp\u001b[0m\u001b[0;34m.\u001b[0m\u001b[0marange\u001b[0m\u001b[0;34m(\u001b[0m\u001b[0mlen\u001b[0m\u001b[0;34m(\u001b[0m\u001b[0mself\u001b[0m\u001b[0;34m.\u001b[0m\u001b[0mitems\u001b[0m\u001b[0;34m)\u001b[0m\u001b[0;34m)\u001b[0m\u001b[0;34m[\u001b[0m\u001b[0misnull\u001b[0m\u001b[0;34m(\u001b[0m\u001b[0mself\u001b[0m\u001b[0;34m.\u001b[0m\u001b[0mitems\u001b[0m\u001b[0;34m)\u001b[0m\u001b[0;34m]\u001b[0m\u001b[0;34m\u001b[0m\u001b[0m\n",
      "\u001b[0;32m~/anaconda3/lib/python3.6/site-packages/pandas/core/indexes/base.py\u001b[0m in \u001b[0;36mget_loc\u001b[0;34m(self, key, method, tolerance)\u001b[0m\n\u001b[1;32m   2442\u001b[0m                 \u001b[0;32mreturn\u001b[0m \u001b[0mself\u001b[0m\u001b[0;34m.\u001b[0m\u001b[0m_engine\u001b[0m\u001b[0;34m.\u001b[0m\u001b[0mget_loc\u001b[0m\u001b[0;34m(\u001b[0m\u001b[0mkey\u001b[0m\u001b[0;34m)\u001b[0m\u001b[0;34m\u001b[0m\u001b[0m\n\u001b[1;32m   2443\u001b[0m             \u001b[0;32mexcept\u001b[0m \u001b[0mKeyError\u001b[0m\u001b[0;34m:\u001b[0m\u001b[0;34m\u001b[0m\u001b[0m\n\u001b[0;32m-> 2444\u001b[0;31m                 \u001b[0;32mreturn\u001b[0m \u001b[0mself\u001b[0m\u001b[0;34m.\u001b[0m\u001b[0m_engine\u001b[0m\u001b[0;34m.\u001b[0m\u001b[0mget_loc\u001b[0m\u001b[0;34m(\u001b[0m\u001b[0mself\u001b[0m\u001b[0;34m.\u001b[0m\u001b[0m_maybe_cast_indexer\u001b[0m\u001b[0;34m(\u001b[0m\u001b[0mkey\u001b[0m\u001b[0;34m)\u001b[0m\u001b[0;34m)\u001b[0m\u001b[0;34m\u001b[0m\u001b[0m\n\u001b[0m\u001b[1;32m   2445\u001b[0m \u001b[0;34m\u001b[0m\u001b[0m\n\u001b[1;32m   2446\u001b[0m         \u001b[0mindexer\u001b[0m \u001b[0;34m=\u001b[0m \u001b[0mself\u001b[0m\u001b[0;34m.\u001b[0m\u001b[0mget_indexer\u001b[0m\u001b[0;34m(\u001b[0m\u001b[0;34m[\u001b[0m\u001b[0mkey\u001b[0m\u001b[0;34m]\u001b[0m\u001b[0;34m,\u001b[0m \u001b[0mmethod\u001b[0m\u001b[0;34m=\u001b[0m\u001b[0mmethod\u001b[0m\u001b[0;34m,\u001b[0m \u001b[0mtolerance\u001b[0m\u001b[0;34m=\u001b[0m\u001b[0mtolerance\u001b[0m\u001b[0;34m)\u001b[0m\u001b[0;34m\u001b[0m\u001b[0m\n",
      "\u001b[0;32mpandas/_libs/index.pyx\u001b[0m in \u001b[0;36mpandas._libs.index.IndexEngine.get_loc\u001b[0;34m()\u001b[0m\n",
      "\u001b[0;32mpandas/_libs/index.pyx\u001b[0m in \u001b[0;36mpandas._libs.index.IndexEngine.get_loc\u001b[0;34m()\u001b[0m\n",
      "\u001b[0;32mpandas/_libs/hashtable_class_helper.pxi\u001b[0m in \u001b[0;36mpandas._libs.hashtable.PyObjectHashTable.get_item\u001b[0;34m()\u001b[0m\n",
      "\u001b[0;32mpandas/_libs/hashtable_class_helper.pxi\u001b[0m in \u001b[0;36mpandas._libs.hashtable.PyObjectHashTable.get_item\u001b[0;34m()\u001b[0m\n",
      "\u001b[0;31mKeyError\u001b[0m: 'ALCOHOL_INVOLVED'"
     ]
    }
   ],
   "source": [
    "crash['ALCOHOL_INVOLVED'].value_counts()"
   ]
  },
  {
   "cell_type": "code",
   "execution_count": 18,
   "metadata": {},
   "outputs": [
    {
     "data": {
      "text/plain": [
       "No     57308\n",
       "Yes    15669\n",
       "Name: HITANDRUN, dtype: int64"
      ]
     },
     "execution_count": 18,
     "metadata": {},
     "output_type": "execute_result"
    }
   ],
   "source": [
    "crash['HITANDRUN'].value_counts()"
   ]
  },
  {
   "cell_type": "code",
   "execution_count": 12,
   "metadata": {},
   "outputs": [
    {
     "data": {
      "text/plain": [
       "<matplotlib.axes._subplots.AxesSubplot at 0x1a0c8b1278>"
      ]
     },
     "execution_count": 12,
     "metadata": {},
     "output_type": "execute_result"
    },
    {
     "data": {
      "image/png": "[encoded data removed]",
      "text/plain": [
       "<matplotlib.figure.Figure at 0x103776cf8>"
      ]
     },
     "metadata": {},
     "output_type": "display_data"
    }
   ],
   "source": [
    "sns.distplot(crash['DRIVER1AGE'])"
   ]
  },
  {
   "cell_type": "code",
   "execution_count": 13,
   "metadata": {},
   "outputs": [
    {
     "data": {
      "text/plain": [
       "M    35513\n",
       "F    30075\n",
       "U     7389\n",
       "Name: DRIVER1SEX, dtype: int64"
      ]
     },
     "execution_count": 13,
     "metadata": {},
     "output_type": "execute_result"
    }
   ],
   "source": [
    "crash['DRIVER1SEX'].value_counts()"
   ]
  },
  {
   "cell_type": "code",
   "execution_count": 21,
   "metadata": {},
   "outputs": [
    {
     "data": {
      "text/plain": [
       "'# drop all rows with missing sex for driver 1\\nmissing_sex1 = crash.DRIVER1SEX[crash.DRIVER1SEX == \"U\"]\\ncrash = crash.drop(missing_sex1.index, axis=0)'"
      ]
     },
     "execution_count": 21,
     "metadata": {},
     "output_type": "execute_result"
    }
   ],
   "source": [
    "# Realized that... it is very important NOT to drop the unknowns. Think about it... if it is a hit and run,\n",
    "# we probably wouldn't know the sex of the driver, right? Leave this as its own category.\n",
    "\n",
    "'''# drop all rows with missing sex for driver 1\n",
    "missing_sex1 = crash.DRIVER1SEX[crash.DRIVER1SEX == \"U\"]\n",
    "crash = crash.drop(missing_sex1.index, axis=0)'''"
   ]
  },
  {
   "cell_type": "code",
   "execution_count": 22,
   "metadata": {},
   "outputs": [
    {
     "data": {
      "text/plain": [
       "DRIVER1SEX  ALCOHOL_INVOLVED\n",
       "F           No                  29167\n",
       "            Yes                   908\n",
       "M           No                  33318\n",
       "            Yes                  2195\n",
       "U           No                   7268\n",
       "            Yes                   121\n",
       "Name: NUMOFVEHIC, dtype: int64"
      ]
     },
     "execution_count": 22,
     "metadata": {},
     "output_type": "execute_result"
    }
   ],
   "source": [
    "crash.groupby(['DRIVER1SEX', 'ALCOHOL_INVOLVED'])['NUMOFVEHIC'].count()"
   ]
  },
  {
   "cell_type": "code",
   "execution_count": 24,
   "metadata": {},
   "outputs": [
    {
     "data": {
      "text/plain": [
       "No     69753\n",
       "Yes     3224\n",
       "Name: ALCOHOL_INVOLVED, dtype: int64"
      ]
     },
     "execution_count": 24,
     "metadata": {},
     "output_type": "execute_result"
    }
   ],
   "source": [
    "crash['ALCOHOL_INVOLVED'].value_counts()"
   ]
  },
  {
   "cell_type": "code",
   "execution_count": 25,
   "metadata": {},
   "outputs": [
    {
     "data": {
      "text/plain": [
       "No     57308\n",
       "Yes    15669\n",
       "Name: HITANDRUN, dtype: int64"
      ]
     },
     "execution_count": 25,
     "metadata": {},
     "output_type": "execute_result"
    }
   ],
   "source": [
    "crash['HITANDRUN'].value_counts()"
   ]
  },
  {
   "cell_type": "code",
   "execution_count": 26,
   "metadata": {},
   "outputs": [
    {
     "data": {
      "text/plain": [
       "Index(['X', 'Y', 'BIKE', 'CRASHSEVER', 'CRASHTYPE', 'D1COND', 'DRIVER1AGE',\n",
       "       'DRIVER1SEX', 'EMRGVEH', 'GRTINJSEVE', 'HITANDRUN', 'HOUR', 'MONTH',\n",
       "       'MOTORCYCLE', 'NOATYPEINJ', 'NOBTYPEINJ', 'NOCTYPEINJ', 'NUMOFINJ',\n",
       "       'NUMOFOCCUP', 'NUMOFUNINJ', 'NUMOFVEHIC', 'SPDLMTPOST', 'SPEEDLIMIT',\n",
       "       'SURFCOND', 'TRAFCTLDEV', 'TRUCKBUS', 'V1DAMAGE', 'VEH1DIR', 'VEH1TYPE',\n",
       "       'VEH1USE', 'WEATHER', 'WHEREONRD', 'RDNUMLANES', 'RDWIDTH',\n",
       "       'ALCOHOL_INVOLVED'],\n",
       "      dtype='object')"
      ]
     },
     "execution_count": 26,
     "metadata": {},
     "output_type": "execute_result"
    }
   ],
   "source": [
    "crash.columns"
   ]
  },
  {
   "cell_type": "code",
   "execution_count": 27,
   "metadata": {},
   "outputs": [
    {
     "data": {
      "text/plain": [
       "No     72051\n",
       "Yes      926\n",
       "Name: BIKE, dtype: int64"
      ]
     },
     "execution_count": 27,
     "metadata": {},
     "output_type": "execute_result"
    }
   ],
   "source": [
    "crash['BIKE'].value_counts()"
   ]
  },
  {
   "cell_type": "code",
   "execution_count": 28,
   "metadata": {},
   "outputs": [
    {
     "data": {
      "text/plain": [
       "BIKE  ALCOHOL_INVOLVED\n",
       "No    No                  68881\n",
       "      Yes                  3170\n",
       "Yes   No                    872\n",
       "      Yes                    54\n",
       "Name: NUMOFVEHIC, dtype: int64"
      ]
     },
     "execution_count": 28,
     "metadata": {},
     "output_type": "execute_result"
    }
   ],
   "source": [
    "crash.groupby(['BIKE', 'ALCOHOL_INVOLVED'])['NUMOFVEHIC'].count()"
   ]
  },
  {
   "cell_type": "code",
   "execution_count": 29,
   "metadata": {},
   "outputs": [
    {
     "data": {
      "text/plain": [
       "CRASHSEVER            ALCOHOL_INVOLVED\n",
       "Fatal                 No                     52\n",
       "                      Yes                    43\n",
       "Injury                No                  12370\n",
       "                      Yes                  1059\n",
       "Property Damage Only  No                  57331\n",
       "                      Yes                  2122\n",
       "Name: NUMOFVEHIC, dtype: int64"
      ]
     },
     "execution_count": 29,
     "metadata": {},
     "output_type": "execute_result"
    }
   ],
   "source": [
    "crash.groupby(['CRASHSEVER', 'ALCOHOL_INVOLVED'])['NUMOFVEHIC'].count()\n",
    "# Fatal injuries significantly more likely to be caused by alcohol"
   ]
  },
  {
   "cell_type": "code",
   "execution_count": 30,
   "metadata": {},
   "outputs": [
    {
     "data": {
      "text/plain": [
       "DRIVER1SEX  ALCOHOL_INVOLVED\n",
       "F           No                  29167\n",
       "            Yes                   908\n",
       "M           No                  33318\n",
       "            Yes                  2195\n",
       "U           No                   7268\n",
       "            Yes                   121\n",
       "Name: NUMOFVEHIC, dtype: int64"
      ]
     },
     "execution_count": 30,
     "metadata": {},
     "output_type": "execute_result"
    }
   ],
   "source": [
    "crash.groupby(['DRIVER1SEX', 'ALCOHOL_INVOLVED'])['NUMOFVEHIC'].count()\n",
    "# Male car crashes are nearly twice as likely to have alcohol involed as female crashes"
   ]
  },
  {
   "cell_type": "code",
   "execution_count": 31,
   "metadata": {},
   "outputs": [
    {
     "data": {
      "text/plain": [
       "EMRGVEH  ALCOHOL_INVOLVED\n",
       "No       No                  69289\n",
       "         Yes                  3168\n",
       "Yes      No                    464\n",
       "         Yes                    56\n",
       "Name: NUMOFVEHIC, dtype: int64"
      ]
     },
     "execution_count": 31,
     "metadata": {},
     "output_type": "execute_result"
    }
   ],
   "source": [
    "crash.groupby(['EMRGVEH', 'ALCOHOL_INVOLVED'])['NUMOFVEHIC'].count()\n",
    "# Emergency vehicle twice as likely with alcohol"
   ]
  },
  {
   "cell_type": "code",
   "execution_count": 32,
   "metadata": {},
   "outputs": [
    {
     "data": {
      "text/plain": [
       "HITANDRUN  ALCOHOL_INVOLVED\n",
       "No         No                  55059\n",
       "           Yes                  2249\n",
       "Yes        No                  14694\n",
       "           Yes                   975\n",
       "Name: NUMOFVEHIC, dtype: int64"
      ]
     },
     "execution_count": 32,
     "metadata": {},
     "output_type": "execute_result"
    }
   ],
   "source": [
    "crash.groupby(['HITANDRUN', 'ALCOHOL_INVOLVED'])['NUMOFVEHIC'].count()\n",
    "# Hit and runs almost 3x more likely while drinking"
   ]
  },
  {
   "cell_type": "code",
   "execution_count": 33,
   "metadata": {},
   "outputs": [
    {
     "data": {
      "text/plain": [
       "MOTORCYCLE  ALCOHOL_INVOLVED\n",
       "No          No                  69127\n",
       "            Yes                  3153\n",
       "Yes         No                    626\n",
       "            Yes                    71\n",
       "Name: NUMOFVEHIC, dtype: int64"
      ]
     },
     "execution_count": 33,
     "metadata": {},
     "output_type": "execute_result"
    }
   ],
   "source": [
    "crash.groupby(['MOTORCYCLE', 'ALCOHOL_INVOLVED'])['NUMOFVEHIC'].count()"
   ]
  },
  {
   "cell_type": "code",
   "execution_count": 34,
   "metadata": {},
   "outputs": [
    {
     "data": {
      "text/plain": [
       "NUMOFINJ  ALCOHOL_INVOLVED\n",
       "0         No                  57373\n",
       "          Yes                  2153\n",
       "1         No                   9872\n",
       "          Yes                   850\n",
       "2         No                   1920\n",
       "          Yes                   148\n",
       "3         No                    435\n",
       "          Yes                    53\n",
       "4         No                    106\n",
       "          Yes                    15\n",
       "5         No                     33\n",
       "          Yes                     3\n",
       "6         No                      7\n",
       "          Yes                     1\n",
       "7         No                      3\n",
       "          Yes                     1\n",
       "8         No                      1\n",
       "10        No                      3\n",
       "Name: NUMOFVEHIC, dtype: int64"
      ]
     },
     "execution_count": 34,
     "metadata": {},
     "output_type": "execute_result"
    }
   ],
   "source": [
    "crash.groupby(['NUMOFINJ', 'ALCOHOL_INVOLVED'])['NUMOFVEHIC'].count()"
   ]
  },
  {
   "cell_type": "code",
   "execution_count": 15,
   "metadata": {},
   "outputs": [],
   "source": [
    "bins = [0, 25, 45, 65, 100]\n",
    "labels = ['speed<25', '25<speed<45', '45<speed<65', '65<speed']\n",
    "crash['SPEEDLIMIT_BINS'] = pd.cut(crash['SPEEDLIMIT'], bins=bins, labels=labels)\n",
    "\n",
    "#crash.groupby(['SPEEDLIMIT_BINS', 'ALCOHOL_INVOLVED'])['NUMOFVEHIC'].count()\n"
   ]
  },
  {
   "cell_type": "code",
   "execution_count": 16,
   "metadata": {},
   "outputs": [
    {
     "data": {
      "text/plain": [
       "speed<25       30127\n",
       "25<speed<45    26480\n",
       "65<speed        9025\n",
       "45<speed<65     7329\n",
       "Name: SPEEDLIMIT_BINS, dtype: int64"
      ]
     },
     "execution_count": 16,
     "metadata": {},
     "output_type": "execute_result"
    }
   ],
   "source": [
    "crash['SPEEDLIMIT_BINS'].value_counts()"
   ]
  },
  {
   "cell_type": "code",
   "execution_count": 52,
   "metadata": {},
   "outputs": [
    {
     "data": {
      "text/plain": [
       "SPDLMTPOST        ALCOHOL_INVOLVED\n",
       "No                No                  17171\n",
       "                  Yes                   906\n",
       "Uncoded & Errors  No                    504\n",
       "                  Yes                    12\n",
       "Yes               No                  52078\n",
       "                  Yes                  2306\n",
       "Name: NUMOFVEHIC, dtype: int64"
      ]
     },
     "execution_count": 52,
     "metadata": {},
     "output_type": "execute_result"
    }
   ],
   "source": [
    "crash.groupby(['SPDLMTPOST', 'ALCOHOL_INVOLVED'])['NUMOFVEHIC'].count()"
   ]
  },
  {
   "cell_type": "code",
   "execution_count": null,
   "metadata": {},
   "outputs": [],
   "source": []
  },
  {
   "cell_type": "code",
   "execution_count": null,
   "metadata": {},
   "outputs": [],
   "source": []
  },
  {
   "cell_type": "code",
   "execution_count": 17,
   "metadata": {},
   "outputs": [
    {
     "data": {
      "text/plain": [
       "<matplotlib.axes._subplots.AxesSubplot at 0x1a0b07f908>"
      ]
     },
     "execution_count": 17,
     "metadata": {},
     "output_type": "execute_result"
    },
    {
     "data": {
      "image/png": "[encoded data removed]",
      "text/plain": [
       "<matplotlib.figure.Figure at 0x1a0cb4ec50>"
      ]
     },
     "metadata": {},
     "output_type": "display_data"
    }
   ],
   "source": [
    "# Compute the correlation matrix\n",
    "corr = crash.corr()\n",
    "\n",
    "# Generate a mask for the upper triangle\n",
    "mask = np.zeros_like(corr, dtype=np.bool)\n",
    "mask[np.triu_indices_from(mask)] = True\n",
    "\n",
    "# Set up the matplotlib figure\n",
    "f, ax = plt.subplots(figsize=(11, 9))\n",
    "\n",
    "# Generate a custom diverging colormap\n",
    "cmap = sns.diverging_palette(220, 10, as_cmap=True)\n",
    "\n",
    "# Draw the heatmap with the mask and correct aspect ratio\n",
    "sns.heatmap(corr, mask=mask, cmap=cmap, vmax=.3, center=0,\n",
    "            square=True, linewidths=.5, cbar_kws={\"shrink\": .5})"
   ]
  },
  {
   "cell_type": "code",
   "execution_count": 18,
   "metadata": {},
   "outputs": [
    {
     "data": {
      "text/plain": [
       "Index(['X', 'Y', 'BIKE', 'CRASHSEVER', 'CRASHTYPE', 'D1COND', 'D1DRINKIN',\n",
       "       'DRIVER1AGE', 'DRIVER1SEX', 'EMRGVEH', 'GRTINJSEVE', 'HITANDRUN',\n",
       "       'HOUR', 'MONTH', 'MOTORCYCLE', 'NOATYPEINJ', 'NOBTYPEINJ', 'NOCTYPEINJ',\n",
       "       'NUMOFINJ', 'NUMOFOCCUP', 'NUMOFUNINJ', 'NUMOFVEHIC', 'SPDLMTPOST',\n",
       "       'SPEEDLIMIT', 'SURFCOND', 'TRAFCTLDEV', 'TRUCKBUS', 'V1DAMAGE',\n",
       "       'VEH1DIR', 'VEH1TYPE', 'VEH1USE', 'WEATHER', 'WHEREONRD', 'RDNUMLANES',\n",
       "       'RDWIDTH', 'SPEEDLIMIT_BINS'],\n",
       "      dtype='object')"
      ]
     },
     "execution_count": 18,
     "metadata": {},
     "output_type": "execute_result"
    }
   ],
   "source": [
    "crash.columns"
   ]
  },
  {
   "cell_type": "markdown",
   "metadata": {},
   "source": [
    "---"
   ]
  },
  {
   "cell_type": "markdown",
   "metadata": {},
   "source": [
    "## Here, I manually choose the features I will use"
   ]
  },
  {
   "cell_type": "code",
   "execution_count": 20,
   "metadata": {},
   "outputs": [],
   "source": [
    "crash = crash[['X', 'Y', 'CRASHSEVER', 'DRIVER1AGE',\n",
    "       'DRIVER1SEX', 'EMRGVEH', 'HITANDRUN', 'HOUR',\n",
    "          'MOTORCYCLE', 'NUMOFINJ', 'D1COND', 'D1DRINKIN']]\n",
    "#y = crash['D1DRINKIN']"
   ]
  },
  {
   "cell_type": "code",
   "execution_count": 21,
   "metadata": {},
   "outputs": [
    {
     "data": {
      "text/plain": [
       "(72977, 12)"
      ]
     },
     "execution_count": 21,
     "metadata": {},
     "output_type": "execute_result"
    }
   ],
   "source": [
    "crash.shape"
   ]
  },
  {
   "cell_type": "code",
   "execution_count": 22,
   "metadata": {},
   "outputs": [
    {
     "data": {
      "text/html": [
       "<div>\n",
       "<style>\n",
       "    .dataframe thead tr:only-child th {\n",
       "        text-align: right;\n",
       "    }\n",
       "\n",
       "    .dataframe thead th {\n",
       "        text-align: left;\n",
       "    }\n",
       "\n",
       "    .dataframe tbody tr th {\n",
       "        vertical-align: top;\n",
       "    }\n",
       "</style>\n",
       "<table border=\"1\" class=\"dataframe\">\n",
       "  <thead>\n",
       "    <tr style=\"text-align: right;\">\n",
       "      <th></th>\n",
       "      <th>X</th>\n",
       "      <th>Y</th>\n",
       "      <th>CRASHSEVER</th>\n",
       "      <th>DRIVER1AGE</th>\n",
       "      <th>DRIVER1SEX</th>\n",
       "      <th>EMRGVEH</th>\n",
       "      <th>HITANDRUN</th>\n",
       "      <th>HOUR</th>\n",
       "      <th>MOTORCYCLE</th>\n",
       "      <th>NUMOFINJ</th>\n",
       "      <th>D1COND</th>\n",
       "      <th>D1DRINKIN</th>\n",
       "    </tr>\n",
       "  </thead>\n",
       "  <tbody>\n",
       "    <tr>\n",
       "      <th>0</th>\n",
       "      <td>-85.639647</td>\n",
       "      <td>42.927216</td>\n",
       "      <td>Property Damage Only</td>\n",
       "      <td>62</td>\n",
       "      <td>F</td>\n",
       "      <td>No</td>\n",
       "      <td>Yes</td>\n",
       "      <td>13</td>\n",
       "      <td>No</td>\n",
       "      <td>0</td>\n",
       "      <td>Appeared Normal</td>\n",
       "      <td>No</td>\n",
       "    </tr>\n",
       "    <tr>\n",
       "      <th>1</th>\n",
       "      <td>-85.639487</td>\n",
       "      <td>42.927213</td>\n",
       "      <td>Property Damage Only</td>\n",
       "      <td>31</td>\n",
       "      <td>M</td>\n",
       "      <td>No</td>\n",
       "      <td>Yes</td>\n",
       "      <td>18</td>\n",
       "      <td>No</td>\n",
       "      <td>0</td>\n",
       "      <td>Unknown</td>\n",
       "      <td>No</td>\n",
       "    </tr>\n",
       "    <tr>\n",
       "      <th>2</th>\n",
       "      <td>-85.639387</td>\n",
       "      <td>42.927212</td>\n",
       "      <td>Property Damage Only</td>\n",
       "      <td>22</td>\n",
       "      <td>F</td>\n",
       "      <td>No</td>\n",
       "      <td>No</td>\n",
       "      <td>8</td>\n",
       "      <td>No</td>\n",
       "      <td>0</td>\n",
       "      <td>Appeared Normal</td>\n",
       "      <td>No</td>\n",
       "    </tr>\n",
       "    <tr>\n",
       "      <th>3</th>\n",
       "      <td>-85.639288</td>\n",
       "      <td>42.927210</td>\n",
       "      <td>Property Damage Only</td>\n",
       "      <td>30</td>\n",
       "      <td>M</td>\n",
       "      <td>No</td>\n",
       "      <td>Yes</td>\n",
       "      <td>16</td>\n",
       "      <td>No</td>\n",
       "      <td>0</td>\n",
       "      <td>Appeared Normal</td>\n",
       "      <td>No</td>\n",
       "    </tr>\n",
       "    <tr>\n",
       "      <th>4</th>\n",
       "      <td>-85.639288</td>\n",
       "      <td>42.927210</td>\n",
       "      <td>Property Damage Only</td>\n",
       "      <td>44</td>\n",
       "      <td>M</td>\n",
       "      <td>No</td>\n",
       "      <td>No</td>\n",
       "      <td>15</td>\n",
       "      <td>No</td>\n",
       "      <td>0</td>\n",
       "      <td>Appeared Normal</td>\n",
       "      <td>No</td>\n",
       "    </tr>\n",
       "  </tbody>\n",
       "</table>\n",
       "</div>"
      ],
      "text/plain": [
       "           X          Y            CRASHSEVER  DRIVER1AGE DRIVER1SEX EMRGVEH  \\\n",
       "0 -85.639647  42.927216  Property Damage Only          62          F      No   \n",
       "1 -85.639487  42.927213  Property Damage Only          31          M      No   \n",
       "2 -85.639387  42.927212  Property Damage Only          22          F      No   \n",
       "3 -85.639288  42.927210  Property Damage Only          30          M      No   \n",
       "4 -85.639288  42.927210  Property Damage Only          44          M      No   \n",
       "\n",
       "  HITANDRUN  HOUR MOTORCYCLE  NUMOFINJ           D1COND D1DRINKIN  \n",
       "0       Yes    13         No         0  Appeared Normal        No  \n",
       "1       Yes    18         No         0          Unknown        No  \n",
       "2        No     8         No         0  Appeared Normal        No  \n",
       "3       Yes    16         No         0  Appeared Normal        No  \n",
       "4        No    15         No         0  Appeared Normal        No  "
      ]
     },
     "execution_count": 22,
     "metadata": {},
     "output_type": "execute_result"
    }
   ],
   "source": [
    "crash.head()"
   ]
  },
  {
   "cell_type": "code",
   "execution_count": 23,
   "metadata": {},
   "outputs": [
    {
     "data": {
      "text/plain": [
       "<matplotlib.collections.PathCollection at 0x1a0eb24278>"
      ]
     },
     "execution_count": 23,
     "metadata": {},
     "output_type": "execute_result"
    },
    {
     "data": {
      "image/png": "[encoded data removed]",
      "text/plain": [
       "<matplotlib.figure.Figure at 0x1a0ea0f8d0>"
      ]
     },
     "metadata": {},
     "output_type": "display_data"
    }
   ],
   "source": [
    "plt.scatter(crash.X, crash.Y, s=1)"
   ]
  },
  {
   "cell_type": "code",
   "execution_count": null,
   "metadata": {},
   "outputs": [],
   "source": []
  },
  {
   "cell_type": "markdown",
   "metadata": {},
   "source": [
    "---"
   ]
  },
  {
   "cell_type": "markdown",
   "metadata": {},
   "source": [
    "#### Scaling"
   ]
  },
  {
   "cell_type": "code",
   "execution_count": 24,
   "metadata": {},
   "outputs": [],
   "source": [
    "crash = crash.dropna()"
   ]
  },
  {
   "cell_type": "code",
   "execution_count": 117,
   "metadata": {},
   "outputs": [
    {
     "data": {
      "text/plain": [
       "No     69753\n",
       "Yes     3224\n",
       "Name: ALCOHOL_INVOLVED, dtype: int64"
      ]
     },
     "execution_count": 117,
     "metadata": {},
     "output_type": "execute_result"
    }
   ],
   "source": [
    "X['ALCOHOL_INVOLVED'].value_counts()"
   ]
  },
  {
   "cell_type": "code",
   "execution_count": 25,
   "metadata": {},
   "outputs": [
    {
     "data": {
      "text/plain": [
       "(72977, 12)"
      ]
     },
     "execution_count": 25,
     "metadata": {},
     "output_type": "execute_result"
    }
   ],
   "source": [
    "crash.shape"
   ]
  },
  {
   "cell_type": "code",
   "execution_count": 26,
   "metadata": {},
   "outputs": [],
   "source": [
    "crash['HOUR_X']=np.sin(2. * np.pi * crash.HOUR / 24.)\n",
    "crash['HOUR_Y']=np.cos(2. * np.pi * crash.HOUR / 24.)"
   ]
  },
  {
   "cell_type": "code",
   "execution_count": 27,
   "metadata": {},
   "outputs": [
    {
     "data": {
      "text/plain": [
       "<matplotlib.collections.PathCollection at 0x1a1a45b518>"
      ]
     },
     "execution_count": 27,
     "metadata": {},
     "output_type": "execute_result"
    },
    {
     "data": {
      "image/png": "[encoded data removed]",
      "text/plain": [
       "<matplotlib.figure.Figure at 0x1a0e9bb748>"
      ]
     },
     "metadata": {},
     "output_type": "display_data"
    }
   ],
   "source": [
    "# Hence, the time of day is now cyclic (just as in reality)\n",
    "plt.scatter(crash.HOUR_X, crash.HOUR_Y)"
   ]
  },
  {
   "cell_type": "code",
   "execution_count": 28,
   "metadata": {},
   "outputs": [],
   "source": [
    "# Now that we have our two 'HOUR_X' and 'HOUR_Y' coords, we drop the original \"HOUR\" feature\n",
    "crash = crash.drop(['HOUR'], axis=1)"
   ]
  },
  {
   "cell_type": "code",
   "execution_count": 29,
   "metadata": {},
   "outputs": [
    {
     "data": {
      "text/plain": [
       "Index(['X', 'Y', 'CRASHSEVER', 'DRIVER1AGE', 'DRIVER1SEX', 'EMRGVEH',\n",
       "       'HITANDRUN', 'MOTORCYCLE', 'NUMOFINJ', 'D1COND', 'D1DRINKIN', 'HOUR_X',\n",
       "       'HOUR_Y'],\n",
       "      dtype='object')"
      ]
     },
     "execution_count": 29,
     "metadata": {},
     "output_type": "execute_result"
    }
   ],
   "source": [
    "crash.columns"
   ]
  },
  {
   "cell_type": "markdown",
   "metadata": {},
   "source": [
    "#### Encoding"
   ]
  },
  {
   "cell_type": "code",
   "execution_count": 31,
   "metadata": {},
   "outputs": [],
   "source": [
    "dummies = pd.get_dummies(crash[['CRASHSEVER', 'DRIVER1SEX',\n",
    "                            'EMRGVEH', 'HITANDRUN',\n",
    "                            'MOTORCYCLE', 'D1COND',\n",
    "                             'D1DRINKIN']])"
   ]
  },
  {
   "cell_type": "code",
   "execution_count": 32,
   "metadata": {},
   "outputs": [
    {
     "data": {
      "text/html": [
       "<div>\n",
       "<style>\n",
       "    .dataframe thead tr:only-child th {\n",
       "        text-align: right;\n",
       "    }\n",
       "\n",
       "    .dataframe thead th {\n",
       "        text-align: left;\n",
       "    }\n",
       "\n",
       "    .dataframe tbody tr th {\n",
       "        vertical-align: top;\n",
       "    }\n",
       "</style>\n",
       "<table border=\"1\" class=\"dataframe\">\n",
       "  <thead>\n",
       "    <tr style=\"text-align: right;\">\n",
       "      <th></th>\n",
       "      <th>CRASHSEVER_Fatal</th>\n",
       "      <th>CRASHSEVER_Injury</th>\n",
       "      <th>CRASHSEVER_Property Damage Only</th>\n",
       "      <th>DRIVER1SEX_F</th>\n",
       "      <th>DRIVER1SEX_M</th>\n",
       "      <th>DRIVER1SEX_U</th>\n",
       "      <th>EMRGVEH_No</th>\n",
       "      <th>EMRGVEH_Yes</th>\n",
       "      <th>HITANDRUN_No</th>\n",
       "      <th>HITANDRUN_Yes</th>\n",
       "      <th>MOTORCYCLE_No</th>\n",
       "      <th>MOTORCYCLE_Yes</th>\n",
       "      <th>D1COND_Appeared Normal</th>\n",
       "      <th>D1COND_Fatigue / Sick</th>\n",
       "      <th>D1COND_Unknown</th>\n",
       "      <th>D1DRINKIN_No</th>\n",
       "      <th>D1DRINKIN_Yes</th>\n",
       "    </tr>\n",
       "  </thead>\n",
       "  <tbody>\n",
       "    <tr>\n",
       "      <th>0</th>\n",
       "      <td>0</td>\n",
       "      <td>0</td>\n",
       "      <td>1</td>\n",
       "      <td>1</td>\n",
       "      <td>0</td>\n",
       "      <td>0</td>\n",
       "      <td>1</td>\n",
       "      <td>0</td>\n",
       "      <td>0</td>\n",
       "      <td>1</td>\n",
       "      <td>1</td>\n",
       "      <td>0</td>\n",
       "      <td>1</td>\n",
       "      <td>0</td>\n",
       "      <td>0</td>\n",
       "      <td>1</td>\n",
       "      <td>0</td>\n",
       "    </tr>\n",
       "    <tr>\n",
       "      <th>1</th>\n",
       "      <td>0</td>\n",
       "      <td>0</td>\n",
       "      <td>1</td>\n",
       "      <td>0</td>\n",
       "      <td>1</td>\n",
       "      <td>0</td>\n",
       "      <td>1</td>\n",
       "      <td>0</td>\n",
       "      <td>0</td>\n",
       "      <td>1</td>\n",
       "      <td>1</td>\n",
       "      <td>0</td>\n",
       "      <td>0</td>\n",
       "      <td>0</td>\n",
       "      <td>1</td>\n",
       "      <td>1</td>\n",
       "      <td>0</td>\n",
       "    </tr>\n",
       "    <tr>\n",
       "      <th>2</th>\n",
       "      <td>0</td>\n",
       "      <td>0</td>\n",
       "      <td>1</td>\n",
       "      <td>1</td>\n",
       "      <td>0</td>\n",
       "      <td>0</td>\n",
       "      <td>1</td>\n",
       "      <td>0</td>\n",
       "      <td>1</td>\n",
       "      <td>0</td>\n",
       "      <td>1</td>\n",
       "      <td>0</td>\n",
       "      <td>1</td>\n",
       "      <td>0</td>\n",
       "      <td>0</td>\n",
       "      <td>1</td>\n",
       "      <td>0</td>\n",
       "    </tr>\n",
       "    <tr>\n",
       "      <th>3</th>\n",
       "      <td>0</td>\n",
       "      <td>0</td>\n",
       "      <td>1</td>\n",
       "      <td>0</td>\n",
       "      <td>1</td>\n",
       "      <td>0</td>\n",
       "      <td>1</td>\n",
       "      <td>0</td>\n",
       "      <td>0</td>\n",
       "      <td>1</td>\n",
       "      <td>1</td>\n",
       "      <td>0</td>\n",
       "      <td>1</td>\n",
       "      <td>0</td>\n",
       "      <td>0</td>\n",
       "      <td>1</td>\n",
       "      <td>0</td>\n",
       "    </tr>\n",
       "    <tr>\n",
       "      <th>4</th>\n",
       "      <td>0</td>\n",
       "      <td>0</td>\n",
       "      <td>1</td>\n",
       "      <td>0</td>\n",
       "      <td>1</td>\n",
       "      <td>0</td>\n",
       "      <td>1</td>\n",
       "      <td>0</td>\n",
       "      <td>1</td>\n",
       "      <td>0</td>\n",
       "      <td>1</td>\n",
       "      <td>0</td>\n",
       "      <td>1</td>\n",
       "      <td>0</td>\n",
       "      <td>0</td>\n",
       "      <td>1</td>\n",
       "      <td>0</td>\n",
       "    </tr>\n",
       "  </tbody>\n",
       "</table>\n",
       "</div>"
      ],
      "text/plain": [
       "   CRASHSEVER_Fatal  CRASHSEVER_Injury  CRASHSEVER_Property Damage Only  \\\n",
       "0                 0                  0                                1   \n",
       "1                 0                  0                                1   \n",
       "2                 0                  0                                1   \n",
       "3                 0                  0                                1   \n",
       "4                 0                  0                                1   \n",
       "\n",
       "   DRIVER1SEX_F  DRIVER1SEX_M  DRIVER1SEX_U  EMRGVEH_No  EMRGVEH_Yes  \\\n",
       "0             1             0             0           1            0   \n",
       "1             0             1             0           1            0   \n",
       "2             1             0             0           1            0   \n",
       "3             0             1             0           1            0   \n",
       "4             0             1             0           1            0   \n",
       "\n",
       "   HITANDRUN_No  HITANDRUN_Yes  MOTORCYCLE_No  MOTORCYCLE_Yes  \\\n",
       "0             0              1              1               0   \n",
       "1             0              1              1               0   \n",
       "2             1              0              1               0   \n",
       "3             0              1              1               0   \n",
       "4             1              0              1               0   \n",
       "\n",
       "   D1COND_Appeared Normal  D1COND_Fatigue / Sick  D1COND_Unknown  \\\n",
       "0                       1                      0               0   \n",
       "1                       0                      0               1   \n",
       "2                       1                      0               0   \n",
       "3                       1                      0               0   \n",
       "4                       1                      0               0   \n",
       "\n",
       "   D1DRINKIN_No  D1DRINKIN_Yes  \n",
       "0             1              0  \n",
       "1             1              0  \n",
       "2             1              0  \n",
       "3             1              0  \n",
       "4             1              0  "
      ]
     },
     "execution_count": 32,
     "metadata": {},
     "output_type": "execute_result"
    }
   ],
   "source": [
    "dummies.head()"
   ]
  },
  {
   "cell_type": "code",
   "execution_count": null,
   "metadata": {},
   "outputs": [],
   "source": []
  },
  {
   "cell_type": "markdown",
   "metadata": {},
   "source": [
    "---"
   ]
  },
  {
   "cell_type": "code",
   "execution_count": 33,
   "metadata": {},
   "outputs": [
    {
     "name": "stdout",
     "output_type": "stream",
     "text": [
      "<class 'pandas.core.frame.DataFrame'>\n",
      "Int64Index: 72977 entries, 0 to 72976\n",
      "Data columns (total 23 columns):\n",
      "X                                  72977 non-null float64\n",
      "Y                                  72977 non-null float64\n",
      "DRIVER1AGE                         72977 non-null int64\n",
      "NUMOFINJ                           72977 non-null int64\n",
      "HOUR_X                             72977 non-null float64\n",
      "HOUR_Y                             72977 non-null float64\n",
      "CRASHSEVER_Fatal                   72977 non-null uint8\n",
      "CRASHSEVER_Injury                  72977 non-null uint8\n",
      "CRASHSEVER_Property Damage Only    72977 non-null uint8\n",
      "DRIVER1SEX_F                       72977 non-null uint8\n",
      "DRIVER1SEX_M                       72977 non-null uint8\n",
      "DRIVER1SEX_U                       72977 non-null uint8\n",
      "EMRGVEH_No                         72977 non-null uint8\n",
      "EMRGVEH_Yes                        72977 non-null uint8\n",
      "HITANDRUN_No                       72977 non-null uint8\n",
      "HITANDRUN_Yes                      72977 non-null uint8\n",
      "MOTORCYCLE_No                      72977 non-null uint8\n",
      "MOTORCYCLE_Yes                     72977 non-null uint8\n",
      "D1COND_Appeared Normal             72977 non-null uint8\n",
      "D1COND_Fatigue / Sick              72977 non-null uint8\n",
      "D1COND_Unknown                     72977 non-null uint8\n",
      "D1DRINKIN_No                       72977 non-null uint8\n",
      "D1DRINKIN_Yes                      72977 non-null uint8\n",
      "dtypes: float64(4), int64(2), uint8(17)\n",
      "memory usage: 7.6 MB\n"
     ]
    }
   ],
   "source": [
    "# Drop the column with target variable (HITANDRUN) and the columns for which we created dummy variables\n",
    "crash_ = crash.drop(['CRASHSEVER', 'DRIVER1SEX',\n",
    "                            'EMRGVEH', 'HITANDRUN',\n",
    "                            'MOTORCYCLE', 'D1COND',\n",
    "                             'D1DRINKIN'], axis=1)\n",
    "# Define the feature set X.\n",
    "crash = pd.concat([crash_, dummies], axis=1)\n",
    "crash.info()"
   ]
  },
  {
   "cell_type": "code",
   "execution_count": 34,
   "metadata": {},
   "outputs": [
    {
     "name": "stdout",
     "output_type": "stream",
     "text": [
      "<class 'pandas.core.frame.DataFrame'>\n",
      "Int64Index: 72977 entries, 0 to 72976\n",
      "Data columns (total 16 columns):\n",
      "X                         72977 non-null float64\n",
      "Y                         72977 non-null float64\n",
      "DRIVER1AGE                72977 non-null int64\n",
      "NUMOFINJ                  72977 non-null int64\n",
      "HOUR_X                    72977 non-null float64\n",
      "HOUR_Y                    72977 non-null float64\n",
      "CRASHSEVER_Fatal          72977 non-null uint8\n",
      "CRASHSEVER_Injury         72977 non-null uint8\n",
      "DRIVER1SEX_M              72977 non-null uint8\n",
      "DRIVER1SEX_U              72977 non-null uint8\n",
      "EMRGVEH_Yes               72977 non-null uint8\n",
      "HITANDRUN_Yes             72977 non-null uint8\n",
      "MOTORCYCLE_Yes            72977 non-null uint8\n",
      "D1COND_Appeared Normal    72977 non-null uint8\n",
      "D1COND_Fatigue / Sick     72977 non-null uint8\n",
      "D1DRINKIN_Yes             72977 non-null uint8\n",
      "dtypes: float64(4), int64(2), uint8(10)\n",
      "memory usage: 7.1 MB\n"
     ]
    }
   ],
   "source": [
    "crash = crash.drop(['DRIVER1SEX_F', 'EMRGVEH_No', 'D1COND_Unknown', 'MOTORCYCLE_No', 'CRASHSEVER_Property Damage Only', 'HITANDRUN_No',  'D1DRINKIN_No' ], axis=1)\n",
    "crash.info()"
   ]
  },
  {
   "cell_type": "code",
   "execution_count": 35,
   "metadata": {},
   "outputs": [
    {
     "data": {
      "text/html": [
       "<div>\n",
       "<style>\n",
       "    .dataframe thead tr:only-child th {\n",
       "        text-align: right;\n",
       "    }\n",
       "\n",
       "    .dataframe thead th {\n",
       "        text-align: left;\n",
       "    }\n",
       "\n",
       "    .dataframe tbody tr th {\n",
       "        vertical-align: top;\n",
       "    }\n",
       "</style>\n",
       "<table border=\"1\" class=\"dataframe\">\n",
       "  <thead>\n",
       "    <tr style=\"text-align: right;\">\n",
       "      <th></th>\n",
       "      <th>X</th>\n",
       "      <th>Y</th>\n",
       "      <th>DRIVER1AGE</th>\n",
       "      <th>NUMOFINJ</th>\n",
       "      <th>HOUR_X</th>\n",
       "      <th>HOUR_Y</th>\n",
       "      <th>CRASHSEVER_Fatal</th>\n",
       "      <th>CRASHSEVER_Injury</th>\n",
       "      <th>DRIVER1SEX_M</th>\n",
       "      <th>DRIVER1SEX_U</th>\n",
       "      <th>EMRGVEH_Yes</th>\n",
       "      <th>HITANDRUN_Yes</th>\n",
       "      <th>MOTORCYCLE_Yes</th>\n",
       "      <th>D1COND_Appeared Normal</th>\n",
       "      <th>D1COND_Fatigue / Sick</th>\n",
       "      <th>D1DRINKIN_Yes</th>\n",
       "    </tr>\n",
       "  </thead>\n",
       "  <tbody>\n",
       "    <tr>\n",
       "      <th>0</th>\n",
       "      <td>-85.639647</td>\n",
       "      <td>42.927216</td>\n",
       "      <td>62</td>\n",
       "      <td>0</td>\n",
       "      <td>-0.258819</td>\n",
       "      <td>-9.659258e-01</td>\n",
       "      <td>0</td>\n",
       "      <td>0</td>\n",
       "      <td>0</td>\n",
       "      <td>0</td>\n",
       "      <td>0</td>\n",
       "      <td>1</td>\n",
       "      <td>0</td>\n",
       "      <td>1</td>\n",
       "      <td>0</td>\n",
       "      <td>0</td>\n",
       "    </tr>\n",
       "    <tr>\n",
       "      <th>1</th>\n",
       "      <td>-85.639487</td>\n",
       "      <td>42.927213</td>\n",
       "      <td>31</td>\n",
       "      <td>0</td>\n",
       "      <td>-1.000000</td>\n",
       "      <td>-1.836970e-16</td>\n",
       "      <td>0</td>\n",
       "      <td>0</td>\n",
       "      <td>1</td>\n",
       "      <td>0</td>\n",
       "      <td>0</td>\n",
       "      <td>1</td>\n",
       "      <td>0</td>\n",
       "      <td>0</td>\n",
       "      <td>0</td>\n",
       "      <td>0</td>\n",
       "    </tr>\n",
       "    <tr>\n",
       "      <th>2</th>\n",
       "      <td>-85.639387</td>\n",
       "      <td>42.927212</td>\n",
       "      <td>22</td>\n",
       "      <td>0</td>\n",
       "      <td>0.866025</td>\n",
       "      <td>-5.000000e-01</td>\n",
       "      <td>0</td>\n",
       "      <td>0</td>\n",
       "      <td>0</td>\n",
       "      <td>0</td>\n",
       "      <td>0</td>\n",
       "      <td>0</td>\n",
       "      <td>0</td>\n",
       "      <td>1</td>\n",
       "      <td>0</td>\n",
       "      <td>0</td>\n",
       "    </tr>\n",
       "    <tr>\n",
       "      <th>3</th>\n",
       "      <td>-85.639288</td>\n",
       "      <td>42.927210</td>\n",
       "      <td>30</td>\n",
       "      <td>0</td>\n",
       "      <td>-0.866025</td>\n",
       "      <td>-5.000000e-01</td>\n",
       "      <td>0</td>\n",
       "      <td>0</td>\n",
       "      <td>1</td>\n",
       "      <td>0</td>\n",
       "      <td>0</td>\n",
       "      <td>1</td>\n",
       "      <td>0</td>\n",
       "      <td>1</td>\n",
       "      <td>0</td>\n",
       "      <td>0</td>\n",
       "    </tr>\n",
       "    <tr>\n",
       "      <th>4</th>\n",
       "      <td>-85.639288</td>\n",
       "      <td>42.927210</td>\n",
       "      <td>44</td>\n",
       "      <td>0</td>\n",
       "      <td>-0.707107</td>\n",
       "      <td>-7.071068e-01</td>\n",
       "      <td>0</td>\n",
       "      <td>0</td>\n",
       "      <td>1</td>\n",
       "      <td>0</td>\n",
       "      <td>0</td>\n",
       "      <td>0</td>\n",
       "      <td>0</td>\n",
       "      <td>1</td>\n",
       "      <td>0</td>\n",
       "      <td>0</td>\n",
       "    </tr>\n",
       "  </tbody>\n",
       "</table>\n",
       "</div>"
      ],
      "text/plain": [
       "           X          Y  DRIVER1AGE  NUMOFINJ    HOUR_X        HOUR_Y  \\\n",
       "0 -85.639647  42.927216          62         0 -0.258819 -9.659258e-01   \n",
       "1 -85.639487  42.927213          31         0 -1.000000 -1.836970e-16   \n",
       "2 -85.639387  42.927212          22         0  0.866025 -5.000000e-01   \n",
       "3 -85.639288  42.927210          30         0 -0.866025 -5.000000e-01   \n",
       "4 -85.639288  42.927210          44         0 -0.707107 -7.071068e-01   \n",
       "\n",
       "   CRASHSEVER_Fatal  CRASHSEVER_Injury  DRIVER1SEX_M  DRIVER1SEX_U  \\\n",
       "0                 0                  0             0             0   \n",
       "1                 0                  0             1             0   \n",
       "2                 0                  0             0             0   \n",
       "3                 0                  0             1             0   \n",
       "4                 0                  0             1             0   \n",
       "\n",
       "   EMRGVEH_Yes  HITANDRUN_Yes  MOTORCYCLE_Yes  D1COND_Appeared Normal  \\\n",
       "0            0              1               0                       1   \n",
       "1            0              1               0                       0   \n",
       "2            0              0               0                       1   \n",
       "3            0              1               0                       1   \n",
       "4            0              0               0                       1   \n",
       "\n",
       "   D1COND_Fatigue / Sick  D1DRINKIN_Yes  \n",
       "0                      0              0  \n",
       "1                      0              0  \n",
       "2                      0              0  \n",
       "3                      0              0  \n",
       "4                      0              0  "
      ]
     },
     "execution_count": 35,
     "metadata": {},
     "output_type": "execute_result"
    }
   ],
   "source": [
    "crash.head()"
   ]
  },
  {
   "cell_type": "code",
   "execution_count": 36,
   "metadata": {},
   "outputs": [
    {
     "data": {
      "text/plain": [
       "<matplotlib.axes._subplots.AxesSubplot at 0x1a1a7bd358>"
      ]
     },
     "execution_count": 36,
     "metadata": {},
     "output_type": "execute_result"
    },
    {
     "data": {
      "image/png": "[encoded data removed]",
      "text/plain": [
       "<matplotlib.figure.Figure at 0x1a0eb31390>"
      ]
     },
     "metadata": {},
     "output_type": "display_data"
    }
   ],
   "source": [
    "# Compute the correlation matrix\n",
    "corr = crash.corr()\n",
    "\n",
    "# Generate a mask for the upper triangle\n",
    "mask = np.zeros_like(corr, dtype=np.bool)\n",
    "mask[np.triu_indices_from(mask)] = True\n",
    "\n",
    "# Set up the matplotlib figure\n",
    "f, ax = plt.subplots(figsize=(11, 9))\n",
    "\n",
    "# Generate a custom diverging colormap\n",
    "cmap = sns.diverging_palette(220, 10, as_cmap=True)\n",
    "\n",
    "# Draw the heatmap with the mask and correct aspect ratio\n",
    "sns.heatmap(corr, mask=mask, cmap=cmap, vmax=.3, center=0,\n",
    "            square=True, linewidths=.5, cbar_kws={\"shrink\": .5})"
   ]
  },
  {
   "cell_type": "markdown",
   "metadata": {},
   "source": [
    "# Fit regressor to impute missing ages"
   ]
  },
  {
   "cell_type": "markdown",
   "metadata": {},
   "source": [
    "* Big shout out to [this kaggle notebook](https://www.kaggle.com/athi94/investigating-imputation-methods) for helping me impute the missing ages with a regressor"
   ]
  },
  {
   "cell_type": "code",
   "execution_count": 37,
   "metadata": {},
   "outputs": [
    {
     "data": {
      "text/plain": [
       "Index(['X', 'Y', 'DRIVER1AGE', 'NUMOFINJ', 'HOUR_X', 'HOUR_Y',\n",
       "       'CRASHSEVER_Fatal', 'CRASHSEVER_Injury', 'DRIVER1SEX_M', 'DRIVER1SEX_U',\n",
       "       'EMRGVEH_Yes', 'HITANDRUN_Yes', 'MOTORCYCLE_Yes',\n",
       "       'D1COND_Appeared Normal', 'D1COND_Fatigue / Sick', 'D1DRINKIN_Yes'],\n",
       "      dtype='object')"
      ]
     },
     "execution_count": 37,
     "metadata": {},
     "output_type": "execute_result"
    }
   ],
   "source": [
    "crash.columns"
   ]
  },
  {
   "cell_type": "code",
   "execution_count": 38,
   "metadata": {},
   "outputs": [],
   "source": [
    "crash['DRIVER1AGE'] = crash['DRIVER1AGE'].replace(to_replace = 999, value = np.NaN)"
   ]
  },
  {
   "cell_type": "code",
   "execution_count": 39,
   "metadata": {},
   "outputs": [
    {
     "data": {
      "text/plain": [
       "8979"
      ]
     },
     "execution_count": 39,
     "metadata": {},
     "output_type": "execute_result"
    }
   ],
   "source": [
    "crash['DRIVER1AGE'].isnull().sum()"
   ]
  },
  {
   "cell_type": "code",
   "execution_count": 41,
   "metadata": {},
   "outputs": [],
   "source": [
    "crash_cl = crash\n",
    "crash_reg = crash.dropna()"
   ]
  },
  {
   "cell_type": "code",
   "execution_count": 42,
   "metadata": {},
   "outputs": [],
   "source": [
    "X_cols = ['X', 'Y','NUMOFINJ', 'HOUR_X', 'HOUR_Y',\n",
    "       'CRASHSEVER_Fatal', 'CRASHSEVER_Injury', 'DRIVER1SEX_M', 'DRIVER1SEX_U',\n",
    "       'EMRGVEH_Yes', 'HITANDRUN_Yes', 'MOTORCYCLE_Yes',\n",
    "       'D1COND_Appeared Normal', 'D1COND_Fatigue / Sick']\n",
    "y_cols = 'DRIVER1AGE'\n",
    "\n",
    "temp_X = crash_reg.loc[:, X_cols]\n",
    "temp_Y = crash_reg.loc[:, y_cols]"
   ]
  },
  {
   "cell_type": "code",
   "execution_count": 43,
   "metadata": {},
   "outputs": [
    {
     "data": {
      "text/plain": [
       "LinearRegression(copy_X=True, fit_intercept=True, n_jobs=1, normalize=False)"
      ]
     },
     "execution_count": 43,
     "metadata": {},
     "output_type": "execute_result"
    }
   ],
   "source": [
    "from sklearn.linear_model import LinearRegression\n",
    "age_lm = LinearRegression()\n",
    "age_lm.fit(temp_X, temp_Y)"
   ]
  },
  {
   "cell_type": "code",
   "execution_count": 44,
   "metadata": {},
   "outputs": [],
   "source": [
    "nan_inds = crash.DRIVER1AGE.isnull().nonzero()[0]\n",
    "\n",
    "for i in nan_inds:\n",
    "    crash.set_value(i, 'DRIVER1AGE', age_lm.predict(crash_cl.loc[i, X_cols].values.reshape(1, -1)))"
   ]
  },
  {
   "cell_type": "code",
   "execution_count": 46,
   "metadata": {},
   "outputs": [
    {
     "data": {
      "text/plain": [
       "<matplotlib.axes._subplots.AxesSubplot at 0x1a1b3d1048>"
      ]
     },
     "execution_count": 46,
     "metadata": {},
     "output_type": "execute_result"
    },
    {
     "data": {
      "image/png": "[encoded data removed]",
      "text/plain": [
       "<matplotlib.figure.Figure at 0x1a1a7922b0>"
      ]
     },
     "metadata": {},
     "output_type": "display_data"
    }
   ],
   "source": [
    "sns.distplot(crash['DRIVER1AGE'])"
   ]
  },
  {
   "cell_type": "markdown",
   "metadata": {},
   "source": [
    "---"
   ]
  },
  {
   "cell_type": "code",
   "execution_count": 47,
   "metadata": {},
   "outputs": [
    {
     "data": {
      "text/html": [
       "<div>\n",
       "<style>\n",
       "    .dataframe thead tr:only-child th {\n",
       "        text-align: right;\n",
       "    }\n",
       "\n",
       "    .dataframe thead th {\n",
       "        text-align: left;\n",
       "    }\n",
       "\n",
       "    .dataframe tbody tr th {\n",
       "        vertical-align: top;\n",
       "    }\n",
       "</style>\n",
       "<table border=\"1\" class=\"dataframe\">\n",
       "  <thead>\n",
       "    <tr style=\"text-align: right;\">\n",
       "      <th></th>\n",
       "      <th>X</th>\n",
       "      <th>Y</th>\n",
       "      <th>DRIVER1AGE</th>\n",
       "      <th>NUMOFINJ</th>\n",
       "      <th>HOUR_X</th>\n",
       "      <th>HOUR_Y</th>\n",
       "      <th>CRASHSEVER_Fatal</th>\n",
       "      <th>CRASHSEVER_Injury</th>\n",
       "      <th>DRIVER1SEX_M</th>\n",
       "      <th>DRIVER1SEX_U</th>\n",
       "      <th>EMRGVEH_Yes</th>\n",
       "      <th>HITANDRUN_Yes</th>\n",
       "      <th>MOTORCYCLE_Yes</th>\n",
       "      <th>D1COND_Appeared Normal</th>\n",
       "      <th>D1COND_Fatigue / Sick</th>\n",
       "      <th>D1DRINKIN_Yes</th>\n",
       "    </tr>\n",
       "  </thead>\n",
       "  <tbody>\n",
       "    <tr>\n",
       "      <th>0</th>\n",
       "      <td>-85.639647</td>\n",
       "      <td>42.927216</td>\n",
       "      <td>62.0</td>\n",
       "      <td>0</td>\n",
       "      <td>-0.258819</td>\n",
       "      <td>-9.659258e-01</td>\n",
       "      <td>0</td>\n",
       "      <td>0</td>\n",
       "      <td>0</td>\n",
       "      <td>0</td>\n",
       "      <td>0</td>\n",
       "      <td>1</td>\n",
       "      <td>0</td>\n",
       "      <td>1</td>\n",
       "      <td>0</td>\n",
       "      <td>0</td>\n",
       "    </tr>\n",
       "    <tr>\n",
       "      <th>1</th>\n",
       "      <td>-85.639487</td>\n",
       "      <td>42.927213</td>\n",
       "      <td>31.0</td>\n",
       "      <td>0</td>\n",
       "      <td>-1.000000</td>\n",
       "      <td>-1.836970e-16</td>\n",
       "      <td>0</td>\n",
       "      <td>0</td>\n",
       "      <td>1</td>\n",
       "      <td>0</td>\n",
       "      <td>0</td>\n",
       "      <td>1</td>\n",
       "      <td>0</td>\n",
       "      <td>0</td>\n",
       "      <td>0</td>\n",
       "      <td>0</td>\n",
       "    </tr>\n",
       "    <tr>\n",
       "      <th>2</th>\n",
       "      <td>-85.639387</td>\n",
       "      <td>42.927212</td>\n",
       "      <td>22.0</td>\n",
       "      <td>0</td>\n",
       "      <td>0.866025</td>\n",
       "      <td>-5.000000e-01</td>\n",
       "      <td>0</td>\n",
       "      <td>0</td>\n",
       "      <td>0</td>\n",
       "      <td>0</td>\n",
       "      <td>0</td>\n",
       "      <td>0</td>\n",
       "      <td>0</td>\n",
       "      <td>1</td>\n",
       "      <td>0</td>\n",
       "      <td>0</td>\n",
       "    </tr>\n",
       "    <tr>\n",
       "      <th>3</th>\n",
       "      <td>-85.639288</td>\n",
       "      <td>42.927210</td>\n",
       "      <td>30.0</td>\n",
       "      <td>0</td>\n",
       "      <td>-0.866025</td>\n",
       "      <td>-5.000000e-01</td>\n",
       "      <td>0</td>\n",
       "      <td>0</td>\n",
       "      <td>1</td>\n",
       "      <td>0</td>\n",
       "      <td>0</td>\n",
       "      <td>1</td>\n",
       "      <td>0</td>\n",
       "      <td>1</td>\n",
       "      <td>0</td>\n",
       "      <td>0</td>\n",
       "    </tr>\n",
       "    <tr>\n",
       "      <th>4</th>\n",
       "      <td>-85.639288</td>\n",
       "      <td>42.927210</td>\n",
       "      <td>44.0</td>\n",
       "      <td>0</td>\n",
       "      <td>-0.707107</td>\n",
       "      <td>-7.071068e-01</td>\n",
       "      <td>0</td>\n",
       "      <td>0</td>\n",
       "      <td>1</td>\n",
       "      <td>0</td>\n",
       "      <td>0</td>\n",
       "      <td>0</td>\n",
       "      <td>0</td>\n",
       "      <td>1</td>\n",
       "      <td>0</td>\n",
       "      <td>0</td>\n",
       "    </tr>\n",
       "  </tbody>\n",
       "</table>\n",
       "</div>"
      ],
      "text/plain": [
       "           X          Y  DRIVER1AGE  NUMOFINJ    HOUR_X        HOUR_Y  \\\n",
       "0 -85.639647  42.927216        62.0         0 -0.258819 -9.659258e-01   \n",
       "1 -85.639487  42.927213        31.0         0 -1.000000 -1.836970e-16   \n",
       "2 -85.639387  42.927212        22.0         0  0.866025 -5.000000e-01   \n",
       "3 -85.639288  42.927210        30.0         0 -0.866025 -5.000000e-01   \n",
       "4 -85.639288  42.927210        44.0         0 -0.707107 -7.071068e-01   \n",
       "\n",
       "   CRASHSEVER_Fatal  CRASHSEVER_Injury  DRIVER1SEX_M  DRIVER1SEX_U  \\\n",
       "0                 0                  0             0             0   \n",
       "1                 0                  0             1             0   \n",
       "2                 0                  0             0             0   \n",
       "3                 0                  0             1             0   \n",
       "4                 0                  0             1             0   \n",
       "\n",
       "   EMRGVEH_Yes  HITANDRUN_Yes  MOTORCYCLE_Yes  D1COND_Appeared Normal  \\\n",
       "0            0              1               0                       1   \n",
       "1            0              1               0                       0   \n",
       "2            0              0               0                       1   \n",
       "3            0              1               0                       1   \n",
       "4            0              0               0                       1   \n",
       "\n",
       "   D1COND_Fatigue / Sick  D1DRINKIN_Yes  \n",
       "0                      0              0  \n",
       "1                      0              0  \n",
       "2                      0              0  \n",
       "3                      0              0  \n",
       "4                      0              0  "
      ]
     },
     "execution_count": 47,
     "metadata": {},
     "output_type": "execute_result"
    }
   ],
   "source": [
    "crash.head()"
   ]
  },
  {
   "cell_type": "markdown",
   "metadata": {},
   "source": [
    "### Final Scaling"
   ]
  },
  {
   "cell_type": "code",
   "execution_count": 48,
   "metadata": {},
   "outputs": [],
   "source": [
    "sc_X = StandardScaler()\n",
    "X_scaled = sc_X.fit_transform(crash[['X', 'Y', 'DRIVER1AGE', 'NUMOFINJ']])"
   ]
  },
  {
   "cell_type": "code",
   "execution_count": 49,
   "metadata": {},
   "outputs": [],
   "source": [
    "X_scaled_df = pd.DataFrame(X_scaled, columns = ['X', 'Y', 'DRIVER1AGE', 'NUMOFINJ'])"
   ]
  },
  {
   "cell_type": "code",
   "execution_count": 50,
   "metadata": {},
   "outputs": [],
   "source": [
    "crash_ = crash.drop(['X', 'Y', 'DRIVER1AGE', 'NUMOFINJ'], axis=1)"
   ]
  },
  {
   "cell_type": "code",
   "execution_count": 51,
   "metadata": {},
   "outputs": [],
   "source": [
    "crash = pd.concat([X_scaled_df, crash_], axis=1)"
   ]
  },
  {
   "cell_type": "code",
   "execution_count": 52,
   "metadata": {},
   "outputs": [
    {
     "data": {
      "text/html": [
       "<div>\n",
       "<style>\n",
       "    .dataframe thead tr:only-child th {\n",
       "        text-align: right;\n",
       "    }\n",
       "\n",
       "    .dataframe thead th {\n",
       "        text-align: left;\n",
       "    }\n",
       "\n",
       "    .dataframe tbody tr th {\n",
       "        vertical-align: top;\n",
       "    }\n",
       "</style>\n",
       "<table border=\"1\" class=\"dataframe\">\n",
       "  <thead>\n",
       "    <tr style=\"text-align: right;\">\n",
       "      <th></th>\n",
       "      <th>X</th>\n",
       "      <th>Y</th>\n",
       "      <th>DRIVER1AGE</th>\n",
       "      <th>NUMOFINJ</th>\n",
       "      <th>HOUR_X</th>\n",
       "      <th>HOUR_Y</th>\n",
       "      <th>CRASHSEVER_Fatal</th>\n",
       "      <th>CRASHSEVER_Injury</th>\n",
       "      <th>DRIVER1SEX_M</th>\n",
       "      <th>DRIVER1SEX_U</th>\n",
       "      <th>EMRGVEH_Yes</th>\n",
       "      <th>HITANDRUN_Yes</th>\n",
       "      <th>MOTORCYCLE_Yes</th>\n",
       "      <th>D1COND_Appeared Normal</th>\n",
       "      <th>D1COND_Fatigue / Sick</th>\n",
       "      <th>D1DRINKIN_Yes</th>\n",
       "    </tr>\n",
       "  </thead>\n",
       "  <tbody>\n",
       "    <tr>\n",
       "      <th>0</th>\n",
       "      <td>0.406318</td>\n",
       "      <td>-0.996140</td>\n",
       "      <td>1.682769</td>\n",
       "      <td>-0.416816</td>\n",
       "      <td>-0.258819</td>\n",
       "      <td>-9.659258e-01</td>\n",
       "      <td>0</td>\n",
       "      <td>0</td>\n",
       "      <td>0</td>\n",
       "      <td>0</td>\n",
       "      <td>0</td>\n",
       "      <td>1</td>\n",
       "      <td>0</td>\n",
       "      <td>1</td>\n",
       "      <td>0</td>\n",
       "      <td>0</td>\n",
       "    </tr>\n",
       "    <tr>\n",
       "      <th>1</th>\n",
       "      <td>0.411006</td>\n",
       "      <td>-0.996237</td>\n",
       "      <td>-0.261632</td>\n",
       "      <td>-0.416816</td>\n",
       "      <td>-1.000000</td>\n",
       "      <td>-1.836970e-16</td>\n",
       "      <td>0</td>\n",
       "      <td>0</td>\n",
       "      <td>1</td>\n",
       "      <td>0</td>\n",
       "      <td>0</td>\n",
       "      <td>1</td>\n",
       "      <td>0</td>\n",
       "      <td>0</td>\n",
       "      <td>0</td>\n",
       "      <td>0</td>\n",
       "    </tr>\n",
       "    <tr>\n",
       "      <th>2</th>\n",
       "      <td>0.413936</td>\n",
       "      <td>-0.996298</td>\n",
       "      <td>-0.826135</td>\n",
       "      <td>-0.416816</td>\n",
       "      <td>0.866025</td>\n",
       "      <td>-5.000000e-01</td>\n",
       "      <td>0</td>\n",
       "      <td>0</td>\n",
       "      <td>0</td>\n",
       "      <td>0</td>\n",
       "      <td>0</td>\n",
       "      <td>0</td>\n",
       "      <td>0</td>\n",
       "      <td>1</td>\n",
       "      <td>0</td>\n",
       "      <td>0</td>\n",
       "    </tr>\n",
       "    <tr>\n",
       "      <th>3</th>\n",
       "      <td>0.416866</td>\n",
       "      <td>-0.996358</td>\n",
       "      <td>-0.324354</td>\n",
       "      <td>-0.416816</td>\n",
       "      <td>-0.866025</td>\n",
       "      <td>-5.000000e-01</td>\n",
       "      <td>0</td>\n",
       "      <td>0</td>\n",
       "      <td>1</td>\n",
       "      <td>0</td>\n",
       "      <td>0</td>\n",
       "      <td>1</td>\n",
       "      <td>0</td>\n",
       "      <td>1</td>\n",
       "      <td>0</td>\n",
       "      <td>0</td>\n",
       "    </tr>\n",
       "    <tr>\n",
       "      <th>4</th>\n",
       "      <td>0.416866</td>\n",
       "      <td>-0.996358</td>\n",
       "      <td>0.553762</td>\n",
       "      <td>-0.416816</td>\n",
       "      <td>-0.707107</td>\n",
       "      <td>-7.071068e-01</td>\n",
       "      <td>0</td>\n",
       "      <td>0</td>\n",
       "      <td>1</td>\n",
       "      <td>0</td>\n",
       "      <td>0</td>\n",
       "      <td>0</td>\n",
       "      <td>0</td>\n",
       "      <td>1</td>\n",
       "      <td>0</td>\n",
       "      <td>0</td>\n",
       "    </tr>\n",
       "  </tbody>\n",
       "</table>\n",
       "</div>"
      ],
      "text/plain": [
       "          X         Y  DRIVER1AGE  NUMOFINJ    HOUR_X        HOUR_Y  \\\n",
       "0  0.406318 -0.996140    1.682769 -0.416816 -0.258819 -9.659258e-01   \n",
       "1  0.411006 -0.996237   -0.261632 -0.416816 -1.000000 -1.836970e-16   \n",
       "2  0.413936 -0.996298   -0.826135 -0.416816  0.866025 -5.000000e-01   \n",
       "3  0.416866 -0.996358   -0.324354 -0.416816 -0.866025 -5.000000e-01   \n",
       "4  0.416866 -0.996358    0.553762 -0.416816 -0.707107 -7.071068e-01   \n",
       "\n",
       "   CRASHSEVER_Fatal  CRASHSEVER_Injury  DRIVER1SEX_M  DRIVER1SEX_U  \\\n",
       "0                 0                  0             0             0   \n",
       "1                 0                  0             1             0   \n",
       "2                 0                  0             0             0   \n",
       "3                 0                  0             1             0   \n",
       "4                 0                  0             1             0   \n",
       "\n",
       "   EMRGVEH_Yes  HITANDRUN_Yes  MOTORCYCLE_Yes  D1COND_Appeared Normal  \\\n",
       "0            0              1               0                       1   \n",
       "1            0              1               0                       0   \n",
       "2            0              0               0                       1   \n",
       "3            0              1               0                       1   \n",
       "4            0              0               0                       1   \n",
       "\n",
       "   D1COND_Fatigue / Sick  D1DRINKIN_Yes  \n",
       "0                      0              0  \n",
       "1                      0              0  \n",
       "2                      0              0  \n",
       "3                      0              0  \n",
       "4                      0              0  "
      ]
     },
     "execution_count": 52,
     "metadata": {},
     "output_type": "execute_result"
    }
   ],
   "source": [
    "crash.head()"
   ]
  },
  {
   "cell_type": "code",
   "execution_count": 53,
   "metadata": {},
   "outputs": [
    {
     "data": {
      "text/plain": [
       "Index(['X', 'Y', 'DRIVER1AGE', 'NUMOFINJ', 'HOUR_X', 'HOUR_Y',\n",
       "       'CRASHSEVER_Fatal', 'CRASHSEVER_Injury', 'DRIVER1SEX_M', 'DRIVER1SEX_U',\n",
       "       'EMRGVEH_Yes', 'HITANDRUN_Yes', 'MOTORCYCLE_Yes',\n",
       "       'D1COND_Appeared Normal', 'D1COND_Fatigue / Sick', 'D1DRINKIN_Yes'],\n",
       "      dtype='object')"
      ]
     },
     "execution_count": 53,
     "metadata": {},
     "output_type": "execute_result"
    }
   ],
   "source": [
    "crash.columns"
   ]
  },
  {
   "cell_type": "markdown",
   "metadata": {},
   "source": [
    "---"
   ]
  },
  {
   "cell_type": "code",
   "execution_count": 55,
   "metadata": {},
   "outputs": [],
   "source": [
    "crash.to_csv('Data/Analysis2/Crash_data_prepared.csv', index=False)"
   ]
  },
  {
   "cell_type": "code",
   "execution_count": null,
   "metadata": {},
   "outputs": [],
   "source": []
  }
 ],
 "metadata": {
  "kernelspec": {
   "display_name": "Python 3",
   "language": "python",
   "name": "python3"
  },
  "language_info": {
   "codemirror_mode": {
    "name": "ipython",
    "version": 3
   },
   "file_extension": ".py",
   "mimetype": "text/x-python",
   "name": "python",
   "nbconvert_exporter": "python",
   "pygments_lexer": "ipython3",
   "version": "3.6.3"
  }
 },
 "nbformat": 4,
 "nbformat_minor": 2
}
