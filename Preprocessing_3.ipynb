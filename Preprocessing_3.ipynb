{
 "cells": [
  {
   "cell_type": "code",
   "execution_count": 48,
   "metadata": {},
   "outputs": [],
   "source": [
    "import numpy as np\n",
    "import pandas as pd\n",
    "import matplotlib.pyplot as plt\n",
    "%matplotlib inline\n",
    "\n",
    "import seaborn as sns\n",
    "\n",
    "from sklearn.linear_model import LogisticRegression\n",
    "from sklearn.preprocessing import LabelEncoder, OneHotEncoder, StandardScaler, Imputer\n",
    "from sklearn.model_selection import train_test_split, GridSearchCV\n",
    "\n",
    "from sklearn.metrics import confusion_matrix, classification_report, precision_score\n",
    "from sklearn.metrics import roc_curve, auc"
   ]
  },
  {
   "cell_type": "code",
   "execution_count": 49,
   "metadata": {},
   "outputs": [
    {
     "data": {
      "text/html": [
       "<div>\n",
       "<style>\n",
       "    .dataframe thead tr:only-child th {\n",
       "        text-align: right;\n",
       "    }\n",
       "\n",
       "    .dataframe thead th {\n",
       "        text-align: left;\n",
       "    }\n",
       "\n",
       "    .dataframe tbody tr th {\n",
       "        vertical-align: top;\n",
       "    }\n",
       "</style>\n",
       "<table border=\"1\" class=\"dataframe\">\n",
       "  <thead>\n",
       "    <tr style=\"text-align: right;\">\n",
       "      <th></th>\n",
       "      <th>X</th>\n",
       "      <th>Y</th>\n",
       "      <th>OBJECTID</th>\n",
       "      <th>ROADSOFTID</th>\n",
       "      <th>BIKE</th>\n",
       "      <th>CITY</th>\n",
       "      <th>CRASHDATE</th>\n",
       "      <th>CRASHSEVER</th>\n",
       "      <th>CRASHTYPE</th>\n",
       "      <th>WORKZNEACT</th>\n",
       "      <th>...</th>\n",
       "      <th>VEH3DIR</th>\n",
       "      <th>VEH3TYPE</th>\n",
       "      <th>VEH3USE</th>\n",
       "      <th>WEATHER</th>\n",
       "      <th>WHEREONRD</th>\n",
       "      <th>YEAR</th>\n",
       "      <th>RDCITYTWP</th>\n",
       "      <th>RDNUMLANES</th>\n",
       "      <th>RDWIDTH</th>\n",
       "      <th>FRAMEWORK</th>\n",
       "    </tr>\n",
       "  </thead>\n",
       "  <tbody>\n",
       "    <tr>\n",
       "      <th>0</th>\n",
       "      <td>-85.639647</td>\n",
       "      <td>42.927216</td>\n",
       "      <td>6001</td>\n",
       "      <td>929923</td>\n",
       "      <td>No</td>\n",
       "      <td>Grand Rapids</td>\n",
       "      <td>2007-02-16</td>\n",
       "      <td>Property Damage Only</td>\n",
       "      <td>Side-Swipe Same</td>\n",
       "      <td>Uncoded &amp; Errors</td>\n",
       "      <td>...</td>\n",
       "      <td>U</td>\n",
       "      <td>Uncoded &amp; Errors</td>\n",
       "      <td>Uncoded &amp; Errors</td>\n",
       "      <td>Cloudy</td>\n",
       "      <td>On the Road</td>\n",
       "      <td>2007</td>\n",
       "      <td>Grand Rapids</td>\n",
       "      <td>2</td>\n",
       "      <td>42.0</td>\n",
       "      <td>17</td>\n",
       "    </tr>\n",
       "    <tr>\n",
       "      <th>1</th>\n",
       "      <td>-85.639487</td>\n",
       "      <td>42.927213</td>\n",
       "      <td>6002</td>\n",
       "      <td>935745</td>\n",
       "      <td>No</td>\n",
       "      <td>Grand Rapids</td>\n",
       "      <td>2007-06-22</td>\n",
       "      <td>Property Damage Only</td>\n",
       "      <td>Side-Swipe Same</td>\n",
       "      <td>Uncoded &amp; Errors</td>\n",
       "      <td>...</td>\n",
       "      <td>U</td>\n",
       "      <td>Uncoded &amp; Errors</td>\n",
       "      <td>Uncoded &amp; Errors</td>\n",
       "      <td>Clear</td>\n",
       "      <td>On the Road</td>\n",
       "      <td>2007</td>\n",
       "      <td>Grand Rapids</td>\n",
       "      <td>2</td>\n",
       "      <td>42.0</td>\n",
       "      <td>17</td>\n",
       "    </tr>\n",
       "    <tr>\n",
       "      <th>2</th>\n",
       "      <td>-85.639387</td>\n",
       "      <td>42.927212</td>\n",
       "      <td>6003</td>\n",
       "      <td>926813</td>\n",
       "      <td>No</td>\n",
       "      <td>Grand Rapids</td>\n",
       "      <td>2007-01-08</td>\n",
       "      <td>Property Damage Only</td>\n",
       "      <td>Head-on</td>\n",
       "      <td>Work on Shoulder / Median</td>\n",
       "      <td>...</td>\n",
       "      <td>U</td>\n",
       "      <td>Uncoded &amp; Errors</td>\n",
       "      <td>Uncoded &amp; Errors</td>\n",
       "      <td>Snow</td>\n",
       "      <td>On the Road</td>\n",
       "      <td>2007</td>\n",
       "      <td>Grand Rapids</td>\n",
       "      <td>2</td>\n",
       "      <td>42.0</td>\n",
       "      <td>17</td>\n",
       "    </tr>\n",
       "    <tr>\n",
       "      <th>3</th>\n",
       "      <td>-85.639288</td>\n",
       "      <td>42.927210</td>\n",
       "      <td>6004</td>\n",
       "      <td>943813</td>\n",
       "      <td>No</td>\n",
       "      <td>Grand Rapids</td>\n",
       "      <td>2007-11-12</td>\n",
       "      <td>Property Damage Only</td>\n",
       "      <td>Side-Swipe Same</td>\n",
       "      <td>Uncoded &amp; Errors</td>\n",
       "      <td>...</td>\n",
       "      <td>U</td>\n",
       "      <td>Uncoded &amp; Errors</td>\n",
       "      <td>Uncoded &amp; Errors</td>\n",
       "      <td>Cloudy</td>\n",
       "      <td>On the Road</td>\n",
       "      <td>2007</td>\n",
       "      <td>Grand Rapids</td>\n",
       "      <td>2</td>\n",
       "      <td>42.0</td>\n",
       "      <td>17</td>\n",
       "    </tr>\n",
       "  </tbody>\n",
       "</table>\n",
       "<p>4 rows × 77 columns</p>\n",
       "</div>"
      ],
      "text/plain": [
       "           X          Y  OBJECTID  ROADSOFTID BIKE          CITY   CRASHDATE  \\\n",
       "0 -85.639647  42.927216      6001      929923   No  Grand Rapids  2007-02-16   \n",
       "1 -85.639487  42.927213      6002      935745   No  Grand Rapids  2007-06-22   \n",
       "2 -85.639387  42.927212      6003      926813   No  Grand Rapids  2007-01-08   \n",
       "3 -85.639288  42.927210      6004      943813   No  Grand Rapids  2007-11-12   \n",
       "\n",
       "             CRASHSEVER        CRASHTYPE                 WORKZNEACT    ...     \\\n",
       "0  Property Damage Only  Side-Swipe Same           Uncoded & Errors    ...      \n",
       "1  Property Damage Only  Side-Swipe Same           Uncoded & Errors    ...      \n",
       "2  Property Damage Only          Head-on  Work on Shoulder / Median    ...      \n",
       "3  Property Damage Only  Side-Swipe Same           Uncoded & Errors    ...      \n",
       "\n",
       "  VEH3DIR          VEH3TYPE           VEH3USE WEATHER    WHEREONRD  YEAR  \\\n",
       "0       U  Uncoded & Errors  Uncoded & Errors  Cloudy  On the Road  2007   \n",
       "1       U  Uncoded & Errors  Uncoded & Errors   Clear  On the Road  2007   \n",
       "2       U  Uncoded & Errors  Uncoded & Errors    Snow  On the Road  2007   \n",
       "3       U  Uncoded & Errors  Uncoded & Errors  Cloudy  On the Road  2007   \n",
       "\n",
       "      RDCITYTWP RDNUMLANES RDWIDTH FRAMEWORK  \n",
       "0  Grand Rapids          2    42.0        17  \n",
       "1  Grand Rapids          2    42.0        17  \n",
       "2  Grand Rapids          2    42.0        17  \n",
       "3  Grand Rapids          2    42.0        17  \n",
       "\n",
       "[4 rows x 77 columns]"
      ]
     },
     "execution_count": 49,
     "metadata": {},
     "output_type": "execute_result"
    }
   ],
   "source": [
    "crash = pd.read_csv('Data/CGR_Crash_Data.csv')\n",
    "crash.head(4)"
   ]
  },
  {
   "cell_type": "code",
   "execution_count": 50,
   "metadata": {},
   "outputs": [
    {
     "name": "stdout",
     "output_type": "stream",
     "text": [
      "(72977, 77)\n"
     ]
    }
   ],
   "source": [
    "initial_shape = crash.shape\n",
    "print(initial_shape)"
   ]
  },
  {
   "cell_type": "code",
   "execution_count": 51,
   "metadata": {},
   "outputs": [
    {
     "data": {
      "text/plain": [
       "No     57308\n",
       "Yes    15669\n",
       "Name: HITANDRUN, dtype: int64"
      ]
     },
     "execution_count": 51,
     "metadata": {},
     "output_type": "execute_result"
    }
   ],
   "source": [
    "crash['HITANDRUN'].value_counts()"
   ]
  },
  {
   "cell_type": "code",
   "execution_count": 52,
   "metadata": {},
   "outputs": [
    {
     "data": {
      "text/plain": [
       "No     70260\n",
       "Yes     2717\n",
       "Name: D1DRINKIN, dtype: int64"
      ]
     },
     "execution_count": 52,
     "metadata": {},
     "output_type": "execute_result"
    }
   ],
   "source": [
    "crash['D1DRINKIN'].value_counts()"
   ]
  },
  {
   "cell_type": "markdown",
   "metadata": {},
   "source": [
    "## Columns Dropped\n",
    "* Unfortunately, I do not know what the \"OBJECTID\" or \"ROADSOFTID\" columns mean, so I will drop them.\n",
    "* Since all crashes occur in Grand Rapids, I will drop the \"CITY\" column.\n",
    "* Since we have other features that may represent the time/date better than \"CRASHDATE\" we'll drop it.\n",
    "* \"WORKZNEACT\", \"WORKZNECLO\", \"WORKZNETYP\", \"ANIMAL\" are primarily errors\n",
    "* \"DAYOFMONTH\", \"DAYOFWEEK\" were fairly evenly distributed and did not seem to have any correlation with \"HITANDRUN\"\n",
    "* Wanted to use \"D1COND\", \"D2COND\", \"D3COND\", but not enough data recorded.\n",
    "* \"FLEEINGSIT\" looks like it could be helpful, but not sure what it means, and far too few instances\n",
    "* all read no for \"NONTRAFFIC\"\n",
    "* Such low amounts of data on Vehichle defect, dropped \"V1DEFECT\", \"V2DEFECT\"\n",
    "* Such low amounts of data on any third vehicle, drop 'D3DRINKIN', 'DRIVER3AGE', 'DRIVER3SEX', 'V3DEFECT', 'V3DAMAGE', 'VEH3DIR', 'VEH3TYPE', 'VEH3USE'\n",
    "\n",
    "\n",
    "* Drop all V3's"
   ]
  },
  {
   "cell_type": "code",
   "execution_count": 53,
   "metadata": {},
   "outputs": [],
   "source": [
    "labels = [\"OBJECTID\", \"ROADSOFTID\", \"CITY\", \"CRASHDATE\", \"WORKZNEACT\", \"WORKZNECLO\", \"WORKZNETYP\",\n",
    "         \"DAYOFMONTH\", \"DAYOFWEEK\", \"ANIMAL\", \"D2COND\", \"D3COND\", \"FARMEQUIP\", \"FLEEINGSIT\", \"NONTRAFFIC\", \n",
    "         \"NUMOFKILL\", \"ORV\", \"PUBLICPROP\", \"PEDESTRIAN\", \"SNOWMOBILE\", \"SCHOOLBUS\", \"TRAIN\", \"V1DEFECT\", \"V2DEFECT\", \n",
    "           'DRIVER3AGE', 'DRIVER3SEX', 'V3DEFECT', 'V3DAMAGE', 'VEH3DIR', 'VEH3TYPE', 'VEH3USE',\n",
    "           'DRIVER2AGE', 'DRIVER2SEX', \n",
    "          'V2DEFECT', 'V2DAMAGE', 'VEH2DIR', 'VEH2TYPE', 'VEH2USE',\n",
    "          'FRAMEWORK', 'RDCITYTWP', 'YEAR'\n",
    "         ]\n",
    "crash = crash.drop(labels=labels, axis=1)"
   ]
  },
  {
   "cell_type": "code",
   "execution_count": 54,
   "metadata": {},
   "outputs": [
    {
     "data": {
      "text/plain": [
       "Appeared Normal    56412\n",
       "Unknown            15890\n",
       "Fatigue / Sick       675\n",
       "Name: D1COND, dtype: int64"
      ]
     },
     "execution_count": 54,
     "metadata": {},
     "output_type": "execute_result"
    }
   ],
   "source": [
    "crash['D1COND'] = crash['D1COND'].replace(to_replace = ['Other', 'Uncoded & Errors'], value = 'Unknown')\n",
    "crash['D1COND'] = crash['D1COND'].replace(to_replace = ['Fatigue / Asleep', 'Sick', 'Medication', 'Emotional', 'Physically Disabled'], value = 'Fatigue / Sick')\n",
    "crash['D1COND'].value_counts()"
   ]
  },
  {
   "cell_type": "code",
   "execution_count": 55,
   "metadata": {},
   "outputs": [
    {
     "data": {
      "text/plain": [
       "D1COND           D1DRINKIN\n",
       "Appeared Normal  No           56242\n",
       "                 Yes            170\n",
       "Fatigue / Sick   No             642\n",
       "                 Yes             33\n",
       "Unknown          No           13376\n",
       "                 Yes           2514\n",
       "Name: NUMOFVEHIC, dtype: int64"
      ]
     },
     "execution_count": 55,
     "metadata": {},
     "output_type": "execute_result"
    }
   ],
   "source": [
    "crash.groupby([\"D1COND\", 'D1DRINKIN'])['NUMOFVEHIC'].count()"
   ]
  },
  {
   "cell_type": "code",
   "execution_count": 56,
   "metadata": {},
   "outputs": [
    {
     "data": {
      "text/plain": [
       "(72977, 37)"
      ]
     },
     "execution_count": 56,
     "metadata": {},
     "output_type": "execute_result"
    }
   ],
   "source": [
    "crash.shape"
   ]
  },
  {
   "cell_type": "code",
   "execution_count": 57,
   "metadata": {},
   "outputs": [
    {
     "data": {
      "text/plain": [
       "Uncoded & Errors    66960\n",
       "No                   5986\n",
       "Yes                    31\n",
       "Name: D3DRINKIN, dtype: int64"
      ]
     },
     "execution_count": 57,
     "metadata": {},
     "output_type": "execute_result"
    }
   ],
   "source": [
    "crash['D3DRINKIN'].value_counts()"
   ]
  },
  {
   "cell_type": "markdown",
   "metadata": {},
   "source": [
    "Here, we create an `ALCOHOL_INVOLVED` column that captures if any of the drivers involved were drinking."
   ]
  },
  {
   "cell_type": "code",
   "execution_count": 58,
   "metadata": {},
   "outputs": [],
   "source": [
    "def label_alcohol_involved(row):\n",
    "    if row['D1DRINKIN'] == 'Yes':\n",
    "        return 'Yes'\n",
    "    elif row['D2DRINKIN'] == 'Yes':\n",
    "        return 'Yes'\n",
    "    elif row['D3DRINKIN'] == 'Yes':\n",
    "        return 'Yes'\n",
    "    else:\n",
    "        return 'No'\n",
    "    \n",
    "\n",
    "crash['ALCOHOL_INVOLVED'] = crash.apply(lambda row: label_alcohol_involved(row),axis=1) "
   ]
  },
  {
   "cell_type": "code",
   "execution_count": 59,
   "metadata": {},
   "outputs": [
    {
     "data": {
      "text/plain": [
       "No     69753\n",
       "Yes     3224\n",
       "Name: ALCOHOL_INVOLVED, dtype: int64"
      ]
     },
     "execution_count": 59,
     "metadata": {},
     "output_type": "execute_result"
    }
   ],
   "source": [
    "crash['ALCOHOL_INVOLVED'].value_counts()"
   ]
  },
  {
   "cell_type": "code",
   "execution_count": 60,
   "metadata": {},
   "outputs": [],
   "source": [
    "# Now drop all the 'DRINKIN' columns since 'ALCOHOL_INVOlVED' has taken its place\n",
    "crash = crash.drop(['D1DRINKIN', 'D2DRINKIN', 'D3DRINKIN'], axis=1)"
   ]
  },
  {
   "cell_type": "code",
   "execution_count": 61,
   "metadata": {},
   "outputs": [
    {
     "data": {
      "text/plain": [
       "'# drop all rows with missing age for driver 1\\nmissing_age1 = crash.DRIVER1AGE[crash.DRIVER1AGE > 100]\\ncrash = crash.drop(missing_age1.index, axis=0)'"
      ]
     },
     "execution_count": 61,
     "metadata": {},
     "output_type": "execute_result"
    }
   ],
   "source": [
    "'''# drop all rows with missing age for driver 1\n",
    "missing_age1 = crash.DRIVER1AGE[crash.DRIVER1AGE > 100]\n",
    "crash = crash.drop(missing_age1.index, axis=0)'''"
   ]
  },
  {
   "cell_type": "code",
   "execution_count": 62,
   "metadata": {},
   "outputs": [],
   "source": [
    "# possibly fit regressor to predict age?\n",
    "#imputer = Imputer(missing_values=999, strategy='median', axis=0)\n",
    "#crash['DRIVER1AGE'] = imputer.fit_transform(crash.DRIVER1AGE.values.reshape(-1,1))"
   ]
  },
  {
   "cell_type": "code",
   "execution_count": 63,
   "metadata": {},
   "outputs": [
    {
     "data": {
      "text/plain": [
       "(72977, 35)"
      ]
     },
     "execution_count": 63,
     "metadata": {},
     "output_type": "execute_result"
    }
   ],
   "source": [
    "crash.shape"
   ]
  },
  {
   "cell_type": "code",
   "execution_count": 64,
   "metadata": {},
   "outputs": [
    {
     "data": {
      "text/plain": [
       "No     69753\n",
       "Yes     3224\n",
       "Name: ALCOHOL_INVOLVED, dtype: int64"
      ]
     },
     "execution_count": 64,
     "metadata": {},
     "output_type": "execute_result"
    }
   ],
   "source": [
    "crash['ALCOHOL_INVOLVED'].value_counts()"
   ]
  },
  {
   "cell_type": "code",
   "execution_count": 65,
   "metadata": {},
   "outputs": [
    {
     "data": {
      "text/plain": [
       "No     57308\n",
       "Yes    15669\n",
       "Name: HITANDRUN, dtype: int64"
      ]
     },
     "execution_count": 65,
     "metadata": {},
     "output_type": "execute_result"
    }
   ],
   "source": [
    "crash['HITANDRUN'].value_counts()"
   ]
  },
  {
   "cell_type": "code",
   "execution_count": 66,
   "metadata": {},
   "outputs": [
    {
     "data": {
      "text/plain": [
       "<matplotlib.axes._subplots.AxesSubplot at 0x115e18080>"
      ]
     },
     "execution_count": 66,
     "metadata": {},
     "output_type": "execute_result"
    },
    {
     "data": {
      "image/png": "[encoded data removed]",
      "text/plain": [
       "<matplotlib.figure.Figure at 0x115e0d0f0>"
      ]
     },
     "metadata": {},
     "output_type": "display_data"
    }
   ],
   "source": [
    "sns.distplot(crash['DRIVER1AGE'])"
   ]
  },
  {
   "cell_type": "code",
   "execution_count": 67,
   "metadata": {},
   "outputs": [
    {
     "data": {
      "text/plain": [
       "M    35513\n",
       "F    30075\n",
       "U     7389\n",
       "Name: DRIVER1SEX, dtype: int64"
      ]
     },
     "execution_count": 67,
     "metadata": {},
     "output_type": "execute_result"
    }
   ],
   "source": [
    "crash['DRIVER1SEX'].value_counts()"
   ]
  },
  {
   "cell_type": "code",
   "execution_count": 68,
   "metadata": {},
   "outputs": [
    {
     "data": {
      "text/plain": [
       "'# drop all rows with missing sex for driver 1\\nmissing_sex1 = crash.DRIVER1SEX[crash.DRIVER1SEX == \"U\"]\\ncrash = crash.drop(missing_sex1.index, axis=0)'"
      ]
     },
     "execution_count": 68,
     "metadata": {},
     "output_type": "execute_result"
    }
   ],
   "source": [
    "# Realized that... it is very important NOT to drop the unknowns. Think about it... if it is a hit and run,\n",
    "# we probably wouldn't know the sex of the driver, right? Leave this as its own category.\n",
    "\n",
    "'''# drop all rows with missing sex for driver 1\n",
    "missing_sex1 = crash.DRIVER1SEX[crash.DRIVER1SEX == \"U\"]\n",
    "crash = crash.drop(missing_sex1.index, axis=0)'''"
   ]
  },
  {
   "cell_type": "code",
   "execution_count": 69,
   "metadata": {},
   "outputs": [
    {
     "data": {
      "text/plain": [
       "DRIVER1SEX  ALCOHOL_INVOLVED\n",
       "F           No                  29167\n",
       "            Yes                   908\n",
       "M           No                  33318\n",
       "            Yes                  2195\n",
       "U           No                   7268\n",
       "            Yes                   121\n",
       "Name: NUMOFVEHIC, dtype: int64"
      ]
     },
     "execution_count": 69,
     "metadata": {},
     "output_type": "execute_result"
    }
   ],
   "source": [
    "crash.groupby(['DRIVER1SEX', 'ALCOHOL_INVOLVED'])['NUMOFVEHIC'].count()"
   ]
  },
  {
   "cell_type": "code",
   "execution_count": 70,
   "metadata": {},
   "outputs": [
    {
     "data": {
      "text/plain": [
       "(72977, 35)"
      ]
     },
     "execution_count": 70,
     "metadata": {},
     "output_type": "execute_result"
    }
   ],
   "source": [
    "crash.shape"
   ]
  },
  {
   "cell_type": "code",
   "execution_count": 71,
   "metadata": {},
   "outputs": [
    {
     "data": {
      "text/plain": [
       "No     69753\n",
       "Yes     3224\n",
       "Name: ALCOHOL_INVOLVED, dtype: int64"
      ]
     },
     "execution_count": 71,
     "metadata": {},
     "output_type": "execute_result"
    }
   ],
   "source": [
    "crash['ALCOHOL_INVOLVED'].value_counts()"
   ]
  },
  {
   "cell_type": "code",
   "execution_count": 72,
   "metadata": {},
   "outputs": [
    {
     "data": {
      "text/plain": [
       "No     57308\n",
       "Yes    15669\n",
       "Name: HITANDRUN, dtype: int64"
      ]
     },
     "execution_count": 72,
     "metadata": {},
     "output_type": "execute_result"
    }
   ],
   "source": [
    "crash['HITANDRUN'].value_counts()"
   ]
  },
  {
   "cell_type": "code",
   "execution_count": 73,
   "metadata": {},
   "outputs": [
    {
     "data": {
      "text/plain": [
       "Index(['X', 'Y', 'BIKE', 'CRASHSEVER', 'CRASHTYPE', 'D1COND', 'DRIVER1AGE',\n",
       "       'DRIVER1SEX', 'EMRGVEH', 'GRTINJSEVE', 'HITANDRUN', 'HOUR', 'MONTH',\n",
       "       'MOTORCYCLE', 'NOATYPEINJ', 'NOBTYPEINJ', 'NOCTYPEINJ', 'NUMOFINJ',\n",
       "       'NUMOFOCCUP', 'NUMOFUNINJ', 'NUMOFVEHIC', 'SPDLMTPOST', 'SPEEDLIMIT',\n",
       "       'SURFCOND', 'TRAFCTLDEV', 'TRUCKBUS', 'V1DAMAGE', 'VEH1DIR', 'VEH1TYPE',\n",
       "       'VEH1USE', 'WEATHER', 'WHEREONRD', 'RDNUMLANES', 'RDWIDTH',\n",
       "       'ALCOHOL_INVOLVED'],\n",
       "      dtype='object')"
      ]
     },
     "execution_count": 73,
     "metadata": {},
     "output_type": "execute_result"
    }
   ],
   "source": [
    "crash.columns"
   ]
  },
  {
   "cell_type": "code",
   "execution_count": 74,
   "metadata": {},
   "outputs": [
    {
     "data": {
      "text/plain": [
       "No     72051\n",
       "Yes      926\n",
       "Name: BIKE, dtype: int64"
      ]
     },
     "execution_count": 74,
     "metadata": {},
     "output_type": "execute_result"
    }
   ],
   "source": [
    "crash['BIKE'].value_counts()"
   ]
  },
  {
   "cell_type": "code",
   "execution_count": 75,
   "metadata": {},
   "outputs": [
    {
     "data": {
      "text/plain": [
       "BIKE  ALCOHOL_INVOLVED\n",
       "No    No                  68881\n",
       "      Yes                  3170\n",
       "Yes   No                    872\n",
       "      Yes                    54\n",
       "Name: NUMOFVEHIC, dtype: int64"
      ]
     },
     "execution_count": 75,
     "metadata": {},
     "output_type": "execute_result"
    }
   ],
   "source": [
    "crash.groupby(['BIKE', 'ALCOHOL_INVOLVED'])['NUMOFVEHIC'].count()"
   ]
  },
  {
   "cell_type": "code",
   "execution_count": 76,
   "metadata": {},
   "outputs": [
    {
     "data": {
      "text/plain": [
       "CRASHSEVER            ALCOHOL_INVOLVED\n",
       "Fatal                 No                     52\n",
       "                      Yes                    43\n",
       "Injury                No                  12370\n",
       "                      Yes                  1059\n",
       "Property Damage Only  No                  57331\n",
       "                      Yes                  2122\n",
       "Name: NUMOFVEHIC, dtype: int64"
      ]
     },
     "execution_count": 76,
     "metadata": {},
     "output_type": "execute_result"
    }
   ],
   "source": [
    "crash.groupby(['CRASHSEVER', 'ALCOHOL_INVOLVED'])['NUMOFVEHIC'].count()\n",
    "# Fatal injuries significantly more likely to be caused by alcohol"
   ]
  },
  {
   "cell_type": "code",
   "execution_count": 77,
   "metadata": {},
   "outputs": [
    {
     "data": {
      "text/plain": [
       "DRIVER1SEX  ALCOHOL_INVOLVED\n",
       "F           No                  29167\n",
       "            Yes                   908\n",
       "M           No                  33318\n",
       "            Yes                  2195\n",
       "U           No                   7268\n",
       "            Yes                   121\n",
       "Name: NUMOFVEHIC, dtype: int64"
      ]
     },
     "execution_count": 77,
     "metadata": {},
     "output_type": "execute_result"
    }
   ],
   "source": [
    "crash.groupby(['DRIVER1SEX', 'ALCOHOL_INVOLVED'])['NUMOFVEHIC'].count()\n",
    "# Male car crashes are nearly twice as likely to have alcohol involed as female crashes"
   ]
  },
  {
   "cell_type": "code",
   "execution_count": 78,
   "metadata": {},
   "outputs": [
    {
     "data": {
      "text/plain": [
       "EMRGVEH  ALCOHOL_INVOLVED\n",
       "No       No                  69289\n",
       "         Yes                  3168\n",
       "Yes      No                    464\n",
       "         Yes                    56\n",
       "Name: NUMOFVEHIC, dtype: int64"
      ]
     },
     "execution_count": 78,
     "metadata": {},
     "output_type": "execute_result"
    }
   ],
   "source": [
    "crash.groupby(['EMRGVEH', 'ALCOHOL_INVOLVED'])['NUMOFVEHIC'].count()\n",
    "# Emergency vehicle twice as likely with alcohol"
   ]
  },
  {
   "cell_type": "code",
   "execution_count": 79,
   "metadata": {},
   "outputs": [
    {
     "data": {
      "text/plain": [
       "HITANDRUN  ALCOHOL_INVOLVED\n",
       "No         No                  55059\n",
       "           Yes                  2249\n",
       "Yes        No                  14694\n",
       "           Yes                   975\n",
       "Name: NUMOFVEHIC, dtype: int64"
      ]
     },
     "execution_count": 79,
     "metadata": {},
     "output_type": "execute_result"
    }
   ],
   "source": [
    "crash.groupby(['HITANDRUN', 'ALCOHOL_INVOLVED'])['NUMOFVEHIC'].count()\n",
    "# Hit and runs almost 3x more likely while drinking"
   ]
  },
  {
   "cell_type": "code",
   "execution_count": 80,
   "metadata": {},
   "outputs": [
    {
     "data": {
      "text/plain": [
       "MOTORCYCLE  ALCOHOL_INVOLVED\n",
       "No          No                  69127\n",
       "            Yes                  3153\n",
       "Yes         No                    626\n",
       "            Yes                    71\n",
       "Name: NUMOFVEHIC, dtype: int64"
      ]
     },
     "execution_count": 80,
     "metadata": {},
     "output_type": "execute_result"
    }
   ],
   "source": [
    "crash.groupby(['MOTORCYCLE', 'ALCOHOL_INVOLVED'])['NUMOFVEHIC'].count()"
   ]
  },
  {
   "cell_type": "code",
   "execution_count": 81,
   "metadata": {},
   "outputs": [
    {
     "data": {
      "text/plain": [
       "NUMOFINJ  ALCOHOL_INVOLVED\n",
       "0         No                  57373\n",
       "          Yes                  2153\n",
       "1         No                   9872\n",
       "          Yes                   850\n",
       "2         No                   1920\n",
       "          Yes                   148\n",
       "3         No                    435\n",
       "          Yes                    53\n",
       "4         No                    106\n",
       "          Yes                    15\n",
       "5         No                     33\n",
       "          Yes                     3\n",
       "6         No                      7\n",
       "          Yes                     1\n",
       "7         No                      3\n",
       "          Yes                     1\n",
       "8         No                      1\n",
       "10        No                      3\n",
       "Name: NUMOFVEHIC, dtype: int64"
      ]
     },
     "execution_count": 81,
     "metadata": {},
     "output_type": "execute_result"
    }
   ],
   "source": [
    "crash.groupby(['NUMOFINJ', 'ALCOHOL_INVOLVED'])['NUMOFVEHIC'].count()"
   ]
  },
  {
   "cell_type": "code",
   "execution_count": 82,
   "metadata": {},
   "outputs": [
    {
     "data": {
      "text/plain": [
       "SPEEDLIMIT_BINS  ALCOHOL_INVOLVED\n",
       "speed<25         No                  28435\n",
       "                 Yes                  1692\n",
       "25<speed<45      No                  25533\n",
       "                 Yes                   947\n",
       "45<speed<65      No                   7094\n",
       "                 Yes                   235\n",
       "65<speed         No                   8678\n",
       "                 Yes                   347\n",
       "Name: NUMOFVEHIC, dtype: int64"
      ]
     },
     "execution_count": 82,
     "metadata": {},
     "output_type": "execute_result"
    }
   ],
   "source": [
    "bins = [0, 25, 45, 65, 100]\n",
    "labels = ['speed<25', '25<speed<45', '45<speed<65', '65<speed']\n",
    "crash['SPEEDLIMIT_BINS'] = pd.cut(crash['SPEEDLIMIT'], bins=bins, labels=labels)\n",
    "\n",
    "crash.groupby(['SPEEDLIMIT_BINS', 'ALCOHOL_INVOLVED'])['NUMOFVEHIC'].count()\n"
   ]
  },
  {
   "cell_type": "code",
   "execution_count": 83,
   "metadata": {},
   "outputs": [
    {
     "data": {
      "text/plain": [
       "speed<25       30127\n",
       "25<speed<45    26480\n",
       "65<speed        9025\n",
       "45<speed<65     7329\n",
       "Name: SPEEDLIMIT_BINS, dtype: int64"
      ]
     },
     "execution_count": 83,
     "metadata": {},
     "output_type": "execute_result"
    }
   ],
   "source": [
    "crash['SPEEDLIMIT_BINS'].value_counts()"
   ]
  },
  {
   "cell_type": "markdown",
   "metadata": {},
   "source": [
    "---"
   ]
  },
  {
   "cell_type": "code",
   "execution_count": 84,
   "metadata": {},
   "outputs": [],
   "source": [
    "X = crash[['X', 'Y', 'CRASHSEVER', 'DRIVER1AGE',\n",
    "       'DRIVER1SEX', 'EMRGVEH', 'HITANDRUN', 'HOUR',\n",
    "          'MOTORCYCLE', 'NUMOFINJ', 'D1COND', 'ALCOHOL_INVOLVED']]\n",
    "#y = crash['D1DRINKIN']"
   ]
  },
  {
   "cell_type": "code",
   "execution_count": 85,
   "metadata": {},
   "outputs": [
    {
     "data": {
      "text/plain": [
       "(72977, 12)"
      ]
     },
     "execution_count": 85,
     "metadata": {},
     "output_type": "execute_result"
    }
   ],
   "source": [
    "X.shape"
   ]
  },
  {
   "cell_type": "code",
   "execution_count": 86,
   "metadata": {},
   "outputs": [
    {
     "data": {
      "text/html": [
       "<div>\n",
       "<style>\n",
       "    .dataframe thead tr:only-child th {\n",
       "        text-align: right;\n",
       "    }\n",
       "\n",
       "    .dataframe thead th {\n",
       "        text-align: left;\n",
       "    }\n",
       "\n",
       "    .dataframe tbody tr th {\n",
       "        vertical-align: top;\n",
       "    }\n",
       "</style>\n",
       "<table border=\"1\" class=\"dataframe\">\n",
       "  <thead>\n",
       "    <tr style=\"text-align: right;\">\n",
       "      <th></th>\n",
       "      <th>X</th>\n",
       "      <th>Y</th>\n",
       "      <th>CRASHSEVER</th>\n",
       "      <th>DRIVER1AGE</th>\n",
       "      <th>DRIVER1SEX</th>\n",
       "      <th>EMRGVEH</th>\n",
       "      <th>HITANDRUN</th>\n",
       "      <th>HOUR</th>\n",
       "      <th>MOTORCYCLE</th>\n",
       "      <th>NUMOFINJ</th>\n",
       "      <th>D1COND</th>\n",
       "      <th>ALCOHOL_INVOLVED</th>\n",
       "    </tr>\n",
       "  </thead>\n",
       "  <tbody>\n",
       "    <tr>\n",
       "      <th>0</th>\n",
       "      <td>-85.639647</td>\n",
       "      <td>42.927216</td>\n",
       "      <td>Property Damage Only</td>\n",
       "      <td>62</td>\n",
       "      <td>F</td>\n",
       "      <td>No</td>\n",
       "      <td>Yes</td>\n",
       "      <td>13</td>\n",
       "      <td>No</td>\n",
       "      <td>0</td>\n",
       "      <td>Appeared Normal</td>\n",
       "      <td>No</td>\n",
       "    </tr>\n",
       "    <tr>\n",
       "      <th>1</th>\n",
       "      <td>-85.639487</td>\n",
       "      <td>42.927213</td>\n",
       "      <td>Property Damage Only</td>\n",
       "      <td>31</td>\n",
       "      <td>M</td>\n",
       "      <td>No</td>\n",
       "      <td>Yes</td>\n",
       "      <td>18</td>\n",
       "      <td>No</td>\n",
       "      <td>0</td>\n",
       "      <td>Unknown</td>\n",
       "      <td>No</td>\n",
       "    </tr>\n",
       "    <tr>\n",
       "      <th>2</th>\n",
       "      <td>-85.639387</td>\n",
       "      <td>42.927212</td>\n",
       "      <td>Property Damage Only</td>\n",
       "      <td>22</td>\n",
       "      <td>F</td>\n",
       "      <td>No</td>\n",
       "      <td>No</td>\n",
       "      <td>8</td>\n",
       "      <td>No</td>\n",
       "      <td>0</td>\n",
       "      <td>Appeared Normal</td>\n",
       "      <td>No</td>\n",
       "    </tr>\n",
       "    <tr>\n",
       "      <th>3</th>\n",
       "      <td>-85.639288</td>\n",
       "      <td>42.927210</td>\n",
       "      <td>Property Damage Only</td>\n",
       "      <td>30</td>\n",
       "      <td>M</td>\n",
       "      <td>No</td>\n",
       "      <td>Yes</td>\n",
       "      <td>16</td>\n",
       "      <td>No</td>\n",
       "      <td>0</td>\n",
       "      <td>Appeared Normal</td>\n",
       "      <td>No</td>\n",
       "    </tr>\n",
       "    <tr>\n",
       "      <th>4</th>\n",
       "      <td>-85.639288</td>\n",
       "      <td>42.927210</td>\n",
       "      <td>Property Damage Only</td>\n",
       "      <td>44</td>\n",
       "      <td>M</td>\n",
       "      <td>No</td>\n",
       "      <td>No</td>\n",
       "      <td>15</td>\n",
       "      <td>No</td>\n",
       "      <td>0</td>\n",
       "      <td>Appeared Normal</td>\n",
       "      <td>No</td>\n",
       "    </tr>\n",
       "  </tbody>\n",
       "</table>\n",
       "</div>"
      ],
      "text/plain": [
       "           X          Y            CRASHSEVER  DRIVER1AGE DRIVER1SEX EMRGVEH  \\\n",
       "0 -85.639647  42.927216  Property Damage Only          62          F      No   \n",
       "1 -85.639487  42.927213  Property Damage Only          31          M      No   \n",
       "2 -85.639387  42.927212  Property Damage Only          22          F      No   \n",
       "3 -85.639288  42.927210  Property Damage Only          30          M      No   \n",
       "4 -85.639288  42.927210  Property Damage Only          44          M      No   \n",
       "\n",
       "  HITANDRUN  HOUR MOTORCYCLE  NUMOFINJ           D1COND ALCOHOL_INVOLVED  \n",
       "0       Yes    13         No         0  Appeared Normal               No  \n",
       "1       Yes    18         No         0          Unknown               No  \n",
       "2        No     8         No         0  Appeared Normal               No  \n",
       "3       Yes    16         No         0  Appeared Normal               No  \n",
       "4        No    15         No         0  Appeared Normal               No  "
      ]
     },
     "execution_count": 86,
     "metadata": {},
     "output_type": "execute_result"
    }
   ],
   "source": [
    "X.head()"
   ]
  },
  {
   "cell_type": "code",
   "execution_count": 87,
   "metadata": {},
   "outputs": [
    {
     "data": {
      "text/plain": [
       "<matplotlib.collections.PathCollection at 0x1a2570a4e0>"
      ]
     },
     "execution_count": 87,
     "metadata": {},
     "output_type": "execute_result"
    },
    {
     "data": {
      "image/png": "[encoded data removed]",
      "text/plain": [
       "<matplotlib.figure.Figure at 0x1a2571b828>"
      ]
     },
     "metadata": {},
     "output_type": "display_data"
    }
   ],
   "source": [
    "plt.scatter(X.X, X.Y, s=1)"
   ]
  },
  {
   "cell_type": "code",
   "execution_count": null,
   "metadata": {},
   "outputs": [],
   "source": []
  },
  {
   "cell_type": "markdown",
   "metadata": {},
   "source": [
    "---"
   ]
  },
  {
   "cell_type": "markdown",
   "metadata": {},
   "source": [
    "#### Scaling"
   ]
  },
  {
   "cell_type": "code",
   "execution_count": 88,
   "metadata": {},
   "outputs": [],
   "source": [
    "X = X.dropna()"
   ]
  },
  {
   "cell_type": "code",
   "execution_count": 89,
   "metadata": {},
   "outputs": [
    {
     "data": {
      "text/plain": [
       "No     69753\n",
       "Yes     3224\n",
       "Name: ALCOHOL_INVOLVED, dtype: int64"
      ]
     },
     "execution_count": 89,
     "metadata": {},
     "output_type": "execute_result"
    }
   ],
   "source": [
    "X['ALCOHOL_INVOLVED'].value_counts()"
   ]
  },
  {
   "cell_type": "code",
   "execution_count": 90,
   "metadata": {},
   "outputs": [
    {
     "data": {
      "text/plain": [
       "(72977, 12)"
      ]
     },
     "execution_count": 90,
     "metadata": {},
     "output_type": "execute_result"
    }
   ],
   "source": [
    "X.shape"
   ]
  },
  {
   "cell_type": "code",
   "execution_count": 91,
   "metadata": {},
   "outputs": [],
   "source": [
    "X['HOUR_X']=np.sin(2. * np.pi * X.HOUR / 24.)\n",
    "X['HOUR_Y']=np.cos(2. * np.pi * X.HOUR / 24.)"
   ]
  },
  {
   "cell_type": "code",
   "execution_count": 92,
   "metadata": {},
   "outputs": [
    {
     "data": {
      "text/plain": [
       "<matplotlib.collections.PathCollection at 0x1a256304a8>"
      ]
     },
     "execution_count": 92,
     "metadata": {},
     "output_type": "execute_result"
    },
    {
     "data": {
      "image/png": "[encoded data removed]",
      "text/plain": [
       "<matplotlib.figure.Figure at 0x1a2577e1d0>"
      ]
     },
     "metadata": {},
     "output_type": "display_data"
    }
   ],
   "source": [
    "# Hence, the time of day is now cyclic (just as in reality)\n",
    "plt.scatter(X.HOUR_X, X.HOUR_Y)"
   ]
  },
  {
   "cell_type": "code",
   "execution_count": 93,
   "metadata": {},
   "outputs": [],
   "source": [
    "# Now that we have our two 'HOUR_X' and 'HOUR_Y' coords, we drop the original \"HOUR\" feature\n",
    "X = X.drop(['HOUR'], axis=1)"
   ]
  },
  {
   "cell_type": "code",
   "execution_count": 94,
   "metadata": {},
   "outputs": [
    {
     "data": {
      "text/plain": [
       "Index(['X', 'Y', 'CRASHSEVER', 'DRIVER1AGE', 'DRIVER1SEX', 'EMRGVEH',\n",
       "       'HITANDRUN', 'MOTORCYCLE', 'NUMOFINJ', 'D1COND', 'ALCOHOL_INVOLVED',\n",
       "       'HOUR_X', 'HOUR_Y'],\n",
       "      dtype='object')"
      ]
     },
     "execution_count": 94,
     "metadata": {},
     "output_type": "execute_result"
    }
   ],
   "source": [
    "X.columns"
   ]
  },
  {
   "cell_type": "markdown",
   "metadata": {},
   "source": [
    "## Fitting a regressor to impute missing ages"
   ]
  },
  {
   "cell_type": "code",
   "execution_count": 243,
   "metadata": {},
   "outputs": [],
   "source": [
    "temp_y = X['DRIVER1AGE']\n",
    "temp_x = X.drop('DRIVER1AGE', axis=1)"
   ]
  },
  {
   "cell_type": "code",
   "execution_count": 249,
   "metadata": {},
   "outputs": [],
   "source": [
    "temp_y_dropped = temp_y.drop(temp_y[temp_y==999].index)"
   ]
  },
  {
   "cell_type": "code",
   "execution_count": 252,
   "metadata": {},
   "outputs": [
    {
     "data": {
      "text/plain": [
       "63998"
      ]
     },
     "execution_count": 252,
     "metadata": {},
     "output_type": "execute_result"
    }
   ],
   "source": [
    "len(temp_y_dropped)"
   ]
  },
  {
   "cell_type": "markdown",
   "metadata": {},
   "source": [
    "#### Encoding"
   ]
  },
  {
   "cell_type": "code",
   "execution_count": 95,
   "metadata": {},
   "outputs": [],
   "source": [
    "y = X['ALCOHOL_INVOLVED']"
   ]
  },
  {
   "cell_type": "code",
   "execution_count": 96,
   "metadata": {},
   "outputs": [],
   "source": [
    "X = X.drop(['ALCOHOL_INVOLVED'], axis=1)"
   ]
  },
  {
   "cell_type": "code",
   "execution_count": 97,
   "metadata": {},
   "outputs": [
    {
     "data": {
      "text/plain": [
       "array([0, 0, 0, ..., 0, 0, 0])"
      ]
     },
     "execution_count": 97,
     "metadata": {},
     "output_type": "execute_result"
    }
   ],
   "source": [
    "lbl = LabelEncoder()\n",
    "y = lbl.fit_transform(y)\n",
    "y"
   ]
  },
  {
   "cell_type": "code",
   "execution_count": 98,
   "metadata": {},
   "outputs": [],
   "source": [
    "dummies = pd.get_dummies(X[['CRASHSEVER', 'DRIVER1SEX',\n",
    "                            'EMRGVEH', 'HITANDRUN',\n",
    "                            'MOTORCYCLE', 'D1COND']])"
   ]
  },
  {
   "cell_type": "code",
   "execution_count": 99,
   "metadata": {},
   "outputs": [
    {
     "data": {
      "text/html": [
       "<div>\n",
       "<style>\n",
       "    .dataframe thead tr:only-child th {\n",
       "        text-align: right;\n",
       "    }\n",
       "\n",
       "    .dataframe thead th {\n",
       "        text-align: left;\n",
       "    }\n",
       "\n",
       "    .dataframe tbody tr th {\n",
       "        vertical-align: top;\n",
       "    }\n",
       "</style>\n",
       "<table border=\"1\" class=\"dataframe\">\n",
       "  <thead>\n",
       "    <tr style=\"text-align: right;\">\n",
       "      <th></th>\n",
       "      <th>CRASHSEVER_Fatal</th>\n",
       "      <th>CRASHSEVER_Injury</th>\n",
       "      <th>CRASHSEVER_Property Damage Only</th>\n",
       "      <th>DRIVER1SEX_F</th>\n",
       "      <th>DRIVER1SEX_M</th>\n",
       "      <th>DRIVER1SEX_U</th>\n",
       "      <th>EMRGVEH_No</th>\n",
       "      <th>EMRGVEH_Yes</th>\n",
       "      <th>HITANDRUN_No</th>\n",
       "      <th>HITANDRUN_Yes</th>\n",
       "      <th>MOTORCYCLE_No</th>\n",
       "      <th>MOTORCYCLE_Yes</th>\n",
       "      <th>D1COND_Appeared Normal</th>\n",
       "      <th>D1COND_Fatigue / Sick</th>\n",
       "      <th>D1COND_Unknown</th>\n",
       "    </tr>\n",
       "  </thead>\n",
       "  <tbody>\n",
       "    <tr>\n",
       "      <th>0</th>\n",
       "      <td>0</td>\n",
       "      <td>0</td>\n",
       "      <td>1</td>\n",
       "      <td>1</td>\n",
       "      <td>0</td>\n",
       "      <td>0</td>\n",
       "      <td>1</td>\n",
       "      <td>0</td>\n",
       "      <td>0</td>\n",
       "      <td>1</td>\n",
       "      <td>1</td>\n",
       "      <td>0</td>\n",
       "      <td>1</td>\n",
       "      <td>0</td>\n",
       "      <td>0</td>\n",
       "    </tr>\n",
       "    <tr>\n",
       "      <th>1</th>\n",
       "      <td>0</td>\n",
       "      <td>0</td>\n",
       "      <td>1</td>\n",
       "      <td>0</td>\n",
       "      <td>1</td>\n",
       "      <td>0</td>\n",
       "      <td>1</td>\n",
       "      <td>0</td>\n",
       "      <td>0</td>\n",
       "      <td>1</td>\n",
       "      <td>1</td>\n",
       "      <td>0</td>\n",
       "      <td>0</td>\n",
       "      <td>0</td>\n",
       "      <td>1</td>\n",
       "    </tr>\n",
       "    <tr>\n",
       "      <th>2</th>\n",
       "      <td>0</td>\n",
       "      <td>0</td>\n",
       "      <td>1</td>\n",
       "      <td>1</td>\n",
       "      <td>0</td>\n",
       "      <td>0</td>\n",
       "      <td>1</td>\n",
       "      <td>0</td>\n",
       "      <td>1</td>\n",
       "      <td>0</td>\n",
       "      <td>1</td>\n",
       "      <td>0</td>\n",
       "      <td>1</td>\n",
       "      <td>0</td>\n",
       "      <td>0</td>\n",
       "    </tr>\n",
       "    <tr>\n",
       "      <th>3</th>\n",
       "      <td>0</td>\n",
       "      <td>0</td>\n",
       "      <td>1</td>\n",
       "      <td>0</td>\n",
       "      <td>1</td>\n",
       "      <td>0</td>\n",
       "      <td>1</td>\n",
       "      <td>0</td>\n",
       "      <td>0</td>\n",
       "      <td>1</td>\n",
       "      <td>1</td>\n",
       "      <td>0</td>\n",
       "      <td>1</td>\n",
       "      <td>0</td>\n",
       "      <td>0</td>\n",
       "    </tr>\n",
       "    <tr>\n",
       "      <th>4</th>\n",
       "      <td>0</td>\n",
       "      <td>0</td>\n",
       "      <td>1</td>\n",
       "      <td>0</td>\n",
       "      <td>1</td>\n",
       "      <td>0</td>\n",
       "      <td>1</td>\n",
       "      <td>0</td>\n",
       "      <td>1</td>\n",
       "      <td>0</td>\n",
       "      <td>1</td>\n",
       "      <td>0</td>\n",
       "      <td>1</td>\n",
       "      <td>0</td>\n",
       "      <td>0</td>\n",
       "    </tr>\n",
       "  </tbody>\n",
       "</table>\n",
       "</div>"
      ],
      "text/plain": [
       "   CRASHSEVER_Fatal  CRASHSEVER_Injury  CRASHSEVER_Property Damage Only  \\\n",
       "0                 0                  0                                1   \n",
       "1                 0                  0                                1   \n",
       "2                 0                  0                                1   \n",
       "3                 0                  0                                1   \n",
       "4                 0                  0                                1   \n",
       "\n",
       "   DRIVER1SEX_F  DRIVER1SEX_M  DRIVER1SEX_U  EMRGVEH_No  EMRGVEH_Yes  \\\n",
       "0             1             0             0           1            0   \n",
       "1             0             1             0           1            0   \n",
       "2             1             0             0           1            0   \n",
       "3             0             1             0           1            0   \n",
       "4             0             1             0           1            0   \n",
       "\n",
       "   HITANDRUN_No  HITANDRUN_Yes  MOTORCYCLE_No  MOTORCYCLE_Yes  \\\n",
       "0             0              1              1               0   \n",
       "1             0              1              1               0   \n",
       "2             1              0              1               0   \n",
       "3             0              1              1               0   \n",
       "4             1              0              1               0   \n",
       "\n",
       "   D1COND_Appeared Normal  D1COND_Fatigue / Sick  D1COND_Unknown  \n",
       "0                       1                      0               0  \n",
       "1                       0                      0               1  \n",
       "2                       1                      0               0  \n",
       "3                       1                      0               0  \n",
       "4                       1                      0               0  "
      ]
     },
     "execution_count": 99,
     "metadata": {},
     "output_type": "execute_result"
    }
   ],
   "source": [
    "dummies.head()"
   ]
  },
  {
   "cell_type": "code",
   "execution_count": null,
   "metadata": {},
   "outputs": [],
   "source": []
  },
  {
   "cell_type": "markdown",
   "metadata": {},
   "source": [
    "---"
   ]
  },
  {
   "cell_type": "code",
   "execution_count": 100,
   "metadata": {},
   "outputs": [
    {
     "name": "stdout",
     "output_type": "stream",
     "text": [
      "<class 'pandas.core.frame.DataFrame'>\n",
      "Int64Index: 72977 entries, 0 to 72976\n",
      "Data columns (total 21 columns):\n",
      "X                                  72977 non-null float64\n",
      "Y                                  72977 non-null float64\n",
      "DRIVER1AGE                         72977 non-null int64\n",
      "NUMOFINJ                           72977 non-null int64\n",
      "HOUR_X                             72977 non-null float64\n",
      "HOUR_Y                             72977 non-null float64\n",
      "CRASHSEVER_Fatal                   72977 non-null uint8\n",
      "CRASHSEVER_Injury                  72977 non-null uint8\n",
      "CRASHSEVER_Property Damage Only    72977 non-null uint8\n",
      "DRIVER1SEX_F                       72977 non-null uint8\n",
      "DRIVER1SEX_M                       72977 non-null uint8\n",
      "DRIVER1SEX_U                       72977 non-null uint8\n",
      "EMRGVEH_No                         72977 non-null uint8\n",
      "EMRGVEH_Yes                        72977 non-null uint8\n",
      "HITANDRUN_No                       72977 non-null uint8\n",
      "HITANDRUN_Yes                      72977 non-null uint8\n",
      "MOTORCYCLE_No                      72977 non-null uint8\n",
      "MOTORCYCLE_Yes                     72977 non-null uint8\n",
      "D1COND_Appeared Normal             72977 non-null uint8\n",
      "D1COND_Fatigue / Sick              72977 non-null uint8\n",
      "D1COND_Unknown                     72977 non-null uint8\n",
      "dtypes: float64(4), int64(2), uint8(15)\n",
      "memory usage: 7.4 MB\n"
     ]
    }
   ],
   "source": [
    "# Drop the column with target variable (HITANDRUN) and the columns for which we created dummy variables\n",
    "X_ = X.drop(['CRASHSEVER', 'DRIVER1SEX', 'HITANDRUN',\n",
    "                            'EMRGVEH', 'D1COND', \n",
    "                            'MOTORCYCLE'], axis=1)\n",
    "# Define the feature set X.\n",
    "X = pd.concat([X_, dummies], axis=1)\n",
    "X.info()"
   ]
  },
  {
   "cell_type": "code",
   "execution_count": 101,
   "metadata": {},
   "outputs": [
    {
     "name": "stdout",
     "output_type": "stream",
     "text": [
      "<class 'pandas.core.frame.DataFrame'>\n",
      "Int64Index: 72977 entries, 0 to 72976\n",
      "Data columns (total 15 columns):\n",
      "X                         72977 non-null float64\n",
      "Y                         72977 non-null float64\n",
      "DRIVER1AGE                72977 non-null int64\n",
      "NUMOFINJ                  72977 non-null int64\n",
      "HOUR_X                    72977 non-null float64\n",
      "HOUR_Y                    72977 non-null float64\n",
      "CRASHSEVER_Fatal          72977 non-null uint8\n",
      "CRASHSEVER_Injury         72977 non-null uint8\n",
      "DRIVER1SEX_M              72977 non-null uint8\n",
      "DRIVER1SEX_U              72977 non-null uint8\n",
      "EMRGVEH_Yes               72977 non-null uint8\n",
      "HITANDRUN_Yes             72977 non-null uint8\n",
      "MOTORCYCLE_Yes            72977 non-null uint8\n",
      "D1COND_Appeared Normal    72977 non-null uint8\n",
      "D1COND_Fatigue / Sick     72977 non-null uint8\n",
      "dtypes: float64(4), int64(2), uint8(9)\n",
      "memory usage: 7.0 MB\n"
     ]
    }
   ],
   "source": [
    "X = X.drop(['DRIVER1SEX_F', 'EMRGVEH_No', 'D1COND_Unknown', 'MOTORCYCLE_No', 'CRASHSEVER_Property Damage Only', 'HITANDRUN_No' ], axis=1)\n",
    "X.info()"
   ]
  },
  {
   "cell_type": "markdown",
   "metadata": {},
   "source": [
    "# Fit regressor to impute missing ages"
   ]
  },
  {
   "cell_type": "markdown",
   "metadata": {},
   "source": [
    "# Fix This!"
   ]
  },
  {
   "cell_type": "code",
   "execution_count": 138,
   "metadata": {},
   "outputs": [],
   "source": [
    "temp_df = X\n",
    "temp_df['ALCOHOL_INVOLED'] = y"
   ]
  },
  {
   "cell_type": "code",
   "execution_count": 139,
   "metadata": {},
   "outputs": [
    {
     "data": {
      "text/html": [
       "<div>\n",
       "<style>\n",
       "    .dataframe thead tr:only-child th {\n",
       "        text-align: right;\n",
       "    }\n",
       "\n",
       "    .dataframe thead th {\n",
       "        text-align: left;\n",
       "    }\n",
       "\n",
       "    .dataframe tbody tr th {\n",
       "        vertical-align: top;\n",
       "    }\n",
       "</style>\n",
       "<table border=\"1\" class=\"dataframe\">\n",
       "  <thead>\n",
       "    <tr style=\"text-align: right;\">\n",
       "      <th></th>\n",
       "      <th>X</th>\n",
       "      <th>Y</th>\n",
       "      <th>DRIVER1AGE</th>\n",
       "      <th>NUMOFINJ</th>\n",
       "      <th>HOUR_X</th>\n",
       "      <th>HOUR_Y</th>\n",
       "      <th>CRASHSEVER_Fatal</th>\n",
       "      <th>CRASHSEVER_Injury</th>\n",
       "      <th>DRIVER1SEX_M</th>\n",
       "      <th>DRIVER1SEX_U</th>\n",
       "      <th>EMRGVEH_Yes</th>\n",
       "      <th>HITANDRUN_Yes</th>\n",
       "      <th>MOTORCYCLE_Yes</th>\n",
       "      <th>D1COND_Appeared Normal</th>\n",
       "      <th>D1COND_Fatigue / Sick</th>\n",
       "      <th>ALCOHOL_INVOLED</th>\n",
       "    </tr>\n",
       "  </thead>\n",
       "  <tbody>\n",
       "    <tr>\n",
       "      <th>0</th>\n",
       "      <td>-85.639647</td>\n",
       "      <td>42.927216</td>\n",
       "      <td>62</td>\n",
       "      <td>0</td>\n",
       "      <td>-0.258819</td>\n",
       "      <td>-9.659258e-01</td>\n",
       "      <td>0</td>\n",
       "      <td>0</td>\n",
       "      <td>0</td>\n",
       "      <td>0</td>\n",
       "      <td>0</td>\n",
       "      <td>1</td>\n",
       "      <td>0</td>\n",
       "      <td>1</td>\n",
       "      <td>0</td>\n",
       "      <td>0</td>\n",
       "    </tr>\n",
       "    <tr>\n",
       "      <th>1</th>\n",
       "      <td>-85.639487</td>\n",
       "      <td>42.927213</td>\n",
       "      <td>31</td>\n",
       "      <td>0</td>\n",
       "      <td>-1.000000</td>\n",
       "      <td>-1.836970e-16</td>\n",
       "      <td>0</td>\n",
       "      <td>0</td>\n",
       "      <td>1</td>\n",
       "      <td>0</td>\n",
       "      <td>0</td>\n",
       "      <td>1</td>\n",
       "      <td>0</td>\n",
       "      <td>0</td>\n",
       "      <td>0</td>\n",
       "      <td>0</td>\n",
       "    </tr>\n",
       "    <tr>\n",
       "      <th>2</th>\n",
       "      <td>-85.639387</td>\n",
       "      <td>42.927212</td>\n",
       "      <td>22</td>\n",
       "      <td>0</td>\n",
       "      <td>0.866025</td>\n",
       "      <td>-5.000000e-01</td>\n",
       "      <td>0</td>\n",
       "      <td>0</td>\n",
       "      <td>0</td>\n",
       "      <td>0</td>\n",
       "      <td>0</td>\n",
       "      <td>0</td>\n",
       "      <td>0</td>\n",
       "      <td>1</td>\n",
       "      <td>0</td>\n",
       "      <td>0</td>\n",
       "    </tr>\n",
       "    <tr>\n",
       "      <th>3</th>\n",
       "      <td>-85.639288</td>\n",
       "      <td>42.927210</td>\n",
       "      <td>30</td>\n",
       "      <td>0</td>\n",
       "      <td>-0.866025</td>\n",
       "      <td>-5.000000e-01</td>\n",
       "      <td>0</td>\n",
       "      <td>0</td>\n",
       "      <td>1</td>\n",
       "      <td>0</td>\n",
       "      <td>0</td>\n",
       "      <td>1</td>\n",
       "      <td>0</td>\n",
       "      <td>1</td>\n",
       "      <td>0</td>\n",
       "      <td>0</td>\n",
       "    </tr>\n",
       "    <tr>\n",
       "      <th>4</th>\n",
       "      <td>-85.639288</td>\n",
       "      <td>42.927210</td>\n",
       "      <td>44</td>\n",
       "      <td>0</td>\n",
       "      <td>-0.707107</td>\n",
       "      <td>-7.071068e-01</td>\n",
       "      <td>0</td>\n",
       "      <td>0</td>\n",
       "      <td>1</td>\n",
       "      <td>0</td>\n",
       "      <td>0</td>\n",
       "      <td>0</td>\n",
       "      <td>0</td>\n",
       "      <td>1</td>\n",
       "      <td>0</td>\n",
       "      <td>0</td>\n",
       "    </tr>\n",
       "  </tbody>\n",
       "</table>\n",
       "</div>"
      ],
      "text/plain": [
       "           X          Y  DRIVER1AGE  NUMOFINJ    HOUR_X        HOUR_Y  \\\n",
       "0 -85.639647  42.927216          62         0 -0.258819 -9.659258e-01   \n",
       "1 -85.639487  42.927213          31         0 -1.000000 -1.836970e-16   \n",
       "2 -85.639387  42.927212          22         0  0.866025 -5.000000e-01   \n",
       "3 -85.639288  42.927210          30         0 -0.866025 -5.000000e-01   \n",
       "4 -85.639288  42.927210          44         0 -0.707107 -7.071068e-01   \n",
       "\n",
       "   CRASHSEVER_Fatal  CRASHSEVER_Injury  DRIVER1SEX_M  DRIVER1SEX_U  \\\n",
       "0                 0                  0             0             0   \n",
       "1                 0                  0             1             0   \n",
       "2                 0                  0             0             0   \n",
       "3                 0                  0             1             0   \n",
       "4                 0                  0             1             0   \n",
       "\n",
       "   EMRGVEH_Yes  HITANDRUN_Yes  MOTORCYCLE_Yes  D1COND_Appeared Normal  \\\n",
       "0            0              1               0                       1   \n",
       "1            0              1               0                       0   \n",
       "2            0              0               0                       1   \n",
       "3            0              1               0                       1   \n",
       "4            0              0               0                       1   \n",
       "\n",
       "   D1COND_Fatigue / Sick  ALCOHOL_INVOLED  \n",
       "0                      0                0  \n",
       "1                      0                0  \n",
       "2                      0                0  \n",
       "3                      0                0  \n",
       "4                      0                0  "
      ]
     },
     "execution_count": 139,
     "metadata": {},
     "output_type": "execute_result"
    }
   ],
   "source": [
    "temp_df.head()"
   ]
  },
  {
   "cell_type": "code",
   "execution_count": 104,
   "metadata": {},
   "outputs": [
    {
     "data": {
      "text/plain": [
       "Int64Index([   34,    52,    59,    66,    78,    84,    85,    86,    88,\n",
       "               91,\n",
       "            ...\n",
       "            72680, 72774, 72797, 72830, 72833, 72872, 72873, 72880, 72896,\n",
       "            72962],\n",
       "           dtype='int64', length=8979)"
      ]
     },
     "execution_count": 104,
     "metadata": {},
     "output_type": "execute_result"
    }
   ],
   "source": [
    "temp_df['DRIVER1AGE'][temp_df['DRIVER1AGE']==999].index"
   ]
  },
  {
   "cell_type": "code",
   "execution_count": 105,
   "metadata": {},
   "outputs": [],
   "source": [
    "temp_df_dropped = temp_df.drop(temp_df['DRIVER1AGE'][temp_df['DRIVER1AGE']==999].index)"
   ]
  },
  {
   "cell_type": "code",
   "execution_count": 116,
   "metadata": {},
   "outputs": [],
   "source": [
    "indices_of_missing = temp_df['DRIVER1AGE'][temp_df['DRIVER1AGE']==999].index"
   ]
  },
  {
   "cell_type": "code",
   "execution_count": 106,
   "metadata": {},
   "outputs": [
    {
     "data": {
      "text/plain": [
       "63998"
      ]
     },
     "execution_count": 106,
     "metadata": {},
     "output_type": "execute_result"
    }
   ],
   "source": [
    "len(temp_df_dropped)"
   ]
  },
  {
   "cell_type": "code",
   "execution_count": 107,
   "metadata": {},
   "outputs": [],
   "source": [
    "temp_df_dropped_y = temp_df_dropped.DRIVER1AGE\n",
    "temp_df_dropped_x = temp_df_dropped.drop('DRIVER1AGE', axis=1)"
   ]
  },
  {
   "cell_type": "code",
   "execution_count": 137,
   "metadata": {},
   "outputs": [
    {
     "data": {
      "text/plain": [
       "63998"
      ]
     },
     "execution_count": 137,
     "metadata": {},
     "output_type": "execute_result"
    }
   ],
   "source": [
    "len(temp_df_dropped_y)"
   ]
  },
  {
   "cell_type": "code",
   "execution_count": 108,
   "metadata": {},
   "outputs": [],
   "source": [
    "from sklearn.linear_model import LinearRegression"
   ]
  },
  {
   "cell_type": "code",
   "execution_count": 113,
   "metadata": {},
   "outputs": [
    {
     "data": {
      "text/plain": [
       "LinearRegression(copy_X=True, fit_intercept=True, n_jobs=1, normalize=False)"
      ]
     },
     "execution_count": 113,
     "metadata": {},
     "output_type": "execute_result"
    }
   ],
   "source": [
    "regr = LinearRegression()\n",
    "regr.fit(temp_df_dropped_x, temp_df_dropped_y)"
   ]
  },
  {
   "cell_type": "code",
   "execution_count": 142,
   "metadata": {},
   "outputs": [],
   "source": [
    "df_to_predict = X.filter(indices_of_missing, axis=0).drop('DRIVER1AGE', axis=1)"
   ]
  },
  {
   "cell_type": "code",
   "execution_count": 144,
   "metadata": {},
   "outputs": [
    {
     "data": {
      "text/html": [
       "<div>\n",
       "<style>\n",
       "    .dataframe thead tr:only-child th {\n",
       "        text-align: right;\n",
       "    }\n",
       "\n",
       "    .dataframe thead th {\n",
       "        text-align: left;\n",
       "    }\n",
       "\n",
       "    .dataframe tbody tr th {\n",
       "        vertical-align: top;\n",
       "    }\n",
       "</style>\n",
       "<table border=\"1\" class=\"dataframe\">\n",
       "  <thead>\n",
       "    <tr style=\"text-align: right;\">\n",
       "      <th></th>\n",
       "      <th>X</th>\n",
       "      <th>Y</th>\n",
       "      <th>NUMOFINJ</th>\n",
       "      <th>HOUR_X</th>\n",
       "      <th>HOUR_Y</th>\n",
       "      <th>CRASHSEVER_Fatal</th>\n",
       "      <th>CRASHSEVER_Injury</th>\n",
       "      <th>DRIVER1SEX_M</th>\n",
       "      <th>DRIVER1SEX_U</th>\n",
       "      <th>EMRGVEH_Yes</th>\n",
       "      <th>HITANDRUN_Yes</th>\n",
       "      <th>MOTORCYCLE_Yes</th>\n",
       "      <th>D1COND_Appeared Normal</th>\n",
       "      <th>D1COND_Fatigue / Sick</th>\n",
       "      <th>ALCOHOL_INVOLED</th>\n",
       "    </tr>\n",
       "  </thead>\n",
       "  <tbody>\n",
       "    <tr>\n",
       "      <th>34</th>\n",
       "      <td>-85.633043</td>\n",
       "      <td>42.927144</td>\n",
       "      <td>0</td>\n",
       "      <td>-0.707107</td>\n",
       "      <td>-7.071068e-01</td>\n",
       "      <td>0</td>\n",
       "      <td>0</td>\n",
       "      <td>0</td>\n",
       "      <td>0</td>\n",
       "      <td>0</td>\n",
       "      <td>1</td>\n",
       "      <td>0</td>\n",
       "      <td>0</td>\n",
       "      <td>0</td>\n",
       "      <td>0</td>\n",
       "    </tr>\n",
       "    <tr>\n",
       "      <th>52</th>\n",
       "      <td>-85.625731</td>\n",
       "      <td>42.937429</td>\n",
       "      <td>0</td>\n",
       "      <td>-0.866025</td>\n",
       "      <td>5.000000e-01</td>\n",
       "      <td>0</td>\n",
       "      <td>0</td>\n",
       "      <td>0</td>\n",
       "      <td>1</td>\n",
       "      <td>0</td>\n",
       "      <td>1</td>\n",
       "      <td>0</td>\n",
       "      <td>0</td>\n",
       "      <td>0</td>\n",
       "      <td>0</td>\n",
       "    </tr>\n",
       "    <tr>\n",
       "      <th>59</th>\n",
       "      <td>-85.660435</td>\n",
       "      <td>42.953859</td>\n",
       "      <td>0</td>\n",
       "      <td>-1.000000</td>\n",
       "      <td>-1.836970e-16</td>\n",
       "      <td>0</td>\n",
       "      <td>0</td>\n",
       "      <td>0</td>\n",
       "      <td>1</td>\n",
       "      <td>0</td>\n",
       "      <td>1</td>\n",
       "      <td>0</td>\n",
       "      <td>0</td>\n",
       "      <td>0</td>\n",
       "      <td>0</td>\n",
       "    </tr>\n",
       "    <tr>\n",
       "      <th>66</th>\n",
       "      <td>-85.637006</td>\n",
       "      <td>42.951344</td>\n",
       "      <td>0</td>\n",
       "      <td>0.965926</td>\n",
       "      <td>2.588190e-01</td>\n",
       "      <td>0</td>\n",
       "      <td>0</td>\n",
       "      <td>0</td>\n",
       "      <td>1</td>\n",
       "      <td>0</td>\n",
       "      <td>1</td>\n",
       "      <td>0</td>\n",
       "      <td>0</td>\n",
       "      <td>0</td>\n",
       "      <td>0</td>\n",
       "    </tr>\n",
       "    <tr>\n",
       "      <th>78</th>\n",
       "      <td>-85.682385</td>\n",
       "      <td>42.987125</td>\n",
       "      <td>0</td>\n",
       "      <td>-0.500000</td>\n",
       "      <td>-8.660254e-01</td>\n",
       "      <td>0</td>\n",
       "      <td>0</td>\n",
       "      <td>0</td>\n",
       "      <td>1</td>\n",
       "      <td>0</td>\n",
       "      <td>0</td>\n",
       "      <td>0</td>\n",
       "      <td>0</td>\n",
       "      <td>0</td>\n",
       "      <td>0</td>\n",
       "    </tr>\n",
       "  </tbody>\n",
       "</table>\n",
       "</div>"
      ],
      "text/plain": [
       "            X          Y  NUMOFINJ    HOUR_X        HOUR_Y  CRASHSEVER_Fatal  \\\n",
       "34 -85.633043  42.927144         0 -0.707107 -7.071068e-01                 0   \n",
       "52 -85.625731  42.937429         0 -0.866025  5.000000e-01                 0   \n",
       "59 -85.660435  42.953859         0 -1.000000 -1.836970e-16                 0   \n",
       "66 -85.637006  42.951344         0  0.965926  2.588190e-01                 0   \n",
       "78 -85.682385  42.987125         0 -0.500000 -8.660254e-01                 0   \n",
       "\n",
       "    CRASHSEVER_Injury  DRIVER1SEX_M  DRIVER1SEX_U  EMRGVEH_Yes  HITANDRUN_Yes  \\\n",
       "34                  0             0             0            0              1   \n",
       "52                  0             0             1            0              1   \n",
       "59                  0             0             1            0              1   \n",
       "66                  0             0             1            0              1   \n",
       "78                  0             0             1            0              0   \n",
       "\n",
       "    MOTORCYCLE_Yes  D1COND_Appeared Normal  D1COND_Fatigue / Sick  \\\n",
       "34               0                       0                      0   \n",
       "52               0                       0                      0   \n",
       "59               0                       0                      0   \n",
       "66               0                       0                      0   \n",
       "78               0                       0                      0   \n",
       "\n",
       "    ALCOHOL_INVOLED  \n",
       "34                0  \n",
       "52                0  \n",
       "59                0  \n",
       "66                0  \n",
       "78                0  "
      ]
     },
     "execution_count": 144,
     "metadata": {},
     "output_type": "execute_result"
    }
   ],
   "source": [
    "df_to_predict.head()"
   ]
  },
  {
   "cell_type": "code",
   "execution_count": 145,
   "metadata": {},
   "outputs": [],
   "source": [
    "age_preds = regr.predict(df_to_predict)"
   ]
  },
  {
   "cell_type": "code",
   "execution_count": 146,
   "metadata": {},
   "outputs": [
    {
     "data": {
      "text/plain": [
       "array([ 36.87566908,  20.83656512,  22.15744431, ...,  26.57248208,\n",
       "        26.50010842,  17.63753524])"
      ]
     },
     "execution_count": 146,
     "metadata": {},
     "output_type": "execute_result"
    }
   ],
   "source": [
    "age_preds"
   ]
  },
  {
   "cell_type": "code",
   "execution_count": 163,
   "metadata": {},
   "outputs": [
    {
     "name": "stderr",
     "output_type": "stream",
     "text": [
      "/Users/collinprather/anaconda3/lib/python3.6/site-packages/ipykernel_launcher.py:1: SettingWithCopyWarning: \n",
      "A value is trying to be set on a copy of a slice from a DataFrame.\n",
      "Try using .loc[row_indexer,col_indexer] = value instead\n",
      "\n",
      "See the caveats in the documentation: http://pandas.pydata.org/pandas-docs/stable/indexing.html#indexing-view-versus-copy\n",
      "  \"\"\"Entry point for launching an IPython kernel.\n"
     ]
    }
   ],
   "source": [
    "X.iloc[indices_of_missing]['DRIVER1AGE'] = age_preds"
   ]
  },
  {
   "cell_type": "code",
   "execution_count": 162,
   "metadata": {},
   "outputs": [
    {
     "data": {
      "text/plain": [
       "34    999\n",
       "52    999\n",
       "59    999\n",
       "66    999\n",
       "78    999\n",
       "Name: DRIVER1AGE, dtype: int64"
      ]
     },
     "execution_count": 162,
     "metadata": {},
     "output_type": "execute_result"
    }
   ],
   "source": [
    "X.loc[indices_of_missing]['DRIVER1AGE'].head()"
   ]
  },
  {
   "cell_type": "code",
   "execution_count": 132,
   "metadata": {},
   "outputs": [
    {
     "ename": "KeyError",
     "evalue": "('D1DRIVER1AGE', 'occurred at index 0')",
     "output_type": "error",
     "traceback": [
      "\u001b[0;31m---------------------------------------------------------------------------\u001b[0m",
      "\u001b[0;31mTypeError\u001b[0m                                 Traceback (most recent call last)",
      "\u001b[0;32m~/anaconda3/lib/python3.6/site-packages/pandas/core/indexes/base.py\u001b[0m in \u001b[0;36mget_value\u001b[0;34m(self, series, key)\u001b[0m\n\u001b[1;32m   2482\u001b[0m             \u001b[0;32mtry\u001b[0m\u001b[0;34m:\u001b[0m\u001b[0;34m\u001b[0m\u001b[0m\n\u001b[0;32m-> 2483\u001b[0;31m                 \u001b[0;32mreturn\u001b[0m \u001b[0mlibts\u001b[0m\u001b[0;34m.\u001b[0m\u001b[0mget_value_box\u001b[0m\u001b[0;34m(\u001b[0m\u001b[0ms\u001b[0m\u001b[0;34m,\u001b[0m \u001b[0mkey\u001b[0m\u001b[0;34m)\u001b[0m\u001b[0;34m\u001b[0m\u001b[0m\n\u001b[0m\u001b[1;32m   2484\u001b[0m             \u001b[0;32mexcept\u001b[0m \u001b[0mIndexError\u001b[0m\u001b[0;34m:\u001b[0m\u001b[0;34m\u001b[0m\u001b[0m\n",
      "\u001b[0;32mpandas/_libs/tslib.pyx\u001b[0m in \u001b[0;36mpandas._libs.tslib.get_value_box (pandas/_libs/tslib.c:18843)\u001b[0;34m()\u001b[0m\n",
      "\u001b[0;32mpandas/_libs/tslib.pyx\u001b[0m in \u001b[0;36mpandas._libs.tslib.get_value_box (pandas/_libs/tslib.c:18477)\u001b[0;34m()\u001b[0m\n",
      "\u001b[0;31mTypeError\u001b[0m: 'str' object cannot be interpreted as an integer",
      "\nDuring handling of the above exception, another exception occurred:\n",
      "\u001b[0;31mKeyError\u001b[0m                                  Traceback (most recent call last)",
      "\u001b[0;32m<ipython-input-132-6a0563f19648>\u001b[0m in \u001b[0;36m<module>\u001b[0;34m()\u001b[0m\n\u001b[1;32m      4\u001b[0m \u001b[0;34m\u001b[0m\u001b[0m\n\u001b[1;32m      5\u001b[0m \u001b[0;34m\u001b[0m\u001b[0m\n\u001b[0;32m----> 6\u001b[0;31m \u001b[0mX\u001b[0m\u001b[0;34m.\u001b[0m\u001b[0mfilter\u001b[0m\u001b[0;34m(\u001b[0m\u001b[0mindices_of_missing\u001b[0m\u001b[0;34m,\u001b[0m \u001b[0maxis\u001b[0m\u001b[0;34m=\u001b[0m\u001b[0;36m0\u001b[0m\u001b[0;34m)\u001b[0m\u001b[0;34m[\u001b[0m\u001b[0;34m'DRIVER1AGE'\u001b[0m\u001b[0;34m]\u001b[0m \u001b[0;34m=\u001b[0m \u001b[0mX\u001b[0m\u001b[0;34m.\u001b[0m\u001b[0mapply\u001b[0m\u001b[0;34m(\u001b[0m\u001b[0;32mlambda\u001b[0m \u001b[0mrow\u001b[0m\u001b[0;34m:\u001b[0m \u001b[0mmissing_age_imputer\u001b[0m\u001b[0;34m(\u001b[0m\u001b[0mrow\u001b[0m\u001b[0;34m)\u001b[0m\u001b[0;34m,\u001b[0m\u001b[0maxis\u001b[0m\u001b[0;34m=\u001b[0m\u001b[0;36m1\u001b[0m\u001b[0;34m)\u001b[0m\u001b[0;34m\u001b[0m\u001b[0m\n\u001b[0m",
      "\u001b[0;32m~/anaconda3/lib/python3.6/site-packages/pandas/core/frame.py\u001b[0m in \u001b[0;36mapply\u001b[0;34m(self, func, axis, broadcast, raw, reduce, args, **kwds)\u001b[0m\n\u001b[1;32m   4260\u001b[0m                         \u001b[0mf\u001b[0m\u001b[0;34m,\u001b[0m \u001b[0maxis\u001b[0m\u001b[0;34m,\u001b[0m\u001b[0;34m\u001b[0m\u001b[0m\n\u001b[1;32m   4261\u001b[0m                         \u001b[0mreduce\u001b[0m\u001b[0;34m=\u001b[0m\u001b[0mreduce\u001b[0m\u001b[0;34m,\u001b[0m\u001b[0;34m\u001b[0m\u001b[0m\n\u001b[0;32m-> 4262\u001b[0;31m                         ignore_failures=ignore_failures)\n\u001b[0m\u001b[1;32m   4263\u001b[0m             \u001b[0;32melse\u001b[0m\u001b[0;34m:\u001b[0m\u001b[0;34m\u001b[0m\u001b[0m\n\u001b[1;32m   4264\u001b[0m                 \u001b[0;32mreturn\u001b[0m \u001b[0mself\u001b[0m\u001b[0;34m.\u001b[0m\u001b[0m_apply_broadcast\u001b[0m\u001b[0;34m(\u001b[0m\u001b[0mf\u001b[0m\u001b[0;34m,\u001b[0m \u001b[0maxis\u001b[0m\u001b[0;34m)\u001b[0m\u001b[0;34m\u001b[0m\u001b[0m\n",
      "\u001b[0;32m~/anaconda3/lib/python3.6/site-packages/pandas/core/frame.py\u001b[0m in \u001b[0;36m_apply_standard\u001b[0;34m(self, func, axis, ignore_failures, reduce)\u001b[0m\n\u001b[1;32m   4356\u001b[0m             \u001b[0;32mtry\u001b[0m\u001b[0;34m:\u001b[0m\u001b[0;34m\u001b[0m\u001b[0m\n\u001b[1;32m   4357\u001b[0m                 \u001b[0;32mfor\u001b[0m \u001b[0mi\u001b[0m\u001b[0;34m,\u001b[0m \u001b[0mv\u001b[0m \u001b[0;32min\u001b[0m \u001b[0menumerate\u001b[0m\u001b[0;34m(\u001b[0m\u001b[0mseries_gen\u001b[0m\u001b[0;34m)\u001b[0m\u001b[0;34m:\u001b[0m\u001b[0;34m\u001b[0m\u001b[0m\n\u001b[0;32m-> 4358\u001b[0;31m                     \u001b[0mresults\u001b[0m\u001b[0;34m[\u001b[0m\u001b[0mi\u001b[0m\u001b[0;34m]\u001b[0m \u001b[0;34m=\u001b[0m \u001b[0mfunc\u001b[0m\u001b[0;34m(\u001b[0m\u001b[0mv\u001b[0m\u001b[0;34m)\u001b[0m\u001b[0;34m\u001b[0m\u001b[0m\n\u001b[0m\u001b[1;32m   4359\u001b[0m                     \u001b[0mkeys\u001b[0m\u001b[0;34m.\u001b[0m\u001b[0mappend\u001b[0m\u001b[0;34m(\u001b[0m\u001b[0mv\u001b[0m\u001b[0;34m.\u001b[0m\u001b[0mname\u001b[0m\u001b[0;34m)\u001b[0m\u001b[0;34m\u001b[0m\u001b[0m\n\u001b[1;32m   4360\u001b[0m             \u001b[0;32mexcept\u001b[0m \u001b[0mException\u001b[0m \u001b[0;32mas\u001b[0m \u001b[0me\u001b[0m\u001b[0;34m:\u001b[0m\u001b[0;34m\u001b[0m\u001b[0m\n",
      "\u001b[0;32m<ipython-input-132-6a0563f19648>\u001b[0m in \u001b[0;36m<lambda>\u001b[0;34m(row)\u001b[0m\n\u001b[1;32m      4\u001b[0m \u001b[0;34m\u001b[0m\u001b[0m\n\u001b[1;32m      5\u001b[0m \u001b[0;34m\u001b[0m\u001b[0m\n\u001b[0;32m----> 6\u001b[0;31m \u001b[0mX\u001b[0m\u001b[0;34m.\u001b[0m\u001b[0mfilter\u001b[0m\u001b[0;34m(\u001b[0m\u001b[0mindices_of_missing\u001b[0m\u001b[0;34m,\u001b[0m \u001b[0maxis\u001b[0m\u001b[0;34m=\u001b[0m\u001b[0;36m0\u001b[0m\u001b[0;34m)\u001b[0m\u001b[0;34m[\u001b[0m\u001b[0;34m'DRIVER1AGE'\u001b[0m\u001b[0;34m]\u001b[0m \u001b[0;34m=\u001b[0m \u001b[0mX\u001b[0m\u001b[0;34m.\u001b[0m\u001b[0mapply\u001b[0m\u001b[0;34m(\u001b[0m\u001b[0;32mlambda\u001b[0m \u001b[0mrow\u001b[0m\u001b[0;34m:\u001b[0m \u001b[0mmissing_age_imputer\u001b[0m\u001b[0;34m(\u001b[0m\u001b[0mrow\u001b[0m\u001b[0;34m)\u001b[0m\u001b[0;34m,\u001b[0m\u001b[0maxis\u001b[0m\u001b[0;34m=\u001b[0m\u001b[0;36m1\u001b[0m\u001b[0;34m)\u001b[0m\u001b[0;34m\u001b[0m\u001b[0m\n\u001b[0m",
      "\u001b[0;32m<ipython-input-132-6a0563f19648>\u001b[0m in \u001b[0;36mmissing_age_imputer\u001b[0;34m(row)\u001b[0m\n\u001b[1;32m      1\u001b[0m \u001b[0;32mdef\u001b[0m \u001b[0mmissing_age_imputer\u001b[0m\u001b[0;34m(\u001b[0m\u001b[0mrow\u001b[0m\u001b[0;34m)\u001b[0m\u001b[0;34m:\u001b[0m\u001b[0;34m\u001b[0m\u001b[0m\n\u001b[0;32m----> 2\u001b[0;31m     \u001b[0;32mif\u001b[0m \u001b[0mrow\u001b[0m\u001b[0;34m[\u001b[0m\u001b[0;34m'D1DRIVER1AGE'\u001b[0m\u001b[0;34m]\u001b[0m \u001b[0;34m==\u001b[0m \u001b[0;36m999\u001b[0m\u001b[0;34m:\u001b[0m\u001b[0;34m\u001b[0m\u001b[0m\n\u001b[0m\u001b[1;32m      3\u001b[0m         \u001b[0;32mreturn\u001b[0m \u001b[0mregr\u001b[0m\u001b[0;34m.\u001b[0m\u001b[0mpredict\u001b[0m\u001b[0;34m(\u001b[0m\u001b[0mrow\u001b[0m\u001b[0;34m[\u001b[0m\u001b[0;34m'D1DRIVER1AGE'\u001b[0m\u001b[0;34m]\u001b[0m\u001b[0;34m)\u001b[0m\u001b[0;34m\u001b[0m\u001b[0m\n\u001b[1;32m      4\u001b[0m \u001b[0;34m\u001b[0m\u001b[0m\n\u001b[1;32m      5\u001b[0m \u001b[0;34m\u001b[0m\u001b[0m\n",
      "\u001b[0;32m~/anaconda3/lib/python3.6/site-packages/pandas/core/series.py\u001b[0m in \u001b[0;36m__getitem__\u001b[0;34m(self, key)\u001b[0m\n\u001b[1;32m    599\u001b[0m         \u001b[0mkey\u001b[0m \u001b[0;34m=\u001b[0m \u001b[0mcom\u001b[0m\u001b[0;34m.\u001b[0m\u001b[0m_apply_if_callable\u001b[0m\u001b[0;34m(\u001b[0m\u001b[0mkey\u001b[0m\u001b[0;34m,\u001b[0m \u001b[0mself\u001b[0m\u001b[0;34m)\u001b[0m\u001b[0;34m\u001b[0m\u001b[0m\n\u001b[1;32m    600\u001b[0m         \u001b[0;32mtry\u001b[0m\u001b[0;34m:\u001b[0m\u001b[0;34m\u001b[0m\u001b[0m\n\u001b[0;32m--> 601\u001b[0;31m             \u001b[0mresult\u001b[0m \u001b[0;34m=\u001b[0m \u001b[0mself\u001b[0m\u001b[0;34m.\u001b[0m\u001b[0mindex\u001b[0m\u001b[0;34m.\u001b[0m\u001b[0mget_value\u001b[0m\u001b[0;34m(\u001b[0m\u001b[0mself\u001b[0m\u001b[0;34m,\u001b[0m \u001b[0mkey\u001b[0m\u001b[0;34m)\u001b[0m\u001b[0;34m\u001b[0m\u001b[0m\n\u001b[0m\u001b[1;32m    602\u001b[0m \u001b[0;34m\u001b[0m\u001b[0m\n\u001b[1;32m    603\u001b[0m             \u001b[0;32mif\u001b[0m \u001b[0;32mnot\u001b[0m \u001b[0mis_scalar\u001b[0m\u001b[0;34m(\u001b[0m\u001b[0mresult\u001b[0m\u001b[0;34m)\u001b[0m\u001b[0;34m:\u001b[0m\u001b[0;34m\u001b[0m\u001b[0m\n",
      "\u001b[0;32m~/anaconda3/lib/python3.6/site-packages/pandas/core/indexes/base.py\u001b[0m in \u001b[0;36mget_value\u001b[0;34m(self, series, key)\u001b[0m\n\u001b[1;32m   2489\u001b[0m                     \u001b[0;32mraise\u001b[0m \u001b[0mInvalidIndexError\u001b[0m\u001b[0;34m(\u001b[0m\u001b[0mkey\u001b[0m\u001b[0;34m)\u001b[0m\u001b[0;34m\u001b[0m\u001b[0m\n\u001b[1;32m   2490\u001b[0m                 \u001b[0;32melse\u001b[0m\u001b[0;34m:\u001b[0m\u001b[0;34m\u001b[0m\u001b[0m\n\u001b[0;32m-> 2491\u001b[0;31m                     \u001b[0;32mraise\u001b[0m \u001b[0me1\u001b[0m\u001b[0;34m\u001b[0m\u001b[0m\n\u001b[0m\u001b[1;32m   2492\u001b[0m             \u001b[0;32mexcept\u001b[0m \u001b[0mException\u001b[0m\u001b[0;34m:\u001b[0m  \u001b[0;31m# pragma: no cover\u001b[0m\u001b[0;34m\u001b[0m\u001b[0m\n\u001b[1;32m   2493\u001b[0m                 \u001b[0;32mraise\u001b[0m \u001b[0me1\u001b[0m\u001b[0;34m\u001b[0m\u001b[0m\n",
      "\u001b[0;32m~/anaconda3/lib/python3.6/site-packages/pandas/core/indexes/base.py\u001b[0m in \u001b[0;36mget_value\u001b[0;34m(self, series, key)\u001b[0m\n\u001b[1;32m   2475\u001b[0m         \u001b[0;32mtry\u001b[0m\u001b[0;34m:\u001b[0m\u001b[0;34m\u001b[0m\u001b[0m\n\u001b[1;32m   2476\u001b[0m             return self._engine.get_value(s, k,\n\u001b[0;32m-> 2477\u001b[0;31m                                           tz=getattr(series.dtype, 'tz', None))\n\u001b[0m\u001b[1;32m   2478\u001b[0m         \u001b[0;32mexcept\u001b[0m \u001b[0mKeyError\u001b[0m \u001b[0;32mas\u001b[0m \u001b[0me1\u001b[0m\u001b[0;34m:\u001b[0m\u001b[0;34m\u001b[0m\u001b[0m\n\u001b[1;32m   2479\u001b[0m             \u001b[0;32mif\u001b[0m \u001b[0mlen\u001b[0m\u001b[0;34m(\u001b[0m\u001b[0mself\u001b[0m\u001b[0;34m)\u001b[0m \u001b[0;34m>\u001b[0m \u001b[0;36m0\u001b[0m \u001b[0;32mand\u001b[0m \u001b[0mself\u001b[0m\u001b[0;34m.\u001b[0m\u001b[0minferred_type\u001b[0m \u001b[0;32min\u001b[0m \u001b[0;34m[\u001b[0m\u001b[0;34m'integer'\u001b[0m\u001b[0;34m,\u001b[0m \u001b[0;34m'boolean'\u001b[0m\u001b[0;34m]\u001b[0m\u001b[0;34m:\u001b[0m\u001b[0;34m\u001b[0m\u001b[0m\n",
      "\u001b[0;32mpandas/_libs/index.pyx\u001b[0m in \u001b[0;36mpandas._libs.index.IndexEngine.get_value\u001b[0;34m()\u001b[0m\n",
      "\u001b[0;32mpandas/_libs/index.pyx\u001b[0m in \u001b[0;36mpandas._libs.index.IndexEngine.get_value\u001b[0;34m()\u001b[0m\n",
      "\u001b[0;32mpandas/_libs/index.pyx\u001b[0m in \u001b[0;36mpandas._libs.index.IndexEngine.get_loc\u001b[0;34m()\u001b[0m\n",
      "\u001b[0;32mpandas/_libs/hashtable_class_helper.pxi\u001b[0m in \u001b[0;36mpandas._libs.hashtable.PyObjectHashTable.get_item\u001b[0;34m()\u001b[0m\n",
      "\u001b[0;32mpandas/_libs/hashtable_class_helper.pxi\u001b[0m in \u001b[0;36mpandas._libs.hashtable.PyObjectHashTable.get_item\u001b[0;34m()\u001b[0m\n",
      "\u001b[0;31mKeyError\u001b[0m: ('D1DRIVER1AGE', 'occurred at index 0')"
     ]
    }
   ],
   "source": [
    "def missing_age_imputer(row):\n",
    "    if row['DRIVER1AGE'] == 999:\n",
    "        return regr.predict(row['D1DRIVER1AGE'])\n",
    "    \n",
    "\n",
    "X.filter(indices_of_missing, axis=0)['DRIVER1AGE'] = X.apply(lambda row: missing_age_imputer(row),axis=1) "
   ]
  },
  {
   "cell_type": "code",
   "execution_count": 158,
   "metadata": {},
   "outputs": [
    {
     "data": {
      "text/plain": [
       "<matplotlib.axes._subplots.AxesSubplot at 0x1a2b864160>"
      ]
     },
     "execution_count": 158,
     "metadata": {},
     "output_type": "execute_result"
    },
    {
     "data": {
      "image/png": "[encoded data removed]",
      "text/plain": [
       "<matplotlib.figure.Figure at 0x1a2b85acc0>"
      ]
     },
     "metadata": {},
     "output_type": "display_data"
    }
   ],
   "source": [
    "sns.distplot(X['DRIVER1AGE'])"
   ]
  },
  {
   "cell_type": "markdown",
   "metadata": {},
   "source": [
    "---"
   ]
  },
  {
   "cell_type": "code",
   "execution_count": 190,
   "metadata": {},
   "outputs": [],
   "source": [
    "X.to_csv('Data/Analysis2/Crash_X3_prepared.csv', index=False)\n",
    "pd.DataFrame(y).to_csv('Data/Analysis2/Crash_y3.csv', index=False)"
   ]
  },
  {
   "cell_type": "code",
   "execution_count": null,
   "metadata": {},
   "outputs": [],
   "source": []
  }
 ],
 "metadata": {
  "kernelspec": {
   "display_name": "Python 3",
   "language": "python",
   "name": "python3"
  },
  "language_info": {
   "codemirror_mode": {
    "name": "ipython",
    "version": 3
   },
   "file_extension": ".py",
   "mimetype": "text/x-python",
   "name": "python",
   "nbconvert_exporter": "python",
   "pygments_lexer": "ipython3",
   "version": "3.6.3"
  }
 },
 "nbformat": 4,
 "nbformat_minor": 2
}
