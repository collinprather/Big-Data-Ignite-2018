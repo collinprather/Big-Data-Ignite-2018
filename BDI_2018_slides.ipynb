{
 "cells": [
  {
   "cell_type": "markdown",
   "metadata": {
    "slideshow": {
     "slide_type": "slide"
    }
   },
   "source": [
    "# Machine Learning from Scratch (Applied)\n",
    "### *Collin Prather*\n",
    "\n",
    "This is the command I need:\n",
    "\n",
    "``jupyter nbconvert BDI_2018_slides.ipynb --to slides --post serve  --SlidesExporter.reveal_theme=serif --SlidesExporter.reveal_scroll=True --SlidesExporter.reveal_transition=none``\n",
    "\n",
    "make sure to ``cd`` first\n",
    "\n",
    "* have everyone launch binder first!"
   ]
  },
  {
   "cell_type": "markdown",
   "metadata": {
    "slideshow": {
     "slide_type": "slide"
    }
   },
   "source": [
    "## Presentation Outline\n",
    "\n",
    "#### (try to find a way to have these as a header of some sort on each slide)\n",
    "\n",
    "1. ML Overview\n",
    "    * considerations/complexities in building ML models\n",
    "    * Steps in ML Process\n",
    "2. Building SVM from scratch (Done in JupyterHub)\n",
    "3. Explore Python ML library and apply to real-world data set (Done in JupyterHub)"
   ]
  },
  {
   "cell_type": "markdown",
   "metadata": {
    "slideshow": {
     "slide_type": "slide"
    }
   },
   "source": [
    "## What is Machine Learning?\n",
    "![ML Coursera](Figures/mlcoursera1.png)\n",
    "\n",
    "Maybe scale that photo down usint HTML..\n",
    "Even according to the experts, the exact definifion of the field of machine learning is a bit fuzzy, but  As early as 1959, Arthur Samuel quote.\n",
    "\n",
    "*Arthur Samuel*:\n",
    "> Machine Learning is the field of study that gives computers the ability to learn with out being explicitly programmed.\n"
   ]
  },
  {
   "cell_type": "markdown",
   "metadata": {
    "slideshow": {
     "slide_type": "subslide"
    }
   },
   "source": [
    "## What is Machine Learning?\n",
    "\n",
    "data + algorthms = predicting the future\n",
    "\n",
    "ML techniqes can be applied to a wide range of problems in diverse industries. In fact, ML has become ubiquitous in our everyday lives\n",
    "* Siri/ Amazon Alexa\n",
    "* Recommendation systems (amazon, netflix)\n",
    "* Fraud Detection\n",
    "* Disease diagnosis\n",
    "* Supply Chain Optimization"
   ]
  },
  {
   "cell_type": "markdown",
   "metadata": {
    "slideshow": {
     "slide_type": "slide"
    }
   },
   "source": [
    "## According to Google...\n",
    "\n",
    "<figure>\n",
    "  <img src=\"Figures/google_trends.png\" alt=\"my alt text\"/>\n",
    "    <figcaption>Data obtained from <i>trends.google.com.</i></figcaption>\n",
    "</figure>"
   ]
  },
  {
   "cell_type": "markdown",
   "metadata": {
    "slideshow": {
     "slide_type": "subslide"
    }
   },
   "source": [
    "## What has Caused this Spike?\n",
    "\n",
    "The math that powers machine learning algorithms has been around for quite a few years... so what's changed?\n",
    "\n",
    "1. Data Availability\n",
    "2. Computational Scale (NG MLY 01 pg 10)\n",
    "\n",
    "\n",
    "The rise of the big data era has given us access to astounding amounts of data. That phenomenon paired with with the exponential growth we've experienced in computational advances, has created the perfect storm for the emergence of the field of machine learning."
   ]
  },
  {
   "cell_type": "markdown",
   "metadata": {
    "slideshow": {
     "slide_type": "slide"
    }
   },
   "source": [
    "## Steps in the ML Process\n",
    "* [this](https://towardsdatascience.com/the-7-steps-of-machine-learning-2877d7e5548e) is a good place to start with identifying the steps in the ML process\n",
    "* also use Ng's ML Yearning\n",
    "\n",
    "### Step 0: Identify the Problem\n",
    "\n",
    "* Let's say the city of GR is finding that they're having a lot of difficulty arresting/convicting hit and run drivers. Could be for many reasons -- it's difficult to prove that they were the ones driving the car (even if they can track down the license plate number and owner of the car), by the time they get around to investigating they've lost what would've been relevant security footage from local buildings, etc.\n",
    "    * however, they do some research and find that the quicker they begin their investigation, they are much more likely to find and convict the perpetrator\n",
    "    * This can at times be difficult given the large volume of car crashes that are reported each day, and a lack of resources on the investigative team\n",
    "    * in other words, humans can't parse through all the data quick enough to prioritze which crashes to investigate in an efficient manner\n",
    "    \n",
    "* It turns out that solutions to problems like these can often be solved using machine learning!"
   ]
  },
  {
   "cell_type": "markdown",
   "metadata": {
    "slideshow": {
     "slide_type": "slide"
    }
   },
   "source": [
    "## Steps in the ML Process\n",
    "### Step 1: Get the Data\n",
    "\n",
    "* This might look like...\n",
    "    * SQL query\n",
    "    * CSV download\n",
    "    * web-scraping\n",
    "    * collecting data yourself\n",
    "    \n",
    "* In our case, we head over to [GR Data](http://grdata-grandrapids.opendata.arcgis.com) and download a .csv of data on all car crashes within the city of GR in the past 10 years.\n",
    "    * looks like the data is available to potentially solve this problem"
   ]
  },
  {
   "cell_type": "markdown",
   "metadata": {
    "slideshow": {
     "slide_type": "slide"
    }
   },
   "source": [
    "## Steps in the ML Process\n",
    "### Step 2: Data Preparation/Data Exploration\n",
    "\n",
    "* These are inherently different steps (requiring different tools/skillsets) but are so closely related that it's hard to separate the two\n",
    "* feature engineering\n",
    "    * define what it is\n",
    "    * give some motivation for it's importance (the data is the most crucial part of of ML!)(garbage in, garbage out)\n",
    "    * Give some examples and difficulties\n",
    "        * encoding categorical variables\n",
    "        * scaling \n",
    "        * how to deal with missing data (go over how I handled missing ages)\n",
    "        * examples of creating new features\n",
    "            * Sometimes you can use your data to make new feautres that summarize\n",
    "            * sometimes you can use your data to make new features that better model reality\n",
    "                * example with projecting the 1-d hours feature in 2-d space"
   ]
  },
  {
   "cell_type": "markdown",
   "metadata": {
    "slideshow": {
     "slide_type": "slide"
    }
   },
   "source": [
    "## Steps in the ML Process\n",
    "### Step 2b: Define a metric\n",
    "\n",
    "* Talk through the importance of defining a metric\n",
    "* talk through why simply classification accuracy is not suffifient... if we were to classify each crash as \"no alcohol involved\", we'd have a model that predicts with ~95% accuracy! ...but it'd be useless.."
   ]
  },
  {
   "cell_type": "markdown",
   "metadata": {
    "slideshow": {
     "slide_type": "slide"
    }
   },
   "source": [
    "# Steps in the ML Process\n",
    "## Step 3a: Model Selection\n",
    "\n",
    "* usually takes some trial and error\n",
    "* talk through the process of selecting a model\n",
    "\n",
    "![Machine Learning Algorithms](Figures/ML_algos_table.png)\n",
    "\n",
    "* talk through bias-variance tradeoff with the example below of the graphs below (note that all these graphs are for the regression case)\n",
    "    * Essentially, we want a model that learns a rule that can be generalize to new observations (both for classification and regression)\n",
    "    * Essentially the variance of our model refers to how much our \"best-fit\" line might change if we are training it from a different sample in our dataset. Show example with sin graph?\n",
    "    * The bias of our model refers to how strong our assumptions are about what the best-fit line should look like. For example, one might say that our linear-best-fit line is biased towards linearity. Since we've constrained this best-fit line to be linear, no matter how unequivocally non-linear the relationship might be, the line will be linear, due to its bias.\n",
    "    * This is the essence of ML -- to learn general patterns/relationships from a sample of data, and generalize it to be applied to new, previously unseen datapoints."
   ]
  },
  {
   "cell_type": "code",
   "execution_count": 55,
   "metadata": {
    "slideshow": {
     "slide_type": "notes"
    }
   },
   "outputs": [],
   "source": [
    "%matplotlib inline\n",
    "import matplotlib.pyplot as plt\n",
    "import numpy as np\n",
    "from sklearn.linear_model import LinearRegression"
   ]
  },
  {
   "cell_type": "markdown",
   "metadata": {
    "slideshow": {
     "slide_type": "slide"
    }
   },
   "source": [
    "Say that we have a dataset like this:\n",
    "\n",
    "| Original Data| \n",
    "|:---:|\n",
    "|![Image](Figures/data_to_fit.png)|"
   ]
  },
  {
   "cell_type": "markdown",
   "metadata": {
    "slideshow": {
     "slide_type": "subslide"
    }
   },
   "source": [
    "* We Could fit a model like so:\n",
    "\n",
    "\n",
    "| Original Data| Non-Linear Fit |\n",
    "|:---:|:---:|\n",
    "|![Image](Figures/data_to_fit.png)|![Image](Figures/cos_fit.png)|"
   ]
  },
  {
   "cell_type": "markdown",
   "metadata": {
    "slideshow": {
     "slide_type": "subslide"
    }
   },
   "source": [
    "* Or we could fit one like this\n",
    "\n",
    "| Original Data| Linear Fit |\n",
    "|:---:|:---:|\n",
    "|![Image](Figures/data_to_fit.png)|![Image](Figures/linear_fit.png)|\n"
   ]
  },
  {
   "cell_type": "markdown",
   "metadata": {
    "slideshow": {
     "slide_type": "subslide"
    }
   },
   "source": [
    "* So, which would be a better fit?\n",
    "\n",
    "| Non-Linear Fit| Linear Fit |\n",
    "|:---:|:---:|\n",
    "|![Image](Figures/cos_fit.png)|![Image](Figures/linear_fit.png)|\n",
    "\n",
    "\n",
    "* we can always just fit a line that goes through every point\n",
    "* Remember our aim is to come up with a \"rule\" that will generalize best to new observations\n",
    "    * we check this with our test set\n",
    "* Ultimately, there are any number of lines / \"rules\" we could use to fit this data\n",
    "    * maybe have that same graph with 5 or so different lines?\n",
    "* This is called the **Bias-Variance Trade-off** and motivates cross-validation/Hyper-param tuning"
   ]
  },
  {
   "cell_type": "markdown",
   "metadata": {
    "slideshow": {
     "slide_type": "slide"
    }
   },
   "source": [
    "# Steps in the ML Process\n",
    "## Step 3b: Cross-Validation/Hyper-parameter tuning\n",
    "\n",
    "* the tuning parameters control the bias-variance trade-off\n",
    "* usually takes some trial and error\n",
    "* testing\n",
    "* making predictions"
   ]
  },
  {
   "cell_type": "markdown",
   "metadata": {
    "slideshow": {
     "slide_type": "slide"
    }
   },
   "source": [
    "If you're in a kaggle comp -- you're done here. If you're deploying this into an app, there are some further steps, but those are outside the scope of this presentation\n",
    "\n",
    "(maybe make a step 4 Containerization, using tools like kubernetes/docker?)"
   ]
  },
  {
   "cell_type": "markdown",
   "metadata": {
    "slideshow": {
     "slide_type": "slide"
    }
   },
   "source": [
    "## Sources\n",
    "* ISLR\n",
    "* ML Coursera\n",
    "* ML Yearning\n",
    "* Siraj's SVM video\n",
    "* Siraj's loss functions video"
   ]
  },
  {
   "cell_type": "code",
   "execution_count": null,
   "metadata": {},
   "outputs": [],
   "source": []
  }
 ],
 "metadata": {
  "kernelspec": {
   "display_name": "Python 3",
   "language": "python",
   "name": "python3"
  },
  "language_info": {
   "codemirror_mode": {
    "name": "ipython",
    "version": 3
   },
   "file_extension": ".py",
   "mimetype": "text/x-python",
   "name": "python",
   "nbconvert_exporter": "python",
   "pygments_lexer": "ipython3",
   "version": "3.6.3"
  }
 },
 "nbformat": 4,
 "nbformat_minor": 2
}
