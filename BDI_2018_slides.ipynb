{
 "cells": [
  {
   "cell_type": "markdown",
   "metadata": {
    "slideshow": {
     "slide_type": "slide"
    }
   },
   "source": [
    "# Machine Learning from Scratch (Applied)\n",
    "### *Collin Prather*\n",
    "\n",
    "This is the command I need:\n",
    "\n",
    "``jupyter nbconvert slides.ipynb --to slides --post serve``\n",
    "\n",
    "make sure to ``cd`` first"
   ]
  },
  {
   "cell_type": "markdown",
   "metadata": {
    "slideshow": {
     "slide_type": "slide"
    }
   },
   "source": [
    "## Presentation Outline\n",
    "\n",
    "#### (try to find a way to have these as a header of some sort on each slide)\n",
    "\n",
    "1. ML Overview\n",
    "2. Steps in ML Process\n",
    "3. SVM's"
   ]
  },
  {
   "cell_type": "markdown",
   "metadata": {
    "slideshow": {
     "slide_type": "slide"
    }
   },
   "source": [
    "## Steps in the ML Process\n",
    "* [this](https://towardsdatascience.com/the-7-steps-of-machine-learning-2877d7e5548e) is a good place to start with identifying the steps in the ML process\n",
    "* also use Ng's ML Yearning\n",
    "### Step 0: Identify the Problem"
   ]
  },
  {
   "cell_type": "markdown",
   "metadata": {
    "slideshow": {
     "slide_type": "slide"
    }
   },
   "source": [
    "## Steps in the ML Process\n",
    "### Step 1: Get the Data\n",
    "\n",
    "* SQL query\n",
    "* CSV download\n",
    "* web-scraping\n",
    "* collecting data yourself"
   ]
  },
  {
   "cell_type": "markdown",
   "metadata": {
    "slideshow": {
     "slide_type": "slide"
    }
   },
   "source": [
    "## Steps in the ML Process\n",
    "### Step 2: Data Preparation/Data Exploration\n",
    "\n",
    "* These are inherently different steps (requiring different tools/skillsets) but are so closely related that it's hard to separate the two\n",
    "* feature engineering\n",
    "    * define what it is\n",
    "    * give some motivation for it's importance (the data is the most crucial part of of ML!)(garbage in, garbage out)\n",
    "    * Give some examples and difficulties\n",
    "        * encoding categorical variables\n",
    "        * scaling \n",
    "        * how to deal with missing data (go over how I handled missing ages)\n",
    "        * examples of creating new features\n",
    "            * Sometimes you can use your data to make new feautres that summarize\n",
    "            * sometimes you can use your data to make new features that better model reality\n",
    "                * example with projecting the 1-d hours feature in 2-d space"
   ]
  },
  {
   "cell_type": "markdown",
   "metadata": {
    "slideshow": {
     "slide_type": "slide"
    }
   },
   "source": [
    "# Steps in the ML Process\n",
    "## Step 3a: Model Selection\n",
    "\n",
    "* usually takes some trial and error\n",
    "* talk through the process of selecting a model\n",
    "\n",
    "| :Common ML Algos:                                   |\n",
    "|:--------------------------:  | :----------------:   |\n",
    "| **Classification**           | **Regression**       |\n",
    "| Logistic Regression          | Linear Regression    |\n",
    "| Linear Discriminant Analysis | Ridge Regression     |\n",
    "| $\\vdots$                     |        $\\vdots$      |\n",
    "\n",
    "* talk through the process of training a model\n",
    "* "
   ]
  },
  {
   "cell_type": "code",
   "execution_count": 55,
   "metadata": {
    "slideshow": {
     "slide_type": "notes"
    }
   },
   "outputs": [],
   "source": [
    "%matplotlib inline\n",
    "import matplotlib.pyplot as plt\n",
    "import numpy as np\n",
    "from sklearn.linear_model import LinearRegression"
   ]
  },
  {
   "cell_type": "code",
   "execution_count": 124,
   "metadata": {
    "slideshow": {
     "slide_type": "subslide"
    }
   },
   "outputs": [
    {
     "data": {
      "text/plain": [
       "<matplotlib.collections.PathCollection at 0x1a14148ef0>"
      ]
     },
     "execution_count": 124,
     "metadata": {},
     "output_type": "execute_result"
    },
    {
     "data": {
      "image/png": "[encoded data removed]",
      "text/plain": [
       "<matplotlib.figure.Figure at 0x1a14257630>"
      ]
     },
     "metadata": {},
     "output_type": "display_data"
    }
   ],
   "source": [
    "x = np.array([[2.5, -.801],\n",
    "               [3.5, -.9365],\n",
    "               [4.5, -.212],\n",
    "              [5.5, .71],\n",
    "               [6.5, .971]])\n",
    "plt.scatter(x[:,0], x[:,1])\n",
    "#plt.xlim(2,7)"
   ]
  },
  {
   "cell_type": "code",
   "execution_count": 121,
   "metadata": {
    "slideshow": {
     "slide_type": "subslide"
    }
   },
   "outputs": [
    {
     "data": {
      "text/plain": [
       "[<matplotlib.lines.Line2D at 0x1a139644e0>]"
      ]
     },
     "execution_count": 121,
     "metadata": {},
     "output_type": "execute_result"
    },
    {
     "data": {
      "image/png": "[encoded data removed]",
      "text/plain": [
       "<matplotlib.figure.Figure at 0x1a13231b38>"
      ]
     },
     "metadata": {},
     "output_type": "display_data"
    }
   ],
   "source": [
    "fig, (ax1, ax2) = plt.subplots(1,2, figsize=(12,5))\n",
    "\n",
    "x = np.array([[2.5, -.801],\n",
    "               [3.5, -.9365],\n",
    "               [4.5, -.212],\n",
    "              [5.5, .71],\n",
    "               [6.5, .971]])\n",
    "for ax in fig.axes:\n",
    "    ax.scatter(x[:,0], x[:,1])\n",
    "    ax.set_xlim(2,7)\n",
    "\n",
    "x1 = np.linspace(0,8,100)\n",
    "y1 = np.cos(x1)\n",
    "ax1.plot(x1,y1, c='g')\n",
    "\n",
    "x2 = np.array([[2,-1.5],\n",
    "              [7,1.2]])\n",
    "ax2.plot(x2[:,0], x2[:,1], c='g')"
   ]
  },
  {
   "cell_type": "markdown",
   "metadata": {
    "slideshow": {
     "slide_type": "slide"
    }
   },
   "source": [
    "# Steps in the ML Process\n",
    "## Step 3b: Cross-Validation/Hyper-parameter tuning\n",
    "\n",
    "* usually takes some trial and error\n",
    "* testing\n",
    "* making predictions"
   ]
  },
  {
   "cell_type": "markdown",
   "metadata": {
    "slideshow": {
     "slide_type": "slide"
    }
   },
   "source": [
    "If you're in a kaggle comp -- you're done here. If you're deploying this into an app, there are some further steps\n",
    "\n",
    "(maybe make a step 4 Containerization, using tools like kubernetes/docker?)"
   ]
  },
  {
   "cell_type": "code",
   "execution_count": null,
   "metadata": {},
   "outputs": [],
   "source": []
  }
 ],
 "metadata": {
  "kernelspec": {
   "display_name": "Python 3",
   "language": "python",
   "name": "python3"
  },
  "language_info": {
   "codemirror_mode": {
    "name": "ipython",
    "version": 3
   },
   "file_extension": ".py",
   "mimetype": "text/x-python",
   "name": "python",
   "nbconvert_exporter": "python",
   "pygments_lexer": "ipython3",
   "version": "3.6.3"
  }
 },
 "nbformat": 4,
 "nbformat_minor": 2
}
