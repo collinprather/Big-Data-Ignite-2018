{
 "cells": [
  {
   "cell_type": "markdown",
   "metadata": {},
   "source": [
    "## Fitting Logistic Regression Model"
   ]
  },
  {
   "cell_type": "code",
   "execution_count": 10,
   "metadata": {},
   "outputs": [],
   "source": [
    "import numpy as np\n",
    "import pandas as pd\n",
    "import matplotlib.pyplot as plt\n",
    "%matplotlib inline\n",
    "\n",
    "from sklearn.linear_model import LogisticRegression\n",
    "from sklearn.model_selection import train_test_split\n",
    "\n",
    "from sklearn.metrics import confusion_matrix, classification_report, precision_score, roc_curve, auc"
   ]
  },
  {
   "cell_type": "code",
   "execution_count": 141,
   "metadata": {},
   "outputs": [],
   "source": [
    "X = pd.read_csv('Data/Crash_X.csv')\n",
    "y = pd.read_csv('Data/Crash_y.csv')"
   ]
  },
  {
   "cell_type": "code",
   "execution_count": 142,
   "metadata": {},
   "outputs": [],
   "source": [
    "X_train, X_test, y_train, y_test = train_test_split(X, y, test_size=0.33, random_state=42)"
   ]
  },
  {
   "cell_type": "code",
   "execution_count": 143,
   "metadata": {},
   "outputs": [
    {
     "data": {
      "text/plain": [
       "LogisticRegression(C=10, class_weight=None, dual=False, fit_intercept=True,\n",
       "          intercept_scaling=1, max_iter=100, multi_class='ovr', n_jobs=1,\n",
       "          penalty='l2', random_state=None, solver='liblinear', tol=0.0001,\n",
       "          verbose=0, warm_start=False)"
      ]
     },
     "execution_count": 143,
     "metadata": {},
     "output_type": "execute_result"
    }
   ],
   "source": [
    "clf = LogisticRegression(C=10)\n",
    "clf.fit(X_train, y_train.values.ravel())"
   ]
  },
  {
   "cell_type": "markdown",
   "metadata": {},
   "source": [
    "## Help with interpretting the model:\n",
    "* [yhat blog](http://blog.yhat.com/posts/logistic-regression-python-rodeo.html)\n",
    "* [pure python implementation](http://blog.smellthedata.com/2009/06/python-logistic-regression-with-l2.html)\n",
    "* [this stack exchange](https://stats.stackexchange.com/questions/221622/interpreting-multinomial-logistic-regression-in-scikit-learn)"
   ]
  },
  {
   "cell_type": "markdown",
   "metadata": {},
   "source": [
    "## Classification Report"
   ]
  },
  {
   "cell_type": "code",
   "execution_count": 144,
   "metadata": {},
   "outputs": [
    {
     "name": "stdout",
     "output_type": "stream",
     "text": [
      "             precision    recall  f1-score   support\n",
      "\n",
      "          0       0.90      0.97      0.93     18888\n",
      "          1       0.83      0.60      0.70      5195\n",
      "\n",
      "avg / total       0.88      0.89      0.88     24083\n",
      "\n"
     ]
    }
   ],
   "source": [
    "y_pred = clf.predict(X_test)\n",
    "print(classification_report(y_test, y_pred))"
   ]
  },
  {
   "cell_type": "markdown",
   "metadata": {},
   "source": [
    "## Confusion Matrix"
   ]
  },
  {
   "cell_type": "code",
   "execution_count": 145,
   "metadata": {},
   "outputs": [
    {
     "data": {
      "text/plain": [
       "array([[18258,  2071],\n",
       "       [  630,  3124]])"
      ]
     },
     "execution_count": 145,
     "metadata": {},
     "output_type": "execute_result"
    }
   ],
   "source": [
    "confusion_matrix(y_test, y_pred).T"
   ]
  },
  {
   "cell_type": "markdown",
   "metadata": {},
   "source": [
    "## ROC Curve"
   ]
  },
  {
   "cell_type": "code",
   "execution_count": 146,
   "metadata": {},
   "outputs": [
    {
     "data": {
      "image/png": "[encoded data removed]",
      "text/plain": [
       "<matplotlib.figure.Figure at 0x102ba1a58>"
      ]
     },
     "metadata": {},
     "output_type": "display_data"
    }
   ],
   "source": [
    "y_score = clf.decision_function(X_test)\n",
    "\n",
    "# Compute ROC curve and ROC area for each class\n",
    "fpr, tpr, thresholds = roc_curve(y_test, y_score)\n",
    "roc_auc = auc(fpr, tpr)\n",
    "\n",
    "# Plotting the ROC curve\n",
    "plt.figure()\n",
    "lw = 2\n",
    "plt.plot(fpr, tpr, color='darkorange',\n",
    "         lw=lw, label='ROC curve (area = %0.2f)' % roc_auc)\n",
    "plt.plot([0, 1], [0, 1], color='navy', lw=lw, linestyle='--')\n",
    "plt.xlim([0.0, 1.0])\n",
    "plt.ylim([0.0, 1.05])\n",
    "plt.xlabel('False Positive Rate')\n",
    "plt.ylabel('True Positive Rate')\n",
    "plt.title('ROC Curve')\n",
    "plt.legend(loc=\"lower right\")\n",
    "plt.show()"
   ]
  },
  {
   "cell_type": "code",
   "execution_count": 147,
   "metadata": {},
   "outputs": [],
   "source": [
    "coefficients = pd.DataFrame(clf.coef_.flatten(), index=X.columns)"
   ]
  },
  {
   "cell_type": "code",
   "execution_count": 148,
   "metadata": {},
   "outputs": [
    {
     "data": {
      "text/html": [
       "<div>\n",
       "<style>\n",
       "    .dataframe thead tr:only-child th {\n",
       "        text-align: right;\n",
       "    }\n",
       "\n",
       "    .dataframe thead th {\n",
       "        text-align: left;\n",
       "    }\n",
       "\n",
       "    .dataframe tbody tr th {\n",
       "        vertical-align: top;\n",
       "    }\n",
       "</style>\n",
       "<table border=\"1\" class=\"dataframe\">\n",
       "  <thead>\n",
       "    <tr style=\"text-align: right;\">\n",
       "      <th></th>\n",
       "      <th>0</th>\n",
       "    </tr>\n",
       "  </thead>\n",
       "  <tbody>\n",
       "    <tr>\n",
       "      <th>DRIVER1AGE</th>\n",
       "      <td>-0.087963</td>\n",
       "    </tr>\n",
       "    <tr>\n",
       "      <th>DRIVER2AGE</th>\n",
       "      <td>-0.123442</td>\n",
       "    </tr>\n",
       "    <tr>\n",
       "      <th>NOATYPEINJ</th>\n",
       "      <td>0.118297</td>\n",
       "    </tr>\n",
       "    <tr>\n",
       "      <th>NOBTYPEINJ</th>\n",
       "      <td>0.137023</td>\n",
       "    </tr>\n",
       "    <tr>\n",
       "      <th>NOCTYPEINJ</th>\n",
       "      <td>0.251605</td>\n",
       "    </tr>\n",
       "    <tr>\n",
       "      <th>NUMOFINJ</th>\n",
       "      <td>0.297708</td>\n",
       "    </tr>\n",
       "    <tr>\n",
       "      <th>NUMOFOCCUP</th>\n",
       "      <td>-2.660737</td>\n",
       "    </tr>\n",
       "    <tr>\n",
       "      <th>NUMOFUNINJ</th>\n",
       "      <td>2.710044</td>\n",
       "    </tr>\n",
       "    <tr>\n",
       "      <th>NUMOFVEHIC</th>\n",
       "      <td>0.133764</td>\n",
       "    </tr>\n",
       "    <tr>\n",
       "      <th>SPEEDLIMIT</th>\n",
       "      <td>-0.007566</td>\n",
       "    </tr>\n",
       "    <tr>\n",
       "      <th>RDNUMLANES</th>\n",
       "      <td>0.041281</td>\n",
       "    </tr>\n",
       "    <tr>\n",
       "      <th>RDWIDTH</th>\n",
       "      <td>0.131100</td>\n",
       "    </tr>\n",
       "    <tr>\n",
       "      <th>X</th>\n",
       "      <td>-3.150515</td>\n",
       "    </tr>\n",
       "    <tr>\n",
       "      <th>Y</th>\n",
       "      <td>-6.359508</td>\n",
       "    </tr>\n",
       "    <tr>\n",
       "      <th>HOUR_X</th>\n",
       "      <td>0.045480</td>\n",
       "    </tr>\n",
       "    <tr>\n",
       "      <th>HOUR_Y</th>\n",
       "      <td>0.522230</td>\n",
       "    </tr>\n",
       "    <tr>\n",
       "      <th>BIKE_No</th>\n",
       "      <td>0.039521</td>\n",
       "    </tr>\n",
       "    <tr>\n",
       "      <th>BIKE_Yes</th>\n",
       "      <td>-0.172083</td>\n",
       "    </tr>\n",
       "    <tr>\n",
       "      <th>CRASHSEVER_Fatal</th>\n",
       "      <td>-1.158081</td>\n",
       "    </tr>\n",
       "    <tr>\n",
       "      <th>CRASHSEVER_Injury</th>\n",
       "      <td>0.579693</td>\n",
       "    </tr>\n",
       "    <tr>\n",
       "      <th>CRASHSEVER_Property Damage Only</th>\n",
       "      <td>0.445826</td>\n",
       "    </tr>\n",
       "    <tr>\n",
       "      <th>CRASHTYPE_Angle Driveway</th>\n",
       "      <td>1.148930</td>\n",
       "    </tr>\n",
       "    <tr>\n",
       "      <th>CRASHTYPE_Angle Straight</th>\n",
       "      <td>1.209837</td>\n",
       "    </tr>\n",
       "    <tr>\n",
       "      <th>CRASHTYPE_Angle Turn</th>\n",
       "      <td>0.934011</td>\n",
       "    </tr>\n",
       "    <tr>\n",
       "      <th>CRASHTYPE_Animal</th>\n",
       "      <td>-6.958892</td>\n",
       "    </tr>\n",
       "    <tr>\n",
       "      <th>CRASHTYPE_Backing</th>\n",
       "      <td>0.433770</td>\n",
       "    </tr>\n",
       "    <tr>\n",
       "      <th>CRASHTYPE_Bicycle</th>\n",
       "      <td>1.020073</td>\n",
       "    </tr>\n",
       "    <tr>\n",
       "      <th>CRASHTYPE_Fixed Object</th>\n",
       "      <td>-2.428073</td>\n",
       "    </tr>\n",
       "    <tr>\n",
       "      <th>CRASHTYPE_Head-On Left-Turn Not Associated with Driveway</th>\n",
       "      <td>0.973471</td>\n",
       "    </tr>\n",
       "    <tr>\n",
       "      <th>CRASHTYPE_Head-on</th>\n",
       "      <td>1.331009</td>\n",
       "    </tr>\n",
       "    <tr>\n",
       "      <th>...</th>\n",
       "      <td>...</td>\n",
       "    </tr>\n",
       "    <tr>\n",
       "      <th>VEH2TYPE_Truck Under 10,000 lbs</th>\n",
       "      <td>0.067193</td>\n",
       "    </tr>\n",
       "    <tr>\n",
       "      <th>VEH2USE_Club or Church</th>\n",
       "      <td>-1.610864</td>\n",
       "    </tr>\n",
       "    <tr>\n",
       "      <th>VEH2USE_Commercial</th>\n",
       "      <td>0.567449</td>\n",
       "    </tr>\n",
       "    <tr>\n",
       "      <th>VEH2USE_Farm</th>\n",
       "      <td>0.727619</td>\n",
       "    </tr>\n",
       "    <tr>\n",
       "      <th>VEH2USE_In Pursuit or Emergency (in use)</th>\n",
       "      <td>0.275278</td>\n",
       "    </tr>\n",
       "    <tr>\n",
       "      <th>VEH2USE_Military Vehicle</th>\n",
       "      <td>0.225106</td>\n",
       "    </tr>\n",
       "    <tr>\n",
       "      <th>VEH2USE_Other</th>\n",
       "      <td>0.777352</td>\n",
       "    </tr>\n",
       "    <tr>\n",
       "      <th>VEH2USE_Other Government, Non-Emergency</th>\n",
       "      <td>-0.350481</td>\n",
       "    </tr>\n",
       "    <tr>\n",
       "      <th>VEH2USE_Private</th>\n",
       "      <td>1.100910</td>\n",
       "    </tr>\n",
       "    <tr>\n",
       "      <th>VEH2USE_Road Construction or Maintenance</th>\n",
       "      <td>-1.213987</td>\n",
       "    </tr>\n",
       "    <tr>\n",
       "      <th>VEH2USE_School or Education</th>\n",
       "      <td>0.244136</td>\n",
       "    </tr>\n",
       "    <tr>\n",
       "      <th>VEH2USE_Utility</th>\n",
       "      <td>-0.875078</td>\n",
       "    </tr>\n",
       "    <tr>\n",
       "      <th>WEATHER_Blowing Snow</th>\n",
       "      <td>-0.787544</td>\n",
       "    </tr>\n",
       "    <tr>\n",
       "      <th>WEATHER_Clear</th>\n",
       "      <td>0.153056</td>\n",
       "    </tr>\n",
       "    <tr>\n",
       "      <th>WEATHER_Cloudy</th>\n",
       "      <td>0.150600</td>\n",
       "    </tr>\n",
       "    <tr>\n",
       "      <th>WEATHER_Fog</th>\n",
       "      <td>0.330670</td>\n",
       "    </tr>\n",
       "    <tr>\n",
       "      <th>WEATHER_Rain</th>\n",
       "      <td>0.054561</td>\n",
       "    </tr>\n",
       "    <tr>\n",
       "      <th>WEATHER_Severe Crosswind</th>\n",
       "      <td>-0.290136</td>\n",
       "    </tr>\n",
       "    <tr>\n",
       "      <th>WEATHER_Sleet or Hail</th>\n",
       "      <td>-0.267988</td>\n",
       "    </tr>\n",
       "    <tr>\n",
       "      <th>WEATHER_Smoke</th>\n",
       "      <td>0.286300</td>\n",
       "    </tr>\n",
       "    <tr>\n",
       "      <th>WEATHER_Snow</th>\n",
       "      <td>-0.014374</td>\n",
       "    </tr>\n",
       "    <tr>\n",
       "      <th>WEATHER_Unknown</th>\n",
       "      <td>0.252294</td>\n",
       "    </tr>\n",
       "    <tr>\n",
       "      <th>WHEREONRD_Bicycle Lane</th>\n",
       "      <td>0.777900</td>\n",
       "    </tr>\n",
       "    <tr>\n",
       "      <th>WHEREONRD_In the Gore</th>\n",
       "      <td>0.575380</td>\n",
       "    </tr>\n",
       "    <tr>\n",
       "      <th>WHEREONRD_In the Median</th>\n",
       "      <td>-0.526602</td>\n",
       "    </tr>\n",
       "    <tr>\n",
       "      <th>WHEREONRD_On the Road</th>\n",
       "      <td>0.099968</td>\n",
       "    </tr>\n",
       "    <tr>\n",
       "      <th>WHEREONRD_On the Shoulder</th>\n",
       "      <td>-0.295401</td>\n",
       "    </tr>\n",
       "    <tr>\n",
       "      <th>WHEREONRD_On-Street Parking</th>\n",
       "      <td>-0.414315</td>\n",
       "    </tr>\n",
       "    <tr>\n",
       "      <th>WHEREONRD_Outside of Shoulder or Curb</th>\n",
       "      <td>0.205163</td>\n",
       "    </tr>\n",
       "    <tr>\n",
       "      <th>WHEREONRD_Sidewalk</th>\n",
       "      <td>-0.554655</td>\n",
       "    </tr>\n",
       "  </tbody>\n",
       "</table>\n",
       "<p>170 rows × 1 columns</p>\n",
       "</div>"
      ],
      "text/plain": [
       "                                                           0\n",
       "DRIVER1AGE                                         -0.087963\n",
       "DRIVER2AGE                                         -0.123442\n",
       "NOATYPEINJ                                          0.118297\n",
       "NOBTYPEINJ                                          0.137023\n",
       "NOCTYPEINJ                                          0.251605\n",
       "NUMOFINJ                                            0.297708\n",
       "NUMOFOCCUP                                         -2.660737\n",
       "NUMOFUNINJ                                          2.710044\n",
       "NUMOFVEHIC                                          0.133764\n",
       "SPEEDLIMIT                                         -0.007566\n",
       "RDNUMLANES                                          0.041281\n",
       "RDWIDTH                                             0.131100\n",
       "X                                                  -3.150515\n",
       "Y                                                  -6.359508\n",
       "HOUR_X                                              0.045480\n",
       "HOUR_Y                                              0.522230\n",
       "BIKE_No                                             0.039521\n",
       "BIKE_Yes                                           -0.172083\n",
       "CRASHSEVER_Fatal                                   -1.158081\n",
       "CRASHSEVER_Injury                                   0.579693\n",
       "CRASHSEVER_Property Damage Only                     0.445826\n",
       "CRASHTYPE_Angle Driveway                            1.148930\n",
       "CRASHTYPE_Angle Straight                            1.209837\n",
       "CRASHTYPE_Angle Turn                                0.934011\n",
       "CRASHTYPE_Animal                                   -6.958892\n",
       "CRASHTYPE_Backing                                   0.433770\n",
       "CRASHTYPE_Bicycle                                   1.020073\n",
       "CRASHTYPE_Fixed Object                             -2.428073\n",
       "CRASHTYPE_Head-On Left-Turn Not Associated with...  0.973471\n",
       "CRASHTYPE_Head-on                                   1.331009\n",
       "...                                                      ...\n",
       "VEH2TYPE_Truck Under 10,000 lbs                     0.067193\n",
       "VEH2USE_Club or Church                             -1.610864\n",
       "VEH2USE_Commercial                                  0.567449\n",
       "VEH2USE_Farm                                        0.727619\n",
       "VEH2USE_In Pursuit or Emergency (in use)            0.275278\n",
       "VEH2USE_Military Vehicle                            0.225106\n",
       "VEH2USE_Other                                       0.777352\n",
       "VEH2USE_Other Government, Non-Emergency            -0.350481\n",
       "VEH2USE_Private                                     1.100910\n",
       "VEH2USE_Road Construction or Maintenance           -1.213987\n",
       "VEH2USE_School or Education                         0.244136\n",
       "VEH2USE_Utility                                    -0.875078\n",
       "WEATHER_Blowing Snow                               -0.787544\n",
       "WEATHER_Clear                                       0.153056\n",
       "WEATHER_Cloudy                                      0.150600\n",
       "WEATHER_Fog                                         0.330670\n",
       "WEATHER_Rain                                        0.054561\n",
       "WEATHER_Severe Crosswind                           -0.290136\n",
       "WEATHER_Sleet or Hail                              -0.267988\n",
       "WEATHER_Smoke                                       0.286300\n",
       "WEATHER_Snow                                       -0.014374\n",
       "WEATHER_Unknown                                     0.252294\n",
       "WHEREONRD_Bicycle Lane                              0.777900\n",
       "WHEREONRD_In the Gore                               0.575380\n",
       "WHEREONRD_In the Median                            -0.526602\n",
       "WHEREONRD_On the Road                               0.099968\n",
       "WHEREONRD_On the Shoulder                          -0.295401\n",
       "WHEREONRD_On-Street Parking                        -0.414315\n",
       "WHEREONRD_Outside of Shoulder or Curb               0.205163\n",
       "WHEREONRD_Sidewalk                                 -0.554655\n",
       "\n",
       "[170 rows x 1 columns]"
      ]
     },
     "execution_count": 148,
     "metadata": {},
     "output_type": "execute_result"
    }
   ],
   "source": [
    "# Allows for inspection of Logistic Regression Coefficients\n",
    "coefficients"
   ]
  },
  {
   "cell_type": "markdown",
   "metadata": {},
   "source": [
    "## PCA\n",
    "\n",
    "The two best explanations of PCA I've found online are:\n",
    "1. [This is the best](https://stats.stackexchange.com/questions/2691/making-sense-of-principal-component-analysis-eigenvectors-eigenvalues)\n",
    "2. [This is a close second](https://stats.stackexchange.com/questions/217995/what-is-an-intuitive-explanation-for-how-pca-turns-from-a-geometric-problem-wit)"
   ]
  },
  {
   "cell_type": "code",
   "execution_count": 26,
   "metadata": {},
   "outputs": [],
   "source": [
    "from sklearn.decomposition import PCA"
   ]
  },
  {
   "cell_type": "code",
   "execution_count": 92,
   "metadata": {},
   "outputs": [],
   "source": [
    "pca = PCA(n_components=100)\n",
    "X_reduced = pca.fit_transform(X)"
   ]
  },
  {
   "cell_type": "code",
   "execution_count": 93,
   "metadata": {},
   "outputs": [
    {
     "data": {
      "text/plain": [
       "(72977, 100)"
      ]
     },
     "execution_count": 93,
     "metadata": {},
     "output_type": "execute_result"
    }
   ],
   "source": [
    "X_reduced.shape"
   ]
  },
  {
   "cell_type": "code",
   "execution_count": 94,
   "metadata": {},
   "outputs": [],
   "source": [
    "X_train, X_test, y_train, y_test = train_test_split(X_reduced, y, test_size=0.33, random_state=42)"
   ]
  },
  {
   "cell_type": "code",
   "execution_count": 95,
   "metadata": {},
   "outputs": [
    {
     "data": {
      "text/plain": [
       "LogisticRegression(C=10, class_weight=None, dual=False, fit_intercept=True,\n",
       "          intercept_scaling=1, max_iter=100, multi_class='ovr', n_jobs=1,\n",
       "          penalty='l2', random_state=None, solver='liblinear', tol=0.0001,\n",
       "          verbose=0, warm_start=False)"
      ]
     },
     "execution_count": 95,
     "metadata": {},
     "output_type": "execute_result"
    }
   ],
   "source": [
    "clf = LogisticRegression(C=10)\n",
    "clf.fit(X_train, y_train.values.ravel())"
   ]
  },
  {
   "cell_type": "code",
   "execution_count": 96,
   "metadata": {},
   "outputs": [
    {
     "name": "stdout",
     "output_type": "stream",
     "text": [
      "             precision    recall  f1-score   support\n",
      "\n",
      "          0       0.90      0.97      0.93     18888\n",
      "          1       0.83      0.60      0.70      5195\n",
      "\n",
      "avg / total       0.88      0.89      0.88     24083\n",
      "\n"
     ]
    }
   ],
   "source": [
    "y_pred = clf.predict(X_test)\n",
    "print(classification_report(y_test, y_pred))"
   ]
  },
  {
   "cell_type": "code",
   "execution_count": 123,
   "metadata": {},
   "outputs": [],
   "source": [
    "component_vals = []\n",
    "roc_auc_vals = []\n",
    "pca_vals = range(10,150, 10)\n",
    "\n",
    "for components in pca_vals:\n",
    "    pca = PCA(n_components=components)\n",
    "    X_reduced = pca.fit_transform(X)\n",
    "    X_train, X_test, y_train, y_test = train_test_split(X_reduced, y, test_size=0.33, random_state=42)\n",
    "    clf = LogisticRegression(C=10)\n",
    "    clf.fit(X_train, y_train.values.ravel())\n",
    "    \n",
    "    y_score = clf.decision_function(X_test)\n",
    "    # Compute ROC curve and ROC area for each class\n",
    "    fpr, tpr, thresholds = roc_curve(y_test, y_score)\n",
    "    roc_auc = auc(fpr, tpr)\n",
    "    \n",
    "    component_vals.append(components)\n",
    "    roc_auc_vals.append(roc_auc)"
   ]
  },
  {
   "cell_type": "code",
   "execution_count": 124,
   "metadata": {},
   "outputs": [
    {
     "data": {
      "image/png": "[encoded data removed]",
      "text/plain": [
       "<matplotlib.figure.Figure at 0x106f11d30>"
      ]
     },
     "metadata": {},
     "output_type": "display_data"
    }
   ],
   "source": [
    "plt.plot(component_vals, roc_auc_vals)\n",
    "plt.xlabel('n components')\n",
    "plt.ylabel('ROC AUC')\n",
    "plt.show()"
   ]
  },
  {
   "cell_type": "markdown",
   "metadata": {},
   "source": [
    "As depicted by the plot above, we can achieve the same ROC AUC with 100 components as with the full 170 components. IF we are willing to drop 3 percentage points, we can even use 40 components!"
   ]
  },
  {
   "cell_type": "markdown",
   "metadata": {},
   "source": [
    "## Reduced Components: Scikit-Learn v. Statsmodel"
   ]
  },
  {
   "cell_type": "code",
   "execution_count": 157,
   "metadata": {},
   "outputs": [],
   "source": [
    "pca = PCA(n_components=40)\n",
    "X_reduced = pca.fit_transform(X)"
   ]
  },
  {
   "cell_type": "code",
   "execution_count": 159,
   "metadata": {},
   "outputs": [],
   "source": [
    "pd.DataFrame(X_reduced).to_csv('Data/Crash_X_reduced.csv', index=False)"
   ]
  },
  {
   "cell_type": "code",
   "execution_count": 160,
   "metadata": {},
   "outputs": [],
   "source": [
    "X_train, X_test, y_train, y_test = train_test_split(X_reduced, y, test_size=0.33, random_state=42)"
   ]
  },
  {
   "cell_type": "markdown",
   "metadata": {},
   "source": [
    "#### Statsmodel"
   ]
  },
  {
   "cell_type": "code",
   "execution_count": 161,
   "metadata": {},
   "outputs": [
    {
     "name": "stdout",
     "output_type": "stream",
     "text": [
      "Optimization terminated successfully.\n",
      "         Current function value: 0.493157\n",
      "         Iterations 7\n"
     ]
    }
   ],
   "source": [
    "import statsmodels.api as sm\n",
    "est = sm.Logit(y_train, X_train).fit()"
   ]
  },
  {
   "cell_type": "code",
   "execution_count": 162,
   "metadata": {},
   "outputs": [
    {
     "name": "stdout",
     "output_type": "stream",
     "text": [
      "             precision    recall  f1-score   support\n",
      "\n",
      "          0       0.92      0.84      0.88     18888\n",
      "          1       0.55      0.72      0.63      5195\n",
      "\n",
      "avg / total       0.84      0.81      0.82     24083\n",
      "\n"
     ]
    }
   ],
   "source": [
    "y_pred = est.predict(X_test)\n",
    "print(classification_report(y_test, np.round(y_pred)))"
   ]
  },
  {
   "cell_type": "markdown",
   "metadata": {},
   "source": [
    "#### Scikit-Learn"
   ]
  },
  {
   "cell_type": "code",
   "execution_count": 163,
   "metadata": {},
   "outputs": [
    {
     "name": "stdout",
     "output_type": "stream",
     "text": [
      "             precision    recall  f1-score   support\n",
      "\n",
      "          0       0.88      0.97      0.92     18888\n",
      "          1       0.82      0.51      0.63      5195\n",
      "\n",
      "avg / total       0.87      0.87      0.86     24083\n",
      "\n"
     ]
    }
   ],
   "source": [
    "clf = LogisticRegression(C=10)\n",
    "clf.fit(X_train, y_train.values.ravel())\n",
    "y_pred = clf.predict(X_test)\n",
    "print(classification_report(y_test, y_pred))"
   ]
  },
  {
   "cell_type": "code",
   "execution_count": null,
   "metadata": {},
   "outputs": [],
   "source": []
  }
 ],
 "metadata": {
  "kernelspec": {
   "display_name": "Python 3",
   "language": "python",
   "name": "python3"
  },
  "language_info": {
   "codemirror_mode": {
    "name": "ipython",
    "version": 3
   },
   "file_extension": ".py",
   "mimetype": "text/x-python",
   "name": "python",
   "nbconvert_exporter": "python",
   "pygments_lexer": "ipython3",
   "version": "3.6.3"
  }
 },
 "nbformat": 4,
 "nbformat_minor": 2
}
