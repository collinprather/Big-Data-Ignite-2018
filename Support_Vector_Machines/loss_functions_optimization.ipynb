{
 "cells": [
  {
   "cell_type": "markdown",
   "metadata": {},
   "source": [
    "# Loss Functions and Optimization\n",
    "\n",
    "## Hinge Loss\n",
    "\n",
    "* Great [explanatory slides](http://www.mit.edu/~9.520/spring09/Classes/class05.pdf) from MIT\n",
    "* Super informative [stack overflow response](https://stackoverflow.com/questions/34325759/whats-the-relationship-between-an-svm-and-hinge-loss) on hinge loss and SVM's\n",
    "* Siraj's loss functions video\n",
    "* [slides](https://davidrosenberg.github.io/ml2015/docs/3a.loss-functions.pdf) on hinge loss and SGD for SVM\n",
    "* [Stanford CS231 lecture](https://www.youtube.com/watch?v=h7iBpEHGVNc) on loss functions and optimization"
   ]
  },
  {
   "cell_type": "markdown",
   "metadata": {},
   "source": [
    "### General form of loss function\n",
    "$$\\sum_{i=1}^{m}\\text{loss function} + \\text{regularizer term}$$\n",
    "\n",
    "* where the loss functions quantifies how wrong your classifier is across the entire dataset\n",
    "* and the regularizer term is a tuning parameter that balance the bias-variance trade-off."
   ]
  },
  {
   "cell_type": "code",
   "execution_count": null,
   "metadata": {},
   "outputs": [],
   "source": []
  },
  {
   "cell_type": "markdown",
   "metadata": {},
   "source": [
    "## Stochastic Gradient Descent\n",
    "\n",
    "* [simple article on SGD with python code](https://towardsdatascience.com/difference-between-batch-gradient-descent-and-stochastic-gradient-descent-1187f1291aa1) (also compares batch and stochastic gradient descent\n",
    "* [Great stackexchange explanation of the partial derivative of the hinge loss function](https://stats.stackexchange.com/questions/4608/gradient-of-hinge-loss) (second anser even has python code!)"
   ]
  },
  {
   "cell_type": "markdown",
   "metadata": {},
   "source": [
    "**General Update Rule**: \n",
    "\n",
    "weights = weights - (learning rate) $\\cdot$ (partial deriv of loss func)\n"
   ]
  },
  {
   "cell_type": "code",
   "execution_count": null,
   "metadata": {},
   "outputs": [],
   "source": []
  },
  {
   "cell_type": "code",
   "execution_count": null,
   "metadata": {},
   "outputs": [],
   "source": []
  },
  {
   "cell_type": "code",
   "execution_count": null,
   "metadata": {},
   "outputs": [],
   "source": []
  }
 ],
 "metadata": {
  "kernelspec": {
   "display_name": "Python 3",
   "language": "python",
   "name": "python3"
  },
  "language_info": {
   "codemirror_mode": {
    "name": "ipython",
    "version": 3
   },
   "file_extension": ".py",
   "mimetype": "text/x-python",
   "name": "python",
   "nbconvert_exporter": "python",
   "pygments_lexer": "ipython3",
   "version": "3.6.3"
  }
 },
 "nbformat": 4,
 "nbformat_minor": 2
}
