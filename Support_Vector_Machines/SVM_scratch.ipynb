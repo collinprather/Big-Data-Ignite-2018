{
 "cells": [
  {
   "cell_type": "markdown",
   "metadata": {},
   "source": [
    "# Building Support Vector Machine from Scratch"
   ]
  },
  {
   "cell_type": "markdown",
   "metadata": {},
   "source": [
    "Here, we import the necessary packages"
   ]
  },
  {
   "cell_type": "code",
   "execution_count": 1,
   "metadata": {},
   "outputs": [],
   "source": [
    "import numpy as np\n",
    "import pandas as pd\n",
    "import matplotlib.pyplot as plt\n",
    "%matplotlib inline\n",
    "\n",
    "from sklearn.datasets import make_blobs"
   ]
  },
  {
   "cell_type": "markdown",
   "metadata": {},
   "source": [
    "below, we apply a sklearn package to generate our data."
   ]
  },
  {
   "cell_type": "code",
   "execution_count": 20,
   "metadata": {},
   "outputs": [],
   "source": [
    "X, y = make_blobs(n_samples=100, centers=2, n_features=2, random_state=3)\n",
    "np.place(y, y==0, -1)"
   ]
  },
  {
   "cell_type": "code",
   "execution_count": 21,
   "metadata": {},
   "outputs": [
    {
     "data": {
      "text/plain": [
       "<matplotlib.collections.PathCollection at 0x1a1e096e80>"
      ]
     },
     "execution_count": 21,
     "metadata": {},
     "output_type": "execute_result"
    },
    {
     "data": {
      "image/png": "[encoded data removed]",
      "text/plain": [
       "<matplotlib.figure.Figure at 0x11061e8d0>"
      ]
     },
     "metadata": {},
     "output_type": "display_data"
    }
   ],
   "source": [
    "plt.figure(figsize = (8,5))\n",
    "plt.scatter(X[:,0], X[:,1], c=y, cmap = 'jet')"
   ]
  },
  {
   "cell_type": "code",
   "execution_count": 22,
   "metadata": {},
   "outputs": [
    {
     "data": {
      "text/html": [
       "<div>\n",
       "<style>\n",
       "    .dataframe thead tr:only-child th {\n",
       "        text-align: right;\n",
       "    }\n",
       "\n",
       "    .dataframe thead th {\n",
       "        text-align: left;\n",
       "    }\n",
       "\n",
       "    .dataframe tbody tr th {\n",
       "        vertical-align: top;\n",
       "    }\n",
       "</style>\n",
       "<table border=\"1\" class=\"dataframe\">\n",
       "  <thead>\n",
       "    <tr style=\"text-align: right;\">\n",
       "      <th></th>\n",
       "      <th>x_1</th>\n",
       "      <th>x_2</th>\n",
       "      <th>y</th>\n",
       "    </tr>\n",
       "  </thead>\n",
       "  <tbody>\n",
       "    <tr>\n",
       "      <th>0</th>\n",
       "      <td>-3.755938</td>\n",
       "      <td>0.067538</td>\n",
       "      <td>1</td>\n",
       "    </tr>\n",
       "    <tr>\n",
       "      <th>1</th>\n",
       "      <td>-2.948434</td>\n",
       "      <td>0.365538</td>\n",
       "      <td>1</td>\n",
       "    </tr>\n",
       "    <tr>\n",
       "      <th>2</th>\n",
       "      <td>-3.367091</td>\n",
       "      <td>-0.303440</td>\n",
       "      <td>1</td>\n",
       "    </tr>\n",
       "    <tr>\n",
       "      <th>3</th>\n",
       "      <td>1.890244</td>\n",
       "      <td>2.869420</td>\n",
       "      <td>-1</td>\n",
       "    </tr>\n",
       "    <tr>\n",
       "      <th>4</th>\n",
       "      <td>-4.770407</td>\n",
       "      <td>-1.330004</td>\n",
       "      <td>1</td>\n",
       "    </tr>\n",
       "  </tbody>\n",
       "</table>\n",
       "</div>"
      ],
      "text/plain": [
       "        x_1       x_2  y\n",
       "0 -3.755938  0.067538  1\n",
       "1 -2.948434  0.365538  1\n",
       "2 -3.367091 -0.303440  1\n",
       "3  1.890244  2.869420 -1\n",
       "4 -4.770407 -1.330004  1"
      ]
     },
     "execution_count": 22,
     "metadata": {},
     "output_type": "execute_result"
    }
   ],
   "source": [
    "pd.concat([pd.DataFrame(X, columns = [\"x_1\", \"x_2\"]), pd.DataFrame(y, columns = [\"y\"])], axis=1).head(5)"
   ]
  },
  {
   "cell_type": "markdown",
   "metadata": {},
   "source": [
    "---"
   ]
  },
  {
   "cell_type": "markdown",
   "metadata": {},
   "source": [
    "## Representation: Support Vector Machine"
   ]
  },
  {
   "cell_type": "markdown",
   "metadata": {},
   "source": [
    "The goal of a Support Vector Machine:\n",
    ">To find the optimal separating hyperplane which maximizes the margin of the training data\n",
    "\n",
    "![Machine Learning Algorithms](Figures/hyp.png)\n",
    "\n",
    "This is an intuitive example of a hyperplane in 2-dimensions. This definition can be generalized and expanded to any number of dimensions!\n",
    "* In 1-D, a hyperplane is a point\n",
    "* In 2-D, a hyperplane is a line\n",
    "* In 3-D, a hyperplane is a plane\n",
    "* In 4-D+, it is simply referred to as a hyperplane.\n",
    "\n",
    "### How do we find the optimal hyperplane?\n",
    "We choose the hyperplane that maximizes the margin between the two classes, because it generalizes better to unseen observations (makes better predictions).\n",
    "![Machine Learning Algorithms](Figures/opt_max_margin.png)"
   ]
  },
  {
   "cell_type": "markdown",
   "metadata": {},
   "source": [
    "If we define the equation of our line to be $$y=mx+b$$ per usual, then this translates to finding the optimal $m$ and $b$."
   ]
  },
  {
   "cell_type": "markdown",
   "metadata": {},
   "source": [
    "### Understanding the definition of a Hyperplane:\n",
    "As we've seen previously, the separating hyperplane that we keep referring to (in 2-d) is just a line\n",
    "\n",
    "$$y=mx+b$$\n",
    "With a bit of algebraic manipulation, we get:\n",
    "\n",
    ">\\begin{align*}\n",
    "y&=mx+b\\\\\n",
    "-b-mx+y&=0\n",
    "\\end{align*}\n",
    "\n",
    "Using this new notation, the equation of a line is:\n",
    "\n",
    "$$w_0+w_1x_1+w_2x_2=0$$\n",
    "\n",
    "and more generally, for $p$ dimensions, the equation for a hyperplane is:\n",
    "\n",
    "$$w_0+w_1x_1+w_2x_2+\\dots+w_px_p=0$$"
   ]
  },
  {
   "cell_type": "markdown",
   "metadata": {},
   "source": [
    "Note: In our crash data, we use over 14 variables, so the equation for the separating hyperplane will look like this:\n",
    "\n",
    "$$w_0 + w_1x_1 + w_2x_2 + w_3x_3 + w_4x_4 + w_5x_5 + w_6x_6 + w_7x_7 + w_8x_8 + w_9x_9 + w_{10}x_{10} + w_{11}x_{11} + w_{12}x_{12} + w_{13}x_{13} + w_{14}x_{14}=0$$\n",
    "\n",
    "For the human, this is incredibly difficult to work work, for the machine, it is simple. Additionally, this is also the dot product of $\\overrightarrow{w}$ and $\\overrightarrow{x}$."
   ]
  },
  {
   "cell_type": "code",
   "execution_count": 23,
   "metadata": {},
   "outputs": [],
   "source": [
    "# Note why we must add an intercept term\n",
    "# warn them not to run this more than once, as it will add more intercept terms\n",
    "def add_intercept(X):\n",
    "    intercept = np.ones((X.shape[0], 1))\n",
    "    return np.concatenate((intercept, X), axis=1)"
   ]
  },
  {
   "cell_type": "code",
   "execution_count": 24,
   "metadata": {},
   "outputs": [],
   "source": [
    "X = add_intercept(X)"
   ]
  },
  {
   "cell_type": "code",
   "execution_count": 25,
   "metadata": {},
   "outputs": [
    {
     "data": {
      "text/plain": [
       "array([[ 1.        , -3.75593847,  0.06753833],\n",
       "       [ 1.        , -2.94843418,  0.3655385 ],\n",
       "       [ 1.        , -3.36709068, -0.30343965],\n",
       "       [ 1.        ,  1.89024377,  2.86941982],\n",
       "       [ 1.        , -4.77040684, -1.33000372]])"
      ]
     },
     "execution_count": 25,
     "metadata": {},
     "output_type": "execute_result"
    }
   ],
   "source": [
    "X[:5,:]"
   ]
  },
  {
   "cell_type": "markdown",
   "metadata": {},
   "source": [
    "---"
   ]
  },
  {
   "cell_type": "markdown",
   "metadata": {},
   "source": [
    "## Evaluation: Hinge Loss Function"
   ]
  },
  {
   "cell_type": "markdown",
   "metadata": {},
   "source": [
    "#### Quick refresher on dot product\n",
    "Given that you have two vectors, \n",
    "\n",
    "$$\\overrightarrow{w}=\\left[\\begin{matrix}\n",
    "w_1\\\\\n",
    "w_1\\\\\n",
    "\\end{matrix}\n",
    "\\right],\\ \n",
    "\\overrightarrow{x} = \\left[\\begin{matrix}\n",
    "x_1\\\\\n",
    "x_2\\\\\n",
    "\\end{matrix}\n",
    "\\right]\n",
    "$$\n",
    "\n",
    "The dot product (also referred to as inner product) is:\n",
    "\n",
    "$$\\overrightarrow{w} \\cdot \\overrightarrow{x} = w_1x_1+w_2x_2$$\n",
    "\n",
    "*note that this is a scalar value"
   ]
  },
  {
   "cell_type": "markdown",
   "metadata": {},
   "source": [
    "#### Dot product as distance from hyperplane\n",
    "\n",
    "It turns out that, when we take the dot product of our weights vector $\\overrightarrow{w}$ and a single datapoint $\\overrightarrow{x^{(i)}}$, the resulting number that we get can be thought of as how far away that  data point is from the hyperplane.\n",
    "\n",
    "* Note that in this context we use \"distance\" loosely\n",
    "* Alexandre Kowalczyk has an [great blog post](https://www.svm-tutorial.com/2014/11/svm-understanding-math-part-2/) detailing this\n",
    "* Prof. Andrew Ng provides us with [rigorous mathematical interpretation](http://cs229.stanford.edu/notes/cs229-notes3.pdf) as well."
   ]
  },
  {
   "cell_type": "markdown",
   "metadata": {},
   "source": [
    "#### The Hinge Loss Function is defined as:\n",
    "\n",
    "$$Loss\\ \\left(\\overrightarrow{w}, \\overrightarrow{x^{(i)}}, y^{(i)}\\right) = \\left[ 1 - y^{(i)} \\cdot \\left(\\overrightarrow{w} \\cdot \\overrightarrow{x^{(i)}} \\right)\\right]_+$$\n",
    "\n",
    "Let's break it down:\n",
    "\n",
    "* Inputs:\n",
    "    * $\\overrightarrow{w}$ is a vector of weights (coefficients) in the linear equation.\n",
    "    * $\\overrightarrow{x^{(i)}}$ is a vector representing a single datapoint (the $i^{th}$ datapoint), or a single row in our dataset\n",
    "    * $y^{(i)}$ is the label associated with the datapoint (which is either 1 or -1)\n",
    "    \n",
    "\n",
    "* Output:\n",
    "    * a scalar value representing a penalty for how wrong our prediction was. The greater the penatly, the worse our estimated weights were in classifying the data.\n",
    "    \n",
    "\n",
    "* For the sake of this example, let's assume that each data point, whether positive or negative, whether correctly or incorrectly classified, is 3 units away from the hyperplane.\n",
    "\n",
    "<p align=\"center\">\n",
    "  <img src=\"Figures/hinge_loss_breakdown.png\" >\n",
    "</p>"
   ]
  },
  {
   "cell_type": "code",
   "execution_count": 26,
   "metadata": {},
   "outputs": [],
   "source": [
    "def hinge_loss(X_i, y_i, weights):\n",
    "    loss = 1 - y_i * np.dot(weights.T, X_i)\n",
    "    if loss < 0:\n",
    "        loss = 0\n",
    "    return loss"
   ]
  },
  {
   "cell_type": "code",
   "execution_count": 27,
   "metadata": {},
   "outputs": [],
   "source": [
    "def hinge_loss(X_i, y_i, weights):\n",
    "    loss = 1 - y_i * np.dot(weights.T, X_i)\n",
    "    loss_array =  np.array([0,loss])\n",
    "    return np.amax(loss_array)"
   ]
  },
  {
   "cell_type": "code",
   "execution_count": 28,
   "metadata": {},
   "outputs": [
    {
     "data": {
      "text/plain": [
       "0.0"
      ]
     },
     "execution_count": 28,
     "metadata": {},
     "output_type": "execute_result"
    }
   ],
   "source": [
    "# quick test of hinge loss function\n",
    "# first run it with w = [2,-3,-2]\n",
    "# then run it with w = [50, -3, 2]\n",
    "hinge_loss(X[5,:], y[5], np.array([2, -3, -2]))"
   ]
  },
  {
   "cell_type": "markdown",
   "metadata": {},
   "source": [
    "#### Hinge Loss with regularization term:\n",
    "\n",
    "These two exmaples below exemplify how one outlier can skew the separating hyperplane, and thus the need for the regularization term.\n",
    "\n",
    "![Skewed hyp](Figures/skewed_hyp.png)\n",
    "\n",
    "* Here's [a great stack exchange explanation](https://datascience.stackexchange.com/questions/4943/intuition-for-the-regularization-parameter-in-svm) for the reasoning behind the regularization term in the Hinge Loss function.\n",
    "\n",
    "\n",
    "$$Loss\\ \\left(\\overrightarrow{w}, \\overrightarrow{x^{(i)}}, y^{(i)}\\right) = \\left[ 1 - y^{(i)} \\cdot \\left(\\overrightarrow{w} \\cdot \\overrightarrow{x^{(i)}} \\right)\\right]_+ + \\lambda\\sum_{i}^{n}\\ w_i^2$$\n",
    "\n",
    "* As $\\lambda$ gets smaller and smaller, the margin grows wider and wider (often to the point of misclassifying datapoints)\n",
    "* As $\\lambda$ gets larger and larger, the margin grows thinner and thinner (often to the point of perfectly classifying datapoints)\n",
    "\n",
    "![Skewed hyp](Figures/lambda_comparisons.png)"
   ]
  },
  {
   "cell_type": "code",
   "execution_count": 18,
   "metadata": {},
   "outputs": [],
   "source": [
    "weights = np.zeros(len(X[0]))"
   ]
  },
  {
   "cell_type": "markdown",
   "metadata": {},
   "source": [
    "---"
   ]
  },
  {
   "cell_type": "markdown",
   "metadata": {},
   "source": [
    "## Optimization: Stochastic Gradient Descent\n",
    "\n",
    "#### Resources:\n",
    "* [super helpful explanations of all types of gradient descent](https://am207.github.io/2017/wiki/gradientdescent.html#stochastic-gradient-descent)\n",
    "* Stanford's [interactive web demo](http://vision.stanford.edu/teaching/cs231n-demos/linear-classify/) that allows us to tinker with multi-class SVM gradient descent\n",
    "* Fantastic [visualizations of Gradient Descent](https://jed-ai.github.io/py1_gd_animation/) (and some mathematical representations)\n",
    "* Simple (as if any part of this is simple...) explanation of [how to calculcate the gradients](https://stats.stackexchange.com/questions/4608/gradient-of-hinge-loss) in Hinge Loss."
   ]
  },
  {
   "cell_type": "markdown",
   "metadata": {},
   "source": [
    "<p align=\"center\">\n",
    "  <img src=\"Figures/gradient_descent.png\" >\n",
    "</p>"
   ]
  },
  {
   "cell_type": "markdown",
   "metadata": {},
   "source": [
    "#### Calculating the Partial Derivatives\n",
    "* [Best resource online](http://mccormickml.com/2014/03/04/gradient-descent-derivation/) for gradient descent derivation\n",
    "\n",
    "Here is our objective function (function to optimize):\n",
    "\n",
    "$$Loss\\ \\left(\\overrightarrow{w}, \\overrightarrow{x^{(i)}}, y^{(i)}\\right) = \\left[ 1 - y^{(i)} \\cdot \\left(\\overrightarrow{w} \\cdot \\overrightarrow{x^{(i)}} \\right)\\right]_+ + \\lambda\\sum_{i}^{n}\\ w_i^2$$\n",
    "\n",
    "We will calulate the partial derivative of the loss term and regularization term separately:\n",
    "\n",
    "##### Derivative of Loss term:\n",
    "\n",
    "$$\\frac{\\delta}{\\delta w_j}\\ \\  \\left[ 1 - y^{(i)} \\cdot \\left(\\overrightarrow{w} \\cdot \\overrightarrow{x^{(i)}} \\right)\\right]_+= \\begin{cases}\n",
    "0&y^{(i)} \\cdot \\left(\\overrightarrow{w} \\cdot \\overrightarrow{x^{(i)}} \\right) \\geq 1\\\\\n",
    "-y^{(i)}x^{(i)}_{j}&\\ \\text{otherwise}\n",
    "\\end{cases}$$\n",
    "\n",
    "##### Derivative of Regularization term:\n",
    "\n",
    "$$\\frac{\\delta}{\\delta w_j}\\ \\ \\lambda\\sum_{i}^{n}\\ w_i^2 = 2\\lambda w_j$$\n",
    "\n",
    "#### Update Rules\n",
    "\n",
    "##### Correct Classification:\n",
    "\n",
    "$$\\overrightarrow{w} := \\overrightarrow{w} - \\alpha(2\\lambda\\overrightarrow{w})$$\n",
    "\n",
    "##### Incorrect Classification:\n",
    "\n",
    "$$\\overrightarrow{w} := \\overrightarrow{w} - \\alpha \\left(\\left(-y^{(i)}x^{(i)}_{j}\\right) + 2\\lambda\\overrightarrow{w}\\right)$$"
   ]
  },
  {
   "cell_type": "code",
   "execution_count": 88,
   "metadata": {},
   "outputs": [],
   "source": [
    "learning_rate = 1\n",
    "num_iters = 100\n",
    "w = np.zeros(len(X[0]))\n",
    "# lambda = 1/iteration\n",
    "loss_hist = []\n",
    "\n",
    "def Stochastic_Gradient_Descent(X, y, learning_rate, num_iters):\n",
    "    #X = add_intercept(X)\n",
    "    weights = np.zeros(len(X[0]))\n",
    "    loss_hist = []\n",
    "    for iteration in range(1, num_iters):\n",
    "        for row in range(len(X)):\n",
    "            loss = hinge_loss(X[row], y[row], weights)\n",
    "            loss_hist.append(loss)\n",
    "            if loss == 0:\n",
    "                weights = weights - learning_rate * ((2  * (1/iteration) * weights))\n",
    "            else:\n",
    "                weights = weights - learning_rate * ((-y[row] * X[row]) + (2  * (1/iteration) * weights))\n",
    "    return weights, loss_hist\n",
    "            "
   ]
  },
  {
   "cell_type": "code",
   "execution_count": 89,
   "metadata": {},
   "outputs": [],
   "source": [
    "weights, loss_hist = Stochastic_Gradient_Descent(X = X, y=y, learning_rate=1, num_iters = 500)"
   ]
  },
  {
   "cell_type": "code",
   "execution_count": 90,
   "metadata": {},
   "outputs": [
    {
     "data": {
      "text/plain": [
       "array([ 0.00466211, -3.89873489, -3.00597691])"
      ]
     },
     "execution_count": 90,
     "metadata": {},
     "output_type": "execute_result"
    }
   ],
   "source": [
    "weights"
   ]
  },
  {
   "cell_type": "code",
   "execution_count": 74,
   "metadata": {},
   "outputs": [
    {
     "data": {
      "text/plain": [
       "0.0"
      ]
     },
     "execution_count": 74,
     "metadata": {},
     "output_type": "execute_result"
    }
   ],
   "source": [
    "loss = []\n",
    "for i in range(len(X)):\n",
    "    loss.append(hinge_loss(X[i], y[i], weights))\n",
    "total_loss = np.sum(loss)\n",
    "total_loss"
   ]
  },
  {
   "cell_type": "code",
   "execution_count": 75,
   "metadata": {},
   "outputs": [
    {
     "data": {
      "text/plain": [
       "[<matplotlib.lines.Line2D at 0x1a1e242b00>]"
      ]
     },
     "execution_count": 75,
     "metadata": {},
     "output_type": "execute_result"
    },
    {
     "data": {
      "image/png": "[encoded data removed]",
      "text/plain": [
       "<matplotlib.figure.Figure at 0x1a1e6349e8>"
      ]
     },
     "metadata": {},
     "output_type": "display_data"
    }
   ],
   "source": [
    "# it works, we've found the perfectly separating hyperplane!\n",
    "plt.figure(figsize = (8,5))\n",
    "plt.scatter(X[:,1], X[:,2], c=y, cmap = 'jet')\n",
    "ax = plt.gca()\n",
    "xlim = ax.get_xlim()\n",
    "ylim = ax.get_ylim()\n",
    "xx = np.linspace(xlim[0], xlim[1], 100)\n",
    "plt.plot(xx, (-weights[1]/weights[2]) * xx - (weights[0]/weights[2]))"
   ]
  },
  {
   "cell_type": "markdown",
   "metadata": {},
   "source": [
    "---"
   ]
  },
  {
   "cell_type": "markdown",
   "metadata": {},
   "source": [
    "---"
   ]
  },
  {
   "cell_type": "markdown",
   "metadata": {},
   "source": [
    "---"
   ]
  },
  {
   "cell_type": "markdown",
   "metadata": {},
   "source": [
    "# Applying SVM to GR Crash Data"
   ]
  },
  {
   "cell_type": "markdown",
   "metadata": {},
   "source": [
    "* Instead of their traditional SVM, I could use the [Stochastic Gradient Descent Classifier](http://scikit-learn.org/stable/modules/sgd.html)\n",
    "\n",
    "```python\n",
    "from sklearn.linear_model import SGDClassifier\n",
    "clf = SGDClassifier(loss=\"hinge\", alpha=0.01, penalty=\"l2\", fit_intercept=True)\n",
    "clf.fit(X, y)\n",
    "```\n",
    "\n",
    "Note that `SVC(kernel=\"linear\")` is equivalent to `SGDClassifier(loss=\"hinge\")` as [scikit-learn's documentation indicates](http://scikit-learn.org/stable/auto_examples/svm/plot_separating_hyperplane_unbalanced.html#sphx-glr-auto-examples-svm-plot-separating-hyperplane-unbalanced-py)"
   ]
  },
  {
   "cell_type": "code",
   "execution_count": 2,
   "metadata": {},
   "outputs": [],
   "source": [
    "X_cols = ['X', 'Y', 'DRIVER1AGE', 'NUMOFINJ', 'HOUR_X', 'HOUR_Y',\n",
    "          'CRASHSEVER_Fatal', 'CRASHSEVER_Injury', 'DRIVER1SEX_M', 'DRIVER1SEX_U',\n",
    "          'HITANDRUN_Yes', 'MOTORCYCLE_Yes',\n",
    "          'D1COND_Appeared Normal', 'D1COND_Fatigue / Sick']\n",
    "y_cols = 'D1DRINKIN_Yes'"
   ]
  },
  {
   "cell_type": "code",
   "execution_count": 3,
   "metadata": {},
   "outputs": [],
   "source": [
    "#crash_data = pd.read_csv('Data/Crash_data_prepared.csv')\n",
    "data_url = \"https://raw.githubusercontent.com/collinprather/Big-Data-Ignite-2018/master/Data/Crash_data_prepared.csv\"\n",
    "crash_data = pd.read_csv(data_url)\n",
    "X = crash_data.loc[:, X_cols]\n",
    "y = crash_data.loc[:, y_cols]"
   ]
  },
  {
   "cell_type": "code",
   "execution_count": 4,
   "metadata": {},
   "outputs": [
    {
     "data": {
      "text/html": [
       "<div>\n",
       "<style>\n",
       "    .dataframe thead tr:only-child th {\n",
       "        text-align: right;\n",
       "    }\n",
       "\n",
       "    .dataframe thead th {\n",
       "        text-align: left;\n",
       "    }\n",
       "\n",
       "    .dataframe tbody tr th {\n",
       "        vertical-align: top;\n",
       "    }\n",
       "</style>\n",
       "<table border=\"1\" class=\"dataframe\">\n",
       "  <thead>\n",
       "    <tr style=\"text-align: right;\">\n",
       "      <th></th>\n",
       "      <th>X</th>\n",
       "      <th>Y</th>\n",
       "      <th>DRIVER1AGE</th>\n",
       "      <th>NUMOFINJ</th>\n",
       "      <th>HOUR_X</th>\n",
       "      <th>HOUR_Y</th>\n",
       "      <th>CRASHSEVER_Fatal</th>\n",
       "      <th>CRASHSEVER_Injury</th>\n",
       "      <th>DRIVER1SEX_M</th>\n",
       "      <th>DRIVER1SEX_U</th>\n",
       "      <th>EMRGVEH_Yes</th>\n",
       "      <th>HITANDRUN_Yes</th>\n",
       "      <th>MOTORCYCLE_Yes</th>\n",
       "      <th>D1COND_Appeared Normal</th>\n",
       "      <th>D1COND_Fatigue / Sick</th>\n",
       "      <th>D1DRINKIN_Yes</th>\n",
       "      <th>SPEEDLIMIT_BINS_25&lt;speed&lt;45</th>\n",
       "      <th>SPEEDLIMIT_BINS_45&lt;speed&lt;65</th>\n",
       "      <th>SPEEDLIMIT_BINS_65&lt;speed</th>\n",
       "    </tr>\n",
       "  </thead>\n",
       "  <tbody>\n",
       "    <tr>\n",
       "      <th>0</th>\n",
       "      <td>0.406318</td>\n",
       "      <td>-0.996140</td>\n",
       "      <td>1.685157</td>\n",
       "      <td>-0.416816</td>\n",
       "      <td>-0.258819</td>\n",
       "      <td>-9.659258e-01</td>\n",
       "      <td>0</td>\n",
       "      <td>0</td>\n",
       "      <td>0</td>\n",
       "      <td>0</td>\n",
       "      <td>0</td>\n",
       "      <td>1</td>\n",
       "      <td>0</td>\n",
       "      <td>1</td>\n",
       "      <td>0</td>\n",
       "      <td>0</td>\n",
       "      <td>1</td>\n",
       "      <td>0</td>\n",
       "      <td>0</td>\n",
       "    </tr>\n",
       "    <tr>\n",
       "      <th>1</th>\n",
       "      <td>0.411006</td>\n",
       "      <td>-0.996237</td>\n",
       "      <td>-0.269018</td>\n",
       "      <td>-0.416816</td>\n",
       "      <td>-1.000000</td>\n",
       "      <td>-1.836970e-16</td>\n",
       "      <td>0</td>\n",
       "      <td>0</td>\n",
       "      <td>1</td>\n",
       "      <td>0</td>\n",
       "      <td>0</td>\n",
       "      <td>1</td>\n",
       "      <td>0</td>\n",
       "      <td>0</td>\n",
       "      <td>0</td>\n",
       "      <td>0</td>\n",
       "      <td>1</td>\n",
       "      <td>0</td>\n",
       "      <td>0</td>\n",
       "    </tr>\n",
       "    <tr>\n",
       "      <th>2</th>\n",
       "      <td>0.413936</td>\n",
       "      <td>-0.996298</td>\n",
       "      <td>-0.836360</td>\n",
       "      <td>-0.416816</td>\n",
       "      <td>0.866025</td>\n",
       "      <td>-5.000000e-01</td>\n",
       "      <td>0</td>\n",
       "      <td>0</td>\n",
       "      <td>0</td>\n",
       "      <td>0</td>\n",
       "      <td>0</td>\n",
       "      <td>0</td>\n",
       "      <td>0</td>\n",
       "      <td>1</td>\n",
       "      <td>0</td>\n",
       "      <td>0</td>\n",
       "      <td>1</td>\n",
       "      <td>0</td>\n",
       "      <td>0</td>\n",
       "    </tr>\n",
       "    <tr>\n",
       "      <th>3</th>\n",
       "      <td>0.416866</td>\n",
       "      <td>-0.996358</td>\n",
       "      <td>-0.332056</td>\n",
       "      <td>-0.416816</td>\n",
       "      <td>-0.866025</td>\n",
       "      <td>-5.000000e-01</td>\n",
       "      <td>0</td>\n",
       "      <td>0</td>\n",
       "      <td>1</td>\n",
       "      <td>0</td>\n",
       "      <td>0</td>\n",
       "      <td>1</td>\n",
       "      <td>0</td>\n",
       "      <td>1</td>\n",
       "      <td>0</td>\n",
       "      <td>0</td>\n",
       "      <td>1</td>\n",
       "      <td>0</td>\n",
       "      <td>0</td>\n",
       "    </tr>\n",
       "    <tr>\n",
       "      <th>4</th>\n",
       "      <td>0.416866</td>\n",
       "      <td>-0.996358</td>\n",
       "      <td>0.550474</td>\n",
       "      <td>-0.416816</td>\n",
       "      <td>-0.707107</td>\n",
       "      <td>-7.071068e-01</td>\n",
       "      <td>0</td>\n",
       "      <td>0</td>\n",
       "      <td>1</td>\n",
       "      <td>0</td>\n",
       "      <td>0</td>\n",
       "      <td>0</td>\n",
       "      <td>0</td>\n",
       "      <td>1</td>\n",
       "      <td>0</td>\n",
       "      <td>0</td>\n",
       "      <td>1</td>\n",
       "      <td>0</td>\n",
       "      <td>0</td>\n",
       "    </tr>\n",
       "  </tbody>\n",
       "</table>\n",
       "</div>"
      ],
      "text/plain": [
       "          X         Y  DRIVER1AGE  NUMOFINJ    HOUR_X        HOUR_Y  \\\n",
       "0  0.406318 -0.996140    1.685157 -0.416816 -0.258819 -9.659258e-01   \n",
       "1  0.411006 -0.996237   -0.269018 -0.416816 -1.000000 -1.836970e-16   \n",
       "2  0.413936 -0.996298   -0.836360 -0.416816  0.866025 -5.000000e-01   \n",
       "3  0.416866 -0.996358   -0.332056 -0.416816 -0.866025 -5.000000e-01   \n",
       "4  0.416866 -0.996358    0.550474 -0.416816 -0.707107 -7.071068e-01   \n",
       "\n",
       "   CRASHSEVER_Fatal  CRASHSEVER_Injury  DRIVER1SEX_M  DRIVER1SEX_U  \\\n",
       "0                 0                  0             0             0   \n",
       "1                 0                  0             1             0   \n",
       "2                 0                  0             0             0   \n",
       "3                 0                  0             1             0   \n",
       "4                 0                  0             1             0   \n",
       "\n",
       "   EMRGVEH_Yes  HITANDRUN_Yes  MOTORCYCLE_Yes  D1COND_Appeared Normal  \\\n",
       "0            0              1               0                       1   \n",
       "1            0              1               0                       0   \n",
       "2            0              0               0                       1   \n",
       "3            0              1               0                       1   \n",
       "4            0              0               0                       1   \n",
       "\n",
       "   D1COND_Fatigue / Sick  D1DRINKIN_Yes  SPEEDLIMIT_BINS_25<speed<45  \\\n",
       "0                      0              0                            1   \n",
       "1                      0              0                            1   \n",
       "2                      0              0                            1   \n",
       "3                      0              0                            1   \n",
       "4                      0              0                            1   \n",
       "\n",
       "   SPEEDLIMIT_BINS_45<speed<65  SPEEDLIMIT_BINS_65<speed  \n",
       "0                            0                         0  \n",
       "1                            0                         0  \n",
       "2                            0                         0  \n",
       "3                            0                         0  \n",
       "4                            0                         0  "
      ]
     },
     "execution_count": 4,
     "metadata": {},
     "output_type": "execute_result"
    }
   ],
   "source": [
    "crash_data.head()"
   ]
  },
  {
   "cell_type": "markdown",
   "metadata": {},
   "source": [
    "## Statistical Re-sampling\n",
    "Since the recall was still very low after training our SVM, we will use a statistical re-sampling technique designed for dealing with imbalanced classes, like ours. We'll be using some tools from the [imbalanced-learn package](http://contrib.scikit-learn.org/imbalanced-learn/stable/under_sampling.html)"
   ]
  },
  {
   "cell_type": "markdown",
   "metadata": {},
   "source": [
    "* `Recall` is our metric of choice. [this article](https://towardsdatascience.com/beyond-accuracy-precision-and-recall-3da06bea9f6c) provides a great explanation for why\n",
    "    * In our instance, we're okay with incorectly guessing that there was alcohol involved with some car crashes, if it means predicting all the instances when there was alcohol involved\n",
    "    * Generally speaking, when dealing with an imbalanced dataset, oversampling is a good technique to increase recall\n",
    "* [this](https://beckernick.github.io/oversampling-modeling/) is a great article on the right way to oversmple."
   ]
  },
  {
   "cell_type": "code",
   "execution_count": 5,
   "metadata": {},
   "outputs": [],
   "source": [
    "#!pip install -U imbalanced-learn        # only run this in colab.research.google.com\n",
    "from imblearn.over_sampling import SMOTE\n",
    "from sklearn.svm import SVC\n",
    "from collections import Counter\n",
    "from sklearn.model_selection import train_test_split\n",
    "from sklearn.metrics import confusion_matrix, classification_report, precision_score, roc_curve, auc"
   ]
  },
  {
   "cell_type": "code",
   "execution_count": 6,
   "metadata": {},
   "outputs": [],
   "source": [
    "X_train, X_test, y_train, y_test = train_test_split(X, y, random_state=742)"
   ]
  },
  {
   "cell_type": "code",
   "execution_count": 7,
   "metadata": {},
   "outputs": [],
   "source": [
    "X_train_resampled, y_train_resampled = SMOTE().fit_sample(X_train, y_train)"
   ]
  },
  {
   "cell_type": "code",
   "execution_count": 8,
   "metadata": {},
   "outputs": [
    {
     "name": "stdout",
     "output_type": "stream",
     "text": [
      "From the training data, the number of observations from each class is as follows: [(0, 52717), (1, 2015)] \n",
      "\n",
      "From the oversampled training data, the number of observations from each class is as follows: [(0, 52717), (1, 52717)] \n",
      "\n"
     ]
    }
   ],
   "source": [
    "print(\"From the training data, the number of observations from each class is as follows:\", sorted(Counter(y_train).items()), \"\\n\")\n",
    "print(\"From the oversampled training data, the number of observations from each class is as follows:\", sorted(Counter(y_train_resampled).items()), \"\\n\")"
   ]
  },
  {
   "cell_type": "code",
   "execution_count": 9,
   "metadata": {},
   "outputs": [
    {
     "data": {
      "text/plain": [
       "SVC(C=1.0, cache_size=200, class_weight=None, coef0=0.0,\n",
       "  decision_function_shape='ovr', degree=3, gamma='auto', kernel='linear',\n",
       "  max_iter=-1, probability=False, random_state=None, shrinking=True,\n",
       "  tol=0.001, verbose=False)"
      ]
     },
     "execution_count": 9,
     "metadata": {},
     "output_type": "execute_result"
    }
   ],
   "source": [
    "clf = SVC(kernel='linear')\n",
    "clf.fit(X_train_resampled, y_train_resampled)"
   ]
  },
  {
   "cell_type": "code",
   "execution_count": 10,
   "metadata": {},
   "outputs": [
    {
     "name": "stdout",
     "output_type": "stream",
     "text": [
      "             precision    recall  f1-score   support\n",
      "\n",
      "          0       1.00      0.91      0.95     17543\n",
      "          1       0.30      0.94      0.46       702\n",
      "\n",
      "avg / total       0.97      0.91      0.93     18245\n",
      "\n"
     ]
    }
   ],
   "source": [
    "y_pred = clf.predict(X_test)\n",
    "print(classification_report(y_test, y_pred))"
   ]
  },
  {
   "cell_type": "code",
   "execution_count": 11,
   "metadata": {},
   "outputs": [
    {
     "name": "stdout",
     "output_type": "stream",
     "text": [
      "True negatives: 16032\n",
      "True positives: 657\n",
      "False negatives: 45\n",
      "False Positives: 1511\n",
      "\n",
      " [[16032  1511]\n",
      " [   45   657]]\n"
     ]
    }
   ],
   "source": [
    "tn, fp, fn, tp = confusion_matrix(y_test, y_pred).ravel()\n",
    "print('True negatives:', tn)\n",
    "print('True positives:', tp)\n",
    "print('False negatives:', fn)\n",
    "print('False Positives:', fp)\n",
    "print('\\n', confusion_matrix(y_test, y_pred))"
   ]
  },
  {
   "cell_type": "code",
   "execution_count": 12,
   "metadata": {},
   "outputs": [],
   "source": [
    "import itertools\n",
    "\n",
    "def plot_confusion_matrix(cm, classes,\n",
    "                          normalize=False,\n",
    "                          title='Confusion matrix',\n",
    "                          cmap=plt.cm.Blues):\n",
    "    \"\"\"\n",
    "    This function prints and plots the confusion matrix.\n",
    "    Normalization can be applied by setting `normalize=True`.\n",
    "    \"\"\"\n",
    "    if normalize:\n",
    "        cm = cm.astype('float') / cm.sum(axis=1)[:, np.newaxis]\n",
    "        print(\"Normalized confusion matrix\")\n",
    "    else:\n",
    "        print('Confusion matrix, without normalization')\n",
    "\n",
    "    print(cm)\n",
    "\n",
    "    plt.imshow(cm, interpolation='nearest', cmap=cmap)\n",
    "    plt.title(title)\n",
    "    plt.colorbar()\n",
    "    tick_marks = np.arange(len(classes))\n",
    "    plt.xticks(tick_marks, classes, rotation=45)\n",
    "    plt.yticks(tick_marks, classes)\n",
    "\n",
    "    fmt = '.2f' if normalize else 'd'\n",
    "    thresh = cm.max() / 2.\n",
    "    for i, j in itertools.product(range(cm.shape[0]), range(cm.shape[1])):\n",
    "        plt.text(j, i, format(cm[i, j], fmt),\n",
    "                 horizontalalignment=\"center\",\n",
    "                 color=\"white\" if cm[i, j] > thresh else \"black\")\n",
    "\n",
    "    plt.tight_layout()\n",
    "    plt.ylabel('True label')\n",
    "    plt.xlabel('Predicted label')"
   ]
  },
  {
   "cell_type": "code",
   "execution_count": 13,
   "metadata": {},
   "outputs": [
    {
     "name": "stdout",
     "output_type": "stream",
     "text": [
      "Normalized confusion matrix\n",
      "[[ 0.91  0.09]\n",
      " [ 0.06  0.94]]\n"
     ]
    },
    {
     "data": {
      "image/png": "[encoded data removed]",
      "text/plain": [
       "<matplotlib.figure.Figure at 0x1a155cd780>"
      ]
     },
     "metadata": {},
     "output_type": "display_data"
    }
   ],
   "source": [
    "# define figure and add subplots\n",
    "fig, (ax1, ax2) = plt.subplots(1,2, figsize=(12,5))\n",
    "\n",
    "y_score = clf.decision_function(X_test)\n",
    "\n",
    "# Compute ROC curve and ROC area for each class\n",
    "fpr, tpr, thresholds = roc_curve(y_test, y_score)\n",
    "roc_auc = auc(fpr, tpr)\n",
    "\n",
    "# Plotting the ROC curve\n",
    "lw=2\n",
    "ax1.plot(fpr, tpr, color='darkorange',\n",
    "         lw=lw, label='ROC curve (area = %0.2f)' % roc_auc)\n",
    "ax1.plot([0, 1], [0, 1], color='navy', lw=lw, linestyle='--')\n",
    "ax1.set_xlim([0.0, 1.0])\n",
    "ax1.set_ylim([0.0, 1.05])\n",
    "ax1.set_xlabel('False Positive Rate')\n",
    "ax1.set_ylabel('True Positive Rate')\n",
    "ax1.set_title('ROC Curve')\n",
    "ax1.legend(loc=\"lower right\")\n",
    "\n",
    "# Compute confusion matrix\n",
    "cm = confusion_matrix(y_test, y_pred)\n",
    "np.set_printoptions(precision=2)\n",
    "\n",
    "# Plot normalized confusion matrix\n",
    "plot_confusion_matrix(cm, classes=['No Alcohol', 'Alcohol Involved'], normalize=True,\n",
    "                      title='Normalized confusion matrix')\n",
    "\n",
    "# adjust spacing\n",
    "plt.subplots_adjust(left=None, bottom=None, right=None, top=None,\n",
    "                wspace=.5, hspace=None)"
   ]
  }
 ],
 "metadata": {
  "kernelspec": {
   "display_name": "Python 3",
   "language": "python",
   "name": "python3"
  },
  "language_info": {
   "codemirror_mode": {
    "name": "ipython",
    "version": 3
   },
   "file_extension": ".py",
   "mimetype": "text/x-python",
   "name": "python",
   "nbconvert_exporter": "python",
   "pygments_lexer": "ipython3",
   "version": "3.6.3"
  }
 },
 "nbformat": 4,
 "nbformat_minor": 2
}
