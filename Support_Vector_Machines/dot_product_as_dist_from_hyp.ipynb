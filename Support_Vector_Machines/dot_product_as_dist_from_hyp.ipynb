{
 "cells": [
  {
   "cell_type": "markdown",
   "metadata": {},
   "source": [
    "# Dot Product of a data point and the coefficient vector as the Distance from datapoint to hyperplane"
   ]
  },
  {
   "cell_type": "markdown",
   "metadata": {},
   "source": [
    "The title says it all. Let's prove it."
   ]
  },
  {
   "cell_type": "markdown",
   "metadata": {},
   "source": [
    "The [dot product](https://en.wikipedia.org/wiki/Dot_product) is a fundamental operation when working with data and an integral part of many machine learning algorithms. There are a few equivalent, but different ways to calculate the dot product of two vectors."
   ]
  },
  {
   "cell_type": "markdown",
   "metadata": {},
   "source": [
    "## Algebraic Definition\n",
    "\n",
    "Algebraically, the dot product is defined as follows:\n",
    "for two vectors $$\\overrightarrow{x}=\\left[\\begin{matrix}\n",
    "x_1\\\\\n",
    "y_1\\\\\n",
    "\\end{matrix}\n",
    "\\right],\\ \n",
    "\\overrightarrow{y} = \\left[\\begin{matrix}\n",
    "y_1\\\\\n",
    "y_2\\\\\n",
    "\\end{matrix}\n",
    "\\right]\n",
    "$$\n",
    "The dot product is:\n",
    "$$\\overrightarrow{x} \\cdot \\overrightarrow{y} = x_1y_1+x_2y_2$$\n",
    "\n",
    "Occasionally, you'll see this representation as well:\n",
    "$$\\overrightarrow{x} \\cdot \\overrightarrow{y} = \\overrightarrow{x}^T\\overrightarrow{y}$$"
   ]
  },
  {
   "cell_type": "markdown",
   "metadata": {},
   "source": [
    "## Geometric Definition\n",
    "Geometrically, the dot product of two vectors $\\overrightarrow{x}$ and $\\overrightarrow{y}$ is the product of their magnitudes, multiplied by the angle between them. Expressed mathematically,\n",
    "$$\\overrightarrow{x} \\cdot \\overrightarrow{y} = ||\\overrightarrow{x}||\\ ||\\overrightarrow{y}|| \\cos\\theta$$\n",
    "where $\\theta$ is the angle between the vectors."
   ]
  },
  {
   "cell_type": "markdown",
   "metadata": {},
   "source": [
    "![Labeled Angles Graph](angles_graph.png)"
   ]
  },
  {
   "cell_type": "markdown",
   "metadata": {},
   "source": [
    "Often, we may not be able to calculate the angle $\\theta$ between the vectors directly, but we can use a trigonometric identity to calculate its cos if we know $\\beta$ and $\\alpha$, like above:\n",
    "\\begin{align*}\n",
    "\t\\cos{\\theta}=\\cos(\\beta-\\alpha)&=(\\cos\\beta)(\\cos\\alpha) + (\\sin\\beta)(\\sin\\alpha)\\\\\n",
    "\t\\cos\\theta&=\\left(\\frac{u_1}{||\\overrightarrow{u}||}\\right)\\left(\\frac{v_1}{||\\overrightarrow{v}||}\\right) + \n",
    "\t\\left(\\frac{u_2}{||\\overrightarrow{u}||}\\right)\\left(\\frac{v_2}{||\\overrightarrow{v}||}\\right)\\\\\n",
    "\t\\cos\\theta&= \\frac{u_1v_1}{||\\overrightarrow{u}||||\\overrightarrow{v}||} + \\frac{u_2v_2}{||\\overrightarrow{u}||||\\overrightarrow{v}||}\\\\\n",
    "\t\\cos\\theta&= \\frac{u_1v_1+u_2v_2}{||\\overrightarrow{u}||||\\overrightarrow{v}||}\\\\\n",
    "\t(\\cos\\theta)(||\\overrightarrow{u}||||\\overrightarrow{v}||)&=u_1v_1+u_2v_2\\\\\n",
    "\t(\\cos\\theta)(||\\overrightarrow{u}||||\\overrightarrow{v}||)&= \\overrightarrow{u}\\cdot\\overrightarrow{v}\n",
    "\\end{align*}\n",
    "\n",
    "In the last two lines, we applied a bit of algebraic manipulation to verify the geometric definiton of the dot product."
   ]
  },
  {
   "cell_type": "code",
   "execution_count": null,
   "metadata": {},
   "outputs": [],
   "source": []
  }
 ],
 "metadata": {
  "kernelspec": {
   "display_name": "Python 3",
   "language": "python",
   "name": "python3"
  },
  "language_info": {
   "codemirror_mode": {
    "name": "ipython",
    "version": 3
   },
   "file_extension": ".py",
   "mimetype": "text/x-python",
   "name": "python",
   "nbconvert_exporter": "python",
   "pygments_lexer": "ipython3",
   "version": "3.6.3"
  }
 },
 "nbformat": 4,
 "nbformat_minor": 2
}
