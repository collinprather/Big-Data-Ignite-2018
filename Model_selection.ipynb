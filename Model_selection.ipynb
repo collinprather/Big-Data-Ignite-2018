{
 "cells": [
  {
   "cell_type": "code",
   "execution_count": 1,
   "metadata": {},
   "outputs": [],
   "source": [
    "import numpy as np\n",
    "import pandas as pd\n",
    "import matplotlib.pyplot as plt\n",
    "%matplotlib inline\n",
    "\n",
    "from sklearn.svm import SVC\n",
    "from sklearn.linear_model import SGDClassifier, LogisticRegression\n",
    "from sklearn.model_selection import train_test_split, cross_validate, GridSearchCV\n",
    "\n",
    "from sklearn.metrics import confusion_matrix, classification_report, precision_score, roc_curve, auc"
   ]
  },
  {
   "cell_type": "code",
   "execution_count": 2,
   "metadata": {},
   "outputs": [],
   "source": [
    "# Consider adding different features to the data? Tailored for HITANDRUN?\n",
    "# Tinker with the 'C' parameter in SVM"
   ]
  },
  {
   "cell_type": "code",
   "execution_count": 3,
   "metadata": {},
   "outputs": [],
   "source": [
    "X = pd.read_csv('Data/Analysis2/Crash_X2_prepared.csv')\n",
    "# deleting the dummie columns that double up\n",
    "X = X.drop(['DRIVER1SEX_F', 'EMRGVEH_No', 'D1COND_Fatigue / Sick', 'MOTORCYCLE_No', 'CRASHSEVER_Property Damage Only' ], axis=1)\n",
    "y = pd.read_csv('Data/Analysis2/Crash_y2.csv')"
   ]
  },
  {
   "cell_type": "code",
   "execution_count": 4,
   "metadata": {},
   "outputs": [
    {
     "data": {
      "text/plain": [
       "'# If you run this, it changes y to be hitandruns\\nX = pd.concat((X, pd.DataFrame(y)), axis=1)\\nX = X.rename(index=str, columns={\"0\": \"D1DRINKIN\"})\\ny = X[\\'HITANDRUN_Yes\\']\\nX = X.drop([\\'HITANDRUN_Yes\\'], axis=1)'"
      ]
     },
     "execution_count": 4,
     "metadata": {},
     "output_type": "execute_result"
    }
   ],
   "source": [
    "'''# If you run this, it changes y to be hitandruns\n",
    "X = pd.concat((X, pd.DataFrame(y)), axis=1)\n",
    "X = X.rename(index=str, columns={\"0\": \"D1DRINKIN\"})\n",
    "y = X['HITANDRUN_Yes']\n",
    "X = X.drop(['HITANDRUN_Yes'], axis=1)'''"
   ]
  },
  {
   "cell_type": "code",
   "execution_count": 177,
   "metadata": {},
   "outputs": [
    {
     "name": "stdout",
     "output_type": "stream",
     "text": [
      "class weight for 0 is: 0.568637000061\n",
      "class weight for 1 is: 4.14235033259\n"
     ]
    }
   ],
   "source": [
    "# Class weights\n",
    "n_samples = len(X)\n",
    "n_classes = 2\n",
    "class_weights = n_samples / (n_classes * np.bincount(y))\n",
    "print('class weight for 0 is:', class_weights[0])\n",
    "print('class weight for 1 is:', class_weights[1])"
   ]
  },
  {
   "cell_type": "code",
   "execution_count": 182,
   "metadata": {},
   "outputs": [
    {
     "data": {
      "text/plain": [
       "array([57308, 15669])"
      ]
     },
     "execution_count": 182,
     "metadata": {},
     "output_type": "execute_result"
    }
   ],
   "source": [
    "np.bincount(y)"
   ]
  },
  {
   "cell_type": "code",
   "execution_count": 8,
   "metadata": {},
   "outputs": [],
   "source": [
    "X_train, X_test, y_train, y_test = train_test_split(X, y, test_size=0.33, random_state=1)"
   ]
  },
  {
   "cell_type": "markdown",
   "metadata": {},
   "source": [
    "* Since very unbalanced, [this stack exchange](https://stats.stackexchange.com/questions/94295/svm-for-unbalanced-data) should help\n",
    "* Looks like [this](http://scikit-learn.org/stable/auto_examples/svm/plot_separating_hyperplane_unbalanced.html), using [Stochastic Gradient Descent](http://scikit-learn.org/stable/modules/generated/sklearn.linear_model.SGDClassifier.html) is our scikit learn option\n",
    "* Here's [Scikit Learn's full SVM Documentation and explanations](http://scikit-learn.org/stable/modules/svm.html)"
   ]
  },
  {
   "cell_type": "code",
   "execution_count": 5,
   "metadata": {},
   "outputs": [
    {
     "data": {
      "text/plain": [
       "SVC(C=1.0, cache_size=200, class_weight=None, coef0=0.0,\n",
       "  decision_function_shape='ovr', degree=3, gamma='auto', kernel='linear',\n",
       "  max_iter=-1, probability=False, random_state=None, shrinking=True,\n",
       "  tol=0.001, verbose=False)"
      ]
     },
     "execution_count": 5,
     "metadata": {},
     "output_type": "execute_result"
    }
   ],
   "source": [
    "# Fit the SVM model\n",
    "# This appears to be my best model!\n",
    "clf = SVC(kernel='linear')\n",
    "clf.fit(X_train, y_train.values.ravel())"
   ]
  },
  {
   "cell_type": "code",
   "execution_count": 12,
   "metadata": {},
   "outputs": [
    {
     "data": {
      "text/plain": [
       "array([[ -6.29920955e-05,  -2.55673019e-05,   5.47977257e-05,\n",
       "         -3.67141563e-05,   2.43862441e-05,   5.19146302e-05,\n",
       "         -8.16505670e-04,   9.07554341e-05,   1.17477975e-05,\n",
       "          1.99982838e+00,  -1.67895171e-04,   1.94747806e-04,\n",
       "         -1.94747803e-04,   5.04960751e-06,   1.07416327e-04,\n",
       "          3.72678038e-04]])"
      ]
     },
     "execution_count": 12,
     "metadata": {},
     "output_type": "execute_result"
    }
   ],
   "source": [
    "clf.coef_"
   ]
  },
  {
   "cell_type": "markdown",
   "metadata": {},
   "source": [
    "* Here are [metric options](https://towardsdatascience.com/what-metrics-should-we-use-on-imbalanced-data-set-precision-recall-roc-e2e79252aeba) for unbalanced classification problems like this one According to that article, precision is the best metric in our case."
   ]
  },
  {
   "cell_type": "code",
   "execution_count": 8,
   "metadata": {},
   "outputs": [
    {
     "name": "stdout",
     "output_type": "stream",
     "text": [
      "             precision    recall  f1-score   support\n",
      "\n",
      "          0       0.86      0.99      0.92     18944\n",
      "          1       0.89      0.42      0.57      5139\n",
      "\n",
      "avg / total       0.87      0.86      0.84     24083\n",
      "\n"
     ]
    }
   ],
   "source": [
    "y_pred = clf.predict(X_test)\n",
    "print(classification_report(y_test, y_pred))"
   ]
  },
  {
   "cell_type": "code",
   "execution_count": 9,
   "metadata": {},
   "outputs": [
    {
     "name": "stdout",
     "output_type": "stream",
     "text": [
      "True negatives: 18679\n",
      "True positives: 2136\n",
      "False negatives: 3003\n",
      "False Positives: 265\n"
     ]
    }
   ],
   "source": [
    "tn, fp, fn, tp = confusion_matrix(y_test, y_pred).ravel()\n",
    "print('True negatives:', tn)\n",
    "print('True positives:', tp)\n",
    "print('False negatives:', fn)\n",
    "print('False Positives:', fp)"
   ]
  },
  {
   "cell_type": "code",
   "execution_count": 10,
   "metadata": {},
   "outputs": [
    {
     "data": {
      "text/plain": [
       "array([[18679,   265],\n",
       "       [ 3003,  2136]])"
      ]
     },
     "execution_count": 10,
     "metadata": {},
     "output_type": "execute_result"
    }
   ],
   "source": [
    "confusion_matrix(y_test, y_pred)"
   ]
  },
  {
   "cell_type": "code",
   "execution_count": 11,
   "metadata": {},
   "outputs": [
    {
     "data": {
      "image/png": "[encoded data removed]",
      "text/plain": [
       "<matplotlib.figure.Figure at 0x1a0a5abba8>"
      ]
     },
     "metadata": {},
     "output_type": "display_data"
    }
   ],
   "source": [
    "y_score = clf.decision_function(X_test)\n",
    "\n",
    "# Compute ROC curve and ROC area for each class\n",
    "fpr, tpr, thresholds = roc_curve(y_test, y_score)\n",
    "roc_auc = auc(fpr, tpr)\n",
    "\n",
    "# Plotting the ROC curve\n",
    "plt.figure()\n",
    "lw = 2\n",
    "plt.plot(fpr, tpr, color='darkorange',\n",
    "         lw=lw, label='ROC curve (area = %0.2f)' % roc_auc)\n",
    "plt.plot([0, 1], [0, 1], color='navy', lw=lw, linestyle='--')\n",
    "plt.xlim([0.0, 1.0])\n",
    "plt.ylim([0.0, 1.05])\n",
    "plt.xlabel('False Positive Rate')\n",
    "plt.ylabel('True Positive Rate')\n",
    "plt.title('ROC Curve')\n",
    "plt.legend(loc=\"lower right\")\n",
    "plt.show()"
   ]
  },
  {
   "cell_type": "markdown",
   "metadata": {},
   "source": [
    "### Cross-Validation"
   ]
  },
  {
   "cell_type": "code",
   "execution_count": 59,
   "metadata": {},
   "outputs": [],
   "source": [
    "clf = SVC(kernel='linear')\n",
    "cv_results = cross_validate(clf, X, y.values.ravel(), return_train_score=False, cv=5, scoring = ['precision', 'recall', 'roc_auc'])"
   ]
  },
  {
   "cell_type": "code",
   "execution_count": 60,
   "metadata": {},
   "outputs": [
    {
     "data": {
      "text/plain": [
       "dict_keys(['fit_time', 'score_time', 'test_precision', 'test_recall', 'test_roc_auc'])"
      ]
     },
     "execution_count": 60,
     "metadata": {},
     "output_type": "execute_result"
    }
   ],
   "source": [
    "cv_results.keys()"
   ]
  },
  {
   "cell_type": "code",
   "execution_count": 61,
   "metadata": {},
   "outputs": [
    {
     "name": "stdout",
     "output_type": "stream",
     "text": [
      "Using cross-validation:\n",
      "The fit_time was: [ 45.39114285  45.61735773  50.71426201  44.16301799  49.56031179]\n",
      "The score_time was: [ 16.58702612  13.40687537  13.37206793  13.13113308  14.74525309]\n",
      "The test_precision was: [ 0.90909091  0.90755735  0.88997214  0.87054161  0.86648685]\n",
      "The test_recall was: [ 0.4275686   0.42916401  0.40778558  0.42054882  0.41015002]\n",
      "The test_roc_auc was: [ 0.80989573  0.7989994   0.79821036  0.79120528  0.78035172]\n"
     ]
    }
   ],
   "source": [
    "print('Using cross-validation:')\n",
    "for i in cv_results.keys():\n",
    "    print('The', i, 'was:', cv_results[i])"
   ]
  },
  {
   "cell_type": "code",
   "execution_count": 120,
   "metadata": {},
   "outputs": [],
   "source": [
    "clf = SVC(kernel='linear')\n",
    "params = {'C': 1}\n",
    "cv_clf = GridSearchCV(estimator = clf, param_grid = params, cv=5, scoring = 'precision')"
   ]
  },
  {
   "cell_type": "code",
   "execution_count": 121,
   "metadata": {},
   "outputs": [
    {
     "data": {
      "text/plain": [
       "GridSearchCV(cv=5, error_score='raise',\n",
       "       estimator=SVC(C=1.0, cache_size=200, class_weight=None, coef0=0.0,\n",
       "  decision_function_shape='ovr', degree=3, gamma='auto', kernel='linear',\n",
       "  max_iter=-1, probability=False, random_state=None, shrinking=True,\n",
       "  tol=0.001, verbose=False),\n",
       "       fit_params=None, iid=True, n_jobs=1,\n",
       "       param_grid={'C': array([  1.00000e+01,   1.00000e+00,   1.00000e-01,   1.00000e-02,\n",
       "         1.00000e-03])},\n",
       "       pre_dispatch='2*n_jobs', refit=True, return_train_score='warn',\n",
       "       scoring='precision', verbose=0)"
      ]
     },
     "execution_count": 121,
     "metadata": {},
     "output_type": "execute_result"
    }
   ],
   "source": [
    "cv_clf.fit(X_train, y_train.values.ravel())"
   ]
  },
  {
   "cell_type": "code",
   "execution_count": 123,
   "metadata": {},
   "outputs": [
    {
     "name": "stdout",
     "output_type": "stream",
     "text": [
      "             precision    recall  f1-score   support\n",
      "\n",
      "          0       0.86      0.99      0.92     18944\n",
      "          1       0.89      0.42      0.57      5139\n",
      "\n",
      "avg / total       0.87      0.86      0.84     24083\n",
      "\n"
     ]
    }
   ],
   "source": [
    "y_pred = cv_clf.predict(X_test)\n",
    "print(classification_report(y_test, y_pred))"
   ]
  },
  {
   "cell_type": "code",
   "execution_count": 124,
   "metadata": {},
   "outputs": [
    {
     "data": {
      "text/plain": [
       "array([[18679,   265],\n",
       "       [ 3003,  2136]])"
      ]
     },
     "execution_count": 124,
     "metadata": {},
     "output_type": "execute_result"
    }
   ],
   "source": [
    "confusion_matrix(y_test, y_pred)"
   ]
  },
  {
   "cell_type": "code",
   "execution_count": 125,
   "metadata": {},
   "outputs": [
    {
     "data": {
      "image/png": "[encoded data removed]",
      "text/plain": [
       "<matplotlib.figure.Figure at 0x10d2a7940>"
      ]
     },
     "metadata": {},
     "output_type": "display_data"
    }
   ],
   "source": [
    "y_score = cv_clf.decision_function(X_test)\n",
    "\n",
    "# Compute ROC curve and ROC area for each class\n",
    "fpr, tpr, thresholds = roc_curve(y_test, y_score)\n",
    "roc_auc = auc(fpr, tpr)\n",
    "\n",
    "# Plotting the ROC curve\n",
    "plt.figure()\n",
    "lw = 2\n",
    "plt.plot(fpr, tpr, color='darkorange',\n",
    "         lw=lw, label='ROC curve (area = %0.2f)' % roc_auc)\n",
    "plt.plot([0, 1], [0, 1], color='navy', lw=lw, linestyle='--')\n",
    "plt.xlim([0.0, 1.0])\n",
    "plt.ylim([0.0, 1.05])\n",
    "plt.xlabel('False Positive Rate')\n",
    "plt.ylabel('True Positive Rate')\n",
    "plt.title('ROC Curve')\n",
    "plt.legend(loc=\"lower right\")\n",
    "plt.show()"
   ]
  },
  {
   "cell_type": "markdown",
   "metadata": {},
   "source": [
    "---"
   ]
  },
  {
   "cell_type": "code",
   "execution_count": 16,
   "metadata": {},
   "outputs": [
    {
     "data": {
      "text/plain": [
       "SVC(C=1.0, cache_size=200, class_weight='balanced', coef0=0.0,\n",
       "  decision_function_shape='ovr', degree=3, gamma='auto', kernel='linear',\n",
       "  max_iter=-1, probability=False, random_state=None, shrinking=True,\n",
       "  tol=0.001, verbose=False)"
      ]
     },
     "execution_count": 16,
     "metadata": {},
     "output_type": "execute_result"
    }
   ],
   "source": [
    "# fit the model and get the separating hyperplane using weighted classes\n",
    "wclf = SVC(kernel='linear', class_weight='balanced')\n",
    "wclf.fit(X_train, y_train.values.ravel())"
   ]
  },
  {
   "cell_type": "code",
   "execution_count": 17,
   "metadata": {},
   "outputs": [
    {
     "data": {
      "text/plain": [
       "array([[17020,  1868],\n",
       "       [ 1859,  3336]])"
      ]
     },
     "execution_count": 17,
     "metadata": {},
     "output_type": "execute_result"
    }
   ],
   "source": [
    "y_pred = wclf.predict(X_test)\n",
    "confusion_matrix(y_test, y_pred)"
   ]
  },
  {
   "cell_type": "code",
   "execution_count": 18,
   "metadata": {},
   "outputs": [
    {
     "name": "stdout",
     "output_type": "stream",
     "text": [
      "             precision    recall  f1-score   support\n",
      "\n",
      "          0       0.90      0.90      0.90     18888\n",
      "          1       0.64      0.64      0.64      5195\n",
      "\n",
      "avg / total       0.85      0.85      0.85     24083\n",
      "\n"
     ]
    }
   ],
   "source": [
    "print(classification_report(y_test, y_pred))"
   ]
  },
  {
   "cell_type": "code",
   "execution_count": 19,
   "metadata": {},
   "outputs": [
    {
     "data": {
      "image/png": "[encoded data removed]",
      "text/plain": [
       "<matplotlib.figure.Figure at 0x10bdc1828>"
      ]
     },
     "metadata": {},
     "output_type": "display_data"
    }
   ],
   "source": [
    "y_score = wclf.decision_function(X_test)\n",
    "\n",
    "# Compute ROC curve and ROC area for each class\n",
    "fpr, tpr, thresholds = roc_curve(y_test, y_score)\n",
    "roc_auc = auc(fpr, tpr)\n",
    "\n",
    "# Plotting the ROC curve\n",
    "plt.figure()\n",
    "lw = 2\n",
    "plt.plot(fpr, tpr, color='darkorange',\n",
    "         lw=lw, label='ROC curve (area = %0.2f)' % roc_auc)\n",
    "plt.plot([0, 1], [0, 1], color='navy', lw=lw, linestyle='--')\n",
    "plt.xlim([0.0, 1.0])\n",
    "plt.ylim([0.0, 1.05])\n",
    "plt.xlabel('False Positive Rate')\n",
    "plt.ylabel('True Positive Rate')\n",
    "plt.title('ROC Curve')\n",
    "plt.legend(loc=\"lower right\")\n",
    "plt.show()"
   ]
  },
  {
   "cell_type": "markdown",
   "metadata": {},
   "source": [
    "---"
   ]
  },
  {
   "cell_type": "code",
   "execution_count": 30,
   "metadata": {},
   "outputs": [
    {
     "data": {
      "text/plain": [
       "LogisticRegression(C=0.1, class_weight=None, dual=False, fit_intercept=True,\n",
       "          intercept_scaling=1, max_iter=100, multi_class='ovr', n_jobs=1,\n",
       "          penalty='l2', random_state=None, solver='liblinear', tol=0.0001,\n",
       "          verbose=0, warm_start=False)"
      ]
     },
     "execution_count": 30,
     "metadata": {},
     "output_type": "execute_result"
    }
   ],
   "source": [
    "clf = LogisticRegression(C=.1)\n",
    "clf.fit(X_train, y_train.values.ravel())"
   ]
  },
  {
   "cell_type": "code",
   "execution_count": 31,
   "metadata": {},
   "outputs": [
    {
     "name": "stdout",
     "output_type": "stream",
     "text": [
      "             precision    recall  f1-score   support\n",
      "\n",
      "          0       0.88      0.97      0.92     18888\n",
      "          1       0.82      0.51      0.63      5195\n",
      "\n",
      "avg / total       0.87      0.87      0.86     24083\n",
      "\n"
     ]
    }
   ],
   "source": [
    "y_pred = clf.predict(X_test)\n",
    "print(classification_report(y_test, y_pred))"
   ]
  },
  {
   "cell_type": "code",
   "execution_count": 32,
   "metadata": {},
   "outputs": [
    {
     "data": {
      "text/plain": [
       "array([[18311,   577],\n",
       "       [ 2546,  2649]])"
      ]
     },
     "execution_count": 32,
     "metadata": {},
     "output_type": "execute_result"
    }
   ],
   "source": [
    "confusion_matrix(y_test, y_pred)\n",
    "# Diagonals are correct\n",
    "# Top right is false positives\n",
    "# Bottom left is false negatives"
   ]
  },
  {
   "cell_type": "code",
   "execution_count": 33,
   "metadata": {},
   "outputs": [
    {
     "data": {
      "image/png": "[encoded data removed]",
      "text/plain": [
       "<matplotlib.figure.Figure at 0x108d17cc0>"
      ]
     },
     "metadata": {},
     "output_type": "display_data"
    }
   ],
   "source": [
    "y_score = clf.decision_function(X_test)\n",
    "\n",
    "# Compute ROC curve and ROC area for each class\n",
    "fpr, tpr, thresholds = roc_curve(y_test, y_score)\n",
    "roc_auc = auc(fpr, tpr)\n",
    "\n",
    "# Plotting the ROC curve\n",
    "plt.figure()\n",
    "lw = 2\n",
    "plt.plot(fpr, tpr, color='darkorange',\n",
    "         lw=lw, label='ROC curve (area = %0.2f)' % roc_auc)\n",
    "plt.plot([0, 1], [0, 1], color='navy', lw=lw, linestyle='--')\n",
    "plt.xlim([0.0, 1.0])\n",
    "plt.ylim([0.0, 1.05])\n",
    "plt.xlabel('False Positive Rate')\n",
    "plt.ylabel('True Positive Rate')\n",
    "plt.title('ROC Curve')\n",
    "plt.legend(loc=\"lower right\")\n",
    "plt.show()"
   ]
  },
  {
   "cell_type": "markdown",
   "metadata": {},
   "source": [
    "---"
   ]
  },
  {
   "cell_type": "code",
   "execution_count": 4,
   "metadata": {},
   "outputs": [],
   "source": [
    "from sklearn import tree\n",
    "import graphviz"
   ]
  },
  {
   "cell_type": "code",
   "execution_count": 7,
   "metadata": {},
   "outputs": [
    {
     "data": {
      "text/plain": [
       "DecisionTreeRegressor(criterion='mse', max_depth=None, max_features=None,\n",
       "           max_leaf_nodes=5, min_impurity_decrease=0.0,\n",
       "           min_impurity_split=None, min_samples_leaf=1,\n",
       "           min_samples_split=2, min_weight_fraction_leaf=0.0,\n",
       "           presort=False, random_state=None, splitter='best')"
      ]
     },
     "execution_count": 7,
     "metadata": {},
     "output_type": "execute_result"
    }
   ],
   "source": [
    "regr = tree.DecisionTreeRegressor(max_leaf_nodes=5)\n",
    "regr.fit(X, y)"
   ]
  },
  {
   "cell_type": "code",
   "execution_count": 8,
   "metadata": {},
   "outputs": [
    {
     "data": {
      "image/svg+xml": [
       "<?xml version=\"1.0\" encoding=\"UTF-8\" standalone=\"no\"?>\n",
       "<!DOCTYPE svg PUBLIC \"-//W3C//DTD SVG 1.1//EN\"\n",
       " \"http://www.w3.org/Graphics/SVG/1.1/DTD/svg11.dtd\">\n",
       "<!-- Generated by graphviz version 2.40.1 (20161225.0304)\n",
       " -->\n",
       "<!-- Title: Tree Pages: 1 -->\n",
       "<svg width=\"371pt\" height=\"511pt\"\n",
       " viewBox=\"0.00 0.00 371.09 511.20\" xmlns=\"http://www.w3.org/2000/svg\" xmlns:xlink=\"http://www.w3.org/1999/xlink\">\n",
       "<g id=\"graph0\" class=\"graph\" transform=\"scale(1 1) rotate(0) translate(4 507.2)\">\n",
       "<title>Tree</title>\n",
       "<polygon fill=\"#ffffff\" stroke=\"transparent\" points=\"-4,4 -4,-507.2 367.0925,-507.2 367.0925,4 -4,4\"/>\n",
       "<!-- 0 -->\n",
       "<g id=\"node1\" class=\"node\">\n",
       "<title>0</title>\n",
       "<path fill=\"#e58139\" fill-opacity=\"0.149020\" stroke=\"#000000\" d=\"M290.4119,-503.3003C290.4119,-503.3003 154.5719,-503.3003 154.5719,-503.3003 148.5719,-503.3003 142.5719,-497.3003 142.5719,-491.3003 142.5719,-491.3003 142.5719,-439.8997 142.5719,-439.8997 142.5719,-433.8997 148.5719,-427.8997 154.5719,-427.8997 154.5719,-427.8997 290.4119,-427.8997 290.4119,-427.8997 296.4119,-427.8997 302.4119,-433.8997 302.4119,-439.8997 302.4119,-439.8997 302.4119,-491.3003 302.4119,-491.3003 302.4119,-497.3003 296.4119,-503.3003 290.4119,-503.3003\"/>\n",
       "<text text-anchor=\"start\" x=\"150.5319\" y=\"-486.6\" font-family=\"Helvetica,sans-Serif\" font-size=\"14.00\" fill=\"#000000\">DRIVER1SEX_U ≤ 0.5</text>\n",
       "<text text-anchor=\"start\" x=\"187.6732\" y=\"-469.8\" font-family=\"Helvetica,sans-Serif\" font-size=\"14.00\" fill=\"#000000\">mse = 0.17</text>\n",
       "<text text-anchor=\"start\" x=\"169\" y=\"-453\" font-family=\"Helvetica,sans-Serif\" font-size=\"14.00\" fill=\"#000000\">samples = 72977</text>\n",
       "<text text-anchor=\"start\" x=\"184.1676\" y=\"-436.2\" font-family=\"Helvetica,sans-Serif\" font-size=\"14.00\" fill=\"#000000\">value = 0.21</text>\n",
       "</g>\n",
       "<!-- 1 -->\n",
       "<g id=\"node2\" class=\"node\">\n",
       "<title>1</title>\n",
       "<path fill=\"#e58139\" fill-opacity=\"0.054902\" stroke=\"#000000\" d=\"M217.573,-392.1003C217.573,-392.1003 63.4108,-392.1003 63.4108,-392.1003 57.4108,-392.1003 51.4108,-386.1003 51.4108,-380.1003 51.4108,-380.1003 51.4108,-328.6997 51.4108,-328.6997 51.4108,-322.6997 57.4108,-316.6997 63.4108,-316.6997 63.4108,-316.6997 217.573,-316.6997 217.573,-316.6997 223.573,-316.6997 229.573,-322.6997 229.573,-328.6997 229.573,-328.6997 229.573,-380.1003 229.573,-380.1003 229.573,-386.1003 223.573,-392.1003 217.573,-392.1003\"/>\n",
       "<text text-anchor=\"start\" x=\"59.2016\" y=\"-375.4\" font-family=\"Helvetica,sans-Serif\" font-size=\"14.00\" fill=\"#000000\">D1COND_Unknown ≤ 0.5</text>\n",
       "<text text-anchor=\"start\" x=\"105.6732\" y=\"-358.6\" font-family=\"Helvetica,sans-Serif\" font-size=\"14.00\" fill=\"#000000\">mse = 0.12</text>\n",
       "<text text-anchor=\"start\" x=\"87\" y=\"-341.8\" font-family=\"Helvetica,sans-Serif\" font-size=\"14.00\" fill=\"#000000\">samples = 65588</text>\n",
       "<text text-anchor=\"start\" x=\"102.1676\" y=\"-325\" font-family=\"Helvetica,sans-Serif\" font-size=\"14.00\" fill=\"#000000\">value = 0.14</text>\n",
       "</g>\n",
       "<!-- 0&#45;&gt;1 -->\n",
       "<g id=\"edge1\" class=\"edge\">\n",
       "<title>0&#45;&gt;1</title>\n",
       "<path fill=\"none\" stroke=\"#000000\" d=\"M194.7304,-427.9528C188.185,-419.0765 181.1353,-409.5165 174.3544,-400.3209\"/>\n",
       "<polygon fill=\"#000000\" stroke=\"#000000\" points=\"176.9767,-397.9796 168.2248,-392.0085 171.3428,-402.1341 176.9767,-397.9796\"/>\n",
       "<text text-anchor=\"middle\" x=\"164.4887\" y=\"-412.5277\" font-family=\"Helvetica,sans-Serif\" font-size=\"14.00\" fill=\"#000000\">True</text>\n",
       "</g>\n",
       "<!-- 2 -->\n",
       "<g id=\"node9\" class=\"node\">\n",
       "<title>2</title>\n",
       "<path fill=\"#e58139\" stroke=\"#000000\" d=\"M351.1933,-383.8014C351.1933,-383.8014 259.7905,-383.8014 259.7905,-383.8014 253.7905,-383.8014 247.7905,-377.8014 247.7905,-371.8014 247.7905,-371.8014 247.7905,-336.9986 247.7905,-336.9986 247.7905,-330.9986 253.7905,-324.9986 259.7905,-324.9986 259.7905,-324.9986 351.1933,-324.9986 351.1933,-324.9986 357.1933,-324.9986 363.1933,-330.9986 363.1933,-336.9986 363.1933,-336.9986 363.1933,-371.8014 363.1933,-371.8014 363.1933,-377.8014 357.1933,-383.8014 351.1933,-383.8014\"/>\n",
       "<text text-anchor=\"start\" x=\"274.5645\" y=\"-367\" font-family=\"Helvetica,sans-Serif\" font-size=\"14.00\" fill=\"#000000\">mse = 0.1</text>\n",
       "<text text-anchor=\"start\" x=\"255.8913\" y=\"-350.2\" font-family=\"Helvetica,sans-Serif\" font-size=\"14.00\" fill=\"#000000\">samples = 7389</text>\n",
       "<text text-anchor=\"start\" x=\"267.1676\" y=\"-333.4\" font-family=\"Helvetica,sans-Serif\" font-size=\"14.00\" fill=\"#000000\">value = 0.89</text>\n",
       "</g>\n",
       "<!-- 0&#45;&gt;2 -->\n",
       "<g id=\"edge8\" class=\"edge\">\n",
       "<title>0&#45;&gt;2</title>\n",
       "<path fill=\"none\" stroke=\"#000000\" d=\"M250.5919,-427.9528C259.2203,-416.3928 268.7144,-403.673 277.3459,-392.1089\"/>\n",
       "<polygon fill=\"#000000\" stroke=\"#000000\" points=\"280.277,-394.0332 283.4537,-383.9258 274.6673,-389.8461 280.277,-394.0332\"/>\n",
       "<text text-anchor=\"middle\" x=\"287.0463\" y=\"-404.4664\" font-family=\"Helvetica,sans-Serif\" font-size=\"14.00\" fill=\"#000000\">False</text>\n",
       "</g>\n",
       "<!-- 3 -->\n",
       "<g id=\"node3\" class=\"node\">\n",
       "<title>3</title>\n",
       "<path fill=\"transparent\" stroke=\"#000000\" d=\"M110.9757,-272.6014C110.9757,-272.6014 12.0081,-272.6014 12.0081,-272.6014 6.0081,-272.6014 .0081,-266.6014 .0081,-260.6014 .0081,-260.6014 .0081,-225.7986 .0081,-225.7986 .0081,-219.7986 6.0081,-213.7986 12.0081,-213.7986 12.0081,-213.7986 110.9757,-213.7986 110.9757,-213.7986 116.9757,-213.7986 122.9757,-219.7986 122.9757,-225.7986 122.9757,-225.7986 122.9757,-260.6014 122.9757,-260.6014 122.9757,-266.6014 116.9757,-272.6014 110.9757,-272.6014\"/>\n",
       "<text text-anchor=\"start\" x=\"26.6732\" y=\"-255.8\" font-family=\"Helvetica,sans-Serif\" font-size=\"14.00\" fill=\"#000000\">mse = 0.09</text>\n",
       "<text text-anchor=\"start\" x=\"8\" y=\"-239\" font-family=\"Helvetica,sans-Serif\" font-size=\"14.00\" fill=\"#000000\">samples = 56993</text>\n",
       "<text text-anchor=\"start\" x=\"27.0589\" y=\"-222.2\" font-family=\"Helvetica,sans-Serif\" font-size=\"14.00\" fill=\"#000000\">value = 0.1</text>\n",
       "</g>\n",
       "<!-- 1&#45;&gt;3 -->\n",
       "<g id=\"edge2\" class=\"edge\">\n",
       "<title>1&#45;&gt;3</title>\n",
       "<path fill=\"none\" stroke=\"#000000\" d=\"M113.7461,-316.7528C105.5335,-305.1928 96.497,-292.473 88.2815,-280.9089\"/>\n",
       "<polygon fill=\"#000000\" stroke=\"#000000\" points=\"91.1129,-278.851 82.468,-272.7258 85.4063,-282.9051 91.1129,-278.851\"/>\n",
       "</g>\n",
       "<!-- 4 -->\n",
       "<g id=\"node4\" class=\"node\">\n",
       "<title>4</title>\n",
       "<path fill=\"#e58139\" fill-opacity=\"0.415686\" stroke=\"#000000\" d=\"M285.5199,-280.9003C285.5199,-280.9003 153.4639,-280.9003 153.4639,-280.9003 147.4639,-280.9003 141.4639,-274.9003 141.4639,-268.9003 141.4639,-268.9003 141.4639,-217.4997 141.4639,-217.4997 141.4639,-211.4997 147.4639,-205.4997 153.4639,-205.4997 153.4639,-205.4997 285.5199,-205.4997 285.5199,-205.4997 291.5199,-205.4997 297.5199,-211.4997 297.5199,-217.4997 297.5199,-217.4997 297.5199,-268.9003 297.5199,-268.9003 297.5199,-274.9003 291.5199,-280.9003 285.5199,-280.9003\"/>\n",
       "<text text-anchor=\"start\" x=\"149.4779\" y=\"-264.2\" font-family=\"Helvetica,sans-Serif\" font-size=\"14.00\" fill=\"#000000\">DRIVER1AGE ≤ &#45;0.24</text>\n",
       "<text text-anchor=\"start\" x=\"184.6732\" y=\"-247.4\" font-family=\"Helvetica,sans-Serif\" font-size=\"14.00\" fill=\"#000000\">mse = 0.24</text>\n",
       "<text text-anchor=\"start\" x=\"169.8913\" y=\"-230.6\" font-family=\"Helvetica,sans-Serif\" font-size=\"14.00\" fill=\"#000000\">samples = 8595</text>\n",
       "<text text-anchor=\"start\" x=\"181.1676\" y=\"-213.8\" font-family=\"Helvetica,sans-Serif\" font-size=\"14.00\" fill=\"#000000\">value = 0.43</text>\n",
       "</g>\n",
       "<!-- 1&#45;&gt;4 -->\n",
       "<g id=\"edge3\" class=\"edge\">\n",
       "<title>1&#45;&gt;4</title>\n",
       "<path fill=\"none\" stroke=\"#000000\" d=\"M167.2377,-316.7528C173.5436,-307.8765 180.3354,-298.3165 186.8683,-289.1209\"/>\n",
       "<polygon fill=\"#000000\" stroke=\"#000000\" points=\"189.8353,-290.9877 192.7736,-280.8085 184.1288,-286.9336 189.8353,-290.9877\"/>\n",
       "</g>\n",
       "<!-- 5 -->\n",
       "<g id=\"node5\" class=\"node\">\n",
       "<title>5</title>\n",
       "<path fill=\"#e58139\" fill-opacity=\"0.509804\" stroke=\"#000000\" d=\"M206.7375,-169.7003C206.7375,-169.7003 82.2463,-169.7003 82.2463,-169.7003 76.2463,-169.7003 70.2463,-163.7003 70.2463,-157.7003 70.2463,-157.7003 70.2463,-106.2997 70.2463,-106.2997 70.2463,-100.2997 76.2463,-94.2997 82.2463,-94.2997 82.2463,-94.2997 206.7375,-94.2997 206.7375,-94.2997 212.7375,-94.2997 218.7375,-100.2997 218.7375,-106.2997 218.7375,-106.2997 218.7375,-157.7003 218.7375,-157.7003 218.7375,-163.7003 212.7375,-169.7003 206.7375,-169.7003\"/>\n",
       "<text text-anchor=\"start\" x=\"78.3692\" y=\"-153\" font-family=\"Helvetica,sans-Serif\" font-size=\"14.00\" fill=\"#000000\">DRIVER1AGE ≤ &#45;0.3</text>\n",
       "<text text-anchor=\"start\" x=\"109.6732\" y=\"-136.2\" font-family=\"Helvetica,sans-Serif\" font-size=\"14.00\" fill=\"#000000\">mse = 0.25</text>\n",
       "<text text-anchor=\"start\" x=\"94.8913\" y=\"-119.4\" font-family=\"Helvetica,sans-Serif\" font-size=\"14.00\" fill=\"#000000\">samples = 5462</text>\n",
       "<text text-anchor=\"start\" x=\"110.0589\" y=\"-102.6\" font-family=\"Helvetica,sans-Serif\" font-size=\"14.00\" fill=\"#000000\">value = 0.5</text>\n",
       "</g>\n",
       "<!-- 4&#45;&gt;5 -->\n",
       "<g id=\"edge4\" class=\"edge\">\n",
       "<title>4&#45;&gt;5</title>\n",
       "<path fill=\"none\" stroke=\"#000000\" d=\"M194.1003,-205.5528C188.1137,-196.6765 181.6658,-187.1165 175.4637,-177.9209\"/>\n",
       "<polygon fill=\"#000000\" stroke=\"#000000\" points=\"178.3507,-175.942 169.8573,-169.6085 172.5473,-179.8561 178.3507,-175.942\"/>\n",
       "</g>\n",
       "<!-- 6 -->\n",
       "<g id=\"node8\" class=\"node\">\n",
       "<title>6</title>\n",
       "<path fill=\"#e58139\" fill-opacity=\"0.254902\" stroke=\"#000000\" d=\"M340.1933,-161.4014C340.1933,-161.4014 248.7905,-161.4014 248.7905,-161.4014 242.7905,-161.4014 236.7905,-155.4014 236.7905,-149.4014 236.7905,-149.4014 236.7905,-114.5986 236.7905,-114.5986 236.7905,-108.5986 242.7905,-102.5986 248.7905,-102.5986 248.7905,-102.5986 340.1933,-102.5986 340.1933,-102.5986 346.1933,-102.5986 352.1933,-108.5986 352.1933,-114.5986 352.1933,-114.5986 352.1933,-149.4014 352.1933,-149.4014 352.1933,-155.4014 346.1933,-161.4014 340.1933,-161.4014\"/>\n",
       "<text text-anchor=\"start\" x=\"259.6732\" y=\"-144.6\" font-family=\"Helvetica,sans-Serif\" font-size=\"14.00\" fill=\"#000000\">mse = 0.21</text>\n",
       "<text text-anchor=\"start\" x=\"244.8913\" y=\"-127.8\" font-family=\"Helvetica,sans-Serif\" font-size=\"14.00\" fill=\"#000000\">samples = 3133</text>\n",
       "<text text-anchor=\"start\" x=\"260.0589\" y=\"-111\" font-family=\"Helvetica,sans-Serif\" font-size=\"14.00\" fill=\"#000000\">value = 0.3</text>\n",
       "</g>\n",
       "<!-- 4&#45;&gt;6 -->\n",
       "<g id=\"edge7\" class=\"edge\">\n",
       "<title>4&#45;&gt;6</title>\n",
       "<path fill=\"none\" stroke=\"#000000\" d=\"M244.8835,-205.5528C252.6045,-194.105 261.0927,-181.5199 268.8313,-170.046\"/>\n",
       "<polygon fill=\"#000000\" stroke=\"#000000\" points=\"271.8879,-171.7735 274.5779,-161.5258 266.0845,-167.8593 271.8879,-171.7735\"/>\n",
       "</g>\n",
       "<!-- 7 -->\n",
       "<g id=\"node6\" class=\"node\">\n",
       "<title>7</title>\n",
       "<path fill=\"#e58139\" fill-opacity=\"0.309804\" stroke=\"#000000\" d=\"M124.1933,-58.6014C124.1933,-58.6014 32.7905,-58.6014 32.7905,-58.6014 26.7905,-58.6014 20.7905,-52.6014 20.7905,-46.6014 20.7905,-46.6014 20.7905,-11.7986 20.7905,-11.7986 20.7905,-5.7986 26.7905,.2014 32.7905,.2014 32.7905,.2014 124.1933,.2014 124.1933,.2014 130.1933,.2014 136.1933,-5.7986 136.1933,-11.7986 136.1933,-11.7986 136.1933,-46.6014 136.1933,-46.6014 136.1933,-52.6014 130.1933,-58.6014 124.1933,-58.6014\"/>\n",
       "<text text-anchor=\"start\" x=\"43.6732\" y=\"-41.8\" font-family=\"Helvetica,sans-Serif\" font-size=\"14.00\" fill=\"#000000\">mse = 0.22</text>\n",
       "<text text-anchor=\"start\" x=\"28.8913\" y=\"-25\" font-family=\"Helvetica,sans-Serif\" font-size=\"14.00\" fill=\"#000000\">samples = 3795</text>\n",
       "<text text-anchor=\"start\" x=\"40.1676\" y=\"-8.2\" font-family=\"Helvetica,sans-Serif\" font-size=\"14.00\" fill=\"#000000\">value = 0.34</text>\n",
       "</g>\n",
       "<!-- 5&#45;&gt;7 -->\n",
       "<g id=\"edge5\" class=\"edge\">\n",
       "<title>5&#45;&gt;7</title>\n",
       "<path fill=\"none\" stroke=\"#000000\" d=\"M120.2907,-94.3048C114.6067,-85.4515 108.5469,-76.013 102.8558,-67.1487\"/>\n",
       "<polygon fill=\"#000000\" stroke=\"#000000\" points=\"105.663,-65.0427 97.3151,-58.5186 99.7726,-68.8246 105.663,-65.0427\"/>\n",
       "</g>\n",
       "<!-- 8 -->\n",
       "<g id=\"node7\" class=\"node\">\n",
       "<title>8</title>\n",
       "<path fill=\"#e58139\" fill-opacity=\"0.972549\" stroke=\"#000000\" d=\"M257.1933,-58.6014C257.1933,-58.6014 165.7905,-58.6014 165.7905,-58.6014 159.7905,-58.6014 153.7905,-52.6014 153.7905,-46.6014 153.7905,-46.6014 153.7905,-11.7986 153.7905,-11.7986 153.7905,-5.7986 159.7905,.2014 165.7905,.2014 165.7905,.2014 257.1933,.2014 257.1933,.2014 263.1933,.2014 269.1933,-5.7986 269.1933,-11.7986 269.1933,-11.7986 269.1933,-46.6014 269.1933,-46.6014 269.1933,-52.6014 263.1933,-58.6014 257.1933,-58.6014\"/>\n",
       "<text text-anchor=\"start\" x=\"176.6732\" y=\"-41.8\" font-family=\"Helvetica,sans-Serif\" font-size=\"14.00\" fill=\"#000000\">mse = 0.11</text>\n",
       "<text text-anchor=\"start\" x=\"161.8913\" y=\"-25\" font-family=\"Helvetica,sans-Serif\" font-size=\"14.00\" fill=\"#000000\">samples = 1667</text>\n",
       "<text text-anchor=\"start\" x=\"173.1676\" y=\"-8.2\" font-family=\"Helvetica,sans-Serif\" font-size=\"14.00\" fill=\"#000000\">value = 0.87</text>\n",
       "</g>\n",
       "<!-- 5&#45;&gt;8 -->\n",
       "<g id=\"edge6\" class=\"edge\">\n",
       "<title>5&#45;&gt;8</title>\n",
       "<path fill=\"none\" stroke=\"#000000\" d=\"M169.0598,-94.3048C174.8299,-85.4515 180.9815,-76.013 186.7588,-67.1487\"/>\n",
       "<polygon fill=\"#000000\" stroke=\"#000000\" points=\"189.8554,-68.8075 192.3835,-58.5186 183.991,-64.9853 189.8554,-68.8075\"/>\n",
       "</g>\n",
       "</g>\n",
       "</svg>\n"
      ],
      "text/plain": [
       "<graphviz.files.Source at 0x10fcb5e48>"
      ]
     },
     "execution_count": 8,
     "metadata": {},
     "output_type": "execute_result"
    }
   ],
   "source": [
    "dot_data = tree.export_graphviz(regr, out_file=None, \n",
    "                         feature_names=X.columns, \n",
    "                         filled=True, rounded=True,  \n",
    "                         special_characters=True,\n",
    "                               precision=2)\n",
    "tree_viz = graphviz.Source(dot_data)\n",
    "tree_viz"
   ]
  },
  {
   "cell_type": "code",
   "execution_count": null,
   "metadata": {},
   "outputs": [],
   "source": []
  }
 ],
 "metadata": {
  "kernelspec": {
   "display_name": "Python 3",
   "language": "python",
   "name": "python3"
  },
  "language_info": {
   "codemirror_mode": {
    "name": "ipython",
    "version": 3
   },
   "file_extension": ".py",
   "mimetype": "text/x-python",
   "name": "python",
   "nbconvert_exporter": "python",
   "pygments_lexer": "ipython3",
   "version": "3.6.3"
  }
 },
 "nbformat": 4,
 "nbformat_minor": 2
}
