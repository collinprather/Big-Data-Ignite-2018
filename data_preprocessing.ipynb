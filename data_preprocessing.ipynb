{
 "cells": [
  {
   "cell_type": "code",
   "execution_count": 184,
   "metadata": {},
   "outputs": [],
   "source": [
    "import numpy as np\n",
    "import pandas as pd\n",
    "import matplotlib.pyplot as plt\n",
    "%matplotlib inline\n",
    "import seaborn as sns\n",
    "from sklearn.preprocessing import LabelEncoder, OneHotEncoder, StandardScaler, Imputer\n",
    "\n",
    "from sklearn.model_selection import train_test_split"
   ]
  },
  {
   "cell_type": "code",
   "execution_count": 185,
   "metadata": {},
   "outputs": [
    {
     "data": {
      "text/html": [
       "<div>\n",
       "<style>\n",
       "    .dataframe thead tr:only-child th {\n",
       "        text-align: right;\n",
       "    }\n",
       "\n",
       "    .dataframe thead th {\n",
       "        text-align: left;\n",
       "    }\n",
       "\n",
       "    .dataframe tbody tr th {\n",
       "        vertical-align: top;\n",
       "    }\n",
       "</style>\n",
       "<table border=\"1\" class=\"dataframe\">\n",
       "  <thead>\n",
       "    <tr style=\"text-align: right;\">\n",
       "      <th></th>\n",
       "      <th>X</th>\n",
       "      <th>Y</th>\n",
       "      <th>OBJECTID</th>\n",
       "      <th>ROADSOFTID</th>\n",
       "      <th>BIKE</th>\n",
       "      <th>CITY</th>\n",
       "      <th>CRASHDATE</th>\n",
       "      <th>CRASHSEVER</th>\n",
       "      <th>CRASHTYPE</th>\n",
       "      <th>WORKZNEACT</th>\n",
       "      <th>...</th>\n",
       "      <th>VEH3DIR</th>\n",
       "      <th>VEH3TYPE</th>\n",
       "      <th>VEH3USE</th>\n",
       "      <th>WEATHER</th>\n",
       "      <th>WHEREONRD</th>\n",
       "      <th>YEAR</th>\n",
       "      <th>RDCITYTWP</th>\n",
       "      <th>RDNUMLANES</th>\n",
       "      <th>RDWIDTH</th>\n",
       "      <th>FRAMEWORK</th>\n",
       "    </tr>\n",
       "  </thead>\n",
       "  <tbody>\n",
       "    <tr>\n",
       "      <th>0</th>\n",
       "      <td>-85.639647</td>\n",
       "      <td>42.927216</td>\n",
       "      <td>6001</td>\n",
       "      <td>929923</td>\n",
       "      <td>No</td>\n",
       "      <td>Grand Rapids</td>\n",
       "      <td>2007-02-16</td>\n",
       "      <td>Property Damage Only</td>\n",
       "      <td>Side-Swipe Same</td>\n",
       "      <td>Uncoded &amp; Errors</td>\n",
       "      <td>...</td>\n",
       "      <td>U</td>\n",
       "      <td>Uncoded &amp; Errors</td>\n",
       "      <td>Uncoded &amp; Errors</td>\n",
       "      <td>Cloudy</td>\n",
       "      <td>On the Road</td>\n",
       "      <td>2007</td>\n",
       "      <td>Grand Rapids</td>\n",
       "      <td>2</td>\n",
       "      <td>42.0</td>\n",
       "      <td>17</td>\n",
       "    </tr>\n",
       "    <tr>\n",
       "      <th>1</th>\n",
       "      <td>-85.639487</td>\n",
       "      <td>42.927213</td>\n",
       "      <td>6002</td>\n",
       "      <td>935745</td>\n",
       "      <td>No</td>\n",
       "      <td>Grand Rapids</td>\n",
       "      <td>2007-06-22</td>\n",
       "      <td>Property Damage Only</td>\n",
       "      <td>Side-Swipe Same</td>\n",
       "      <td>Uncoded &amp; Errors</td>\n",
       "      <td>...</td>\n",
       "      <td>U</td>\n",
       "      <td>Uncoded &amp; Errors</td>\n",
       "      <td>Uncoded &amp; Errors</td>\n",
       "      <td>Clear</td>\n",
       "      <td>On the Road</td>\n",
       "      <td>2007</td>\n",
       "      <td>Grand Rapids</td>\n",
       "      <td>2</td>\n",
       "      <td>42.0</td>\n",
       "      <td>17</td>\n",
       "    </tr>\n",
       "    <tr>\n",
       "      <th>2</th>\n",
       "      <td>-85.639387</td>\n",
       "      <td>42.927212</td>\n",
       "      <td>6003</td>\n",
       "      <td>926813</td>\n",
       "      <td>No</td>\n",
       "      <td>Grand Rapids</td>\n",
       "      <td>2007-01-08</td>\n",
       "      <td>Property Damage Only</td>\n",
       "      <td>Head-on</td>\n",
       "      <td>Work on Shoulder / Median</td>\n",
       "      <td>...</td>\n",
       "      <td>U</td>\n",
       "      <td>Uncoded &amp; Errors</td>\n",
       "      <td>Uncoded &amp; Errors</td>\n",
       "      <td>Snow</td>\n",
       "      <td>On the Road</td>\n",
       "      <td>2007</td>\n",
       "      <td>Grand Rapids</td>\n",
       "      <td>2</td>\n",
       "      <td>42.0</td>\n",
       "      <td>17</td>\n",
       "    </tr>\n",
       "    <tr>\n",
       "      <th>3</th>\n",
       "      <td>-85.639288</td>\n",
       "      <td>42.927210</td>\n",
       "      <td>6004</td>\n",
       "      <td>943813</td>\n",
       "      <td>No</td>\n",
       "      <td>Grand Rapids</td>\n",
       "      <td>2007-11-12</td>\n",
       "      <td>Property Damage Only</td>\n",
       "      <td>Side-Swipe Same</td>\n",
       "      <td>Uncoded &amp; Errors</td>\n",
       "      <td>...</td>\n",
       "      <td>U</td>\n",
       "      <td>Uncoded &amp; Errors</td>\n",
       "      <td>Uncoded &amp; Errors</td>\n",
       "      <td>Cloudy</td>\n",
       "      <td>On the Road</td>\n",
       "      <td>2007</td>\n",
       "      <td>Grand Rapids</td>\n",
       "      <td>2</td>\n",
       "      <td>42.0</td>\n",
       "      <td>17</td>\n",
       "    </tr>\n",
       "  </tbody>\n",
       "</table>\n",
       "<p>4 rows × 77 columns</p>\n",
       "</div>"
      ],
      "text/plain": [
       "           X          Y  OBJECTID  ROADSOFTID BIKE          CITY   CRASHDATE  \\\n",
       "0 -85.639647  42.927216      6001      929923   No  Grand Rapids  2007-02-16   \n",
       "1 -85.639487  42.927213      6002      935745   No  Grand Rapids  2007-06-22   \n",
       "2 -85.639387  42.927212      6003      926813   No  Grand Rapids  2007-01-08   \n",
       "3 -85.639288  42.927210      6004      943813   No  Grand Rapids  2007-11-12   \n",
       "\n",
       "             CRASHSEVER        CRASHTYPE                 WORKZNEACT    ...     \\\n",
       "0  Property Damage Only  Side-Swipe Same           Uncoded & Errors    ...      \n",
       "1  Property Damage Only  Side-Swipe Same           Uncoded & Errors    ...      \n",
       "2  Property Damage Only          Head-on  Work on Shoulder / Median    ...      \n",
       "3  Property Damage Only  Side-Swipe Same           Uncoded & Errors    ...      \n",
       "\n",
       "  VEH3DIR          VEH3TYPE           VEH3USE WEATHER    WHEREONRD  YEAR  \\\n",
       "0       U  Uncoded & Errors  Uncoded & Errors  Cloudy  On the Road  2007   \n",
       "1       U  Uncoded & Errors  Uncoded & Errors   Clear  On the Road  2007   \n",
       "2       U  Uncoded & Errors  Uncoded & Errors    Snow  On the Road  2007   \n",
       "3       U  Uncoded & Errors  Uncoded & Errors  Cloudy  On the Road  2007   \n",
       "\n",
       "      RDCITYTWP RDNUMLANES RDWIDTH FRAMEWORK  \n",
       "0  Grand Rapids          2    42.0        17  \n",
       "1  Grand Rapids          2    42.0        17  \n",
       "2  Grand Rapids          2    42.0        17  \n",
       "3  Grand Rapids          2    42.0        17  \n",
       "\n",
       "[4 rows x 77 columns]"
      ]
     },
     "execution_count": 185,
     "metadata": {},
     "output_type": "execute_result"
    }
   ],
   "source": [
    "crash = pd.read_csv('Data/CGR_Crash_Data.csv')\n",
    "crash.head(4)"
   ]
  },
  {
   "cell_type": "code",
   "execution_count": 186,
   "metadata": {},
   "outputs": [
    {
     "name": "stdout",
     "output_type": "stream",
     "text": [
      "(72977, 77)\n"
     ]
    }
   ],
   "source": [
    "initial_shape = crash.shape\n",
    "print(initial_shape)"
   ]
  },
  {
   "cell_type": "markdown",
   "metadata": {},
   "source": [
    "## Columns Dropped\n",
    "* Unfortunately, I do not know what the \"**OBJECTID**\" or \"**ROADSOFTID**\" columns mean, so I will drop them.\n",
    "* Since all crashes occur in Grand Rapids, I will drop the \"**CITY**\" column.\n",
    "* Since we have other features that may represent the time/date better than \"**CRASHDATE**\" we'll drop it.\n",
    "* \"**WORKZNEACT**\", \"**WORKZNECLO**\", \"**WORKZNETYP**\", \"**ANIMAL**\" are primarily errors\n",
    "* \"**DAYOFMONTH**\", \"**DAYOFWEEK**\" were fairly evenly distributed and did not seem to have any correlation with \"**D1DRINKIN**\"\n",
    "* Wanted to use \"**D2COND**\", \"**D3COND**\", but not enough data recorded.\n",
    "* \"**FLEEINGSIT**\" looks like it could be helpful, but not sure what it means, and far too few instances\n",
    "* all read no for \"**NONTRAFFIC**\"\n",
    "* Such low amounts of data on Vehichle defect, dropped \"**V1DEFECT**\", \"**V2DEFECT**\"\n",
    "* Such low amounts of data on any third vehicle, drop '**D3DRINKIN**', '**DRIVER3AGE**', '**DRIVER3SEX**', '**V3DEFECT**', '**V3DAMAGE**', '**VEH3DIR**', '**VEH3TYPE**', '**VEH3USE**'\n",
    "\n",
    "\n",
    "* Drop all V3's"
   ]
  },
  {
   "cell_type": "code",
   "execution_count": 187,
   "metadata": {},
   "outputs": [],
   "source": [
    "labels = [\"OBJECTID\", \"ROADSOFTID\", \"CITY\", \"CRASHDATE\", \"WORKZNEACT\", \"WORKZNECLO\", \"WORKZNETYP\",\n",
    "         \"DAYOFMONTH\", \"DAYOFWEEK\", \"ANIMAL\", \"D2COND\", \"D3COND\", \"FARMEQUIP\", \"FLEEINGSIT\", \"NONTRAFFIC\", \n",
    "         \"NUMOFKILL\", \"ORV\", \"PUBLICPROP\", \"PEDESTRIAN\", \"SNOWMOBILE\", \"SCHOOLBUS\", \"TRAIN\", \"V1DEFECT\", \"V2DEFECT\", \n",
    "           'DRIVER3AGE', 'DRIVER3SEX', 'V3DEFECT', 'V3DAMAGE', 'VEH3DIR', 'VEH3TYPE', 'VEH3USE',\n",
    "           'DRIVER2AGE', 'DRIVER2SEX', \n",
    "          'V2DEFECT', 'V2DAMAGE', 'VEH2DIR', 'VEH2TYPE', 'VEH2USE',\n",
    "          'FRAMEWORK', 'RDCITYTWP', 'YEAR'\n",
    "         ]\n",
    "crash = crash.drop(labels=labels, axis=1)"
   ]
  },
  {
   "cell_type": "code",
   "execution_count": 188,
   "metadata": {},
   "outputs": [
    {
     "data": {
      "text/plain": [
       "Index(['X', 'Y', 'BIKE', 'CRASHSEVER', 'CRASHTYPE', 'D1COND', 'D1DRINKIN',\n",
       "       'D2DRINKIN', 'D3DRINKIN', 'DRIVER1AGE', 'DRIVER1SEX', 'EMRGVEH',\n",
       "       'GRTINJSEVE', 'HITANDRUN', 'HOUR', 'MONTH', 'MOTORCYCLE', 'NOATYPEINJ',\n",
       "       'NOBTYPEINJ', 'NOCTYPEINJ', 'NUMOFINJ', 'NUMOFOCCUP', 'NUMOFUNINJ',\n",
       "       'NUMOFVEHIC', 'SPDLMTPOST', 'SPEEDLIMIT', 'SURFCOND', 'TRAFCTLDEV',\n",
       "       'TRUCKBUS', 'V1DAMAGE', 'VEH1DIR', 'VEH1TYPE', 'VEH1USE', 'WEATHER',\n",
       "       'WHEREONRD', 'RDNUMLANES', 'RDWIDTH'],\n",
       "      dtype='object')"
      ]
     },
     "execution_count": 188,
     "metadata": {},
     "output_type": "execute_result"
    }
   ],
   "source": [
    "# these are the columns remaining\n",
    "crash.columns"
   ]
  },
  {
   "cell_type": "markdown",
   "metadata": {},
   "source": [
    "Using a series of rather ad-hoc statistical tests, I've determined that these features will be most relevant in training a model to predict whether or not Driver 1 was drinking or not. As with any trade-off, a more rigourous feature-selection process could have implications on the final model. If the model produces proves to be mediocre, I may revisit this decision."
   ]
  },
  {
   "cell_type": "code",
   "execution_count": 189,
   "metadata": {},
   "outputs": [
    {
     "data": {
      "text/plain": [
       "Index(['X', 'Y', 'CRASHSEVER', 'DRIVER1AGE', 'DRIVER1SEX', 'EMRGVEH',\n",
       "       'HITANDRUN', 'SPEEDLIMIT', 'HOUR', 'MOTORCYCLE', 'NUMOFINJ', 'D1COND',\n",
       "       'D1DRINKIN'],\n",
       "      dtype='object')"
      ]
     },
     "execution_count": 189,
     "metadata": {},
     "output_type": "execute_result"
    }
   ],
   "source": [
    "#crash = pd.read_csv('Data/CGR_Crash_Data.csv')\n",
    "crash = crash[['X', 'Y', 'CRASHSEVER', 'DRIVER1AGE','DRIVER1SEX', \n",
    "               'EMRGVEH', 'HITANDRUN', 'SPEEDLIMIT', 'HOUR','MOTORCYCLE', \n",
    "               'NUMOFINJ', 'D1COND', 'D1DRINKIN']]\n",
    "crash.columns"
   ]
  },
  {
   "cell_type": "markdown",
   "metadata": {},
   "source": [
    "## Replacing Errors and Transforming data"
   ]
  },
  {
   "cell_type": "markdown",
   "metadata": {},
   "source": [
    "* **D1COND**: 'Other', 'Uncoded & Errors', and 'Unknown' seem to mean the same thing, so we bin them together. Though 'Fatigue / Asleep', 'Sick', 'Medication', 'Emotional', and 'Physically Disabled' do not all mean the same thing, since there are so few instances we will bin them together."
   ]
  },
  {
   "cell_type": "code",
   "execution_count": 190,
   "metadata": {},
   "outputs": [
    {
     "data": {
      "text/plain": [
       "Appeared Normal    56412\n",
       "Unknown            15890\n",
       "Fatigue / Sick       675\n",
       "Name: D1COND, dtype: int64"
      ]
     },
     "execution_count": 190,
     "metadata": {},
     "output_type": "execute_result"
    }
   ],
   "source": [
    "crash['D1COND'] = crash['D1COND'].replace(to_replace = ['Other', 'Uncoded & Errors'], value = 'Unknown')\n",
    "crash['D1COND'] = crash['D1COND'].replace(to_replace = ['Fatigue / Asleep', 'Sick', 'Medication', 'Emotional', 'Physically Disabled'], value = 'Fatigue / Sick')\n",
    "crash['D1COND'].value_counts()"
   ]
  },
  {
   "cell_type": "markdown",
   "metadata": {},
   "source": [
    "* **SPEEDLIMIT**: There are a ton of different values for the recorded speedlimits, so I will put them into bins and treat them as categorical variables"
   ]
  },
  {
   "cell_type": "code",
   "execution_count": 191,
   "metadata": {},
   "outputs": [],
   "source": [
    "bins = [0, 25, 45, 65, 100]\n",
    "labels = ['speed<25', '25<speed<45', '45<speed<65', '65<speed']\n",
    "crash['SPEEDLIMIT_BINS'] = pd.cut(crash['SPEEDLIMIT'], bins=bins, labels=labels)\n",
    "# Now drop the original 'SPEEDLIMIT' column to eliminate redundancy\n",
    "crash = crash.drop(['SPEEDLIMIT'], axis = 1)"
   ]
  },
  {
   "cell_type": "code",
   "execution_count": 192,
   "metadata": {},
   "outputs": [
    {
     "data": {
      "text/plain": [
       "speed<25       30127\n",
       "25<speed<45    26480\n",
       "65<speed        9025\n",
       "45<speed<65     7329\n",
       "Name: SPEEDLIMIT_BINS, dtype: int64"
      ]
     },
     "execution_count": 192,
     "metadata": {},
     "output_type": "execute_result"
    }
   ],
   "source": [
    "crash['SPEEDLIMIT_BINS'].value_counts()"
   ]
  },
  {
   "cell_type": "markdown",
   "metadata": {},
   "source": [
    "* **Hour**: This column has been a bit tricky, but I believe I've come to a solution. It contains at what hour the crash occured at (ranging from 0-23). It did not make sense to me to treat this column as a numerical variable, since the model would interpret 2pm as twice 1pm... while that does not make logical sense. However, I felt that to treat each hour as it's own category wouldn't accurately capture the information that the hour conveys (for example, it would not capture the fact that 12pm and 12am are 12 hours apart, while 12pm and 1pm are sequential). For that reason, I mapped each hour to two separate values (think of them like X and Y coordinates) using a trigonometric transformation. As displayed below, when plotted, the hours values create a perfect cirlce (think of it like a clock), which seems to be a more meaningful representation of the hour that the crash took place.\n",
    "Sure, I could have left it as numeric or categorical, and the model may have worked fine... but it also may not have."
   ]
  },
  {
   "cell_type": "code",
   "execution_count": 193,
   "metadata": {},
   "outputs": [],
   "source": [
    "crash['HOUR_X']=np.sin(2. * np.pi * crash.HOUR / 24.)\n",
    "crash['HOUR_Y']=np.cos(2. * np.pi * crash.HOUR / 24.)"
   ]
  },
  {
   "cell_type": "code",
   "execution_count": 194,
   "metadata": {},
   "outputs": [
    {
     "data": {
      "text/plain": [
       "<matplotlib.collections.PathCollection at 0x1a0daeca20>"
      ]
     },
     "execution_count": 194,
     "metadata": {},
     "output_type": "execute_result"
    },
    {
     "data": {
      "image/png": "[encoded data removed]",
      "text/plain": [
       "<matplotlib.figure.Figure at 0x1a0dad9550>"
      ]
     },
     "metadata": {},
     "output_type": "display_data"
    }
   ],
   "source": [
    "# Hence, the time of day is now cyclic (just as in reality)\n",
    "plt.figure(figsize = (5,5))\n",
    "plt.scatter(crash.HOUR_X, crash.HOUR_Y)"
   ]
  },
  {
   "cell_type": "code",
   "execution_count": 195,
   "metadata": {},
   "outputs": [],
   "source": [
    "# Now that we have our two 'HOUR_X' and 'HOUR_Y' coords, we drop the original \"HOUR\" feature\n",
    "crash = crash.drop(['HOUR'], axis=1)"
   ]
  },
  {
   "cell_type": "markdown",
   "metadata": {},
   "source": [
    "## Encoding Categorical Variables"
   ]
  },
  {
   "cell_type": "code",
   "execution_count": 196,
   "metadata": {},
   "outputs": [
    {
     "data": {
      "text/plain": [
       "Index(['X', 'Y', 'CRASHSEVER', 'DRIVER1AGE', 'DRIVER1SEX', 'EMRGVEH',\n",
       "       'HITANDRUN', 'MOTORCYCLE', 'NUMOFINJ', 'D1COND', 'D1DRINKIN',\n",
       "       'SPEEDLIMIT_BINS', 'HOUR_X', 'HOUR_Y'],\n",
       "      dtype='object')"
      ]
     },
     "execution_count": 196,
     "metadata": {},
     "output_type": "execute_result"
    }
   ],
   "source": [
    "# Here are our current columns\n",
    "crash.columns"
   ]
  },
  {
   "cell_type": "code",
   "execution_count": 197,
   "metadata": {},
   "outputs": [],
   "source": [
    "dummies = pd.get_dummies(crash[['CRASHSEVER', 'DRIVER1SEX',\n",
    "                            'EMRGVEH', 'HITANDRUN',\n",
    "                            'MOTORCYCLE', 'D1COND',\n",
    "                             'D1DRINKIN', 'SPEEDLIMIT_BINS']])"
   ]
  },
  {
   "cell_type": "code",
   "execution_count": 198,
   "metadata": {},
   "outputs": [
    {
     "data": {
      "text/html": [
       "<div>\n",
       "<style>\n",
       "    .dataframe thead tr:only-child th {\n",
       "        text-align: right;\n",
       "    }\n",
       "\n",
       "    .dataframe thead th {\n",
       "        text-align: left;\n",
       "    }\n",
       "\n",
       "    .dataframe tbody tr th {\n",
       "        vertical-align: top;\n",
       "    }\n",
       "</style>\n",
       "<table border=\"1\" class=\"dataframe\">\n",
       "  <thead>\n",
       "    <tr style=\"text-align: right;\">\n",
       "      <th></th>\n",
       "      <th>CRASHSEVER_Fatal</th>\n",
       "      <th>CRASHSEVER_Injury</th>\n",
       "      <th>CRASHSEVER_Property Damage Only</th>\n",
       "      <th>DRIVER1SEX_F</th>\n",
       "      <th>DRIVER1SEX_M</th>\n",
       "      <th>DRIVER1SEX_U</th>\n",
       "      <th>EMRGVEH_No</th>\n",
       "      <th>EMRGVEH_Yes</th>\n",
       "      <th>HITANDRUN_No</th>\n",
       "      <th>HITANDRUN_Yes</th>\n",
       "      <th>...</th>\n",
       "      <th>MOTORCYCLE_Yes</th>\n",
       "      <th>D1COND_Appeared Normal</th>\n",
       "      <th>D1COND_Fatigue / Sick</th>\n",
       "      <th>D1COND_Unknown</th>\n",
       "      <th>D1DRINKIN_No</th>\n",
       "      <th>D1DRINKIN_Yes</th>\n",
       "      <th>SPEEDLIMIT_BINS_speed&lt;25</th>\n",
       "      <th>SPEEDLIMIT_BINS_25&lt;speed&lt;45</th>\n",
       "      <th>SPEEDLIMIT_BINS_45&lt;speed&lt;65</th>\n",
       "      <th>SPEEDLIMIT_BINS_65&lt;speed</th>\n",
       "    </tr>\n",
       "  </thead>\n",
       "  <tbody>\n",
       "    <tr>\n",
       "      <th>0</th>\n",
       "      <td>0</td>\n",
       "      <td>0</td>\n",
       "      <td>1</td>\n",
       "      <td>1</td>\n",
       "      <td>0</td>\n",
       "      <td>0</td>\n",
       "      <td>1</td>\n",
       "      <td>0</td>\n",
       "      <td>0</td>\n",
       "      <td>1</td>\n",
       "      <td>...</td>\n",
       "      <td>0</td>\n",
       "      <td>1</td>\n",
       "      <td>0</td>\n",
       "      <td>0</td>\n",
       "      <td>1</td>\n",
       "      <td>0</td>\n",
       "      <td>0</td>\n",
       "      <td>1</td>\n",
       "      <td>0</td>\n",
       "      <td>0</td>\n",
       "    </tr>\n",
       "    <tr>\n",
       "      <th>1</th>\n",
       "      <td>0</td>\n",
       "      <td>0</td>\n",
       "      <td>1</td>\n",
       "      <td>0</td>\n",
       "      <td>1</td>\n",
       "      <td>0</td>\n",
       "      <td>1</td>\n",
       "      <td>0</td>\n",
       "      <td>0</td>\n",
       "      <td>1</td>\n",
       "      <td>...</td>\n",
       "      <td>0</td>\n",
       "      <td>0</td>\n",
       "      <td>0</td>\n",
       "      <td>1</td>\n",
       "      <td>1</td>\n",
       "      <td>0</td>\n",
       "      <td>0</td>\n",
       "      <td>1</td>\n",
       "      <td>0</td>\n",
       "      <td>0</td>\n",
       "    </tr>\n",
       "    <tr>\n",
       "      <th>2</th>\n",
       "      <td>0</td>\n",
       "      <td>0</td>\n",
       "      <td>1</td>\n",
       "      <td>1</td>\n",
       "      <td>0</td>\n",
       "      <td>0</td>\n",
       "      <td>1</td>\n",
       "      <td>0</td>\n",
       "      <td>1</td>\n",
       "      <td>0</td>\n",
       "      <td>...</td>\n",
       "      <td>0</td>\n",
       "      <td>1</td>\n",
       "      <td>0</td>\n",
       "      <td>0</td>\n",
       "      <td>1</td>\n",
       "      <td>0</td>\n",
       "      <td>0</td>\n",
       "      <td>1</td>\n",
       "      <td>0</td>\n",
       "      <td>0</td>\n",
       "    </tr>\n",
       "    <tr>\n",
       "      <th>3</th>\n",
       "      <td>0</td>\n",
       "      <td>0</td>\n",
       "      <td>1</td>\n",
       "      <td>0</td>\n",
       "      <td>1</td>\n",
       "      <td>0</td>\n",
       "      <td>1</td>\n",
       "      <td>0</td>\n",
       "      <td>0</td>\n",
       "      <td>1</td>\n",
       "      <td>...</td>\n",
       "      <td>0</td>\n",
       "      <td>1</td>\n",
       "      <td>0</td>\n",
       "      <td>0</td>\n",
       "      <td>1</td>\n",
       "      <td>0</td>\n",
       "      <td>0</td>\n",
       "      <td>1</td>\n",
       "      <td>0</td>\n",
       "      <td>0</td>\n",
       "    </tr>\n",
       "    <tr>\n",
       "      <th>4</th>\n",
       "      <td>0</td>\n",
       "      <td>0</td>\n",
       "      <td>1</td>\n",
       "      <td>0</td>\n",
       "      <td>1</td>\n",
       "      <td>0</td>\n",
       "      <td>1</td>\n",
       "      <td>0</td>\n",
       "      <td>1</td>\n",
       "      <td>0</td>\n",
       "      <td>...</td>\n",
       "      <td>0</td>\n",
       "      <td>1</td>\n",
       "      <td>0</td>\n",
       "      <td>0</td>\n",
       "      <td>1</td>\n",
       "      <td>0</td>\n",
       "      <td>0</td>\n",
       "      <td>1</td>\n",
       "      <td>0</td>\n",
       "      <td>0</td>\n",
       "    </tr>\n",
       "  </tbody>\n",
       "</table>\n",
       "<p>5 rows × 21 columns</p>\n",
       "</div>"
      ],
      "text/plain": [
       "   CRASHSEVER_Fatal  CRASHSEVER_Injury  CRASHSEVER_Property Damage Only  \\\n",
       "0                 0                  0                                1   \n",
       "1                 0                  0                                1   \n",
       "2                 0                  0                                1   \n",
       "3                 0                  0                                1   \n",
       "4                 0                  0                                1   \n",
       "\n",
       "   DRIVER1SEX_F  DRIVER1SEX_M  DRIVER1SEX_U  EMRGVEH_No  EMRGVEH_Yes  \\\n",
       "0             1             0             0           1            0   \n",
       "1             0             1             0           1            0   \n",
       "2             1             0             0           1            0   \n",
       "3             0             1             0           1            0   \n",
       "4             0             1             0           1            0   \n",
       "\n",
       "   HITANDRUN_No  HITANDRUN_Yes            ...             MOTORCYCLE_Yes  \\\n",
       "0             0              1            ...                          0   \n",
       "1             0              1            ...                          0   \n",
       "2             1              0            ...                          0   \n",
       "3             0              1            ...                          0   \n",
       "4             1              0            ...                          0   \n",
       "\n",
       "   D1COND_Appeared Normal  D1COND_Fatigue / Sick  D1COND_Unknown  \\\n",
       "0                       1                      0               0   \n",
       "1                       0                      0               1   \n",
       "2                       1                      0               0   \n",
       "3                       1                      0               0   \n",
       "4                       1                      0               0   \n",
       "\n",
       "   D1DRINKIN_No  D1DRINKIN_Yes  SPEEDLIMIT_BINS_speed<25  \\\n",
       "0             1              0                         0   \n",
       "1             1              0                         0   \n",
       "2             1              0                         0   \n",
       "3             1              0                         0   \n",
       "4             1              0                         0   \n",
       "\n",
       "   SPEEDLIMIT_BINS_25<speed<45  SPEEDLIMIT_BINS_45<speed<65  \\\n",
       "0                            1                            0   \n",
       "1                            1                            0   \n",
       "2                            1                            0   \n",
       "3                            1                            0   \n",
       "4                            1                            0   \n",
       "\n",
       "   SPEEDLIMIT_BINS_65<speed  \n",
       "0                         0  \n",
       "1                         0  \n",
       "2                         0  \n",
       "3                         0  \n",
       "4                         0  \n",
       "\n",
       "[5 rows x 21 columns]"
      ]
     },
     "execution_count": 198,
     "metadata": {},
     "output_type": "execute_result"
    }
   ],
   "source": [
    "dummies.head()"
   ]
  },
  {
   "cell_type": "code",
   "execution_count": 199,
   "metadata": {},
   "outputs": [
    {
     "name": "stdout",
     "output_type": "stream",
     "text": [
      "<class 'pandas.core.frame.DataFrame'>\n",
      "RangeIndex: 72977 entries, 0 to 72976\n",
      "Data columns (total 27 columns):\n",
      "X                                  72977 non-null float64\n",
      "Y                                  72977 non-null float64\n",
      "DRIVER1AGE                         72977 non-null int64\n",
      "NUMOFINJ                           72977 non-null int64\n",
      "HOUR_X                             72977 non-null float64\n",
      "HOUR_Y                             72977 non-null float64\n",
      "CRASHSEVER_Fatal                   72977 non-null uint8\n",
      "CRASHSEVER_Injury                  72977 non-null uint8\n",
      "CRASHSEVER_Property Damage Only    72977 non-null uint8\n",
      "DRIVER1SEX_F                       72977 non-null uint8\n",
      "DRIVER1SEX_M                       72977 non-null uint8\n",
      "DRIVER1SEX_U                       72977 non-null uint8\n",
      "EMRGVEH_No                         72977 non-null uint8\n",
      "EMRGVEH_Yes                        72977 non-null uint8\n",
      "HITANDRUN_No                       72977 non-null uint8\n",
      "HITANDRUN_Yes                      72977 non-null uint8\n",
      "MOTORCYCLE_No                      72977 non-null uint8\n",
      "MOTORCYCLE_Yes                     72977 non-null uint8\n",
      "D1COND_Appeared Normal             72977 non-null uint8\n",
      "D1COND_Fatigue / Sick              72977 non-null uint8\n",
      "D1COND_Unknown                     72977 non-null uint8\n",
      "D1DRINKIN_No                       72977 non-null uint8\n",
      "D1DRINKIN_Yes                      72977 non-null uint8\n",
      "SPEEDLIMIT_BINS_speed<25           72977 non-null uint8\n",
      "SPEEDLIMIT_BINS_25<speed<45        72977 non-null uint8\n",
      "SPEEDLIMIT_BINS_45<speed<65        72977 non-null uint8\n",
      "SPEEDLIMIT_BINS_65<speed           72977 non-null uint8\n",
      "dtypes: float64(4), int64(2), uint8(21)\n",
      "memory usage: 4.8 MB\n"
     ]
    }
   ],
   "source": [
    "# Drop the column with target variable (D1DRINKIN) and the columns for which we created dummy variables\n",
    "crash_ = crash.drop(['CRASHSEVER', 'DRIVER1SEX',\n",
    "                            'EMRGVEH', 'HITANDRUN',\n",
    "                            'MOTORCYCLE', 'D1COND',\n",
    "                             'D1DRINKIN', 'SPEEDLIMIT_BINS'], axis=1)\n",
    "# Define the feature set X.\n",
    "crash = pd.concat([crash_, dummies], axis=1)\n",
    "crash.info()"
   ]
  },
  {
   "cell_type": "code",
   "execution_count": 200,
   "metadata": {},
   "outputs": [
    {
     "name": "stdout",
     "output_type": "stream",
     "text": [
      "<class 'pandas.core.frame.DataFrame'>\n",
      "RangeIndex: 72977 entries, 0 to 72976\n",
      "Data columns (total 19 columns):\n",
      "X                              72977 non-null float64\n",
      "Y                              72977 non-null float64\n",
      "DRIVER1AGE                     72977 non-null int64\n",
      "NUMOFINJ                       72977 non-null int64\n",
      "HOUR_X                         72977 non-null float64\n",
      "HOUR_Y                         72977 non-null float64\n",
      "CRASHSEVER_Fatal               72977 non-null uint8\n",
      "CRASHSEVER_Injury              72977 non-null uint8\n",
      "DRIVER1SEX_M                   72977 non-null uint8\n",
      "DRIVER1SEX_U                   72977 non-null uint8\n",
      "EMRGVEH_Yes                    72977 non-null uint8\n",
      "HITANDRUN_Yes                  72977 non-null uint8\n",
      "MOTORCYCLE_Yes                 72977 non-null uint8\n",
      "D1COND_Appeared Normal         72977 non-null uint8\n",
      "D1COND_Fatigue / Sick          72977 non-null uint8\n",
      "D1DRINKIN_Yes                  72977 non-null uint8\n",
      "SPEEDLIMIT_BINS_25<speed<45    72977 non-null uint8\n",
      "SPEEDLIMIT_BINS_45<speed<65    72977 non-null uint8\n",
      "SPEEDLIMIT_BINS_65<speed       72977 non-null uint8\n",
      "dtypes: float64(4), int64(2), uint8(13)\n",
      "memory usage: 4.2 MB\n"
     ]
    }
   ],
   "source": [
    "# Drop columns to eliminate redundancy\n",
    "crash = crash.drop(['DRIVER1SEX_F', 'EMRGVEH_No', 'D1COND_Unknown', 'MOTORCYCLE_No', 'CRASHSEVER_Property Damage Only', 'HITANDRUN_No',  'D1DRINKIN_No', 'SPEEDLIMIT_BINS_speed<25'], axis=1)\n",
    "crash.info()"
   ]
  },
  {
   "cell_type": "code",
   "execution_count": 201,
   "metadata": {},
   "outputs": [
    {
     "data": {
      "text/html": [
       "<div>\n",
       "<style>\n",
       "    .dataframe thead tr:only-child th {\n",
       "        text-align: right;\n",
       "    }\n",
       "\n",
       "    .dataframe thead th {\n",
       "        text-align: left;\n",
       "    }\n",
       "\n",
       "    .dataframe tbody tr th {\n",
       "        vertical-align: top;\n",
       "    }\n",
       "</style>\n",
       "<table border=\"1\" class=\"dataframe\">\n",
       "  <thead>\n",
       "    <tr style=\"text-align: right;\">\n",
       "      <th></th>\n",
       "      <th>X</th>\n",
       "      <th>Y</th>\n",
       "      <th>DRIVER1AGE</th>\n",
       "      <th>NUMOFINJ</th>\n",
       "      <th>HOUR_X</th>\n",
       "      <th>HOUR_Y</th>\n",
       "      <th>CRASHSEVER_Fatal</th>\n",
       "      <th>CRASHSEVER_Injury</th>\n",
       "      <th>DRIVER1SEX_M</th>\n",
       "      <th>DRIVER1SEX_U</th>\n",
       "      <th>EMRGVEH_Yes</th>\n",
       "      <th>HITANDRUN_Yes</th>\n",
       "      <th>MOTORCYCLE_Yes</th>\n",
       "      <th>D1COND_Appeared Normal</th>\n",
       "      <th>D1COND_Fatigue / Sick</th>\n",
       "      <th>D1DRINKIN_Yes</th>\n",
       "      <th>SPEEDLIMIT_BINS_25&lt;speed&lt;45</th>\n",
       "      <th>SPEEDLIMIT_BINS_45&lt;speed&lt;65</th>\n",
       "      <th>SPEEDLIMIT_BINS_65&lt;speed</th>\n",
       "    </tr>\n",
       "  </thead>\n",
       "  <tbody>\n",
       "    <tr>\n",
       "      <th>0</th>\n",
       "      <td>-85.639647</td>\n",
       "      <td>42.927216</td>\n",
       "      <td>62</td>\n",
       "      <td>0</td>\n",
       "      <td>-0.258819</td>\n",
       "      <td>-9.659258e-01</td>\n",
       "      <td>0</td>\n",
       "      <td>0</td>\n",
       "      <td>0</td>\n",
       "      <td>0</td>\n",
       "      <td>0</td>\n",
       "      <td>1</td>\n",
       "      <td>0</td>\n",
       "      <td>1</td>\n",
       "      <td>0</td>\n",
       "      <td>0</td>\n",
       "      <td>1</td>\n",
       "      <td>0</td>\n",
       "      <td>0</td>\n",
       "    </tr>\n",
       "    <tr>\n",
       "      <th>1</th>\n",
       "      <td>-85.639487</td>\n",
       "      <td>42.927213</td>\n",
       "      <td>31</td>\n",
       "      <td>0</td>\n",
       "      <td>-1.000000</td>\n",
       "      <td>-1.836970e-16</td>\n",
       "      <td>0</td>\n",
       "      <td>0</td>\n",
       "      <td>1</td>\n",
       "      <td>0</td>\n",
       "      <td>0</td>\n",
       "      <td>1</td>\n",
       "      <td>0</td>\n",
       "      <td>0</td>\n",
       "      <td>0</td>\n",
       "      <td>0</td>\n",
       "      <td>1</td>\n",
       "      <td>0</td>\n",
       "      <td>0</td>\n",
       "    </tr>\n",
       "    <tr>\n",
       "      <th>2</th>\n",
       "      <td>-85.639387</td>\n",
       "      <td>42.927212</td>\n",
       "      <td>22</td>\n",
       "      <td>0</td>\n",
       "      <td>0.866025</td>\n",
       "      <td>-5.000000e-01</td>\n",
       "      <td>0</td>\n",
       "      <td>0</td>\n",
       "      <td>0</td>\n",
       "      <td>0</td>\n",
       "      <td>0</td>\n",
       "      <td>0</td>\n",
       "      <td>0</td>\n",
       "      <td>1</td>\n",
       "      <td>0</td>\n",
       "      <td>0</td>\n",
       "      <td>1</td>\n",
       "      <td>0</td>\n",
       "      <td>0</td>\n",
       "    </tr>\n",
       "    <tr>\n",
       "      <th>3</th>\n",
       "      <td>-85.639288</td>\n",
       "      <td>42.927210</td>\n",
       "      <td>30</td>\n",
       "      <td>0</td>\n",
       "      <td>-0.866025</td>\n",
       "      <td>-5.000000e-01</td>\n",
       "      <td>0</td>\n",
       "      <td>0</td>\n",
       "      <td>1</td>\n",
       "      <td>0</td>\n",
       "      <td>0</td>\n",
       "      <td>1</td>\n",
       "      <td>0</td>\n",
       "      <td>1</td>\n",
       "      <td>0</td>\n",
       "      <td>0</td>\n",
       "      <td>1</td>\n",
       "      <td>0</td>\n",
       "      <td>0</td>\n",
       "    </tr>\n",
       "    <tr>\n",
       "      <th>4</th>\n",
       "      <td>-85.639288</td>\n",
       "      <td>42.927210</td>\n",
       "      <td>44</td>\n",
       "      <td>0</td>\n",
       "      <td>-0.707107</td>\n",
       "      <td>-7.071068e-01</td>\n",
       "      <td>0</td>\n",
       "      <td>0</td>\n",
       "      <td>1</td>\n",
       "      <td>0</td>\n",
       "      <td>0</td>\n",
       "      <td>0</td>\n",
       "      <td>0</td>\n",
       "      <td>1</td>\n",
       "      <td>0</td>\n",
       "      <td>0</td>\n",
       "      <td>1</td>\n",
       "      <td>0</td>\n",
       "      <td>0</td>\n",
       "    </tr>\n",
       "  </tbody>\n",
       "</table>\n",
       "</div>"
      ],
      "text/plain": [
       "           X          Y  DRIVER1AGE  NUMOFINJ    HOUR_X        HOUR_Y  \\\n",
       "0 -85.639647  42.927216          62         0 -0.258819 -9.659258e-01   \n",
       "1 -85.639487  42.927213          31         0 -1.000000 -1.836970e-16   \n",
       "2 -85.639387  42.927212          22         0  0.866025 -5.000000e-01   \n",
       "3 -85.639288  42.927210          30         0 -0.866025 -5.000000e-01   \n",
       "4 -85.639288  42.927210          44         0 -0.707107 -7.071068e-01   \n",
       "\n",
       "   CRASHSEVER_Fatal  CRASHSEVER_Injury  DRIVER1SEX_M  DRIVER1SEX_U  \\\n",
       "0                 0                  0             0             0   \n",
       "1                 0                  0             1             0   \n",
       "2                 0                  0             0             0   \n",
       "3                 0                  0             1             0   \n",
       "4                 0                  0             1             0   \n",
       "\n",
       "   EMRGVEH_Yes  HITANDRUN_Yes  MOTORCYCLE_Yes  D1COND_Appeared Normal  \\\n",
       "0            0              1               0                       1   \n",
       "1            0              1               0                       0   \n",
       "2            0              0               0                       1   \n",
       "3            0              1               0                       1   \n",
       "4            0              0               0                       1   \n",
       "\n",
       "   D1COND_Fatigue / Sick  D1DRINKIN_Yes  SPEEDLIMIT_BINS_25<speed<45  \\\n",
       "0                      0              0                            1   \n",
       "1                      0              0                            1   \n",
       "2                      0              0                            1   \n",
       "3                      0              0                            1   \n",
       "4                      0              0                            1   \n",
       "\n",
       "   SPEEDLIMIT_BINS_45<speed<65  SPEEDLIMIT_BINS_65<speed  \n",
       "0                            0                         0  \n",
       "1                            0                         0  \n",
       "2                            0                         0  \n",
       "3                            0                         0  \n",
       "4                            0                         0  "
      ]
     },
     "execution_count": 201,
     "metadata": {},
     "output_type": "execute_result"
    }
   ],
   "source": [
    "crash.head()"
   ]
  },
  {
   "cell_type": "code",
   "execution_count": 202,
   "metadata": {},
   "outputs": [
    {
     "data": {
      "text/plain": [
       "<matplotlib.axes._subplots.AxesSubplot at 0x1a0d62e320>"
      ]
     },
     "execution_count": 202,
     "metadata": {},
     "output_type": "execute_result"
    },
    {
     "data": {
      "image/png": "[encoded data removed]",
      "text/plain": [
       "<matplotlib.figure.Figure at 0x1a0d57eb38>"
      ]
     },
     "metadata": {},
     "output_type": "display_data"
    }
   ],
   "source": [
    "# Compute the correlation matrix\n",
    "corr = crash.corr()\n",
    "\n",
    "# Generate a mask for the upper triangle\n",
    "mask = np.zeros_like(corr, dtype=np.bool)\n",
    "mask[np.triu_indices_from(mask)] = True\n",
    "\n",
    "# Set up the matplotlib figure\n",
    "f, ax = plt.subplots(figsize=(11, 9))\n",
    "\n",
    "# Generate a custom diverging colormap\n",
    "cmap = sns.diverging_palette(220, 10, as_cmap=True)\n",
    "\n",
    "# Draw the heatmap with the mask and correct aspect ratio\n",
    "sns.heatmap(corr, mask=mask, cmap=cmap, vmax=.3, center=0,\n",
    "            square=True, linewidths=.5, cbar_kws={\"shrink\": .5})"
   ]
  },
  {
   "cell_type": "markdown",
   "metadata": {},
   "source": [
    "## Fit regressor to impute missing ages\n",
    "* **DRIVER1AGE**: There are over 10,000 Driver ages listed as 999. I believe that this is an error and potentially represents ages that went unrecorded. Usually with missing ages, I'd either drop them or impute the average age or something along those lines, but since there are so many missing, and since the age of driver 1 seems to be such a crucial feature, I will fit a regressor to impute the missing ages with a prediction (think of it like an educated guess)."
   ]
  },
  {
   "cell_type": "code",
   "execution_count": 203,
   "metadata": {},
   "outputs": [
    {
     "data": {
      "text/plain": [
       "<matplotlib.axes._subplots.AxesSubplot at 0x1a0daec748>"
      ]
     },
     "execution_count": 203,
     "metadata": {},
     "output_type": "execute_result"
    },
    {
     "data": {
      "image/png": "[encoded data removed]",
      "text/plain": [
       "<matplotlib.figure.Figure at 0x1a0dad9e10>"
      ]
     },
     "metadata": {},
     "output_type": "display_data"
    }
   ],
   "source": [
    "# As you can see, there are a ton of 999 year old drivers... leaving this would skew our model\n",
    "sns.distplot(crash['DRIVER1AGE'])"
   ]
  },
  {
   "cell_type": "markdown",
   "metadata": {},
   "source": [
    "* Big shout out to [this kaggle notebook](https://www.kaggle.com/athi94/investigating-imputation-methods) for helping me impute the missing ages with a regressor"
   ]
  },
  {
   "cell_type": "code",
   "execution_count": 204,
   "metadata": {},
   "outputs": [
    {
     "data": {
      "text/plain": [
       "Index(['X', 'Y', 'DRIVER1AGE', 'NUMOFINJ', 'HOUR_X', 'HOUR_Y',\n",
       "       'CRASHSEVER_Fatal', 'CRASHSEVER_Injury', 'DRIVER1SEX_M', 'DRIVER1SEX_U',\n",
       "       'EMRGVEH_Yes', 'HITANDRUN_Yes', 'MOTORCYCLE_Yes',\n",
       "       'D1COND_Appeared Normal', 'D1COND_Fatigue / Sick', 'D1DRINKIN_Yes',\n",
       "       'SPEEDLIMIT_BINS_25<speed<45', 'SPEEDLIMIT_BINS_45<speed<65',\n",
       "       'SPEEDLIMIT_BINS_65<speed'],\n",
       "      dtype='object')"
      ]
     },
     "execution_count": 204,
     "metadata": {},
     "output_type": "execute_result"
    }
   ],
   "source": [
    "crash.columns"
   ]
  },
  {
   "cell_type": "code",
   "execution_count": 205,
   "metadata": {},
   "outputs": [
    {
     "data": {
      "text/plain": [
       "8979"
      ]
     },
     "execution_count": 205,
     "metadata": {},
     "output_type": "execute_result"
    }
   ],
   "source": [
    "crash['DRIVER1AGE'] = crash['DRIVER1AGE'].replace(to_replace = 999, value = np.NaN)\n",
    "crash['DRIVER1AGE'].isnull().sum()"
   ]
  },
  {
   "cell_type": "code",
   "execution_count": 206,
   "metadata": {},
   "outputs": [],
   "source": [
    "crash_cl = crash\n",
    "crash_reg = crash.dropna()"
   ]
  },
  {
   "cell_type": "code",
   "execution_count": 207,
   "metadata": {},
   "outputs": [],
   "source": [
    "# These are the features I use to fit my regressor to impute missing ages. Notice that I do not use \n",
    "# the ultimate target variable, 'D1DRINKIN_Yes', as this may skew the predictions\n",
    "X_cols = ['X', 'Y','NUMOFINJ', 'HOUR_X', 'HOUR_Y',\n",
    "       'CRASHSEVER_Fatal', 'CRASHSEVER_Injury', 'DRIVER1SEX_M', 'DRIVER1SEX_U',\n",
    "       'EMRGVEH_Yes', 'HITANDRUN_Yes', 'MOTORCYCLE_Yes',\n",
    "       'D1COND_Appeared Normal', 'D1COND_Fatigue / Sick',\n",
    "         'SPEEDLIMIT_BINS_25<speed<45', 'SPEEDLIMIT_BINS_45<speed<65', 'SPEEDLIMIT_BINS_65<speed']\n",
    "y_cols = 'DRIVER1AGE'\n",
    "\n",
    "\n",
    "# Defining a temporary feature matrix X and target vector y\n",
    "X_temp = crash.loc[:, X_cols]\n",
    "y_temp = crash.loc[:, y_cols]\n",
    "\n",
    "\n",
    "# Splitting temporary data into training and test set so that no data leaks to test set\n",
    "#     notice that the random state=742, which is the same used in model_evaluation.ipynb\n",
    "X_train, X_test, y_train, y_test = train_test_split(X_temp, y_temp, random_state=742)\n",
    "\n",
    "# finally, we drop NaN's, and train on the observations with vaild ages\n",
    "train_df = pd.concat([X_train, y_train], axis=1)\n",
    "train_df_reg = train_df.dropna()\n",
    "\n",
    "# Defining a temporary training feature matrix X and training target vector y\n",
    "X_train_temp = train_df_reg.loc[:, X_cols]\n",
    "y_train_temp = train_df_reg.loc[:, y_cols]"
   ]
  },
  {
   "cell_type": "code",
   "execution_count": 209,
   "metadata": {},
   "outputs": [
    {
     "data": {
      "text/plain": [
       "LinearRegression(copy_X=True, fit_intercept=True, n_jobs=1, normalize=False)"
      ]
     },
     "execution_count": 209,
     "metadata": {},
     "output_type": "execute_result"
    }
   ],
   "source": [
    "from sklearn.linear_model import LinearRegression\n",
    "age_lm = LinearRegression()\n",
    "age_lm.fit(X_train_temp, y_train_temp)"
   ]
  },
  {
   "cell_type": "code",
   "execution_count": 213,
   "metadata": {},
   "outputs": [],
   "source": [
    "nan_inds = crash.DRIVER1AGE.isnull().nonzero()[0]\n",
    "\n",
    "for i in nan_inds:\n",
    "    crash.set_value(i, 'DRIVER1AGE', age_lm.predict(crash_cl.loc[i, X_cols].values.reshape(1, -1)))"
   ]
  },
  {
   "cell_type": "code",
   "execution_count": 214,
   "metadata": {},
   "outputs": [
    {
     "data": {
      "text/plain": [
       "<matplotlib.axes._subplots.AxesSubplot at 0x1a0d57e278>"
      ]
     },
     "execution_count": 214,
     "metadata": {},
     "output_type": "execute_result"
    },
    {
     "data": {
      "image/png": "[encoded data removed]",
      "text/plain": [
       "<matplotlib.figure.Figure at 0x1a1c355400>"
      ]
     },
     "metadata": {},
     "output_type": "display_data"
    }
   ],
   "source": [
    "# This age distribution looks much better!\n",
    "sns.distplot(crash['DRIVER1AGE'])"
   ]
  },
  {
   "cell_type": "markdown",
   "metadata": {},
   "source": [
    "## Scaling Numerical Variables"
   ]
  },
  {
   "cell_type": "code",
   "execution_count": 215,
   "metadata": {},
   "outputs": [],
   "source": [
    "sc_X = StandardScaler()\n",
    "X_scaled = sc_X.fit_transform(crash[['X', 'Y', 'DRIVER1AGE', 'NUMOFINJ']])"
   ]
  },
  {
   "cell_type": "code",
   "execution_count": 216,
   "metadata": {},
   "outputs": [],
   "source": [
    "X_scaled_df = pd.DataFrame(X_scaled, columns = ['X', 'Y', 'DRIVER1AGE', 'NUMOFINJ'])"
   ]
  },
  {
   "cell_type": "code",
   "execution_count": 217,
   "metadata": {},
   "outputs": [],
   "source": [
    "crash_ = crash.drop(['X', 'Y', 'DRIVER1AGE', 'NUMOFINJ'], axis=1)"
   ]
  },
  {
   "cell_type": "code",
   "execution_count": 218,
   "metadata": {},
   "outputs": [],
   "source": [
    "crash = pd.concat([X_scaled_df, crash_], axis=1)"
   ]
  },
  {
   "cell_type": "markdown",
   "metadata": {},
   "source": [
    "---"
   ]
  },
  {
   "cell_type": "markdown",
   "metadata": {},
   "source": [
    "## Exporting Processed Data to CSV"
   ]
  },
  {
   "cell_type": "code",
   "execution_count": 219,
   "metadata": {},
   "outputs": [
    {
     "data": {
      "text/html": [
       "<div>\n",
       "<style>\n",
       "    .dataframe thead tr:only-child th {\n",
       "        text-align: right;\n",
       "    }\n",
       "\n",
       "    .dataframe thead th {\n",
       "        text-align: left;\n",
       "    }\n",
       "\n",
       "    .dataframe tbody tr th {\n",
       "        vertical-align: top;\n",
       "    }\n",
       "</style>\n",
       "<table border=\"1\" class=\"dataframe\">\n",
       "  <thead>\n",
       "    <tr style=\"text-align: right;\">\n",
       "      <th></th>\n",
       "      <th>X</th>\n",
       "      <th>Y</th>\n",
       "      <th>DRIVER1AGE</th>\n",
       "      <th>NUMOFINJ</th>\n",
       "      <th>HOUR_X</th>\n",
       "      <th>HOUR_Y</th>\n",
       "      <th>CRASHSEVER_Fatal</th>\n",
       "      <th>CRASHSEVER_Injury</th>\n",
       "      <th>DRIVER1SEX_M</th>\n",
       "      <th>DRIVER1SEX_U</th>\n",
       "      <th>EMRGVEH_Yes</th>\n",
       "      <th>HITANDRUN_Yes</th>\n",
       "      <th>MOTORCYCLE_Yes</th>\n",
       "      <th>D1COND_Appeared Normal</th>\n",
       "      <th>D1COND_Fatigue / Sick</th>\n",
       "      <th>D1DRINKIN_Yes</th>\n",
       "      <th>SPEEDLIMIT_BINS_25&lt;speed&lt;45</th>\n",
       "      <th>SPEEDLIMIT_BINS_45&lt;speed&lt;65</th>\n",
       "      <th>SPEEDLIMIT_BINS_65&lt;speed</th>\n",
       "    </tr>\n",
       "  </thead>\n",
       "  <tbody>\n",
       "    <tr>\n",
       "      <th>0</th>\n",
       "      <td>0.406318</td>\n",
       "      <td>-0.996140</td>\n",
       "      <td>1.685157</td>\n",
       "      <td>-0.416816</td>\n",
       "      <td>-0.258819</td>\n",
       "      <td>-9.659258e-01</td>\n",
       "      <td>0</td>\n",
       "      <td>0</td>\n",
       "      <td>0</td>\n",
       "      <td>0</td>\n",
       "      <td>0</td>\n",
       "      <td>1</td>\n",
       "      <td>0</td>\n",
       "      <td>1</td>\n",
       "      <td>0</td>\n",
       "      <td>0</td>\n",
       "      <td>1</td>\n",
       "      <td>0</td>\n",
       "      <td>0</td>\n",
       "    </tr>\n",
       "    <tr>\n",
       "      <th>1</th>\n",
       "      <td>0.411006</td>\n",
       "      <td>-0.996237</td>\n",
       "      <td>-0.269018</td>\n",
       "      <td>-0.416816</td>\n",
       "      <td>-1.000000</td>\n",
       "      <td>-1.836970e-16</td>\n",
       "      <td>0</td>\n",
       "      <td>0</td>\n",
       "      <td>1</td>\n",
       "      <td>0</td>\n",
       "      <td>0</td>\n",
       "      <td>1</td>\n",
       "      <td>0</td>\n",
       "      <td>0</td>\n",
       "      <td>0</td>\n",
       "      <td>0</td>\n",
       "      <td>1</td>\n",
       "      <td>0</td>\n",
       "      <td>0</td>\n",
       "    </tr>\n",
       "    <tr>\n",
       "      <th>2</th>\n",
       "      <td>0.413936</td>\n",
       "      <td>-0.996298</td>\n",
       "      <td>-0.836360</td>\n",
       "      <td>-0.416816</td>\n",
       "      <td>0.866025</td>\n",
       "      <td>-5.000000e-01</td>\n",
       "      <td>0</td>\n",
       "      <td>0</td>\n",
       "      <td>0</td>\n",
       "      <td>0</td>\n",
       "      <td>0</td>\n",
       "      <td>0</td>\n",
       "      <td>0</td>\n",
       "      <td>1</td>\n",
       "      <td>0</td>\n",
       "      <td>0</td>\n",
       "      <td>1</td>\n",
       "      <td>0</td>\n",
       "      <td>0</td>\n",
       "    </tr>\n",
       "    <tr>\n",
       "      <th>3</th>\n",
       "      <td>0.416866</td>\n",
       "      <td>-0.996358</td>\n",
       "      <td>-0.332056</td>\n",
       "      <td>-0.416816</td>\n",
       "      <td>-0.866025</td>\n",
       "      <td>-5.000000e-01</td>\n",
       "      <td>0</td>\n",
       "      <td>0</td>\n",
       "      <td>1</td>\n",
       "      <td>0</td>\n",
       "      <td>0</td>\n",
       "      <td>1</td>\n",
       "      <td>0</td>\n",
       "      <td>1</td>\n",
       "      <td>0</td>\n",
       "      <td>0</td>\n",
       "      <td>1</td>\n",
       "      <td>0</td>\n",
       "      <td>0</td>\n",
       "    </tr>\n",
       "    <tr>\n",
       "      <th>4</th>\n",
       "      <td>0.416866</td>\n",
       "      <td>-0.996358</td>\n",
       "      <td>0.550474</td>\n",
       "      <td>-0.416816</td>\n",
       "      <td>-0.707107</td>\n",
       "      <td>-7.071068e-01</td>\n",
       "      <td>0</td>\n",
       "      <td>0</td>\n",
       "      <td>1</td>\n",
       "      <td>0</td>\n",
       "      <td>0</td>\n",
       "      <td>0</td>\n",
       "      <td>0</td>\n",
       "      <td>1</td>\n",
       "      <td>0</td>\n",
       "      <td>0</td>\n",
       "      <td>1</td>\n",
       "      <td>0</td>\n",
       "      <td>0</td>\n",
       "    </tr>\n",
       "  </tbody>\n",
       "</table>\n",
       "</div>"
      ],
      "text/plain": [
       "          X         Y  DRIVER1AGE  NUMOFINJ    HOUR_X        HOUR_Y  \\\n",
       "0  0.406318 -0.996140    1.685157 -0.416816 -0.258819 -9.659258e-01   \n",
       "1  0.411006 -0.996237   -0.269018 -0.416816 -1.000000 -1.836970e-16   \n",
       "2  0.413936 -0.996298   -0.836360 -0.416816  0.866025 -5.000000e-01   \n",
       "3  0.416866 -0.996358   -0.332056 -0.416816 -0.866025 -5.000000e-01   \n",
       "4  0.416866 -0.996358    0.550474 -0.416816 -0.707107 -7.071068e-01   \n",
       "\n",
       "   CRASHSEVER_Fatal  CRASHSEVER_Injury  DRIVER1SEX_M  DRIVER1SEX_U  \\\n",
       "0                 0                  0             0             0   \n",
       "1                 0                  0             1             0   \n",
       "2                 0                  0             0             0   \n",
       "3                 0                  0             1             0   \n",
       "4                 0                  0             1             0   \n",
       "\n",
       "   EMRGVEH_Yes  HITANDRUN_Yes  MOTORCYCLE_Yes  D1COND_Appeared Normal  \\\n",
       "0            0              1               0                       1   \n",
       "1            0              1               0                       0   \n",
       "2            0              0               0                       1   \n",
       "3            0              1               0                       1   \n",
       "4            0              0               0                       1   \n",
       "\n",
       "   D1COND_Fatigue / Sick  D1DRINKIN_Yes  SPEEDLIMIT_BINS_25<speed<45  \\\n",
       "0                      0              0                            1   \n",
       "1                      0              0                            1   \n",
       "2                      0              0                            1   \n",
       "3                      0              0                            1   \n",
       "4                      0              0                            1   \n",
       "\n",
       "   SPEEDLIMIT_BINS_45<speed<65  SPEEDLIMIT_BINS_65<speed  \n",
       "0                            0                         0  \n",
       "1                            0                         0  \n",
       "2                            0                         0  \n",
       "3                            0                         0  \n",
       "4                            0                         0  "
      ]
     },
     "execution_count": 219,
     "metadata": {},
     "output_type": "execute_result"
    }
   ],
   "source": [
    "crash.head()"
   ]
  },
  {
   "cell_type": "code",
   "execution_count": 220,
   "metadata": {},
   "outputs": [],
   "source": [
    "crash.to_csv('Data/Crash_data_prepared.csv', index=False)"
   ]
  }
 ],
 "metadata": {
  "kernelspec": {
   "display_name": "Python 3",
   "language": "python",
   "name": "python3"
  },
  "language_info": {
   "codemirror_mode": {
    "name": "ipython",
    "version": 3
   },
   "file_extension": ".py",
   "mimetype": "text/x-python",
   "name": "python",
   "nbconvert_exporter": "python",
   "pygments_lexer": "ipython3",
   "version": "3.6.3"
  }
 },
 "nbformat": 4,
 "nbformat_minor": 2
}
