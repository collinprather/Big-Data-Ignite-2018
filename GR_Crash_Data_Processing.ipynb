{
 "cells": [
  {
   "cell_type": "markdown",
   "metadata": {},
   "source": [
    "# Data PreProcessing"
   ]
  },
  {
   "cell_type": "markdown",
   "metadata": {},
   "source": [
    "Data downloaded from: [GRData](http://grdata-grandrapids.opendata.arcgis.com/datasets/cgr-crash-data?geometry=-125.244%2C40.576%2C125.244%2C72.126)."
   ]
  },
  {
   "cell_type": "code",
   "execution_count": 1,
   "metadata": {},
   "outputs": [],
   "source": [
    "import numpy as np\n",
    "import pandas as pd\n",
    "import matplotlib.pyplot as plt\n",
    "%matplotlib inline\n",
    "\n",
    "import seaborn as sns\n",
    "\n",
    "from sklearn.linear_model import LogisticRegression\n",
    "from sklearn.preprocessing import LabelEncoder, OneHotEncoder, StandardScaler\n",
    "from sklearn.model_selection import train_test_split, GridSearchCV\n",
    "\n",
    "from sklearn.metrics import confusion_matrix, classification_report, precision_score\n",
    "from sklearn.metrics import roc_curve, auc"
   ]
  },
  {
   "cell_type": "code",
   "execution_count": 107,
   "metadata": {},
   "outputs": [
    {
     "data": {
      "text/html": [
       "<div>\n",
       "<style>\n",
       "    .dataframe thead tr:only-child th {\n",
       "        text-align: right;\n",
       "    }\n",
       "\n",
       "    .dataframe thead th {\n",
       "        text-align: left;\n",
       "    }\n",
       "\n",
       "    .dataframe tbody tr th {\n",
       "        vertical-align: top;\n",
       "    }\n",
       "</style>\n",
       "<table border=\"1\" class=\"dataframe\">\n",
       "  <thead>\n",
       "    <tr style=\"text-align: right;\">\n",
       "      <th></th>\n",
       "      <th>X</th>\n",
       "      <th>Y</th>\n",
       "      <th>OBJECTID</th>\n",
       "      <th>ROADSOFTID</th>\n",
       "      <th>BIKE</th>\n",
       "      <th>CITY</th>\n",
       "      <th>CRASHDATE</th>\n",
       "      <th>CRASHSEVER</th>\n",
       "      <th>CRASHTYPE</th>\n",
       "      <th>WORKZNEACT</th>\n",
       "      <th>...</th>\n",
       "      <th>VEH3DIR</th>\n",
       "      <th>VEH3TYPE</th>\n",
       "      <th>VEH3USE</th>\n",
       "      <th>WEATHER</th>\n",
       "      <th>WHEREONRD</th>\n",
       "      <th>YEAR</th>\n",
       "      <th>RDCITYTWP</th>\n",
       "      <th>RDNUMLANES</th>\n",
       "      <th>RDWIDTH</th>\n",
       "      <th>FRAMEWORK</th>\n",
       "    </tr>\n",
       "  </thead>\n",
       "  <tbody>\n",
       "    <tr>\n",
       "      <th>0</th>\n",
       "      <td>-85.639647</td>\n",
       "      <td>42.927216</td>\n",
       "      <td>6001</td>\n",
       "      <td>929923</td>\n",
       "      <td>No</td>\n",
       "      <td>Grand Rapids</td>\n",
       "      <td>2007-02-16</td>\n",
       "      <td>Property Damage Only</td>\n",
       "      <td>Side-Swipe Same</td>\n",
       "      <td>Uncoded &amp; Errors</td>\n",
       "      <td>...</td>\n",
       "      <td>U</td>\n",
       "      <td>Uncoded &amp; Errors</td>\n",
       "      <td>Uncoded &amp; Errors</td>\n",
       "      <td>Cloudy</td>\n",
       "      <td>On the Road</td>\n",
       "      <td>2007</td>\n",
       "      <td>Grand Rapids</td>\n",
       "      <td>2</td>\n",
       "      <td>42.0</td>\n",
       "      <td>17</td>\n",
       "    </tr>\n",
       "    <tr>\n",
       "      <th>1</th>\n",
       "      <td>-85.639487</td>\n",
       "      <td>42.927213</td>\n",
       "      <td>6002</td>\n",
       "      <td>935745</td>\n",
       "      <td>No</td>\n",
       "      <td>Grand Rapids</td>\n",
       "      <td>2007-06-22</td>\n",
       "      <td>Property Damage Only</td>\n",
       "      <td>Side-Swipe Same</td>\n",
       "      <td>Uncoded &amp; Errors</td>\n",
       "      <td>...</td>\n",
       "      <td>U</td>\n",
       "      <td>Uncoded &amp; Errors</td>\n",
       "      <td>Uncoded &amp; Errors</td>\n",
       "      <td>Clear</td>\n",
       "      <td>On the Road</td>\n",
       "      <td>2007</td>\n",
       "      <td>Grand Rapids</td>\n",
       "      <td>2</td>\n",
       "      <td>42.0</td>\n",
       "      <td>17</td>\n",
       "    </tr>\n",
       "    <tr>\n",
       "      <th>2</th>\n",
       "      <td>-85.639387</td>\n",
       "      <td>42.927212</td>\n",
       "      <td>6003</td>\n",
       "      <td>926813</td>\n",
       "      <td>No</td>\n",
       "      <td>Grand Rapids</td>\n",
       "      <td>2007-01-08</td>\n",
       "      <td>Property Damage Only</td>\n",
       "      <td>Head-on</td>\n",
       "      <td>Work on Shoulder / Median</td>\n",
       "      <td>...</td>\n",
       "      <td>U</td>\n",
       "      <td>Uncoded &amp; Errors</td>\n",
       "      <td>Uncoded &amp; Errors</td>\n",
       "      <td>Snow</td>\n",
       "      <td>On the Road</td>\n",
       "      <td>2007</td>\n",
       "      <td>Grand Rapids</td>\n",
       "      <td>2</td>\n",
       "      <td>42.0</td>\n",
       "      <td>17</td>\n",
       "    </tr>\n",
       "    <tr>\n",
       "      <th>3</th>\n",
       "      <td>-85.639288</td>\n",
       "      <td>42.927210</td>\n",
       "      <td>6004</td>\n",
       "      <td>943813</td>\n",
       "      <td>No</td>\n",
       "      <td>Grand Rapids</td>\n",
       "      <td>2007-11-12</td>\n",
       "      <td>Property Damage Only</td>\n",
       "      <td>Side-Swipe Same</td>\n",
       "      <td>Uncoded &amp; Errors</td>\n",
       "      <td>...</td>\n",
       "      <td>U</td>\n",
       "      <td>Uncoded &amp; Errors</td>\n",
       "      <td>Uncoded &amp; Errors</td>\n",
       "      <td>Cloudy</td>\n",
       "      <td>On the Road</td>\n",
       "      <td>2007</td>\n",
       "      <td>Grand Rapids</td>\n",
       "      <td>2</td>\n",
       "      <td>42.0</td>\n",
       "      <td>17</td>\n",
       "    </tr>\n",
       "  </tbody>\n",
       "</table>\n",
       "<p>4 rows × 77 columns</p>\n",
       "</div>"
      ],
      "text/plain": [
       "           X          Y  OBJECTID  ROADSOFTID BIKE          CITY   CRASHDATE  \\\n",
       "0 -85.639647  42.927216      6001      929923   No  Grand Rapids  2007-02-16   \n",
       "1 -85.639487  42.927213      6002      935745   No  Grand Rapids  2007-06-22   \n",
       "2 -85.639387  42.927212      6003      926813   No  Grand Rapids  2007-01-08   \n",
       "3 -85.639288  42.927210      6004      943813   No  Grand Rapids  2007-11-12   \n",
       "\n",
       "             CRASHSEVER        CRASHTYPE                 WORKZNEACT    ...     \\\n",
       "0  Property Damage Only  Side-Swipe Same           Uncoded & Errors    ...      \n",
       "1  Property Damage Only  Side-Swipe Same           Uncoded & Errors    ...      \n",
       "2  Property Damage Only          Head-on  Work on Shoulder / Median    ...      \n",
       "3  Property Damage Only  Side-Swipe Same           Uncoded & Errors    ...      \n",
       "\n",
       "  VEH3DIR          VEH3TYPE           VEH3USE WEATHER    WHEREONRD  YEAR  \\\n",
       "0       U  Uncoded & Errors  Uncoded & Errors  Cloudy  On the Road  2007   \n",
       "1       U  Uncoded & Errors  Uncoded & Errors   Clear  On the Road  2007   \n",
       "2       U  Uncoded & Errors  Uncoded & Errors    Snow  On the Road  2007   \n",
       "3       U  Uncoded & Errors  Uncoded & Errors  Cloudy  On the Road  2007   \n",
       "\n",
       "      RDCITYTWP RDNUMLANES RDWIDTH FRAMEWORK  \n",
       "0  Grand Rapids          2    42.0        17  \n",
       "1  Grand Rapids          2    42.0        17  \n",
       "2  Grand Rapids          2    42.0        17  \n",
       "3  Grand Rapids          2    42.0        17  \n",
       "\n",
       "[4 rows x 77 columns]"
      ]
     },
     "execution_count": 107,
     "metadata": {},
     "output_type": "execute_result"
    }
   ],
   "source": [
    "crash = pd.read_csv('Data/CGR_Crash_Data.csv')\n",
    "crash.head(4)"
   ]
  },
  {
   "cell_type": "code",
   "execution_count": 108,
   "metadata": {},
   "outputs": [],
   "source": [
    "#crash.DRIVER1AGE.value_counts()"
   ]
  },
  {
   "cell_type": "code",
   "execution_count": 109,
   "metadata": {},
   "outputs": [
    {
     "name": "stdout",
     "output_type": "stream",
     "text": [
      "(72977, 77)\n"
     ]
    }
   ],
   "source": [
    "initial_shape = crash.shape\n",
    "print(initial_shape)"
   ]
  },
  {
   "cell_type": "markdown",
   "metadata": {},
   "source": [
    "Thankfully, there is no blatantly missing data. Most places where data is missing, there is a short message like \"Uncoded & Errors\". We'll have to deal with this on a case by case basis."
   ]
  },
  {
   "cell_type": "markdown",
   "metadata": {},
   "source": [
    "## Columns Dropped\n",
    "* Unfortunately, I do not know what the \"OBJECTID\" or \"ROADSOFTID\" columns mean, so I will drop them.\n",
    "* Since all crashes occur in Grand Rapids, I will drop the \"CITY\" column.\n",
    "* Since we have other features that may represent the time/date better than \"CRASHDATE\" we'll drop it.\n",
    "* \"WORKZNEACT\", \"WORKZNECLO\", \"WORKZNETYP\", \"ANIMAL\" are primarily errors\n",
    "* \"DAYOFMONTH\", \"DAYOFWEEK\" were fairly evenly distributed and did not seem to have any correlation with \"HITANDRUN\"\n",
    "* Wanted to use \"D1COND\", \"D2COND\", \"D3COND\", but not enough data recorded.\n",
    "* \"FLEEINGSIT\" looks like it could be helpful, but not sure what it means, and far too few instances\n",
    "* all read no for \"NONTRAFFIC\"\n",
    "* Such low amounts of data on Vehichle defect, dropped \"V1DEFECT\", \"V2DEFECT\"\n",
    "* Such low amounts of data on any third vehicle, drop 'D3DRINKIN', 'DRIVER3AGE', 'DRIVER3SEX', 'V3DEFECT', 'V3DAMAGE', 'VEH3DIR', 'VEH3TYPE', 'VEH3USE'\n",
    "\n",
    "\n",
    "* Drop all V3's"
   ]
  },
  {
   "cell_type": "code",
   "execution_count": 110,
   "metadata": {},
   "outputs": [],
   "source": [
    "labels = [\"OBJECTID\", \"ROADSOFTID\", \"CITY\", \"CRASHDATE\", \"WORKZNEACT\", \"WORKZNECLO\", \"WORKZNETYP\",\n",
    "         \"DAYOFMONTH\", \"DAYOFWEEK\", \"ANIMAL\", \"D1COND\", \"D2COND\", \"D3COND\", \"FARMEQUIP\", \"FLEEINGSIT\", \"NONTRAFFIC\", \n",
    "         \"NUMOFKILL\", \"ORV\", \"PUBLICPROP\", \"PEDESTRIAN\", \"SNOWMOBILE\", \"SCHOOLBUS\", \"TRAIN\", \"V1DEFECT\", \"V2DEFECT\", \n",
    "          'D3DRINKIN', 'DRIVER3AGE', 'DRIVER3SEX', 'V3DEFECT', 'V3DAMAGE', 'VEH3DIR', 'VEH3TYPE', 'VEH3USE',\n",
    "          'FRAMEWORK', 'RDCITYTWP', 'YEAR'\n",
    "         ]\n",
    "crash = crash.drop(labels=labels, axis=1)"
   ]
  },
  {
   "cell_type": "code",
   "execution_count": 111,
   "metadata": {},
   "outputs": [
    {
     "data": {
      "text/html": [
       "<div>\n",
       "<style>\n",
       "    .dataframe thead tr:only-child th {\n",
       "        text-align: right;\n",
       "    }\n",
       "\n",
       "    .dataframe thead th {\n",
       "        text-align: left;\n",
       "    }\n",
       "\n",
       "    .dataframe tbody tr th {\n",
       "        vertical-align: top;\n",
       "    }\n",
       "</style>\n",
       "<table border=\"1\" class=\"dataframe\">\n",
       "  <thead>\n",
       "    <tr style=\"text-align: right;\">\n",
       "      <th></th>\n",
       "      <th>X</th>\n",
       "      <th>Y</th>\n",
       "      <th>BIKE</th>\n",
       "      <th>CRASHSEVER</th>\n",
       "      <th>CRASHTYPE</th>\n",
       "      <th>D1DRINKIN</th>\n",
       "      <th>D2DRINKIN</th>\n",
       "      <th>DRIVER1AGE</th>\n",
       "      <th>DRIVER1SEX</th>\n",
       "      <th>DRIVER2AGE</th>\n",
       "      <th>...</th>\n",
       "      <th>VEH1DIR</th>\n",
       "      <th>VEH1TYPE</th>\n",
       "      <th>VEH1USE</th>\n",
       "      <th>VEH2DIR</th>\n",
       "      <th>VEH2TYPE</th>\n",
       "      <th>VEH2USE</th>\n",
       "      <th>WEATHER</th>\n",
       "      <th>WHEREONRD</th>\n",
       "      <th>RDNUMLANES</th>\n",
       "      <th>RDWIDTH</th>\n",
       "    </tr>\n",
       "  </thead>\n",
       "  <tbody>\n",
       "    <tr>\n",
       "      <th>0</th>\n",
       "      <td>-85.639647</td>\n",
       "      <td>42.927216</td>\n",
       "      <td>No</td>\n",
       "      <td>Property Damage Only</td>\n",
       "      <td>Side-Swipe Same</td>\n",
       "      <td>No</td>\n",
       "      <td>No</td>\n",
       "      <td>62</td>\n",
       "      <td>F</td>\n",
       "      <td>999</td>\n",
       "      <td>...</td>\n",
       "      <td>W</td>\n",
       "      <td>Passenger Car, SUV, Van</td>\n",
       "      <td>Private</td>\n",
       "      <td>U</td>\n",
       "      <td>Uncoded &amp; Errors</td>\n",
       "      <td>Uncoded &amp; Errors</td>\n",
       "      <td>Cloudy</td>\n",
       "      <td>On the Road</td>\n",
       "      <td>2</td>\n",
       "      <td>42.0</td>\n",
       "    </tr>\n",
       "    <tr>\n",
       "      <th>1</th>\n",
       "      <td>-85.639487</td>\n",
       "      <td>42.927213</td>\n",
       "      <td>No</td>\n",
       "      <td>Property Damage Only</td>\n",
       "      <td>Side-Swipe Same</td>\n",
       "      <td>No</td>\n",
       "      <td>No</td>\n",
       "      <td>31</td>\n",
       "      <td>M</td>\n",
       "      <td>999</td>\n",
       "      <td>...</td>\n",
       "      <td>E</td>\n",
       "      <td>Passenger Car, SUV, Van</td>\n",
       "      <td>Private</td>\n",
       "      <td>E</td>\n",
       "      <td>Uncoded &amp; Errors</td>\n",
       "      <td>Uncoded &amp; Errors</td>\n",
       "      <td>Clear</td>\n",
       "      <td>On the Road</td>\n",
       "      <td>2</td>\n",
       "      <td>42.0</td>\n",
       "    </tr>\n",
       "    <tr>\n",
       "      <th>2</th>\n",
       "      <td>-85.639387</td>\n",
       "      <td>42.927212</td>\n",
       "      <td>No</td>\n",
       "      <td>Property Damage Only</td>\n",
       "      <td>Head-on</td>\n",
       "      <td>No</td>\n",
       "      <td>No</td>\n",
       "      <td>22</td>\n",
       "      <td>F</td>\n",
       "      <td>37</td>\n",
       "      <td>...</td>\n",
       "      <td>E</td>\n",
       "      <td>Pickup Truck</td>\n",
       "      <td>Private</td>\n",
       "      <td>W</td>\n",
       "      <td>Passenger Car, SUV, Van</td>\n",
       "      <td>Private</td>\n",
       "      <td>Snow</td>\n",
       "      <td>On the Road</td>\n",
       "      <td>2</td>\n",
       "      <td>42.0</td>\n",
       "    </tr>\n",
       "    <tr>\n",
       "      <th>3</th>\n",
       "      <td>-85.639288</td>\n",
       "      <td>42.927210</td>\n",
       "      <td>No</td>\n",
       "      <td>Property Damage Only</td>\n",
       "      <td>Side-Swipe Same</td>\n",
       "      <td>No</td>\n",
       "      <td>No</td>\n",
       "      <td>30</td>\n",
       "      <td>M</td>\n",
       "      <td>999</td>\n",
       "      <td>...</td>\n",
       "      <td>E</td>\n",
       "      <td>Pickup Truck</td>\n",
       "      <td>Private</td>\n",
       "      <td>E</td>\n",
       "      <td>Passenger Car, SUV, Van</td>\n",
       "      <td>Uncoded &amp; Errors</td>\n",
       "      <td>Cloudy</td>\n",
       "      <td>On the Road</td>\n",
       "      <td>2</td>\n",
       "      <td>42.0</td>\n",
       "    </tr>\n",
       "  </tbody>\n",
       "</table>\n",
       "<p>4 rows × 41 columns</p>\n",
       "</div>"
      ],
      "text/plain": [
       "           X          Y BIKE            CRASHSEVER        CRASHTYPE D1DRINKIN  \\\n",
       "0 -85.639647  42.927216   No  Property Damage Only  Side-Swipe Same        No   \n",
       "1 -85.639487  42.927213   No  Property Damage Only  Side-Swipe Same        No   \n",
       "2 -85.639387  42.927212   No  Property Damage Only          Head-on        No   \n",
       "3 -85.639288  42.927210   No  Property Damage Only  Side-Swipe Same        No   \n",
       "\n",
       "  D2DRINKIN  DRIVER1AGE DRIVER1SEX  DRIVER2AGE   ...    VEH1DIR  \\\n",
       "0        No          62          F         999   ...          W   \n",
       "1        No          31          M         999   ...          E   \n",
       "2        No          22          F          37   ...          E   \n",
       "3        No          30          M         999   ...          E   \n",
       "\n",
       "                  VEH1TYPE  VEH1USE VEH2DIR                 VEH2TYPE  \\\n",
       "0  Passenger Car, SUV, Van  Private       U         Uncoded & Errors   \n",
       "1  Passenger Car, SUV, Van  Private       E         Uncoded & Errors   \n",
       "2             Pickup Truck  Private       W  Passenger Car, SUV, Van   \n",
       "3             Pickup Truck  Private       E  Passenger Car, SUV, Van   \n",
       "\n",
       "            VEH2USE WEATHER    WHEREONRD  RDNUMLANES  RDWIDTH  \n",
       "0  Uncoded & Errors  Cloudy  On the Road           2     42.0  \n",
       "1  Uncoded & Errors   Clear  On the Road           2     42.0  \n",
       "2           Private    Snow  On the Road           2     42.0  \n",
       "3  Uncoded & Errors  Cloudy  On the Road           2     42.0  \n",
       "\n",
       "[4 rows x 41 columns]"
      ]
     },
     "execution_count": 111,
     "metadata": {},
     "output_type": "execute_result"
    }
   ],
   "source": [
    "crash.head(4)"
   ]
  },
  {
   "cell_type": "code",
   "execution_count": 112,
   "metadata": {},
   "outputs": [
    {
     "name": "stdout",
     "output_type": "stream",
     "text": [
      "(72977, 41)\n"
     ]
    }
   ],
   "source": [
    "dropped_shape = crash.shape\n",
    "print(dropped_shape)"
   ]
  },
  {
   "cell_type": "code",
   "execution_count": 113,
   "metadata": {},
   "outputs": [
    {
     "data": {
      "text/plain": [
       "Index(['X', 'Y', 'BIKE', 'CRASHSEVER', 'CRASHTYPE', 'D1DRINKIN', 'D2DRINKIN',\n",
       "       'DRIVER1AGE', 'DRIVER1SEX', 'DRIVER2AGE', 'DRIVER2SEX', 'EMRGVEH',\n",
       "       'GRTINJSEVE', 'HITANDRUN', 'HOUR', 'MONTH', 'MOTORCYCLE', 'NOATYPEINJ',\n",
       "       'NOBTYPEINJ', 'NOCTYPEINJ', 'NUMOFINJ', 'NUMOFOCCUP', 'NUMOFUNINJ',\n",
       "       'NUMOFVEHIC', 'SPDLMTPOST', 'SPEEDLIMIT', 'SURFCOND', 'TRAFCTLDEV',\n",
       "       'TRUCKBUS', 'V1DAMAGE', 'V2DAMAGE', 'VEH1DIR', 'VEH1TYPE', 'VEH1USE',\n",
       "       'VEH2DIR', 'VEH2TYPE', 'VEH2USE', 'WEATHER', 'WHEREONRD', 'RDNUMLANES',\n",
       "       'RDWIDTH'],\n",
       "      dtype='object')"
      ]
     },
     "execution_count": 113,
     "metadata": {},
     "output_type": "execute_result"
    }
   ],
   "source": [
    "crash.columns"
   ]
  },
  {
   "cell_type": "markdown",
   "metadata": {},
   "source": [
    "## Getting Rid of Errors"
   ]
  },
  {
   "cell_type": "markdown",
   "metadata": {},
   "source": [
    "### Categorical Variables"
   ]
  },
  {
   "cell_type": "code",
   "execution_count": 114,
   "metadata": {},
   "outputs": [
    {
     "name": "stdout",
     "output_type": "stream",
     "text": [
      "No                  62819\n",
      "Uncoded & Errors     9639\n",
      "Yes                   519\n",
      "Name: D2DRINKIN, dtype: int64\n"
     ]
    }
   ],
   "source": [
    "print(crash[crash.columns[6]].value_counts())"
   ]
  },
  {
   "cell_type": "code",
   "execution_count": 115,
   "metadata": {},
   "outputs": [],
   "source": [
    "errors_dict = {'D2DRINKIN': 'Uncoded & Errors', \"DRIVER1SEX\": \"U\", \"SPDLMTPOST\": 'Uncoded & Errors', 'SURFCOND': ('Uncoded & Errors', 'Unknown'),\n",
    "         'TRAFCTLDEV': 'Uncoded & Errors', 'V1DAMAGE': ('Uncoded & Errors', 'Unknown'), 'V2DAMAGE': ('Uncoded & Errors', 'Unknown'),\n",
    "         'VEH1DIR': 'U', 'VEH1TYPE': 'Uncoded & Errors', 'VEH1USE': 'Uncoded & Errors',\n",
    "         'VEH2DIR': 'U', 'VEH2TYPE': 'Uncoded & Errors', 'VEH2USE': 'Uncoded & Errors', 'WEATHER': 'Unknown', \n",
    "          'WHEREONRD': ('Unknown', 'Uncoded & Errors')}\n",
    "# Maybe make a classifier to fill in the \"U\" in the \"DRIVER1/2SEX\" column?\n",
    "# May have to delete some outliers in \"NUMOFOCCUP\", and \"NUMOFUNINJ\", and \"SPEEDLIMIT, \n",
    "# For \"V1/2DAMAGE\", maybe assumer that uncoded means no damage?"
   ]
  },
  {
   "cell_type": "markdown",
   "metadata": {},
   "source": [
    "* **D2DRINKIN**: It is safe to assume that if driver 2 was intoxicated, they would indicate it. For that reason, we fill the uncoded rows with \"No\"."
   ]
  },
  {
   "cell_type": "code",
   "execution_count": 116,
   "metadata": {},
   "outputs": [
    {
     "data": {
      "text/plain": [
       "No     72458\n",
       "Yes      519\n",
       "Name: D2DRINKIN, dtype: int64"
      ]
     },
     "execution_count": 116,
     "metadata": {},
     "output_type": "execute_result"
    }
   ],
   "source": [
    "crash['D2DRINKIN'] = crash['D2DRINKIN'].replace('Uncoded & Errors', 'No')\n",
    "crash['D2DRINKIN'].value_counts()"
   ]
  },
  {
   "cell_type": "markdown",
   "metadata": {},
   "source": [
    "* **DRIVER1SEX**,  **DRIVER2SEX**: For the time being, I will leave the \"Unknown\" rows alone, allowing them to be a separate gender. If this seems to be causing issues, I may need fit a classifier to predict gender. This may be a tricky missing value to handle because there are thousands of unknowns."
   ]
  },
  {
   "cell_type": "code",
   "execution_count": 117,
   "metadata": {},
   "outputs": [
    {
     "data": {
      "text/plain": [
       "M    35513\n",
       "F    30075\n",
       "U     7389\n",
       "Name: DRIVER1SEX, dtype: int64"
      ]
     },
     "execution_count": 117,
     "metadata": {},
     "output_type": "execute_result"
    }
   ],
   "source": [
    "crash['DRIVER1SEX'].value_counts()"
   ]
  },
  {
   "cell_type": "markdown",
   "metadata": {},
   "source": [
    "* **SPDLMTPOST**: Since there is such a small amount of errors, it is safe to say that the speed limit was most likely not posted there."
   ]
  },
  {
   "cell_type": "code",
   "execution_count": 118,
   "metadata": {},
   "outputs": [
    {
     "data": {
      "text/plain": [
       "Yes    54384\n",
       "No     18593\n",
       "Name: SPDLMTPOST, dtype: int64"
      ]
     },
     "execution_count": 118,
     "metadata": {},
     "output_type": "execute_result"
    }
   ],
   "source": [
    "crash['SPDLMTPOST'] = crash['SPDLMTPOST'].replace('Uncoded & Errors', 'No')\n",
    "crash['SPDLMTPOST'].value_counts()"
   ]
  },
  {
   "cell_type": "markdown",
   "metadata": {},
   "source": [
    "* **SURFCOND**: Since there are so few features, we will put \"other\", \"Errors\", and \"Unknown\" in the same bin."
   ]
  },
  {
   "cell_type": "code",
   "execution_count": 119,
   "metadata": {},
   "outputs": [
    {
     "data": {
      "text/plain": [
       "Dry                  45433\n",
       "Wet                  14069\n",
       "Snowy                 6183\n",
       "Icy                   5270\n",
       "Slush                 1040\n",
       "Other                  722\n",
       "No                     209\n",
       "Debris                  31\n",
       "Mud, Dirt, Gravel       16\n",
       "Water                    4\n",
       "Name: SURFCOND, dtype: int64"
      ]
     },
     "execution_count": 119,
     "metadata": {},
     "output_type": "execute_result"
    }
   ],
   "source": [
    "crash['SURFCOND'] = crash['SURFCOND'].replace(to_replace = ['Unknown', 'Uncoded & Errors'], value = 'No')\n",
    "crash['SURFCOND'].value_counts()"
   ]
  },
  {
   "cell_type": "markdown",
   "metadata": {},
   "source": [
    "* **TRAFCTLDEV**: This is a tough call, but for the time being, I'll replace \"Errors\" with the most frequent value in this feature, \"None\"."
   ]
  },
  {
   "cell_type": "code",
   "execution_count": 120,
   "metadata": {},
   "outputs": [
    {
     "data": {
      "text/plain": [
       "None                              42342\n",
       "Signal                            20902\n",
       "Stop Sign                          8741\n",
       "Yield Sign                          973\n",
       "Stop Sign with Flashing Beacon       19\n",
       "Name: TRAFCTLDEV, dtype: int64"
      ]
     },
     "execution_count": 120,
     "metadata": {},
     "output_type": "execute_result"
    }
   ],
   "source": [
    "crash['TRAFCTLDEV'] = crash['TRAFCTLDEV'].replace(to_replace = 'Uncoded & Errors', value = crash['TRAFCTLDEV'].mode()[0])\n",
    "crash['TRAFCTLDEV'].value_counts()"
   ]
  },
  {
   "cell_type": "markdown",
   "metadata": {},
   "source": [
    "* **V1DAMAGE, V2DAMAGE**: Will put \"Errors\" and \"Unknown\" into the same bin."
   ]
  },
  {
   "cell_type": "code",
   "execution_count": 121,
   "metadata": {},
   "outputs": [
    {
     "data": {
      "text/plain": [
       "Minor Damage         34828\n",
       "Unknown              15602\n",
       "Disabling Damage     13331\n",
       "Functional Damage     8645\n",
       "No Damage              571\n",
       "Name: V2DAMAGE, dtype: int64"
      ]
     },
     "execution_count": 121,
     "metadata": {},
     "output_type": "execute_result"
    }
   ],
   "source": [
    "crash['V1DAMAGE'] = crash['V1DAMAGE'].replace('Uncoded & Errors', 'Unknown')\n",
    "crash['V1DAMAGE'].value_counts()\n",
    "crash['V2DAMAGE'] = crash['V2DAMAGE'].replace('Uncoded & Errors', 'Unknown')\n",
    "crash['V2DAMAGE'].value_counts()"
   ]
  },
  {
   "cell_type": "markdown",
   "metadata": {},
   "source": [
    "* **VEH1DIR, VEH2DIR**: Since there are so many \"Unknown\" at the moment, may leave it as it's own direction for the time being. Merge the double directions (SE, NW, etc) into their primary direction, since there are so few of them.\n",
    "    * Note: There are far more \"Unknown\" for vehicle 2 than for vehicle 1"
   ]
  },
  {
   "cell_type": "code",
   "execution_count": 122,
   "metadata": {},
   "outputs": [
    {
     "data": {
      "text/plain": [
       "N    18528\n",
       "W    17789\n",
       "S    17404\n",
       "E    17273\n",
       "U     1983\n",
       "Name: VEH1DIR, dtype: int64"
      ]
     },
     "execution_count": 122,
     "metadata": {},
     "output_type": "execute_result"
    }
   ],
   "source": [
    "crash['VEH1DIR'] = crash['VEH1DIR'].replace(to_replace = ['NE', 'NW'], value = 'N')\n",
    "crash['VEH1DIR'] = crash['VEH1DIR'].replace(to_replace = ['SE', 'SW'], value = 'S')\n",
    "\n",
    "crash['VEH2DIR'] = crash['VEH2DIR'].replace(to_replace = ['NE', 'NW'], value = 'N')\n",
    "crash['VEH2DIR'] = crash['VEH2DIR'].replace(to_replace = ['SE', 'SW'], value = 'S')\n",
    "\n",
    "crash['VEH1DIR'].value_counts()"
   ]
  },
  {
   "cell_type": "code",
   "execution_count": 123,
   "metadata": {},
   "outputs": [
    {
     "data": {
      "image/png": "[encoded data removed]",
      "text/plain": [
       "<matplotlib.figure.Figure at 0x1a1f328518>"
      ]
     },
     "metadata": {},
     "output_type": "display_data"
    }
   ],
   "source": [
    "# all \"Unknown\" Direction crashes\n",
    "fig, ax = plt.subplots(figsize=(6,5))\n",
    "\n",
    "colors = {'U':'red', 'N':'blue', 'W':'blue', 'S':'blue', 'E':'blue', 'SE':'blue', 'SW':'blue', 'NW': 'blue', 'NE':'blue'}\n",
    "\n",
    "ax.scatter(crash.X, crash.Y, c=crash.VEH1DIR.apply(lambda x: colors[x]), s=2)\n",
    "\n",
    "plt.show()"
   ]
  },
  {
   "cell_type": "markdown",
   "metadata": {},
   "source": [
    "* **VEH1TYPE, VEH2TYPE**: Tough call, but will impute the most frequent values in for these two types. Also, there are so few off-road and go-cart instnaces that I will bin these with \"Other Non-Commercial\""
   ]
  },
  {
   "cell_type": "code",
   "execution_count": 124,
   "metadata": {},
   "outputs": [
    {
     "data": {
      "text/plain": [
       "Passenger Car, SUV, Van     59732\n",
       "Pickup Truck                 6075\n",
       "Motorhome                    4099\n",
       "Truck / Bus (Commercial)     1564\n",
       "Truck Under 10,000 lbs        799\n",
       "Motorcycle                    470\n",
       "Other Non-Commercial          127\n",
       "Moped                         111\n",
       "Name: VEH1TYPE, dtype: int64"
      ]
     },
     "execution_count": 124,
     "metadata": {},
     "output_type": "execute_result"
    }
   ],
   "source": [
    "crash['VEH1TYPE'] = crash['VEH1TYPE'].replace(to_replace = ['Go-cart / Golf Cart', 'Off-Road Vehicle, All-Terrain Vehicle'], \n",
    "                                              value = 'Other Non-Commercial')\n",
    "crash['VEH1TYPE'] = crash['VEH1TYPE'].replace(to_replace = 'Uncoded & Errors', value = crash['VEH1TYPE'].mode()[0])\n",
    "\n",
    "crash['VEH2TYPE'] = crash['VEH1TYPE'].replace(to_replace = ['Go-cart / Golf Cart', 'Off-Road Vehicle, All-Terrain Vehicle'], \n",
    "                                              value = 'Other Non-Commercial')\n",
    "crash['VEH2TYPE'] = crash['VEH2TYPE'].replace(to_replace = 'Uncoded & Errors', value = crash['VEH2TYPE'].mode()[0])\n",
    "\n",
    "crash['VEH1TYPE'].value_counts()"
   ]
  },
  {
   "cell_type": "markdown",
   "metadata": {},
   "source": [
    "* **VEH1USE, VEH2USE**: Another tough call. Will impute the most frequent."
   ]
  },
  {
   "cell_type": "code",
   "execution_count": 125,
   "metadata": {},
   "outputs": [
    {
     "data": {
      "text/plain": [
       "Private                             68760\n",
       "Commercial                           3068\n",
       "Other Government, Non-Emergency       459\n",
       "School or Education                   215\n",
       "Other                                 160\n",
       "Club or Church                         91\n",
       "In Pursuit or Emergency (in use)       81\n",
       "Road Construction or Maintenance       69\n",
       "Utility                                45\n",
       "Farm                                   16\n",
       "Military Vehicle                       13\n",
       "Name: VEH1USE, dtype: int64"
      ]
     },
     "execution_count": 125,
     "metadata": {},
     "output_type": "execute_result"
    }
   ],
   "source": [
    "crash['VEH1USE'] = crash['VEH1USE'].replace(to_replace = 'Uncoded & Errors', value = crash['VEH1USE'].mode()[0])\n",
    "crash['VEH2USE'] = crash['VEH2USE'].replace(to_replace = 'Uncoded & Errors', value = crash['VEH2USE'].mode()[0])\n",
    "crash['VEH1USE'].value_counts()"
   ]
  },
  {
   "cell_type": "markdown",
   "metadata": {},
   "source": [
    "* **WEATHER**: Not many errors. Will impute the most frequent."
   ]
  },
  {
   "cell_type": "code",
   "execution_count": 126,
   "metadata": {},
   "outputs": [
    {
     "data": {
      "text/plain": [
       "Clear               35846\n",
       "Cloudy              20168\n",
       "Snow                 8125\n",
       "Rain                 7477\n",
       "Unknown               905\n",
       "Sleet or Hail         206\n",
       "Fog                   139\n",
       "Severe Crosswind       79\n",
       "Blowing Snow           30\n",
       "Smoke                   2\n",
       "Name: WEATHER, dtype: int64"
      ]
     },
     "execution_count": 126,
     "metadata": {},
     "output_type": "execute_result"
    }
   ],
   "source": [
    "crash['WEATHER'] = crash['WEATHER'].replace(to_replace = 'Uncoded & Errors', value = crash['WEATHER'].mode()[0])\n",
    "crash['WEATHER'].value_counts()"
   ]
  },
  {
   "cell_type": "markdown",
   "metadata": {},
   "source": [
    "* **WHEREONRD**: Bin \"Unknown\" and \"Errors\" with most frequent."
   ]
  },
  {
   "cell_type": "code",
   "execution_count": 127,
   "metadata": {},
   "outputs": [
    {
     "data": {
      "text/plain": [
       "On the Road                    66081\n",
       "Outside of Shoulder or Curb     2986\n",
       "On the Shoulder                 2886\n",
       "In the Median                    637\n",
       "In the Gore                      208\n",
       "On-Street Parking                163\n",
       "Sidewalk                          12\n",
       "Bicycle Lane                       4\n",
       "Name: WHEREONRD, dtype: int64"
      ]
     },
     "execution_count": 127,
     "metadata": {},
     "output_type": "execute_result"
    }
   ],
   "source": [
    "crash['WHEREONRD'] = crash['WHEREONRD'].replace(to_replace = ['Uncoded & Errors', 'Unknown'], value = crash['WHEREONRD'].mode()[0])\n",
    "crash['WHEREONRD'].value_counts()"
   ]
  },
  {
   "cell_type": "markdown",
   "metadata": {},
   "source": [
    "### Numerical Variables"
   ]
  },
  {
   "cell_type": "markdown",
   "metadata": {},
   "source": [
    " The following are the numerical variables that we must deal with: \n",
    " ['DRIVER1AGE',\n",
    " 'DRIVER2AGE',\n",
    " 'NOATYPEINJ',\n",
    " 'NOBTYPEINJ',\n",
    " 'NOCTYPEINJ',\n",
    " 'NUMOFINJ',\n",
    " 'NUMOFOCCUP',\n",
    " 'NUMOFUNINJ',\n",
    " 'NUMOFVEHIC',\n",
    " 'SPEEDLIMIT',\n",
    " 'RDNUMLANES',\n",
    " 'RDWIDTH']"
   ]
  },
  {
   "cell_type": "markdown",
   "metadata": {},
   "source": [
    "* **DRIVER1AGE, DRIVER1AGE**: There are over 10,000 Driver ages listed as 999. I believe that this is an error and will replace these values with a random number around their mean. I admit that this seems pretty risky. Since there are so many, I'm tempted to fit a regressor to predict each age. I may have to come back and do this.\n",
    "\n",
    "[This Stackoverflow thread](https://stackoverflow.com/questions/46543060/how-to-replace-every-nan-in-a-column-with-different-random-values-using-pandas) helped me out."
   ]
  },
  {
   "cell_type": "code",
   "execution_count": 128,
   "metadata": {},
   "outputs": [
    {
     "data": {
      "text/plain": [
       "\"\\ntemp_age1 = crash.DRIVER1AGE[crash.DRIVER1AGE < 100]\\ntemp_age2 = crash.DRIVER2AGE[crash.DRIVER2AGE < 100]\\n\\nmedian = temp_age1.median()\\nstd = temp_age2.std()\\n\\nnp.random.seed(0)\\n\\ndef fill_missing_from_Gaussian(column_val):\\n    if column_val == 999: \\n        column_val = np.round(np.random.normal(median, std, 1))[0]\\n    else:\\n         column_val = column_val\\n    return column_val\\n\\ncrash['DRIVER1AGE'] = crash['DRIVER1AGE'].apply(fill_missing_from_Gaussian)\\ncrash['DRIVER2AGE'] = crash['DRIVER2AGE'].apply(fill_missing_from_Gaussian)\\n\""
      ]
     },
     "execution_count": 128,
     "metadata": {},
     "output_type": "execute_result"
    }
   ],
   "source": [
    "# Look over this and try it again soon.\n",
    "'''\n",
    "temp_age1 = crash.DRIVER1AGE[crash.DRIVER1AGE < 100]\n",
    "temp_age2 = crash.DRIVER2AGE[crash.DRIVER2AGE < 100]\n",
    "\n",
    "median = temp_age1.median()\n",
    "std = temp_age2.std()\n",
    "\n",
    "np.random.seed(0)\n",
    "\n",
    "def fill_missing_from_Gaussian(column_val):\n",
    "    if column_val == 999: \n",
    "        column_val = np.round(np.random.normal(median, std, 1))[0]\n",
    "    else:\n",
    "         column_val = column_val\n",
    "    return column_val\n",
    "\n",
    "crash['DRIVER1AGE'] = crash['DRIVER1AGE'].apply(fill_missing_from_Gaussian)\n",
    "crash['DRIVER2AGE'] = crash['DRIVER2AGE'].apply(fill_missing_from_Gaussian)\n",
    "'''\n",
    "# Fill in missing values with same proportion as the ages that are filled in correctly"
   ]
  },
  {
   "cell_type": "code",
   "execution_count": 129,
   "metadata": {},
   "outputs": [],
   "source": [
    "temp_age1 = crash.DRIVER1AGE[crash.DRIVER1AGE < 100]\n",
    "temp_age2 = crash.DRIVER2AGE[crash.DRIVER2AGE < 100]\n",
    "\n",
    "crash['DRIVER1AGE'] = crash['DRIVER1AGE'].replace(to_replace = 999, value = temp_age1.median())\n",
    "crash['DRIVER2AGE'] = crash['DRIVER2AGE'].replace(to_replace = 999, value = temp_age2.median())"
   ]
  },
  {
   "cell_type": "code",
   "execution_count": 130,
   "metadata": {},
   "outputs": [
    {
     "data": {
      "text/plain": [
       "<matplotlib.axes._subplots.AxesSubplot at 0x1a21ee6320>"
      ]
     },
     "execution_count": 130,
     "metadata": {},
     "output_type": "execute_result"
    },
    {
     "data": {
      "image/png": "[encoded data removed]",
      "text/plain": [
       "<matplotlib.figure.Figure at 0x1a1f3db198>"
      ]
     },
     "metadata": {},
     "output_type": "display_data"
    }
   ],
   "source": [
    "# Distribution of the driver's age's.\n",
    "# Not sure that this was the best call, so may come back to it.\n",
    "sns.distplot(crash['DRIVER1AGE'])\n",
    "sns.distplot(crash['DRIVER2AGE'])"
   ]
  },
  {
   "cell_type": "markdown",
   "metadata": {},
   "source": [
    "## Encoding Categorical Variables"
   ]
  },
  {
   "cell_type": "markdown",
   "metadata": {},
   "source": [
    "## Scaling numerical variables:"
   ]
  },
  {
   "cell_type": "markdown",
   "metadata": {},
   "source": [
    "[Here's an explanation](https://stats.stackexchange.com/questions/290958/logistic-regression-and-scaling-of-features) for why you should scale numerical variables in logistic regression"
   ]
  },
  {
   "cell_type": "markdown",
   "metadata": {},
   "source": [
    "[Great discussion](https://stats.stackexchange.com/questions/164542/is-time-of-the-day-predictor-in-regression-a-categorical-or-a-continuous-varia) on how to deal with the \"HOUR\" Feature. [Here's another, with code examples](https://datascience.stackexchange.com/questions/5990/what-is-a-good-way-to-transform-cyclic-ordinal-attributes)\n",
    "* Since \"HOUR\" doesn't really fit as a numerical or categorical variable, we are going do use a custom trigonometic transformation, mapping the single hour to two separate \"HOUR_X\" and \"HOUR_Y\" coordinates in order to capture the cyclic nature of hours in a day."
   ]
  },
  {
   "cell_type": "code",
   "execution_count": 131,
   "metadata": {},
   "outputs": [],
   "source": [
    "crash['HOUR_X']=np.sin(2. * np.pi * crash.HOUR / 24.)\n",
    "crash['HOUR_Y']=np.cos(2. * np.pi * crash.HOUR / 24.)"
   ]
  },
  {
   "cell_type": "code",
   "execution_count": 132,
   "metadata": {},
   "outputs": [
    {
     "data": {
      "text/plain": [
       "<matplotlib.collections.PathCollection at 0x1a1e24f828>"
      ]
     },
     "execution_count": 132,
     "metadata": {},
     "output_type": "execute_result"
    },
    {
     "data": {
      "image/png": "[encoded data removed]",
      "text/plain": [
       "<matplotlib.figure.Figure at 0x1a1f53b5c0>"
      ]
     },
     "metadata": {},
     "output_type": "display_data"
    }
   ],
   "source": [
    "# Hence, the time of day is now cyclic (just as in reality)\n",
    "plt.scatter(crash.HOUR_X, crash.HOUR_Y)"
   ]
  },
  {
   "cell_type": "code",
   "execution_count": 133,
   "metadata": {},
   "outputs": [],
   "source": [
    "# Now that we have our two 'HOUR_X' and 'HOUR_Y' coords, we drop the original \"HOUR\" feature\n",
    "crash = crash.drop(['HOUR'], axis=1)"
   ]
  },
  {
   "cell_type": "code",
   "execution_count": null,
   "metadata": {},
   "outputs": [],
   "source": []
  },
  {
   "cell_type": "code",
   "execution_count": 134,
   "metadata": {},
   "outputs": [],
   "source": [
    "cols = list(crash.columns)\n",
    "cat_cols = ['BIKE', 'CRASHSEVER', 'CRASHTYPE', 'D1DRINKIN', 'D2DRINKIN', 'DRIVER1SEX', 'DRIVER2SEX',\n",
    "                               'EMRGVEH','GRTINJSEVE', 'MONTH', \"MOTORCYCLE\", 'SPDLMTPOST', 'SURFCOND', 'TRAFCTLDEV',\n",
    "                               'TRUCKBUS', 'V1DAMAGE', 'V2DAMAGE', 'VEH1DIR', 'VEH1TYPE', 'VEH1USE',\n",
    "                               'VEH2DIR', 'VEH2TYPE', 'VEH2USE', 'WEATHER', 'WHEREONRD']\n",
    "num_cols = []\n",
    "for i in cols:\n",
    "    if i not in cat_cols:\n",
    "        num_cols.append(i)\n",
    "num_cols.remove('HITANDRUN')"
   ]
  },
  {
   "cell_type": "code",
   "execution_count": 135,
   "metadata": {},
   "outputs": [
    {
     "data": {
      "text/plain": [
       "['DRIVER1AGE',\n",
       " 'DRIVER2AGE',\n",
       " 'NOATYPEINJ',\n",
       " 'NOBTYPEINJ',\n",
       " 'NOCTYPEINJ',\n",
       " 'NUMOFINJ',\n",
       " 'NUMOFOCCUP',\n",
       " 'NUMOFUNINJ',\n",
       " 'NUMOFVEHIC',\n",
       " 'SPEEDLIMIT',\n",
       " 'RDNUMLANES',\n",
       " 'RDWIDTH']"
      ]
     },
     "execution_count": 135,
     "metadata": {},
     "output_type": "execute_result"
    }
   ],
   "source": [
    "num_cols.remove('X')\n",
    "num_cols.remove('Y')\n",
    "num_cols.remove('HOUR_X')\n",
    "num_cols.remove('HOUR_Y')\n",
    "num_cols # These are the columns that must be scaled"
   ]
  },
  {
   "cell_type": "markdown",
   "metadata": {},
   "source": [
    "## Stitching Together Data and Preparing to model"
   ]
  },
  {
   "cell_type": "code",
   "execution_count": null,
   "metadata": {},
   "outputs": [],
   "source": []
  },
  {
   "cell_type": "code",
   "execution_count": 136,
   "metadata": {},
   "outputs": [
    {
     "data": {
      "text/plain": [
       "array([1, 1, 0, ..., 0, 0, 0])"
      ]
     },
     "execution_count": 136,
     "metadata": {},
     "output_type": "execute_result"
    }
   ],
   "source": [
    "y = crash.HITANDRUN\n",
    "lbl = LabelEncoder()\n",
    "y = lbl.fit_transform(y)\n",
    "y"
   ]
  },
  {
   "cell_type": "markdown",
   "metadata": {},
   "source": [
    "Use [this technique](https://github.com/JWarmenhoven/ISLR-python/blob/master/Notebooks/Chapter%206.ipynb)"
   ]
  },
  {
   "cell_type": "code",
   "execution_count": 137,
   "metadata": {},
   "outputs": [],
   "source": [
    "dummies = pd.get_dummies(crash[['BIKE', 'CRASHSEVER', 'CRASHTYPE', 'D1DRINKIN', 'D2DRINKIN', 'DRIVER1SEX', 'DRIVER2SEX',\n",
    "                               'EMRGVEH','GRTINJSEVE', 'MONTH', \"MOTORCYCLE\", 'SPDLMTPOST', 'SURFCOND', 'TRAFCTLDEV',\n",
    "                               'TRUCKBUS', 'V1DAMAGE', 'V2DAMAGE', 'VEH1DIR', 'VEH1TYPE', 'VEH1USE',\n",
    "                               'VEH2DIR', 'VEH2TYPE', 'VEH2USE', 'WEATHER', 'WHEREONRD']])"
   ]
  },
  {
   "cell_type": "code",
   "execution_count": 138,
   "metadata": {},
   "outputs": [
    {
     "data": {
      "text/html": [
       "<div>\n",
       "<style>\n",
       "    .dataframe thead tr:only-child th {\n",
       "        text-align: right;\n",
       "    }\n",
       "\n",
       "    .dataframe thead th {\n",
       "        text-align: left;\n",
       "    }\n",
       "\n",
       "    .dataframe tbody tr th {\n",
       "        vertical-align: top;\n",
       "    }\n",
       "</style>\n",
       "<table border=\"1\" class=\"dataframe\">\n",
       "  <thead>\n",
       "    <tr style=\"text-align: right;\">\n",
       "      <th></th>\n",
       "      <th>BIKE_No</th>\n",
       "      <th>BIKE_Yes</th>\n",
       "      <th>CRASHSEVER_Fatal</th>\n",
       "      <th>CRASHSEVER_Injury</th>\n",
       "      <th>CRASHSEVER_Property Damage Only</th>\n",
       "      <th>CRASHTYPE_Angle Driveway</th>\n",
       "      <th>CRASHTYPE_Angle Straight</th>\n",
       "      <th>CRASHTYPE_Angle Turn</th>\n",
       "      <th>CRASHTYPE_Animal</th>\n",
       "      <th>CRASHTYPE_Backing</th>\n",
       "      <th>...</th>\n",
       "      <th>WEATHER_Snow</th>\n",
       "      <th>WEATHER_Unknown</th>\n",
       "      <th>WHEREONRD_Bicycle Lane</th>\n",
       "      <th>WHEREONRD_In the Gore</th>\n",
       "      <th>WHEREONRD_In the Median</th>\n",
       "      <th>WHEREONRD_On the Road</th>\n",
       "      <th>WHEREONRD_On the Shoulder</th>\n",
       "      <th>WHEREONRD_On-Street Parking</th>\n",
       "      <th>WHEREONRD_Outside of Shoulder or Curb</th>\n",
       "      <th>WHEREONRD_Sidewalk</th>\n",
       "    </tr>\n",
       "  </thead>\n",
       "  <tbody>\n",
       "    <tr>\n",
       "      <th>0</th>\n",
       "      <td>1</td>\n",
       "      <td>0</td>\n",
       "      <td>0</td>\n",
       "      <td>0</td>\n",
       "      <td>1</td>\n",
       "      <td>0</td>\n",
       "      <td>0</td>\n",
       "      <td>0</td>\n",
       "      <td>0</td>\n",
       "      <td>0</td>\n",
       "      <td>...</td>\n",
       "      <td>0</td>\n",
       "      <td>0</td>\n",
       "      <td>0</td>\n",
       "      <td>0</td>\n",
       "      <td>0</td>\n",
       "      <td>1</td>\n",
       "      <td>0</td>\n",
       "      <td>0</td>\n",
       "      <td>0</td>\n",
       "      <td>0</td>\n",
       "    </tr>\n",
       "    <tr>\n",
       "      <th>1</th>\n",
       "      <td>1</td>\n",
       "      <td>0</td>\n",
       "      <td>0</td>\n",
       "      <td>0</td>\n",
       "      <td>1</td>\n",
       "      <td>0</td>\n",
       "      <td>0</td>\n",
       "      <td>0</td>\n",
       "      <td>0</td>\n",
       "      <td>0</td>\n",
       "      <td>...</td>\n",
       "      <td>0</td>\n",
       "      <td>0</td>\n",
       "      <td>0</td>\n",
       "      <td>0</td>\n",
       "      <td>0</td>\n",
       "      <td>1</td>\n",
       "      <td>0</td>\n",
       "      <td>0</td>\n",
       "      <td>0</td>\n",
       "      <td>0</td>\n",
       "    </tr>\n",
       "    <tr>\n",
       "      <th>2</th>\n",
       "      <td>1</td>\n",
       "      <td>0</td>\n",
       "      <td>0</td>\n",
       "      <td>0</td>\n",
       "      <td>1</td>\n",
       "      <td>0</td>\n",
       "      <td>0</td>\n",
       "      <td>0</td>\n",
       "      <td>0</td>\n",
       "      <td>0</td>\n",
       "      <td>...</td>\n",
       "      <td>1</td>\n",
       "      <td>0</td>\n",
       "      <td>0</td>\n",
       "      <td>0</td>\n",
       "      <td>0</td>\n",
       "      <td>1</td>\n",
       "      <td>0</td>\n",
       "      <td>0</td>\n",
       "      <td>0</td>\n",
       "      <td>0</td>\n",
       "    </tr>\n",
       "    <tr>\n",
       "      <th>3</th>\n",
       "      <td>1</td>\n",
       "      <td>0</td>\n",
       "      <td>0</td>\n",
       "      <td>0</td>\n",
       "      <td>1</td>\n",
       "      <td>0</td>\n",
       "      <td>0</td>\n",
       "      <td>0</td>\n",
       "      <td>0</td>\n",
       "      <td>0</td>\n",
       "      <td>...</td>\n",
       "      <td>0</td>\n",
       "      <td>0</td>\n",
       "      <td>0</td>\n",
       "      <td>0</td>\n",
       "      <td>0</td>\n",
       "      <td>1</td>\n",
       "      <td>0</td>\n",
       "      <td>0</td>\n",
       "      <td>0</td>\n",
       "      <td>0</td>\n",
       "    </tr>\n",
       "    <tr>\n",
       "      <th>4</th>\n",
       "      <td>1</td>\n",
       "      <td>0</td>\n",
       "      <td>0</td>\n",
       "      <td>0</td>\n",
       "      <td>1</td>\n",
       "      <td>0</td>\n",
       "      <td>0</td>\n",
       "      <td>0</td>\n",
       "      <td>0</td>\n",
       "      <td>0</td>\n",
       "      <td>...</td>\n",
       "      <td>0</td>\n",
       "      <td>0</td>\n",
       "      <td>0</td>\n",
       "      <td>0</td>\n",
       "      <td>0</td>\n",
       "      <td>0</td>\n",
       "      <td>1</td>\n",
       "      <td>0</td>\n",
       "      <td>0</td>\n",
       "      <td>0</td>\n",
       "    </tr>\n",
       "  </tbody>\n",
       "</table>\n",
       "<p>5 rows × 154 columns</p>\n",
       "</div>"
      ],
      "text/plain": [
       "   BIKE_No  BIKE_Yes  CRASHSEVER_Fatal  CRASHSEVER_Injury  \\\n",
       "0        1         0                 0                  0   \n",
       "1        1         0                 0                  0   \n",
       "2        1         0                 0                  0   \n",
       "3        1         0                 0                  0   \n",
       "4        1         0                 0                  0   \n",
       "\n",
       "   CRASHSEVER_Property Damage Only  CRASHTYPE_Angle Driveway  \\\n",
       "0                                1                         0   \n",
       "1                                1                         0   \n",
       "2                                1                         0   \n",
       "3                                1                         0   \n",
       "4                                1                         0   \n",
       "\n",
       "   CRASHTYPE_Angle Straight  CRASHTYPE_Angle Turn  CRASHTYPE_Animal  \\\n",
       "0                         0                     0                 0   \n",
       "1                         0                     0                 0   \n",
       "2                         0                     0                 0   \n",
       "3                         0                     0                 0   \n",
       "4                         0                     0                 0   \n",
       "\n",
       "   CRASHTYPE_Backing         ...          WEATHER_Snow  WEATHER_Unknown  \\\n",
       "0                  0         ...                     0                0   \n",
       "1                  0         ...                     0                0   \n",
       "2                  0         ...                     1                0   \n",
       "3                  0         ...                     0                0   \n",
       "4                  0         ...                     0                0   \n",
       "\n",
       "   WHEREONRD_Bicycle Lane  WHEREONRD_In the Gore  WHEREONRD_In the Median  \\\n",
       "0                       0                      0                        0   \n",
       "1                       0                      0                        0   \n",
       "2                       0                      0                        0   \n",
       "3                       0                      0                        0   \n",
       "4                       0                      0                        0   \n",
       "\n",
       "   WHEREONRD_On the Road  WHEREONRD_On the Shoulder  \\\n",
       "0                      1                          0   \n",
       "1                      1                          0   \n",
       "2                      1                          0   \n",
       "3                      1                          0   \n",
       "4                      0                          1   \n",
       "\n",
       "   WHEREONRD_On-Street Parking  WHEREONRD_Outside of Shoulder or Curb  \\\n",
       "0                            0                                      0   \n",
       "1                            0                                      0   \n",
       "2                            0                                      0   \n",
       "3                            0                                      0   \n",
       "4                            0                                      0   \n",
       "\n",
       "   WHEREONRD_Sidewalk  \n",
       "0                   0  \n",
       "1                   0  \n",
       "2                   0  \n",
       "3                   0  \n",
       "4                   0  \n",
       "\n",
       "[5 rows x 154 columns]"
      ]
     },
     "execution_count": 138,
     "metadata": {},
     "output_type": "execute_result"
    }
   ],
   "source": [
    "dummies.head()"
   ]
  },
  {
   "cell_type": "code",
   "execution_count": 139,
   "metadata": {},
   "outputs": [
    {
     "name": "stdout",
     "output_type": "stream",
     "text": [
      "<class 'pandas.core.frame.DataFrame'>\n",
      "RangeIndex: 72977 entries, 0 to 72976\n",
      "Columns: 170 entries, X to WHEREONRD_Sidewalk\n",
      "dtypes: float64(16), uint8(154)\n",
      "memory usage: 19.6 MB\n"
     ]
    }
   ],
   "source": [
    "# Drop the column with target variable (HITANDRUN) and the columns for which we created dummy variables\n",
    "X_ = crash.drop(['HITANDRUN', 'BIKE', 'CRASHSEVER', 'CRASHTYPE', 'D1DRINKIN', 'D2DRINKIN', 'DRIVER1SEX', 'DRIVER2SEX',\n",
    "                               'EMRGVEH','GRTINJSEVE', 'MONTH', \"MOTORCYCLE\", 'SPDLMTPOST', 'SURFCOND', 'TRAFCTLDEV',\n",
    "                               'TRUCKBUS', 'V1DAMAGE', 'V2DAMAGE', 'VEH1DIR', 'VEH1TYPE', 'VEH1USE',\n",
    "                               'VEH2DIR', 'VEH2TYPE', 'VEH2USE', 'WEATHER', 'WHEREONRD'], axis=1).astype('float64')\n",
    "# Define the feature set X.\n",
    "X = pd.concat([X_, dummies], axis=1)\n",
    "X.info()"
   ]
  },
  {
   "cell_type": "code",
   "execution_count": 140,
   "metadata": {},
   "outputs": [
    {
     "data": {
      "text/plain": [
       "['DRIVER1AGE',\n",
       " 'DRIVER2AGE',\n",
       " 'NOATYPEINJ',\n",
       " 'NOBTYPEINJ',\n",
       " 'NOCTYPEINJ',\n",
       " 'NUMOFINJ',\n",
       " 'NUMOFOCCUP',\n",
       " 'NUMOFUNINJ',\n",
       " 'NUMOFVEHIC',\n",
       " 'SPEEDLIMIT',\n",
       " 'RDNUMLANES',\n",
       " 'RDWIDTH']"
      ]
     },
     "execution_count": 140,
     "metadata": {},
     "output_type": "execute_result"
    }
   ],
   "source": [
    "cols_to_scale = num_cols\n",
    "cols_to_scale"
   ]
  },
  {
   "cell_type": "code",
   "execution_count": 141,
   "metadata": {},
   "outputs": [
    {
     "data": {
      "text/html": [
       "<div>\n",
       "<style>\n",
       "    .dataframe thead tr:only-child th {\n",
       "        text-align: right;\n",
       "    }\n",
       "\n",
       "    .dataframe thead th {\n",
       "        text-align: left;\n",
       "    }\n",
       "\n",
       "    .dataframe tbody tr th {\n",
       "        vertical-align: top;\n",
       "    }\n",
       "</style>\n",
       "<table border=\"1\" class=\"dataframe\">\n",
       "  <thead>\n",
       "    <tr style=\"text-align: right;\">\n",
       "      <th></th>\n",
       "      <th>X</th>\n",
       "      <th>Y</th>\n",
       "      <th>DRIVER1AGE</th>\n",
       "      <th>DRIVER2AGE</th>\n",
       "      <th>NOATYPEINJ</th>\n",
       "      <th>NOBTYPEINJ</th>\n",
       "      <th>NOCTYPEINJ</th>\n",
       "      <th>NUMOFINJ</th>\n",
       "      <th>NUMOFOCCUP</th>\n",
       "      <th>NUMOFUNINJ</th>\n",
       "      <th>...</th>\n",
       "      <th>WEATHER_Snow</th>\n",
       "      <th>WEATHER_Unknown</th>\n",
       "      <th>WHEREONRD_Bicycle Lane</th>\n",
       "      <th>WHEREONRD_In the Gore</th>\n",
       "      <th>WHEREONRD_In the Median</th>\n",
       "      <th>WHEREONRD_On the Road</th>\n",
       "      <th>WHEREONRD_On the Shoulder</th>\n",
       "      <th>WHEREONRD_On-Street Parking</th>\n",
       "      <th>WHEREONRD_Outside of Shoulder or Curb</th>\n",
       "      <th>WHEREONRD_Sidewalk</th>\n",
       "    </tr>\n",
       "  </thead>\n",
       "  <tbody>\n",
       "    <tr>\n",
       "      <th>0</th>\n",
       "      <td>-85.639647</td>\n",
       "      <td>42.927216</td>\n",
       "      <td>62.0</td>\n",
       "      <td>35.0</td>\n",
       "      <td>0.0</td>\n",
       "      <td>0.0</td>\n",
       "      <td>0.0</td>\n",
       "      <td>0.0</td>\n",
       "      <td>1.0</td>\n",
       "      <td>1.0</td>\n",
       "      <td>...</td>\n",
       "      <td>0</td>\n",
       "      <td>0</td>\n",
       "      <td>0</td>\n",
       "      <td>0</td>\n",
       "      <td>0</td>\n",
       "      <td>1</td>\n",
       "      <td>0</td>\n",
       "      <td>0</td>\n",
       "      <td>0</td>\n",
       "      <td>0</td>\n",
       "    </tr>\n",
       "    <tr>\n",
       "      <th>1</th>\n",
       "      <td>-85.639487</td>\n",
       "      <td>42.927213</td>\n",
       "      <td>31.0</td>\n",
       "      <td>35.0</td>\n",
       "      <td>0.0</td>\n",
       "      <td>0.0</td>\n",
       "      <td>0.0</td>\n",
       "      <td>0.0</td>\n",
       "      <td>3.0</td>\n",
       "      <td>3.0</td>\n",
       "      <td>...</td>\n",
       "      <td>0</td>\n",
       "      <td>0</td>\n",
       "      <td>0</td>\n",
       "      <td>0</td>\n",
       "      <td>0</td>\n",
       "      <td>1</td>\n",
       "      <td>0</td>\n",
       "      <td>0</td>\n",
       "      <td>0</td>\n",
       "      <td>0</td>\n",
       "    </tr>\n",
       "    <tr>\n",
       "      <th>2</th>\n",
       "      <td>-85.639387</td>\n",
       "      <td>42.927212</td>\n",
       "      <td>22.0</td>\n",
       "      <td>37.0</td>\n",
       "      <td>0.0</td>\n",
       "      <td>0.0</td>\n",
       "      <td>0.0</td>\n",
       "      <td>0.0</td>\n",
       "      <td>2.0</td>\n",
       "      <td>2.0</td>\n",
       "      <td>...</td>\n",
       "      <td>1</td>\n",
       "      <td>0</td>\n",
       "      <td>0</td>\n",
       "      <td>0</td>\n",
       "      <td>0</td>\n",
       "      <td>1</td>\n",
       "      <td>0</td>\n",
       "      <td>0</td>\n",
       "      <td>0</td>\n",
       "      <td>0</td>\n",
       "    </tr>\n",
       "    <tr>\n",
       "      <th>3</th>\n",
       "      <td>-85.639288</td>\n",
       "      <td>42.927210</td>\n",
       "      <td>30.0</td>\n",
       "      <td>35.0</td>\n",
       "      <td>0.0</td>\n",
       "      <td>0.0</td>\n",
       "      <td>0.0</td>\n",
       "      <td>0.0</td>\n",
       "      <td>1.0</td>\n",
       "      <td>1.0</td>\n",
       "      <td>...</td>\n",
       "      <td>0</td>\n",
       "      <td>0</td>\n",
       "      <td>0</td>\n",
       "      <td>0</td>\n",
       "      <td>0</td>\n",
       "      <td>1</td>\n",
       "      <td>0</td>\n",
       "      <td>0</td>\n",
       "      <td>0</td>\n",
       "      <td>0</td>\n",
       "    </tr>\n",
       "    <tr>\n",
       "      <th>4</th>\n",
       "      <td>-85.639288</td>\n",
       "      <td>42.927210</td>\n",
       "      <td>44.0</td>\n",
       "      <td>35.0</td>\n",
       "      <td>0.0</td>\n",
       "      <td>0.0</td>\n",
       "      <td>0.0</td>\n",
       "      <td>0.0</td>\n",
       "      <td>1.0</td>\n",
       "      <td>1.0</td>\n",
       "      <td>...</td>\n",
       "      <td>0</td>\n",
       "      <td>0</td>\n",
       "      <td>0</td>\n",
       "      <td>0</td>\n",
       "      <td>0</td>\n",
       "      <td>0</td>\n",
       "      <td>1</td>\n",
       "      <td>0</td>\n",
       "      <td>0</td>\n",
       "      <td>0</td>\n",
       "    </tr>\n",
       "  </tbody>\n",
       "</table>\n",
       "<p>5 rows × 170 columns</p>\n",
       "</div>"
      ],
      "text/plain": [
       "           X          Y  DRIVER1AGE  DRIVER2AGE  NOATYPEINJ  NOBTYPEINJ  \\\n",
       "0 -85.639647  42.927216        62.0        35.0         0.0         0.0   \n",
       "1 -85.639487  42.927213        31.0        35.0         0.0         0.0   \n",
       "2 -85.639387  42.927212        22.0        37.0         0.0         0.0   \n",
       "3 -85.639288  42.927210        30.0        35.0         0.0         0.0   \n",
       "4 -85.639288  42.927210        44.0        35.0         0.0         0.0   \n",
       "\n",
       "   NOCTYPEINJ  NUMOFINJ  NUMOFOCCUP  NUMOFUNINJ         ...          \\\n",
       "0         0.0       0.0         1.0         1.0         ...           \n",
       "1         0.0       0.0         3.0         3.0         ...           \n",
       "2         0.0       0.0         2.0         2.0         ...           \n",
       "3         0.0       0.0         1.0         1.0         ...           \n",
       "4         0.0       0.0         1.0         1.0         ...           \n",
       "\n",
       "   WEATHER_Snow  WEATHER_Unknown  WHEREONRD_Bicycle Lane  \\\n",
       "0             0                0                       0   \n",
       "1             0                0                       0   \n",
       "2             1                0                       0   \n",
       "3             0                0                       0   \n",
       "4             0                0                       0   \n",
       "\n",
       "   WHEREONRD_In the Gore  WHEREONRD_In the Median  WHEREONRD_On the Road  \\\n",
       "0                      0                        0                      1   \n",
       "1                      0                        0                      1   \n",
       "2                      0                        0                      1   \n",
       "3                      0                        0                      1   \n",
       "4                      0                        0                      0   \n",
       "\n",
       "   WHEREONRD_On the Shoulder  WHEREONRD_On-Street Parking  \\\n",
       "0                          0                            0   \n",
       "1                          0                            0   \n",
       "2                          0                            0   \n",
       "3                          0                            0   \n",
       "4                          1                            0   \n",
       "\n",
       "   WHEREONRD_Outside of Shoulder or Curb  WHEREONRD_Sidewalk  \n",
       "0                                      0                   0  \n",
       "1                                      0                   0  \n",
       "2                                      0                   0  \n",
       "3                                      0                   0  \n",
       "4                                      0                   0  \n",
       "\n",
       "[5 rows x 170 columns]"
      ]
     },
     "execution_count": 141,
     "metadata": {},
     "output_type": "execute_result"
    }
   ],
   "source": [
    "X.head()"
   ]
  },
  {
   "cell_type": "markdown",
   "metadata": {},
   "source": [
    "## Scaling where necessary"
   ]
  },
  {
   "cell_type": "code",
   "execution_count": 142,
   "metadata": {},
   "outputs": [],
   "source": [
    "sc_X = StandardScaler()\n",
    "X_scaled = sc_X.fit_transform(X[['DRIVER1AGE', 'DRIVER2AGE', 'NOATYPEINJ', 'NOBTYPEINJ', 'NOCTYPEINJ','NUMOFINJ', \n",
    "                                             'NUMOFOCCUP', 'NUMOFUNINJ', 'NUMOFVEHIC', 'SPEEDLIMIT', 'RDNUMLANES', 'RDWIDTH']])"
   ]
  },
  {
   "cell_type": "code",
   "execution_count": 143,
   "metadata": {},
   "outputs": [],
   "source": [
    "X_scaled_df = pd.DataFrame(X_scaled, columns=['DRIVER1AGE', 'DRIVER2AGE', 'NOATYPEINJ', 'NOBTYPEINJ', 'NOCTYPEINJ','NUMOFINJ', \n",
    "                                             'NUMOFOCCUP', 'NUMOFUNINJ', 'NUMOFVEHIC', 'SPEEDLIMIT', 'RDNUMLANES', 'RDWIDTH'])"
   ]
  },
  {
   "cell_type": "code",
   "execution_count": 144,
   "metadata": {},
   "outputs": [],
   "source": [
    "X_= X.drop(['DRIVER1AGE', 'DRIVER2AGE', 'NOATYPEINJ', 'NOBTYPEINJ', 'NOCTYPEINJ','NUMOFINJ', \n",
    "                        'NUMOFOCCUP', 'NUMOFUNINJ', 'NUMOFVEHIC', 'SPEEDLIMIT', 'RDNUMLANES', 'RDWIDTH'], axis=1)"
   ]
  },
  {
   "cell_type": "code",
   "execution_count": 145,
   "metadata": {},
   "outputs": [],
   "source": [
    "X = pd.concat([X_scaled_df, X_], axis=1)"
   ]
  },
  {
   "cell_type": "code",
   "execution_count": 146,
   "metadata": {},
   "outputs": [
    {
     "name": "stdout",
     "output_type": "stream",
     "text": [
      "<class 'pandas.core.frame.DataFrame'>\n",
      "RangeIndex: 72977 entries, 0 to 72976\n",
      "Columns: 170 entries, DRIVER1AGE to WHEREONRD_Sidewalk\n",
      "dtypes: float64(16), uint8(154)\n",
      "memory usage: 19.6 MB\n"
     ]
    }
   ],
   "source": [
    "X.info()"
   ]
  },
  {
   "cell_type": "code",
   "execution_count": 147,
   "metadata": {},
   "outputs": [
    {
     "data": {
      "text/html": [
       "<div>\n",
       "<style>\n",
       "    .dataframe thead tr:only-child th {\n",
       "        text-align: right;\n",
       "    }\n",
       "\n",
       "    .dataframe thead th {\n",
       "        text-align: left;\n",
       "    }\n",
       "\n",
       "    .dataframe tbody tr th {\n",
       "        vertical-align: top;\n",
       "    }\n",
       "</style>\n",
       "<table border=\"1\" class=\"dataframe\">\n",
       "  <thead>\n",
       "    <tr style=\"text-align: right;\">\n",
       "      <th></th>\n",
       "      <th>DRIVER1AGE</th>\n",
       "      <th>DRIVER2AGE</th>\n",
       "      <th>NOATYPEINJ</th>\n",
       "      <th>NOBTYPEINJ</th>\n",
       "      <th>NOCTYPEINJ</th>\n",
       "      <th>NUMOFINJ</th>\n",
       "      <th>NUMOFOCCUP</th>\n",
       "      <th>NUMOFUNINJ</th>\n",
       "      <th>NUMOFVEHIC</th>\n",
       "      <th>SPEEDLIMIT</th>\n",
       "      <th>...</th>\n",
       "      <th>WEATHER_Snow</th>\n",
       "      <th>WEATHER_Unknown</th>\n",
       "      <th>WHEREONRD_Bicycle Lane</th>\n",
       "      <th>WHEREONRD_In the Gore</th>\n",
       "      <th>WHEREONRD_In the Median</th>\n",
       "      <th>WHEREONRD_On the Road</th>\n",
       "      <th>WHEREONRD_On the Shoulder</th>\n",
       "      <th>WHEREONRD_On-Street Parking</th>\n",
       "      <th>WHEREONRD_Outside of Shoulder or Curb</th>\n",
       "      <th>WHEREONRD_Sidewalk</th>\n",
       "    </tr>\n",
       "  </thead>\n",
       "  <tbody>\n",
       "    <tr>\n",
       "      <th>0</th>\n",
       "      <td>1.686190</td>\n",
       "      <td>-0.171915</td>\n",
       "      <td>-0.100741</td>\n",
       "      <td>-0.186046</td>\n",
       "      <td>-0.372068</td>\n",
       "      <td>-0.416816</td>\n",
       "      <td>-0.625891</td>\n",
       "      <td>-0.519288</td>\n",
       "      <td>0.11077</td>\n",
       "      <td>-0.484432</td>\n",
       "      <td>...</td>\n",
       "      <td>0</td>\n",
       "      <td>0</td>\n",
       "      <td>0</td>\n",
       "      <td>0</td>\n",
       "      <td>0</td>\n",
       "      <td>1</td>\n",
       "      <td>0</td>\n",
       "      <td>0</td>\n",
       "      <td>0</td>\n",
       "      <td>0</td>\n",
       "    </tr>\n",
       "    <tr>\n",
       "      <th>1</th>\n",
       "      <td>-0.333478</td>\n",
       "      <td>-0.171915</td>\n",
       "      <td>-0.100741</td>\n",
       "      <td>-0.186046</td>\n",
       "      <td>-0.372068</td>\n",
       "      <td>-0.416816</td>\n",
       "      <td>0.309367</td>\n",
       "      <td>0.420199</td>\n",
       "      <td>0.11077</td>\n",
       "      <td>-0.484432</td>\n",
       "      <td>...</td>\n",
       "      <td>0</td>\n",
       "      <td>0</td>\n",
       "      <td>0</td>\n",
       "      <td>0</td>\n",
       "      <td>0</td>\n",
       "      <td>1</td>\n",
       "      <td>0</td>\n",
       "      <td>0</td>\n",
       "      <td>0</td>\n",
       "      <td>0</td>\n",
       "    </tr>\n",
       "    <tr>\n",
       "      <th>2</th>\n",
       "      <td>-0.919833</td>\n",
       "      <td>-0.022396</td>\n",
       "      <td>-0.100741</td>\n",
       "      <td>-0.186046</td>\n",
       "      <td>-0.372068</td>\n",
       "      <td>-0.416816</td>\n",
       "      <td>-0.158262</td>\n",
       "      <td>-0.049545</td>\n",
       "      <td>0.11077</td>\n",
       "      <td>-0.484432</td>\n",
       "      <td>...</td>\n",
       "      <td>1</td>\n",
       "      <td>0</td>\n",
       "      <td>0</td>\n",
       "      <td>0</td>\n",
       "      <td>0</td>\n",
       "      <td>1</td>\n",
       "      <td>0</td>\n",
       "      <td>0</td>\n",
       "      <td>0</td>\n",
       "      <td>0</td>\n",
       "    </tr>\n",
       "    <tr>\n",
       "      <th>3</th>\n",
       "      <td>-0.398628</td>\n",
       "      <td>-0.171915</td>\n",
       "      <td>-0.100741</td>\n",
       "      <td>-0.186046</td>\n",
       "      <td>-0.372068</td>\n",
       "      <td>-0.416816</td>\n",
       "      <td>-0.625891</td>\n",
       "      <td>-0.519288</td>\n",
       "      <td>0.11077</td>\n",
       "      <td>-0.484432</td>\n",
       "      <td>...</td>\n",
       "      <td>0</td>\n",
       "      <td>0</td>\n",
       "      <td>0</td>\n",
       "      <td>0</td>\n",
       "      <td>0</td>\n",
       "      <td>1</td>\n",
       "      <td>0</td>\n",
       "      <td>0</td>\n",
       "      <td>0</td>\n",
       "      <td>0</td>\n",
       "    </tr>\n",
       "    <tr>\n",
       "      <th>4</th>\n",
       "      <td>0.513480</td>\n",
       "      <td>-0.171915</td>\n",
       "      <td>-0.100741</td>\n",
       "      <td>-0.186046</td>\n",
       "      <td>-0.372068</td>\n",
       "      <td>-0.416816</td>\n",
       "      <td>-0.625891</td>\n",
       "      <td>-0.519288</td>\n",
       "      <td>0.11077</td>\n",
       "      <td>-0.484432</td>\n",
       "      <td>...</td>\n",
       "      <td>0</td>\n",
       "      <td>0</td>\n",
       "      <td>0</td>\n",
       "      <td>0</td>\n",
       "      <td>0</td>\n",
       "      <td>0</td>\n",
       "      <td>1</td>\n",
       "      <td>0</td>\n",
       "      <td>0</td>\n",
       "      <td>0</td>\n",
       "    </tr>\n",
       "  </tbody>\n",
       "</table>\n",
       "<p>5 rows × 170 columns</p>\n",
       "</div>"
      ],
      "text/plain": [
       "   DRIVER1AGE  DRIVER2AGE  NOATYPEINJ  NOBTYPEINJ  NOCTYPEINJ  NUMOFINJ  \\\n",
       "0    1.686190   -0.171915   -0.100741   -0.186046   -0.372068 -0.416816   \n",
       "1   -0.333478   -0.171915   -0.100741   -0.186046   -0.372068 -0.416816   \n",
       "2   -0.919833   -0.022396   -0.100741   -0.186046   -0.372068 -0.416816   \n",
       "3   -0.398628   -0.171915   -0.100741   -0.186046   -0.372068 -0.416816   \n",
       "4    0.513480   -0.171915   -0.100741   -0.186046   -0.372068 -0.416816   \n",
       "\n",
       "   NUMOFOCCUP  NUMOFUNINJ  NUMOFVEHIC  SPEEDLIMIT         ...          \\\n",
       "0   -0.625891   -0.519288     0.11077   -0.484432         ...           \n",
       "1    0.309367    0.420199     0.11077   -0.484432         ...           \n",
       "2   -0.158262   -0.049545     0.11077   -0.484432         ...           \n",
       "3   -0.625891   -0.519288     0.11077   -0.484432         ...           \n",
       "4   -0.625891   -0.519288     0.11077   -0.484432         ...           \n",
       "\n",
       "   WEATHER_Snow  WEATHER_Unknown  WHEREONRD_Bicycle Lane  \\\n",
       "0             0                0                       0   \n",
       "1             0                0                       0   \n",
       "2             1                0                       0   \n",
       "3             0                0                       0   \n",
       "4             0                0                       0   \n",
       "\n",
       "   WHEREONRD_In the Gore  WHEREONRD_In the Median  WHEREONRD_On the Road  \\\n",
       "0                      0                        0                      1   \n",
       "1                      0                        0                      1   \n",
       "2                      0                        0                      1   \n",
       "3                      0                        0                      1   \n",
       "4                      0                        0                      0   \n",
       "\n",
       "   WHEREONRD_On the Shoulder  WHEREONRD_On-Street Parking  \\\n",
       "0                          0                            0   \n",
       "1                          0                            0   \n",
       "2                          0                            0   \n",
       "3                          0                            0   \n",
       "4                          1                            0   \n",
       "\n",
       "   WHEREONRD_Outside of Shoulder or Curb  WHEREONRD_Sidewalk  \n",
       "0                                      0                   0  \n",
       "1                                      0                   0  \n",
       "2                                      0                   0  \n",
       "3                                      0                   0  \n",
       "4                                      0                   0  \n",
       "\n",
       "[5 rows x 170 columns]"
      ]
     },
     "execution_count": 147,
     "metadata": {},
     "output_type": "execute_result"
    }
   ],
   "source": [
    "X.head()"
   ]
  },
  {
   "cell_type": "markdown",
   "metadata": {},
   "source": [
    "# Export to CSV"
   ]
  },
  {
   "cell_type": "code",
   "execution_count": 149,
   "metadata": {},
   "outputs": [],
   "source": [
    "X.to_csv('Data/Crash_X.csv', index=False)\n",
    "pd.DataFrame(y).to_csv('Data/Crash_y.csv', index=False)"
   ]
  },
  {
   "cell_type": "code",
   "execution_count": null,
   "metadata": {},
   "outputs": [],
   "source": []
  }
 ],
 "metadata": {
  "kernelspec": {
   "display_name": "Python 3",
   "language": "python",
   "name": "python3"
  },
  "language_info": {
   "codemirror_mode": {
    "name": "ipython",
    "version": 3
   },
   "file_extension": ".py",
   "mimetype": "text/x-python",
   "name": "python",
   "nbconvert_exporter": "python",
   "pygments_lexer": "ipython3",
   "version": "3.6.3"
  }
 },
 "nbformat": 4,
 "nbformat_minor": 2
}
