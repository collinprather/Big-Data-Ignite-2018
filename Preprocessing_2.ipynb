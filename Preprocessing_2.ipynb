{
 "cells": [
  {
   "cell_type": "code",
   "execution_count": 29,
   "metadata": {},
   "outputs": [],
   "source": [
    "import numpy as np\n",
    "import pandas as pd\n",
    "import matplotlib.pyplot as plt\n",
    "%matplotlib inline\n",
    "\n",
    "import seaborn as sns\n",
    "\n",
    "from sklearn.linear_model import LogisticRegression\n",
    "from sklearn.preprocessing import LabelEncoder, OneHotEncoder, StandardScaler, Imputer\n",
    "from sklearn.model_selection import train_test_split, GridSearchCV\n",
    "\n",
    "from sklearn.metrics import confusion_matrix, classification_report, precision_score\n",
    "from sklearn.metrics import roc_curve, auc"
   ]
  },
  {
   "cell_type": "code",
   "execution_count": 30,
   "metadata": {},
   "outputs": [
    {
     "data": {
      "text/html": [
       "<div>\n",
       "<style>\n",
       "    .dataframe thead tr:only-child th {\n",
       "        text-align: right;\n",
       "    }\n",
       "\n",
       "    .dataframe thead th {\n",
       "        text-align: left;\n",
       "    }\n",
       "\n",
       "    .dataframe tbody tr th {\n",
       "        vertical-align: top;\n",
       "    }\n",
       "</style>\n",
       "<table border=\"1\" class=\"dataframe\">\n",
       "  <thead>\n",
       "    <tr style=\"text-align: right;\">\n",
       "      <th></th>\n",
       "      <th>X</th>\n",
       "      <th>Y</th>\n",
       "      <th>OBJECTID</th>\n",
       "      <th>ROADSOFTID</th>\n",
       "      <th>BIKE</th>\n",
       "      <th>CITY</th>\n",
       "      <th>CRASHDATE</th>\n",
       "      <th>CRASHSEVER</th>\n",
       "      <th>CRASHTYPE</th>\n",
       "      <th>WORKZNEACT</th>\n",
       "      <th>...</th>\n",
       "      <th>VEH3DIR</th>\n",
       "      <th>VEH3TYPE</th>\n",
       "      <th>VEH3USE</th>\n",
       "      <th>WEATHER</th>\n",
       "      <th>WHEREONRD</th>\n",
       "      <th>YEAR</th>\n",
       "      <th>RDCITYTWP</th>\n",
       "      <th>RDNUMLANES</th>\n",
       "      <th>RDWIDTH</th>\n",
       "      <th>FRAMEWORK</th>\n",
       "    </tr>\n",
       "  </thead>\n",
       "  <tbody>\n",
       "    <tr>\n",
       "      <th>0</th>\n",
       "      <td>-85.639647</td>\n",
       "      <td>42.927216</td>\n",
       "      <td>6001</td>\n",
       "      <td>929923</td>\n",
       "      <td>No</td>\n",
       "      <td>Grand Rapids</td>\n",
       "      <td>2007-02-16</td>\n",
       "      <td>Property Damage Only</td>\n",
       "      <td>Side-Swipe Same</td>\n",
       "      <td>Uncoded &amp; Errors</td>\n",
       "      <td>...</td>\n",
       "      <td>U</td>\n",
       "      <td>Uncoded &amp; Errors</td>\n",
       "      <td>Uncoded &amp; Errors</td>\n",
       "      <td>Cloudy</td>\n",
       "      <td>On the Road</td>\n",
       "      <td>2007</td>\n",
       "      <td>Grand Rapids</td>\n",
       "      <td>2</td>\n",
       "      <td>42.0</td>\n",
       "      <td>17</td>\n",
       "    </tr>\n",
       "    <tr>\n",
       "      <th>1</th>\n",
       "      <td>-85.639487</td>\n",
       "      <td>42.927213</td>\n",
       "      <td>6002</td>\n",
       "      <td>935745</td>\n",
       "      <td>No</td>\n",
       "      <td>Grand Rapids</td>\n",
       "      <td>2007-06-22</td>\n",
       "      <td>Property Damage Only</td>\n",
       "      <td>Side-Swipe Same</td>\n",
       "      <td>Uncoded &amp; Errors</td>\n",
       "      <td>...</td>\n",
       "      <td>U</td>\n",
       "      <td>Uncoded &amp; Errors</td>\n",
       "      <td>Uncoded &amp; Errors</td>\n",
       "      <td>Clear</td>\n",
       "      <td>On the Road</td>\n",
       "      <td>2007</td>\n",
       "      <td>Grand Rapids</td>\n",
       "      <td>2</td>\n",
       "      <td>42.0</td>\n",
       "      <td>17</td>\n",
       "    </tr>\n",
       "    <tr>\n",
       "      <th>2</th>\n",
       "      <td>-85.639387</td>\n",
       "      <td>42.927212</td>\n",
       "      <td>6003</td>\n",
       "      <td>926813</td>\n",
       "      <td>No</td>\n",
       "      <td>Grand Rapids</td>\n",
       "      <td>2007-01-08</td>\n",
       "      <td>Property Damage Only</td>\n",
       "      <td>Head-on</td>\n",
       "      <td>Work on Shoulder / Median</td>\n",
       "      <td>...</td>\n",
       "      <td>U</td>\n",
       "      <td>Uncoded &amp; Errors</td>\n",
       "      <td>Uncoded &amp; Errors</td>\n",
       "      <td>Snow</td>\n",
       "      <td>On the Road</td>\n",
       "      <td>2007</td>\n",
       "      <td>Grand Rapids</td>\n",
       "      <td>2</td>\n",
       "      <td>42.0</td>\n",
       "      <td>17</td>\n",
       "    </tr>\n",
       "    <tr>\n",
       "      <th>3</th>\n",
       "      <td>-85.639288</td>\n",
       "      <td>42.927210</td>\n",
       "      <td>6004</td>\n",
       "      <td>943813</td>\n",
       "      <td>No</td>\n",
       "      <td>Grand Rapids</td>\n",
       "      <td>2007-11-12</td>\n",
       "      <td>Property Damage Only</td>\n",
       "      <td>Side-Swipe Same</td>\n",
       "      <td>Uncoded &amp; Errors</td>\n",
       "      <td>...</td>\n",
       "      <td>U</td>\n",
       "      <td>Uncoded &amp; Errors</td>\n",
       "      <td>Uncoded &amp; Errors</td>\n",
       "      <td>Cloudy</td>\n",
       "      <td>On the Road</td>\n",
       "      <td>2007</td>\n",
       "      <td>Grand Rapids</td>\n",
       "      <td>2</td>\n",
       "      <td>42.0</td>\n",
       "      <td>17</td>\n",
       "    </tr>\n",
       "  </tbody>\n",
       "</table>\n",
       "<p>4 rows × 77 columns</p>\n",
       "</div>"
      ],
      "text/plain": [
       "           X          Y  OBJECTID  ROADSOFTID BIKE          CITY   CRASHDATE  \\\n",
       "0 -85.639647  42.927216      6001      929923   No  Grand Rapids  2007-02-16   \n",
       "1 -85.639487  42.927213      6002      935745   No  Grand Rapids  2007-06-22   \n",
       "2 -85.639387  42.927212      6003      926813   No  Grand Rapids  2007-01-08   \n",
       "3 -85.639288  42.927210      6004      943813   No  Grand Rapids  2007-11-12   \n",
       "\n",
       "             CRASHSEVER        CRASHTYPE                 WORKZNEACT    ...     \\\n",
       "0  Property Damage Only  Side-Swipe Same           Uncoded & Errors    ...      \n",
       "1  Property Damage Only  Side-Swipe Same           Uncoded & Errors    ...      \n",
       "2  Property Damage Only          Head-on  Work on Shoulder / Median    ...      \n",
       "3  Property Damage Only  Side-Swipe Same           Uncoded & Errors    ...      \n",
       "\n",
       "  VEH3DIR          VEH3TYPE           VEH3USE WEATHER    WHEREONRD  YEAR  \\\n",
       "0       U  Uncoded & Errors  Uncoded & Errors  Cloudy  On the Road  2007   \n",
       "1       U  Uncoded & Errors  Uncoded & Errors   Clear  On the Road  2007   \n",
       "2       U  Uncoded & Errors  Uncoded & Errors    Snow  On the Road  2007   \n",
       "3       U  Uncoded & Errors  Uncoded & Errors  Cloudy  On the Road  2007   \n",
       "\n",
       "      RDCITYTWP RDNUMLANES RDWIDTH FRAMEWORK  \n",
       "0  Grand Rapids          2    42.0        17  \n",
       "1  Grand Rapids          2    42.0        17  \n",
       "2  Grand Rapids          2    42.0        17  \n",
       "3  Grand Rapids          2    42.0        17  \n",
       "\n",
       "[4 rows x 77 columns]"
      ]
     },
     "execution_count": 30,
     "metadata": {},
     "output_type": "execute_result"
    }
   ],
   "source": [
    "crash = pd.read_csv('Data/CGR_Crash_Data.csv')\n",
    "crash.head(4)"
   ]
  },
  {
   "cell_type": "code",
   "execution_count": 31,
   "metadata": {},
   "outputs": [
    {
     "name": "stdout",
     "output_type": "stream",
     "text": [
      "(72977, 77)\n"
     ]
    }
   ],
   "source": [
    "initial_shape = crash.shape\n",
    "print(initial_shape)"
   ]
  },
  {
   "cell_type": "code",
   "execution_count": 32,
   "metadata": {},
   "outputs": [
    {
     "data": {
      "text/plain": [
       "No     57308\n",
       "Yes    15669\n",
       "Name: HITANDRUN, dtype: int64"
      ]
     },
     "execution_count": 32,
     "metadata": {},
     "output_type": "execute_result"
    }
   ],
   "source": [
    "crash['HITANDRUN'].value_counts()"
   ]
  },
  {
   "cell_type": "markdown",
   "metadata": {},
   "source": [
    "## Columns Dropped\n",
    "* Unfortunately, I do not know what the \"OBJECTID\" or \"ROADSOFTID\" columns mean, so I will drop them.\n",
    "* Since all crashes occur in Grand Rapids, I will drop the \"CITY\" column.\n",
    "* Since we have other features that may represent the time/date better than \"CRASHDATE\" we'll drop it.\n",
    "* \"WORKZNEACT\", \"WORKZNECLO\", \"WORKZNETYP\", \"ANIMAL\" are primarily errors\n",
    "* \"DAYOFMONTH\", \"DAYOFWEEK\" were fairly evenly distributed and did not seem to have any correlation with \"HITANDRUN\"\n",
    "* Wanted to use \"D1COND\", \"D2COND\", \"D3COND\", but not enough data recorded.\n",
    "* \"FLEEINGSIT\" looks like it could be helpful, but not sure what it means, and far too few instances\n",
    "* all read no for \"NONTRAFFIC\"\n",
    "* Such low amounts of data on Vehichle defect, dropped \"V1DEFECT\", \"V2DEFECT\"\n",
    "* Such low amounts of data on any third vehicle, drop 'D3DRINKIN', 'DRIVER3AGE', 'DRIVER3SEX', 'V3DEFECT', 'V3DAMAGE', 'VEH3DIR', 'VEH3TYPE', 'VEH3USE'\n",
    "\n",
    "\n",
    "* Drop all V3's"
   ]
  },
  {
   "cell_type": "code",
   "execution_count": 33,
   "metadata": {},
   "outputs": [],
   "source": [
    "labels = [\"OBJECTID\", \"ROADSOFTID\", \"CITY\", \"CRASHDATE\", \"WORKZNEACT\", \"WORKZNECLO\", \"WORKZNETYP\",\n",
    "         \"DAYOFMONTH\", \"DAYOFWEEK\", \"ANIMAL\", \"D2COND\", \"D3COND\", \"FARMEQUIP\", \"FLEEINGSIT\", \"NONTRAFFIC\", \n",
    "         \"NUMOFKILL\", \"ORV\", \"PUBLICPROP\", \"PEDESTRIAN\", \"SNOWMOBILE\", \"SCHOOLBUS\", \"TRAIN\", \"V1DEFECT\", \"V2DEFECT\", \n",
    "          'D3DRINKIN', 'DRIVER3AGE', 'DRIVER3SEX', 'V3DEFECT', 'V3DAMAGE', 'VEH3DIR', 'VEH3TYPE', 'VEH3USE',\n",
    "          'D2DRINKIN', 'DRIVER2AGE', 'DRIVER2SEX', \n",
    "          'V2DEFECT', 'V2DAMAGE', 'VEH2DIR', 'VEH2TYPE', 'VEH2USE',\n",
    "          'FRAMEWORK', 'RDCITYTWP', 'YEAR'\n",
    "         ]\n",
    "crash = crash.drop(labels=labels, axis=1)"
   ]
  },
  {
   "cell_type": "code",
   "execution_count": 34,
   "metadata": {},
   "outputs": [
    {
     "data": {
      "text/plain": [
       "Appeared Normal    56412\n",
       "Unknown            15890\n",
       "Fatigue / Sick       675\n",
       "Name: D1COND, dtype: int64"
      ]
     },
     "execution_count": 34,
     "metadata": {},
     "output_type": "execute_result"
    }
   ],
   "source": [
    "crash['D1COND'] = crash['D1COND'].replace(to_replace = ['Other', 'Uncoded & Errors'], value = 'Unknown')\n",
    "crash['D1COND'] = crash['D1COND'].replace(to_replace = ['Fatigue / Asleep', 'Sick', 'Medication', 'Emotional', 'Physically Disabled'], value = 'Fatigue / Sick')\n",
    "crash['D1COND'].value_counts()"
   ]
  },
  {
   "cell_type": "code",
   "execution_count": 35,
   "metadata": {},
   "outputs": [
    {
     "data": {
      "text/plain": [
       "D1COND           HITANDRUN\n",
       "Appeared Normal  No           50969\n",
       "                 Yes           5443\n",
       "Fatigue / Sick   No             607\n",
       "                 Yes             68\n",
       "Unknown          No            5732\n",
       "                 Yes          10158\n",
       "Name: NUMOFVEHIC, dtype: int64"
      ]
     },
     "execution_count": 35,
     "metadata": {},
     "output_type": "execute_result"
    }
   ],
   "source": [
    "crash.groupby([\"D1COND\", 'HITANDRUN'])['NUMOFVEHIC'].count()"
   ]
  },
  {
   "cell_type": "code",
   "execution_count": 36,
   "metadata": {},
   "outputs": [
    {
     "data": {
      "text/plain": [
       "(72977, 35)"
      ]
     },
     "execution_count": 36,
     "metadata": {},
     "output_type": "execute_result"
    }
   ],
   "source": [
    "crash.shape"
   ]
  },
  {
   "cell_type": "code",
   "execution_count": 37,
   "metadata": {},
   "outputs": [
    {
     "data": {
      "text/plain": [
       "No     57308\n",
       "Yes    15669\n",
       "Name: HITANDRUN, dtype: int64"
      ]
     },
     "execution_count": 37,
     "metadata": {},
     "output_type": "execute_result"
    }
   ],
   "source": [
    "crash['HITANDRUN'].value_counts()"
   ]
  },
  {
   "cell_type": "code",
   "execution_count": 38,
   "metadata": {},
   "outputs": [
    {
     "data": {
      "text/plain": [
       "'# drop all rows with missing age for driver 1\\nmissing_age1 = crash.DRIVER1AGE[crash.DRIVER1AGE > 100]\\ncrash = crash.drop(missing_age1.index, axis=0)'"
      ]
     },
     "execution_count": 38,
     "metadata": {},
     "output_type": "execute_result"
    }
   ],
   "source": [
    "'''# drop all rows with missing age for driver 1\n",
    "missing_age1 = crash.DRIVER1AGE[crash.DRIVER1AGE > 100]\n",
    "crash = crash.drop(missing_age1.index, axis=0)'''"
   ]
  },
  {
   "cell_type": "code",
   "execution_count": 44,
   "metadata": {},
   "outputs": [],
   "source": [
    "# possibly fit regressor to predict age?\n",
    "imputer = Imputer(missing_values=999, strategy='median', axis=0)\n",
    "crash['DRIVER1AGE'] = imputer.fit_transform(crash.DRIVER1AGE.values.reshape(-1,1))"
   ]
  },
  {
   "cell_type": "code",
   "execution_count": 45,
   "metadata": {},
   "outputs": [
    {
     "data": {
      "text/plain": [
       "(72977, 35)"
      ]
     },
     "execution_count": 45,
     "metadata": {},
     "output_type": "execute_result"
    }
   ],
   "source": [
    "crash.shape"
   ]
  },
  {
   "cell_type": "code",
   "execution_count": 46,
   "metadata": {},
   "outputs": [
    {
     "data": {
      "text/plain": [
       "No     70260\n",
       "Yes     2717\n",
       "Name: D1DRINKIN, dtype: int64"
      ]
     },
     "execution_count": 46,
     "metadata": {},
     "output_type": "execute_result"
    }
   ],
   "source": [
    "crash['D1DRINKIN'].value_counts()"
   ]
  },
  {
   "cell_type": "code",
   "execution_count": 47,
   "metadata": {},
   "outputs": [
    {
     "data": {
      "text/plain": [
       "No     57308\n",
       "Yes    15669\n",
       "Name: HITANDRUN, dtype: int64"
      ]
     },
     "execution_count": 47,
     "metadata": {},
     "output_type": "execute_result"
    }
   ],
   "source": [
    "crash['HITANDRUN'].value_counts()"
   ]
  },
  {
   "cell_type": "code",
   "execution_count": 48,
   "metadata": {},
   "outputs": [
    {
     "data": {
      "text/plain": [
       "<matplotlib.axes._subplots.AxesSubplot at 0x10ab7fa58>"
      ]
     },
     "execution_count": 48,
     "metadata": {},
     "output_type": "execute_result"
    },
    {
     "data": {
      "image/png": "[encoded data removed]",
      "text/plain": [
       "<matplotlib.figure.Figure at 0x10ab969b0>"
      ]
     },
     "metadata": {},
     "output_type": "display_data"
    }
   ],
   "source": [
    "sns.distplot(crash['DRIVER1AGE'])"
   ]
  },
  {
   "cell_type": "code",
   "execution_count": 49,
   "metadata": {},
   "outputs": [
    {
     "data": {
      "text/plain": [
       "M    35513\n",
       "F    30075\n",
       "U     7389\n",
       "Name: DRIVER1SEX, dtype: int64"
      ]
     },
     "execution_count": 49,
     "metadata": {},
     "output_type": "execute_result"
    }
   ],
   "source": [
    "crash['DRIVER1SEX'].value_counts()"
   ]
  },
  {
   "cell_type": "code",
   "execution_count": 50,
   "metadata": {},
   "outputs": [
    {
     "data": {
      "text/plain": [
       "'# drop all rows with missing sex for driver 1\\nmissing_sex1 = crash.DRIVER1SEX[crash.DRIVER1SEX == \"U\"]\\ncrash = crash.drop(missing_sex1.index, axis=0)'"
      ]
     },
     "execution_count": 50,
     "metadata": {},
     "output_type": "execute_result"
    }
   ],
   "source": [
    "# Realized that... it is very important NOT to drop the unknowns. Think about it... if it is a hit and run,\n",
    "# we probably wouldn't know the sex of the driver, right? Leave this as its own category.\n",
    "\n",
    "'''# drop all rows with missing sex for driver 1\n",
    "missing_sex1 = crash.DRIVER1SEX[crash.DRIVER1SEX == \"U\"]\n",
    "crash = crash.drop(missing_sex1.index, axis=0)'''"
   ]
  },
  {
   "cell_type": "code",
   "execution_count": 51,
   "metadata": {},
   "outputs": [
    {
     "data": {
      "text/plain": [
       "DRIVER1SEX  HITANDRUN\n",
       "F           No           26284\n",
       "            Yes           3791\n",
       "M           No           30201\n",
       "            Yes           5312\n",
       "U           No             823\n",
       "            Yes           6566\n",
       "Name: NUMOFVEHIC, dtype: int64"
      ]
     },
     "execution_count": 51,
     "metadata": {},
     "output_type": "execute_result"
    }
   ],
   "source": [
    "crash.groupby(['DRIVER1SEX', 'HITANDRUN'])['NUMOFVEHIC'].count()"
   ]
  },
  {
   "cell_type": "code",
   "execution_count": 52,
   "metadata": {},
   "outputs": [
    {
     "data": {
      "text/plain": [
       "(72977, 35)"
      ]
     },
     "execution_count": 52,
     "metadata": {},
     "output_type": "execute_result"
    }
   ],
   "source": [
    "crash.shape"
   ]
  },
  {
   "cell_type": "code",
   "execution_count": 53,
   "metadata": {},
   "outputs": [
    {
     "data": {
      "text/plain": [
       "No     70260\n",
       "Yes     2717\n",
       "Name: D1DRINKIN, dtype: int64"
      ]
     },
     "execution_count": 53,
     "metadata": {},
     "output_type": "execute_result"
    }
   ],
   "source": [
    "crash['D1DRINKIN'].value_counts()"
   ]
  },
  {
   "cell_type": "code",
   "execution_count": 54,
   "metadata": {},
   "outputs": [
    {
     "data": {
      "text/plain": [
       "No     57308\n",
       "Yes    15669\n",
       "Name: HITANDRUN, dtype: int64"
      ]
     },
     "execution_count": 54,
     "metadata": {},
     "output_type": "execute_result"
    }
   ],
   "source": [
    "crash['HITANDRUN'].value_counts()"
   ]
  },
  {
   "cell_type": "code",
   "execution_count": 55,
   "metadata": {},
   "outputs": [
    {
     "data": {
      "text/plain": [
       "Index(['X', 'Y', 'BIKE', 'CRASHSEVER', 'CRASHTYPE', 'D1COND', 'D1DRINKIN',\n",
       "       'DRIVER1AGE', 'DRIVER1SEX', 'EMRGVEH', 'GRTINJSEVE', 'HITANDRUN',\n",
       "       'HOUR', 'MONTH', 'MOTORCYCLE', 'NOATYPEINJ', 'NOBTYPEINJ', 'NOCTYPEINJ',\n",
       "       'NUMOFINJ', 'NUMOFOCCUP', 'NUMOFUNINJ', 'NUMOFVEHIC', 'SPDLMTPOST',\n",
       "       'SPEEDLIMIT', 'SURFCOND', 'TRAFCTLDEV', 'TRUCKBUS', 'V1DAMAGE',\n",
       "       'VEH1DIR', 'VEH1TYPE', 'VEH1USE', 'WEATHER', 'WHEREONRD', 'RDNUMLANES',\n",
       "       'RDWIDTH'],\n",
       "      dtype='object')"
      ]
     },
     "execution_count": 55,
     "metadata": {},
     "output_type": "execute_result"
    }
   ],
   "source": [
    "crash.columns"
   ]
  },
  {
   "cell_type": "code",
   "execution_count": 446,
   "metadata": {},
   "outputs": [
    {
     "data": {
      "text/plain": [
       "No     72051\n",
       "Yes      926\n",
       "Name: BIKE, dtype: int64"
      ]
     },
     "execution_count": 446,
     "metadata": {},
     "output_type": "execute_result"
    }
   ],
   "source": [
    "crash['BIKE'].value_counts()"
   ]
  },
  {
   "cell_type": "code",
   "execution_count": 447,
   "metadata": {},
   "outputs": [
    {
     "data": {
      "text/plain": [
       "DRIVER1SEX  HITANDRUN\n",
       "F           No           26284\n",
       "            Yes           3791\n",
       "M           No           30201\n",
       "            Yes           5312\n",
       "U           No             823\n",
       "            Yes           6566\n",
       "Name: NUMOFVEHIC, dtype: int64"
      ]
     },
     "execution_count": 447,
     "metadata": {},
     "output_type": "execute_result"
    }
   ],
   "source": [
    "crash.groupby(['DRIVER1SEX', 'HITANDRUN'])['NUMOFVEHIC'].count()"
   ]
  },
  {
   "cell_type": "code",
   "execution_count": 448,
   "metadata": {},
   "outputs": [
    {
     "data": {
      "text/plain": [
       "CRASHSEVER            D1DRINKIN\n",
       "Fatal                 No              56\n",
       "                      Yes             39\n",
       "Injury                No           12571\n",
       "                      Yes            858\n",
       "Property Damage Only  No           57633\n",
       "                      Yes           1820\n",
       "Name: NUMOFVEHIC, dtype: int64"
      ]
     },
     "execution_count": 448,
     "metadata": {},
     "output_type": "execute_result"
    }
   ],
   "source": [
    "crash.groupby(['CRASHSEVER', 'D1DRINKIN'])['NUMOFVEHIC'].count()\n",
    "# Fatal injuries significantly more likely to be caused by alcohol"
   ]
  },
  {
   "cell_type": "code",
   "execution_count": 449,
   "metadata": {},
   "outputs": [
    {
     "data": {
      "text/plain": [
       "DRIVER1SEX  D1DRINKIN\n",
       "F           No           29332\n",
       "            Yes            743\n",
       "M           No           33544\n",
       "            Yes           1969\n",
       "U           No            7384\n",
       "            Yes              5\n",
       "Name: NUMOFVEHIC, dtype: int64"
      ]
     },
     "execution_count": 449,
     "metadata": {},
     "output_type": "execute_result"
    }
   ],
   "source": [
    "crash.groupby(['DRIVER1SEX', 'D1DRINKIN'])['NUMOFVEHIC'].count()\n",
    "# Male car crashes are nearly twice as likely to have alcohol involed as female crashes"
   ]
  },
  {
   "cell_type": "code",
   "execution_count": 450,
   "metadata": {},
   "outputs": [
    {
     "data": {
      "text/plain": [
       "EMRGVEH  D1DRINKIN\n",
       "No       No           69785\n",
       "         Yes           2672\n",
       "Yes      No             475\n",
       "         Yes             45\n",
       "Name: NUMOFVEHIC, dtype: int64"
      ]
     },
     "execution_count": 450,
     "metadata": {},
     "output_type": "execute_result"
    }
   ],
   "source": [
    "crash.groupby(['EMRGVEH', 'D1DRINKIN'])['NUMOFVEHIC'].count()\n",
    "# Emergency vehicle twice as likely with alcohol"
   ]
  },
  {
   "cell_type": "code",
   "execution_count": 451,
   "metadata": {},
   "outputs": [
    {
     "data": {
      "text/plain": [
       "HITANDRUN  D1DRINKIN\n",
       "No         No           55356\n",
       "           Yes           1952\n",
       "Yes        No           14904\n",
       "           Yes            765\n",
       "Name: NUMOFVEHIC, dtype: int64"
      ]
     },
     "execution_count": 451,
     "metadata": {},
     "output_type": "execute_result"
    }
   ],
   "source": [
    "crash.groupby(['HITANDRUN', 'D1DRINKIN'])['NUMOFVEHIC'].count()\n",
    "# Hit and runs almost 3x more likely while drinking"
   ]
  },
  {
   "cell_type": "code",
   "execution_count": 452,
   "metadata": {},
   "outputs": [
    {
     "data": {
      "text/plain": [
       "MOTORCYCLE  D1DRINKIN\n",
       "No          No           69630\n",
       "            Yes           2650\n",
       "Yes         No             630\n",
       "            Yes             67\n",
       "Name: NUMOFVEHIC, dtype: int64"
      ]
     },
     "execution_count": 452,
     "metadata": {},
     "output_type": "execute_result"
    }
   ],
   "source": [
    "crash.groupby(['MOTORCYCLE', 'D1DRINKIN'])['NUMOFVEHIC'].count()"
   ]
  },
  {
   "cell_type": "code",
   "execution_count": 453,
   "metadata": {},
   "outputs": [
    {
     "data": {
      "text/plain": [
       "NUMOFINJ  D1DRINKIN\n",
       "0         No           57678\n",
       "          Yes           1848\n",
       "1         No           10030\n",
       "          Yes            692\n",
       "2         No            1948\n",
       "          Yes            120\n",
       "3         No             448\n",
       "          Yes             40\n",
       "4         No             107\n",
       "          Yes             14\n",
       "5         No              34\n",
       "          Yes              2\n",
       "6         No               8\n",
       "7         No               3\n",
       "          Yes              1\n",
       "8         No               1\n",
       "10        No               3\n",
       "Name: NUMOFVEHIC, dtype: int64"
      ]
     },
     "execution_count": 453,
     "metadata": {},
     "output_type": "execute_result"
    }
   ],
   "source": [
    "crash.groupby(['NUMOFINJ', 'D1DRINKIN'])['NUMOFVEHIC'].count()"
   ]
  },
  {
   "cell_type": "code",
   "execution_count": 56,
   "metadata": {},
   "outputs": [
    {
     "data": {
      "text/plain": [
       "SPEEDLIMIT_BINS  HITANDRUN\n",
       "speed<25         No           20323\n",
       "                 Yes           9804\n",
       "25<speed<45      No           22480\n",
       "                 Yes           4000\n",
       "45<speed<65      No            6553\n",
       "                 Yes            776\n",
       "65<speed         No            7942\n",
       "                 Yes           1083\n",
       "Name: NUMOFVEHIC, dtype: int64"
      ]
     },
     "execution_count": 56,
     "metadata": {},
     "output_type": "execute_result"
    }
   ],
   "source": [
    "bins = [0, 25, 45, 65, 100]\n",
    "labels = ['speed<25', '25<speed<45', '45<speed<65', '65<speed']\n",
    "crash['SPEEDLIMIT_BINS'] = pd.cut(crash['SPEEDLIMIT'], bins=bins, labels=labels)\n",
    "\n",
    "crash.groupby(['SPEEDLIMIT_BINS', 'HITANDRUN'])['NUMOFVEHIC'].count()\n"
   ]
  },
  {
   "cell_type": "code",
   "execution_count": 57,
   "metadata": {},
   "outputs": [
    {
     "data": {
      "text/plain": [
       "speed<25       30127\n",
       "25<speed<45    26480\n",
       "65<speed        9025\n",
       "45<speed<65     7329\n",
       "Name: SPEEDLIMIT_BINS, dtype: int64"
      ]
     },
     "execution_count": 57,
     "metadata": {},
     "output_type": "execute_result"
    }
   ],
   "source": [
    "crash['SPEEDLIMIT_BINS'].value_counts()"
   ]
  },
  {
   "cell_type": "markdown",
   "metadata": {},
   "source": [
    "---"
   ]
  },
  {
   "cell_type": "code",
   "execution_count": 116,
   "metadata": {},
   "outputs": [],
   "source": [
    "X = crash[['X', 'Y', 'CRASHSEVER', 'DRIVER1AGE',\n",
    "       'DRIVER1SEX', 'EMRGVEH', 'HITANDRUN', 'HOUR',\n",
    "          'MOTORCYCLE', 'NUMOFINJ', 'D1DRINKIN', 'D1COND']]\n",
    "#y = crash['D1DRINKIN']"
   ]
  },
  {
   "cell_type": "code",
   "execution_count": 117,
   "metadata": {},
   "outputs": [
    {
     "data": {
      "text/plain": [
       "(72977, 12)"
      ]
     },
     "execution_count": 117,
     "metadata": {},
     "output_type": "execute_result"
    }
   ],
   "source": [
    "X.shape"
   ]
  },
  {
   "cell_type": "code",
   "execution_count": 118,
   "metadata": {},
   "outputs": [
    {
     "data": {
      "text/html": [
       "<div>\n",
       "<style>\n",
       "    .dataframe thead tr:only-child th {\n",
       "        text-align: right;\n",
       "    }\n",
       "\n",
       "    .dataframe thead th {\n",
       "        text-align: left;\n",
       "    }\n",
       "\n",
       "    .dataframe tbody tr th {\n",
       "        vertical-align: top;\n",
       "    }\n",
       "</style>\n",
       "<table border=\"1\" class=\"dataframe\">\n",
       "  <thead>\n",
       "    <tr style=\"text-align: right;\">\n",
       "      <th></th>\n",
       "      <th>X</th>\n",
       "      <th>Y</th>\n",
       "      <th>CRASHSEVER</th>\n",
       "      <th>DRIVER1AGE</th>\n",
       "      <th>DRIVER1SEX</th>\n",
       "      <th>EMRGVEH</th>\n",
       "      <th>HITANDRUN</th>\n",
       "      <th>HOUR</th>\n",
       "      <th>MOTORCYCLE</th>\n",
       "      <th>NUMOFINJ</th>\n",
       "      <th>D1DRINKIN</th>\n",
       "      <th>D1COND</th>\n",
       "    </tr>\n",
       "  </thead>\n",
       "  <tbody>\n",
       "    <tr>\n",
       "      <th>0</th>\n",
       "      <td>-85.639647</td>\n",
       "      <td>42.927216</td>\n",
       "      <td>Property Damage Only</td>\n",
       "      <td>62.0</td>\n",
       "      <td>F</td>\n",
       "      <td>No</td>\n",
       "      <td>Yes</td>\n",
       "      <td>13</td>\n",
       "      <td>No</td>\n",
       "      <td>0</td>\n",
       "      <td>No</td>\n",
       "      <td>Appeared Normal</td>\n",
       "    </tr>\n",
       "    <tr>\n",
       "      <th>1</th>\n",
       "      <td>-85.639487</td>\n",
       "      <td>42.927213</td>\n",
       "      <td>Property Damage Only</td>\n",
       "      <td>31.0</td>\n",
       "      <td>M</td>\n",
       "      <td>No</td>\n",
       "      <td>Yes</td>\n",
       "      <td>18</td>\n",
       "      <td>No</td>\n",
       "      <td>0</td>\n",
       "      <td>No</td>\n",
       "      <td>Unknown</td>\n",
       "    </tr>\n",
       "    <tr>\n",
       "      <th>2</th>\n",
       "      <td>-85.639387</td>\n",
       "      <td>42.927212</td>\n",
       "      <td>Property Damage Only</td>\n",
       "      <td>22.0</td>\n",
       "      <td>F</td>\n",
       "      <td>No</td>\n",
       "      <td>No</td>\n",
       "      <td>8</td>\n",
       "      <td>No</td>\n",
       "      <td>0</td>\n",
       "      <td>No</td>\n",
       "      <td>Appeared Normal</td>\n",
       "    </tr>\n",
       "    <tr>\n",
       "      <th>3</th>\n",
       "      <td>-85.639288</td>\n",
       "      <td>42.927210</td>\n",
       "      <td>Property Damage Only</td>\n",
       "      <td>30.0</td>\n",
       "      <td>M</td>\n",
       "      <td>No</td>\n",
       "      <td>Yes</td>\n",
       "      <td>16</td>\n",
       "      <td>No</td>\n",
       "      <td>0</td>\n",
       "      <td>No</td>\n",
       "      <td>Appeared Normal</td>\n",
       "    </tr>\n",
       "    <tr>\n",
       "      <th>4</th>\n",
       "      <td>-85.639288</td>\n",
       "      <td>42.927210</td>\n",
       "      <td>Property Damage Only</td>\n",
       "      <td>44.0</td>\n",
       "      <td>M</td>\n",
       "      <td>No</td>\n",
       "      <td>No</td>\n",
       "      <td>15</td>\n",
       "      <td>No</td>\n",
       "      <td>0</td>\n",
       "      <td>No</td>\n",
       "      <td>Appeared Normal</td>\n",
       "    </tr>\n",
       "  </tbody>\n",
       "</table>\n",
       "</div>"
      ],
      "text/plain": [
       "           X          Y            CRASHSEVER  DRIVER1AGE DRIVER1SEX EMRGVEH  \\\n",
       "0 -85.639647  42.927216  Property Damage Only        62.0          F      No   \n",
       "1 -85.639487  42.927213  Property Damage Only        31.0          M      No   \n",
       "2 -85.639387  42.927212  Property Damage Only        22.0          F      No   \n",
       "3 -85.639288  42.927210  Property Damage Only        30.0          M      No   \n",
       "4 -85.639288  42.927210  Property Damage Only        44.0          M      No   \n",
       "\n",
       "  HITANDRUN  HOUR MOTORCYCLE  NUMOFINJ D1DRINKIN           D1COND  \n",
       "0       Yes    13         No         0        No  Appeared Normal  \n",
       "1       Yes    18         No         0        No          Unknown  \n",
       "2        No     8         No         0        No  Appeared Normal  \n",
       "3       Yes    16         No         0        No  Appeared Normal  \n",
       "4        No    15         No         0        No  Appeared Normal  "
      ]
     },
     "execution_count": 118,
     "metadata": {},
     "output_type": "execute_result"
    }
   ],
   "source": [
    "X.head()"
   ]
  },
  {
   "cell_type": "code",
   "execution_count": 119,
   "metadata": {},
   "outputs": [
    {
     "data": {
      "text/plain": [
       "<matplotlib.collections.PathCollection at 0x1a236d95c0>"
      ]
     },
     "execution_count": 119,
     "metadata": {},
     "output_type": "execute_result"
    },
    {
     "data": {
      "image/png": "[encoded data removed]",
      "text/plain": [
       "<matplotlib.figure.Figure at 0x1149bad30>"
      ]
     },
     "metadata": {},
     "output_type": "display_data"
    }
   ],
   "source": [
    "plt.scatter(X.X, X.Y, s=1)"
   ]
  },
  {
   "cell_type": "code",
   "execution_count": 120,
   "metadata": {},
   "outputs": [
    {
     "data": {
      "text/plain": [
       "<matplotlib.collections.PathCollection at 0x1a1f698978>"
      ]
     },
     "execution_count": 120,
     "metadata": {},
     "output_type": "execute_result"
    },
    {
     "data": {
      "image/png": "[encoded data removed]",
      "text/plain": [
       "<matplotlib.figure.Figure at 0x1a2201b8d0>"
      ]
     },
     "metadata": {},
     "output_type": "display_data"
    }
   ],
   "source": [
    "# Scaling the coords does not compromise the map\n",
    "scaler = StandardScaler()\n",
    "x_try = scaler.fit_transform(X.X.values.reshape(-1,1))\n",
    "y_try = scaler.fit_transform(X.Y.values.reshape(-1,1))\n",
    "\n",
    "plt.scatter(x_try, y_try, s=1)"
   ]
  },
  {
   "cell_type": "code",
   "execution_count": 121,
   "metadata": {},
   "outputs": [],
   "source": [
    "X.to_csv('Data/Analysis2/Crash_X2.csv', index=False)\n"
   ]
  },
  {
   "cell_type": "markdown",
   "metadata": {},
   "source": [
    "---"
   ]
  },
  {
   "cell_type": "markdown",
   "metadata": {},
   "source": [
    "## Scaling and Encoding the Variables"
   ]
  },
  {
   "cell_type": "markdown",
   "metadata": {},
   "source": [
    "#### Scaling"
   ]
  },
  {
   "cell_type": "code",
   "execution_count": 122,
   "metadata": {},
   "outputs": [],
   "source": [
    "sc_X = StandardScaler()\n",
    "X_scaled = sc_X.fit_transform(X[['X', 'Y', 'DRIVER1AGE', 'NUMOFINJ']])"
   ]
  },
  {
   "cell_type": "code",
   "execution_count": 123,
   "metadata": {},
   "outputs": [
    {
     "data": {
      "text/plain": [
       "(72977, 4)"
      ]
     },
     "execution_count": 123,
     "metadata": {},
     "output_type": "execute_result"
    }
   ],
   "source": [
    "X_scaled.shape"
   ]
  },
  {
   "cell_type": "code",
   "execution_count": 124,
   "metadata": {},
   "outputs": [],
   "source": [
    "X_scaled_df = pd.DataFrame(X_scaled, columns = ['X', 'Y', 'DRIVER1AGE', 'NUMOFINJ'])"
   ]
  },
  {
   "cell_type": "code",
   "execution_count": 125,
   "metadata": {},
   "outputs": [
    {
     "data": {
      "text/plain": [
       "(72977, 4)"
      ]
     },
     "execution_count": 125,
     "metadata": {},
     "output_type": "execute_result"
    }
   ],
   "source": [
    "X_scaled_df.shape"
   ]
  },
  {
   "cell_type": "code",
   "execution_count": 126,
   "metadata": {},
   "outputs": [],
   "source": [
    "X_ = X.drop(['X', 'Y', 'DRIVER1AGE', 'NUMOFINJ'], axis=1)"
   ]
  },
  {
   "cell_type": "code",
   "execution_count": 127,
   "metadata": {},
   "outputs": [
    {
     "data": {
      "text/plain": [
       "(72977, 8)"
      ]
     },
     "execution_count": 127,
     "metadata": {},
     "output_type": "execute_result"
    }
   ],
   "source": [
    "X_.shape"
   ]
  },
  {
   "cell_type": "code",
   "execution_count": 128,
   "metadata": {},
   "outputs": [],
   "source": [
    "X = pd.concat([X_scaled_df, X_], axis=1)"
   ]
  },
  {
   "cell_type": "code",
   "execution_count": 129,
   "metadata": {},
   "outputs": [],
   "source": [
    "X = X.dropna()"
   ]
  },
  {
   "cell_type": "code",
   "execution_count": 130,
   "metadata": {},
   "outputs": [
    {
     "data": {
      "text/plain": [
       "No     57308\n",
       "Yes    15669\n",
       "Name: HITANDRUN, dtype: int64"
      ]
     },
     "execution_count": 130,
     "metadata": {},
     "output_type": "execute_result"
    }
   ],
   "source": [
    "X['HITANDRUN'].value_counts()"
   ]
  },
  {
   "cell_type": "code",
   "execution_count": 131,
   "metadata": {},
   "outputs": [
    {
     "data": {
      "text/plain": [
       "(72977, 12)"
      ]
     },
     "execution_count": 131,
     "metadata": {},
     "output_type": "execute_result"
    }
   ],
   "source": [
    "X.shape"
   ]
  },
  {
   "cell_type": "code",
   "execution_count": 132,
   "metadata": {},
   "outputs": [],
   "source": [
    "X['HOUR_X']=np.sin(2. * np.pi * X.HOUR / 24.)\n",
    "X['HOUR_Y']=np.cos(2. * np.pi * X.HOUR / 24.)"
   ]
  },
  {
   "cell_type": "code",
   "execution_count": 133,
   "metadata": {},
   "outputs": [
    {
     "data": {
      "text/plain": [
       "<matplotlib.collections.PathCollection at 0x1a2208c160>"
      ]
     },
     "execution_count": 133,
     "metadata": {},
     "output_type": "execute_result"
    },
    {
     "data": {
      "image/png": "[encoded data removed]",
      "text/plain": [
       "<matplotlib.figure.Figure at 0x1a2201b240>"
      ]
     },
     "metadata": {},
     "output_type": "display_data"
    }
   ],
   "source": [
    "# Hence, the time of day is now cyclic (just as in reality)\n",
    "plt.scatter(X.HOUR_X, X.HOUR_Y)"
   ]
  },
  {
   "cell_type": "code",
   "execution_count": 134,
   "metadata": {},
   "outputs": [],
   "source": [
    "# Now that we have our two 'HOUR_X' and 'HOUR_Y' coords, we drop the original \"HOUR\" feature\n",
    "X = X.drop(['HOUR'], axis=1)"
   ]
  },
  {
   "cell_type": "code",
   "execution_count": 135,
   "metadata": {},
   "outputs": [
    {
     "data": {
      "text/plain": [
       "Index(['X', 'Y', 'DRIVER1AGE', 'NUMOFINJ', 'CRASHSEVER', 'DRIVER1SEX',\n",
       "       'EMRGVEH', 'HITANDRUN', 'MOTORCYCLE', 'D1DRINKIN', 'D1COND', 'HOUR_X',\n",
       "       'HOUR_Y'],\n",
       "      dtype='object')"
      ]
     },
     "execution_count": 135,
     "metadata": {},
     "output_type": "execute_result"
    }
   ],
   "source": [
    "X.columns"
   ]
  },
  {
   "cell_type": "markdown",
   "metadata": {},
   "source": [
    "#### Encoding"
   ]
  },
  {
   "cell_type": "code",
   "execution_count": 136,
   "metadata": {},
   "outputs": [],
   "source": [
    "y = X['HITANDRUN']"
   ]
  },
  {
   "cell_type": "code",
   "execution_count": 137,
   "metadata": {},
   "outputs": [],
   "source": [
    "X = X.drop(['HITANDRUN'], axis=1)"
   ]
  },
  {
   "cell_type": "code",
   "execution_count": 138,
   "metadata": {},
   "outputs": [
    {
     "data": {
      "text/plain": [
       "array([1, 1, 0, ..., 0, 0, 0])"
      ]
     },
     "execution_count": 138,
     "metadata": {},
     "output_type": "execute_result"
    }
   ],
   "source": [
    "lbl = LabelEncoder()\n",
    "y = lbl.fit_transform(y)\n",
    "y"
   ]
  },
  {
   "cell_type": "code",
   "execution_count": 140,
   "metadata": {},
   "outputs": [],
   "source": [
    "dummies = pd.get_dummies(X[['CRASHSEVER', 'DRIVER1SEX',\n",
    "                            'EMRGVEH', 'D1DRINKIN',\n",
    "                            'MOTORCYCLE', 'D1COND']])"
   ]
  },
  {
   "cell_type": "code",
   "execution_count": 141,
   "metadata": {},
   "outputs": [
    {
     "data": {
      "text/html": [
       "<div>\n",
       "<style>\n",
       "    .dataframe thead tr:only-child th {\n",
       "        text-align: right;\n",
       "    }\n",
       "\n",
       "    .dataframe thead th {\n",
       "        text-align: left;\n",
       "    }\n",
       "\n",
       "    .dataframe tbody tr th {\n",
       "        vertical-align: top;\n",
       "    }\n",
       "</style>\n",
       "<table border=\"1\" class=\"dataframe\">\n",
       "  <thead>\n",
       "    <tr style=\"text-align: right;\">\n",
       "      <th></th>\n",
       "      <th>CRASHSEVER_Fatal</th>\n",
       "      <th>CRASHSEVER_Injury</th>\n",
       "      <th>CRASHSEVER_Property Damage Only</th>\n",
       "      <th>DRIVER1SEX_F</th>\n",
       "      <th>DRIVER1SEX_M</th>\n",
       "      <th>DRIVER1SEX_U</th>\n",
       "      <th>EMRGVEH_No</th>\n",
       "      <th>EMRGVEH_Yes</th>\n",
       "      <th>D1DRINKIN_No</th>\n",
       "      <th>D1DRINKIN_Yes</th>\n",
       "      <th>MOTORCYCLE_No</th>\n",
       "      <th>MOTORCYCLE_Yes</th>\n",
       "      <th>D1COND_Appeared Normal</th>\n",
       "      <th>D1COND_Fatigue / Sick</th>\n",
       "      <th>D1COND_Unknown</th>\n",
       "    </tr>\n",
       "  </thead>\n",
       "  <tbody>\n",
       "    <tr>\n",
       "      <th>0</th>\n",
       "      <td>0</td>\n",
       "      <td>0</td>\n",
       "      <td>1</td>\n",
       "      <td>1</td>\n",
       "      <td>0</td>\n",
       "      <td>0</td>\n",
       "      <td>1</td>\n",
       "      <td>0</td>\n",
       "      <td>1</td>\n",
       "      <td>0</td>\n",
       "      <td>1</td>\n",
       "      <td>0</td>\n",
       "      <td>1</td>\n",
       "      <td>0</td>\n",
       "      <td>0</td>\n",
       "    </tr>\n",
       "    <tr>\n",
       "      <th>1</th>\n",
       "      <td>0</td>\n",
       "      <td>0</td>\n",
       "      <td>1</td>\n",
       "      <td>0</td>\n",
       "      <td>1</td>\n",
       "      <td>0</td>\n",
       "      <td>1</td>\n",
       "      <td>0</td>\n",
       "      <td>1</td>\n",
       "      <td>0</td>\n",
       "      <td>1</td>\n",
       "      <td>0</td>\n",
       "      <td>0</td>\n",
       "      <td>0</td>\n",
       "      <td>1</td>\n",
       "    </tr>\n",
       "    <tr>\n",
       "      <th>2</th>\n",
       "      <td>0</td>\n",
       "      <td>0</td>\n",
       "      <td>1</td>\n",
       "      <td>1</td>\n",
       "      <td>0</td>\n",
       "      <td>0</td>\n",
       "      <td>1</td>\n",
       "      <td>0</td>\n",
       "      <td>1</td>\n",
       "      <td>0</td>\n",
       "      <td>1</td>\n",
       "      <td>0</td>\n",
       "      <td>1</td>\n",
       "      <td>0</td>\n",
       "      <td>0</td>\n",
       "    </tr>\n",
       "    <tr>\n",
       "      <th>3</th>\n",
       "      <td>0</td>\n",
       "      <td>0</td>\n",
       "      <td>1</td>\n",
       "      <td>0</td>\n",
       "      <td>1</td>\n",
       "      <td>0</td>\n",
       "      <td>1</td>\n",
       "      <td>0</td>\n",
       "      <td>1</td>\n",
       "      <td>0</td>\n",
       "      <td>1</td>\n",
       "      <td>0</td>\n",
       "      <td>1</td>\n",
       "      <td>0</td>\n",
       "      <td>0</td>\n",
       "    </tr>\n",
       "    <tr>\n",
       "      <th>4</th>\n",
       "      <td>0</td>\n",
       "      <td>0</td>\n",
       "      <td>1</td>\n",
       "      <td>0</td>\n",
       "      <td>1</td>\n",
       "      <td>0</td>\n",
       "      <td>1</td>\n",
       "      <td>0</td>\n",
       "      <td>1</td>\n",
       "      <td>0</td>\n",
       "      <td>1</td>\n",
       "      <td>0</td>\n",
       "      <td>1</td>\n",
       "      <td>0</td>\n",
       "      <td>0</td>\n",
       "    </tr>\n",
       "  </tbody>\n",
       "</table>\n",
       "</div>"
      ],
      "text/plain": [
       "   CRASHSEVER_Fatal  CRASHSEVER_Injury  CRASHSEVER_Property Damage Only  \\\n",
       "0                 0                  0                                1   \n",
       "1                 0                  0                                1   \n",
       "2                 0                  0                                1   \n",
       "3                 0                  0                                1   \n",
       "4                 0                  0                                1   \n",
       "\n",
       "   DRIVER1SEX_F  DRIVER1SEX_M  DRIVER1SEX_U  EMRGVEH_No  EMRGVEH_Yes  \\\n",
       "0             1             0             0           1            0   \n",
       "1             0             1             0           1            0   \n",
       "2             1             0             0           1            0   \n",
       "3             0             1             0           1            0   \n",
       "4             0             1             0           1            0   \n",
       "\n",
       "   D1DRINKIN_No  D1DRINKIN_Yes  MOTORCYCLE_No  MOTORCYCLE_Yes  \\\n",
       "0             1              0              1               0   \n",
       "1             1              0              1               0   \n",
       "2             1              0              1               0   \n",
       "3             1              0              1               0   \n",
       "4             1              0              1               0   \n",
       "\n",
       "   D1COND_Appeared Normal  D1COND_Fatigue / Sick  D1COND_Unknown  \n",
       "0                       1                      0               0  \n",
       "1                       0                      0               1  \n",
       "2                       1                      0               0  \n",
       "3                       1                      0               0  \n",
       "4                       1                      0               0  "
      ]
     },
     "execution_count": 141,
     "metadata": {},
     "output_type": "execute_result"
    }
   ],
   "source": [
    "dummies.head()"
   ]
  },
  {
   "cell_type": "code",
   "execution_count": 142,
   "metadata": {},
   "outputs": [
    {
     "name": "stdout",
     "output_type": "stream",
     "text": [
      "<class 'pandas.core.frame.DataFrame'>\n",
      "Int64Index: 72977 entries, 0 to 72976\n",
      "Data columns (total 21 columns):\n",
      "X                                  72977 non-null float64\n",
      "Y                                  72977 non-null float64\n",
      "DRIVER1AGE                         72977 non-null float64\n",
      "NUMOFINJ                           72977 non-null float64\n",
      "HOUR_X                             72977 non-null float64\n",
      "HOUR_Y                             72977 non-null float64\n",
      "CRASHSEVER_Fatal                   72977 non-null uint8\n",
      "CRASHSEVER_Injury                  72977 non-null uint8\n",
      "CRASHSEVER_Property Damage Only    72977 non-null uint8\n",
      "DRIVER1SEX_F                       72977 non-null uint8\n",
      "DRIVER1SEX_M                       72977 non-null uint8\n",
      "DRIVER1SEX_U                       72977 non-null uint8\n",
      "EMRGVEH_No                         72977 non-null uint8\n",
      "EMRGVEH_Yes                        72977 non-null uint8\n",
      "D1DRINKIN_No                       72977 non-null uint8\n",
      "D1DRINKIN_Yes                      72977 non-null uint8\n",
      "MOTORCYCLE_No                      72977 non-null uint8\n",
      "MOTORCYCLE_Yes                     72977 non-null uint8\n",
      "D1COND_Appeared Normal             72977 non-null uint8\n",
      "D1COND_Fatigue / Sick              72977 non-null uint8\n",
      "D1COND_Unknown                     72977 non-null uint8\n",
      "dtypes: float64(6), uint8(15)\n",
      "memory usage: 7.4 MB\n"
     ]
    }
   ],
   "source": [
    "# Drop the column with target variable (HITANDRUN) and the columns for which we created dummy variables\n",
    "X_ = X.drop(['CRASHSEVER', 'DRIVER1SEX', 'D1DRINKIN',\n",
    "                            'EMRGVEH', 'D1COND', \n",
    "                            'MOTORCYCLE'], axis=1)\n",
    "# Define the feature set X.\n",
    "X = pd.concat([X_, dummies], axis=1)\n",
    "X.info()"
   ]
  },
  {
   "cell_type": "code",
   "execution_count": 143,
   "metadata": {},
   "outputs": [],
   "source": [
    "X.to_csv('Data/Analysis2/Crash_X2_prepared.csv', index=False)\n",
    "pd.DataFrame(y).to_csv('Data/Analysis2/Crash_y2.csv', index=False)"
   ]
  },
  {
   "cell_type": "code",
   "execution_count": null,
   "metadata": {},
   "outputs": [],
   "source": []
  }
 ],
 "metadata": {
  "kernelspec": {
   "display_name": "Python 3",
   "language": "python",
   "name": "python3"
  },
  "language_info": {
   "codemirror_mode": {
    "name": "ipython",
    "version": 3
   },
   "file_extension": ".py",
   "mimetype": "text/x-python",
   "name": "python",
   "nbconvert_exporter": "python",
   "pygments_lexer": "ipython3",
   "version": "3.6.3"
  }
 },
 "nbformat": 4,
 "nbformat_minor": 2
}
