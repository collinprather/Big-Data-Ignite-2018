{
 "cells": [
  {
   "cell_type": "markdown",
   "metadata": {
    "slideshow": {
     "slide_type": "slide"
    }
   },
   "source": [
    "# Machine Learning from Scratch (Applied)\n",
    "### *Collin Prather*\n",
    "\n",
    "This is the command I need:\n",
    "\n",
    "``jupyter nbconvert slides.ipynb --to slides --post serve``\n",
    "\n",
    "make sure to ``cd`` first"
   ]
  },
  {
   "cell_type": "markdown",
   "metadata": {
    "slideshow": {
     "slide_type": "slide"
    }
   },
   "source": [
    "## Presentation Outline\n",
    "\n",
    "#### (try to find a way to have these as a header of some sort on each slide)\n",
    "\n",
    "1. ML Overview\n",
    "2. Steps in ML Process\n",
    "3. SVM's"
   ]
  },
  {
   "cell_type": "markdown",
   "metadata": {
    "slideshow": {
     "slide_type": "slide"
    }
   },
   "source": [
    "## Steps in the ML Process\n",
    "* [this](https://towardsdatascience.com/the-7-steps-of-machine-learning-2877d7e5548e) is a good place to start with identifying the steps in the ML process\n",
    "* also use Ng's ML Yearning\n",
    "### Step 0: Identify the Problem"
   ]
  },
  {
   "cell_type": "markdown",
   "metadata": {
    "slideshow": {
     "slide_type": "slide"
    }
   },
   "source": [
    "## Steps in the ML Process\n",
    "### Step 1: Get the Data\n",
    "\n",
    "* SQL query\n",
    "* CSV download\n",
    "* web-scraping\n",
    "* collecting data yourself"
   ]
  },
  {
   "cell_type": "markdown",
   "metadata": {
    "slideshow": {
     "slide_type": "slide"
    }
   },
   "source": [
    "## Steps in the ML Process\n",
    "### Step 2: Data Preparation/Data Exploration\n",
    "\n",
    "* These are inherently different steps (requiring different tools/skillsets) but are so closely related that it's hard to separate the two\n",
    "* feature engineering\n",
    "    * define what it is\n",
    "    * give some motivation for it's importance (the data is the most crucial part of of ML!)(garbage in, garbage out)\n",
    "    * Give some examples and difficulties\n",
    "        * encoding categorical variables\n",
    "        * scaling \n",
    "        * how to deal with missing data (go over how I handled missing ages)\n",
    "        * examples of creating new features\n",
    "            * Sometimes you can use your data to make new feautres that summarize\n",
    "            * sometimes you can use your data to make new features that better model reality\n",
    "                * example with projecting the 1-d hours feature in 2-d space"
   ]
  },
  {
   "cell_type": "markdown",
   "metadata": {
    "slideshow": {
     "slide_type": "slide"
    }
   },
   "source": [
    "# Steps in the ML Process\n",
    "## Step 3a: Model Selection\n",
    "\n",
    "* usually takes some trial and error\n",
    "* talk through the process of selecting a model\n",
    "\n",
    "| :Common ML Algos:                                   |\n",
    "|:--------------------------:  | :----------------:   |\n",
    "| **Classification**           | **Regression**       |\n",
    "| Logistic Regression          | Linear Regression    |\n",
    "| Linear Discriminant Analysis | Ridge Regression     |\n",
    "| $\\vdots$                     |        $\\vdots$      |\n",
    "\n",
    "* talk through the process of training a model\n",
    "* "
   ]
  },
  {
   "cell_type": "markdown",
   "metadata": {
    "slideshow": {
     "slide_type": "slide"
    }
   },
   "source": [
    "# Steps in the ML Process\n",
    "## Step 3b: Cross-Validation/Hyper-parameter tuning\n",
    "\n",
    "* usually takes some trial and error\n",
    "* testing\n",
    "* making predictions"
   ]
  },
  {
   "cell_type": "markdown",
   "metadata": {
    "slideshow": {
     "slide_type": "slide"
    }
   },
   "source": [
    "If you're in a kaggle comp -- you're done here. If you're deploying this into an app, there are some further steps\n",
    "\n",
    "(maybe make a step 4 Containerization, using tools like kubernetes/docker?)"
   ]
  },
  {
   "cell_type": "code",
   "execution_count": 2,
   "metadata": {
    "slideshow": {
     "slide_type": "skip"
    }
   },
   "outputs": [],
   "source": [
    "import ipywidgets as widgets\n",
    "\n",
    "import numpy as np\n",
    "import matplotlib.pyplot as plt\n",
    "from sklearn.datasets import make_blobs\n",
    "from sklearn.svm import SVC\n",
    "%matplotlib inline\n",
    "\n",
    "\n",
    "def plot_data_and_separating_hyperplane():\n",
    "    num = np.random.randint(1,1000)\n",
    "    X, y = make_blobs(n_samples=100, centers=2, n_features=2, random_state=num)\n",
    "    \n",
    "    plt.scatter(X[:,0], X[:,1], c=y, cmap = 'jet')\n",
    "    # Create support vector classifier\n",
    "    svc = SVC(kernel='linear')\n",
    "    # Train model\n",
    "    clf = svc.fit(X, y)\n",
    "    # Get x and y lims\n",
    "    ax_1 = plt.gca()\n",
    "    xlim = ax_1.get_xlim()\n",
    "    ylim = ax_1.get_ylim()\n",
    "\n",
    "    # get the separating hyperplane\n",
    "    w = clf.coef_[0]\n",
    "    a = -w[0] / w[1]\n",
    "    xx = np.linspace(xlim[0], xlim[1], 100)\n",
    "    yy = a * xx - (clf.intercept_[0]) / w[1]\n",
    "\n",
    "    # plot optimal separating hyperplane\n",
    "    plt.plot(xx, yy, 'k-')\n",
    "    plt.show()"
   ]
  },
  {
   "cell_type": "code",
   "execution_count": 3,
   "metadata": {
    "slideshow": {
     "slide_type": "slide"
    }
   },
   "outputs": [
    {
     "data": {
      "application/vnd.jupyter.widget-view+json": {
       "model_id": "ab33002283974a7cbbf75bc6c4a0da36",
       "version_major": 2,
       "version_minor": 0
      },
      "text/plain": [
       "VBox(children=(Output(), Button(description='Generate new data!', style=ButtonStyle())))"
      ]
     },
     "metadata": {},
     "output_type": "display_data"
    }
   ],
   "source": [
    "button = widgets.Button(description = 'Generate new data!')\n",
    "out = widgets.Output()\n",
    "\n",
    "def on_button_clicked(b):\n",
    "    with out:\n",
    "        plot_data_and_separating_hyperplane()\n",
    "        out.clear_output(wait=True)\n",
    "        \n",
    "\n",
    "button.on_click(on_button_clicked)\n",
    "button.on_displayed(on_button_clicked)\n",
    "widgets.VBox([out, button])"
   ]
  },
  {
   "cell_type": "code",
   "execution_count": null,
   "metadata": {},
   "outputs": [],
   "source": []
  }
 ],
 "metadata": {
  "kernelspec": {
   "display_name": "Python 3",
   "language": "python",
   "name": "python3"
  },
  "language_info": {
   "codemirror_mode": {
    "name": "ipython",
    "version": 3
   },
   "file_extension": ".py",
   "mimetype": "text/x-python",
   "name": "python",
   "nbconvert_exporter": "python",
   "pygments_lexer": "ipython3",
   "version": "3.6.3"
  }
 },
 "nbformat": 4,
 "nbformat_minor": 2
}
