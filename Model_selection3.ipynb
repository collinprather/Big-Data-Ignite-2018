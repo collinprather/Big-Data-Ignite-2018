{
 "cells": [
  {
   "cell_type": "code",
   "execution_count": 1,
   "metadata": {},
   "outputs": [],
   "source": [
    "import numpy as np\n",
    "import pandas as pd\n",
    "import matplotlib.pyplot as plt\n",
    "%matplotlib inline\n",
    "\n",
    "from sklearn.svm import SVC\n",
    "from sklearn.linear_model import SGDClassifier, LogisticRegression\n",
    "from sklearn.model_selection import train_test_split, cross_validate, GridSearchCV\n",
    "\n",
    "from sklearn.metrics import confusion_matrix, classification_report, precision_score, roc_curve, auc"
   ]
  },
  {
   "cell_type": "code",
   "execution_count": 2,
   "metadata": {},
   "outputs": [],
   "source": [
    "# Consider adding different features to the data? Tailored for HITANDRUN?\n",
    "# Tinker with the 'C' parameter in SVM"
   ]
  },
  {
   "cell_type": "code",
   "execution_count": 16,
   "metadata": {},
   "outputs": [],
   "source": [
    "X = pd.read_csv('Data/Analysis2/Crash_X3_prepared.csv')\n",
    "y = pd.read_csv('Data/Analysis2/Crash_y3.csv')"
   ]
  },
  {
   "cell_type": "code",
   "execution_count": 22,
   "metadata": {},
   "outputs": [
    {
     "ename": "ValueError",
     "evalue": "object too deep for desired array",
     "output_type": "error",
     "traceback": [
      "\u001b[0;31m---------------------------------------------------------------------------\u001b[0m",
      "\u001b[0;31mValueError\u001b[0m                                Traceback (most recent call last)",
      "\u001b[0;32m<ipython-input-22-b541edd22b79>\u001b[0m in \u001b[0;36m<module>\u001b[0;34m()\u001b[0m\n\u001b[1;32m      2\u001b[0m \u001b[0mn_samples\u001b[0m \u001b[0;34m=\u001b[0m \u001b[0mlen\u001b[0m\u001b[0;34m(\u001b[0m\u001b[0mX\u001b[0m\u001b[0;34m)\u001b[0m\u001b[0;34m\u001b[0m\u001b[0m\n\u001b[1;32m      3\u001b[0m \u001b[0mn_classes\u001b[0m \u001b[0;34m=\u001b[0m \u001b[0;36m2\u001b[0m\u001b[0;34m\u001b[0m\u001b[0m\n\u001b[0;32m----> 4\u001b[0;31m \u001b[0mclass_weights\u001b[0m \u001b[0;34m=\u001b[0m \u001b[0mn_samples\u001b[0m \u001b[0;34m/\u001b[0m \u001b[0;34m(\u001b[0m\u001b[0mn_classes\u001b[0m \u001b[0;34m*\u001b[0m \u001b[0mnp\u001b[0m\u001b[0;34m.\u001b[0m\u001b[0mbincount\u001b[0m\u001b[0;34m(\u001b[0m\u001b[0my\u001b[0m\u001b[0;34m)\u001b[0m\u001b[0;34m)\u001b[0m\u001b[0;34m\u001b[0m\u001b[0m\n\u001b[0m\u001b[1;32m      5\u001b[0m \u001b[0mprint\u001b[0m\u001b[0;34m(\u001b[0m\u001b[0;34m'class weight for 0 is:'\u001b[0m\u001b[0;34m,\u001b[0m \u001b[0mclass_weights\u001b[0m\u001b[0;34m[\u001b[0m\u001b[0;36m0\u001b[0m\u001b[0;34m]\u001b[0m\u001b[0;34m)\u001b[0m\u001b[0;34m\u001b[0m\u001b[0m\n\u001b[1;32m      6\u001b[0m \u001b[0mprint\u001b[0m\u001b[0;34m(\u001b[0m\u001b[0;34m'class weight for 1 is:'\u001b[0m\u001b[0;34m,\u001b[0m \u001b[0mclass_weights\u001b[0m\u001b[0;34m[\u001b[0m\u001b[0;36m1\u001b[0m\u001b[0;34m]\u001b[0m\u001b[0;34m)\u001b[0m\u001b[0;34m\u001b[0m\u001b[0m\n",
      "\u001b[0;31mValueError\u001b[0m: object too deep for desired array"
     ]
    }
   ],
   "source": [
    "# Class weights\n",
    "n_samples = len(X)\n",
    "n_classes = 2\n",
    "class_weights = n_samples / (n_classes * np.bincount(y))\n",
    "print('class weight for 0 is:', class_weights[0])\n",
    "print('class weight for 1 is:', class_weights[1])"
   ]
  },
  {
   "cell_type": "code",
   "execution_count": 182,
   "metadata": {},
   "outputs": [
    {
     "data": {
      "text/plain": [
       "array([57308, 15669])"
      ]
     },
     "execution_count": 182,
     "metadata": {},
     "output_type": "execute_result"
    }
   ],
   "source": [
    "np.bincount(y)"
   ]
  },
  {
   "cell_type": "code",
   "execution_count": 17,
   "metadata": {},
   "outputs": [],
   "source": [
    "X_train, X_test, y_train, y_test = train_test_split(X, y, test_size=0.33, random_state=1)"
   ]
  },
  {
   "cell_type": "markdown",
   "metadata": {},
   "source": [
    "* Since very unbalanced, [this stack exchange](https://stats.stackexchange.com/questions/94295/svm-for-unbalanced-data) should help\n",
    "* Looks like [this](http://scikit-learn.org/stable/auto_examples/svm/plot_separating_hyperplane_unbalanced.html), using [Stochastic Gradient Descent](http://scikit-learn.org/stable/modules/generated/sklearn.linear_model.SGDClassifier.html) is our scikit learn option\n",
    "* Here's [Scikit Learn's full SVM Documentation and explanations](http://scikit-learn.org/stable/modules/svm.html)"
   ]
  },
  {
   "cell_type": "code",
   "execution_count": 25,
   "metadata": {},
   "outputs": [
    {
     "data": {
      "text/plain": [
       "SVC(C=1.0, cache_size=200, class_weight='balanced', coef0=0.0,\n",
       "  decision_function_shape='ovr', degree=3, gamma='auto', kernel='linear',\n",
       "  max_iter=-1, probability=False, random_state=None, shrinking=True,\n",
       "  tol=0.001, verbose=False)"
      ]
     },
     "execution_count": 25,
     "metadata": {},
     "output_type": "execute_result"
    }
   ],
   "source": [
    "# Fit the SVM model\n",
    "clf = SVC(kernel='linear')\n",
    "clf.fit(X_train, y_train.values.ravel())"
   ]
  },
  {
   "cell_type": "code",
   "execution_count": 26,
   "metadata": {},
   "outputs": [
    {
     "data": {
      "text/plain": [
       "array([[-0.00422098, -0.00338521, -0.65904365,  0.00406982,  0.00300241,\n",
       "         0.04646664,  1.97781574,  0.02891363,  0.01411597, -0.02968321,\n",
       "         0.07941554,  0.00948236, -0.00299113, -2.03266516, -1.84939238]])"
      ]
     },
     "execution_count": 26,
     "metadata": {},
     "output_type": "execute_result"
    }
   ],
   "source": [
    "clf.coef_"
   ]
  },
  {
   "cell_type": "markdown",
   "metadata": {},
   "source": [
    "* Here are [metric options](https://towardsdatascience.com/what-metrics-should-we-use-on-imbalanced-data-set-precision-recall-roc-e2e79252aeba) for unbalanced classification problems like this one According to that article, precision is the best metric in our case."
   ]
  },
  {
   "cell_type": "code",
   "execution_count": 27,
   "metadata": {},
   "outputs": [
    {
     "name": "stdout",
     "output_type": "stream",
     "text": [
      "             precision    recall  f1-score   support\n",
      "\n",
      "          0       0.99      0.93      0.96     22991\n",
      "          1       0.36      0.78      0.49      1092\n",
      "\n",
      "avg / total       0.96      0.93      0.94     24083\n",
      "\n"
     ]
    }
   ],
   "source": [
    "y_pred = clf.predict(X_test)\n",
    "print(classification_report(y_test, y_pred))"
   ]
  },
  {
   "cell_type": "code",
   "execution_count": 28,
   "metadata": {},
   "outputs": [
    {
     "name": "stdout",
     "output_type": "stream",
     "text": [
      "True negatives: 21468\n",
      "True positives: 857\n",
      "False negatives: 235\n",
      "False Positives: 1523\n"
     ]
    }
   ],
   "source": [
    "tn, fp, fn, tp = confusion_matrix(y_test, y_pred).ravel()\n",
    "print('True negatives:', tn)\n",
    "print('True positives:', tp)\n",
    "print('False negatives:', fn)\n",
    "print('False Positives:', fp)"
   ]
  },
  {
   "cell_type": "code",
   "execution_count": 11,
   "metadata": {},
   "outputs": [
    {
     "data": {
      "text/plain": [
       "array([[22611,   380],\n",
       "       [  405,   687]])"
      ]
     },
     "execution_count": 11,
     "metadata": {},
     "output_type": "execute_result"
    }
   ],
   "source": [
    "confusion_matrix(y_test, y_pred)"
   ]
  },
  {
   "cell_type": "code",
   "execution_count": 12,
   "metadata": {},
   "outputs": [
    {
     "data": {
      "image/png": "[encoded data removed]",
      "text/plain": [
       "<matplotlib.figure.Figure at 0x1a1599bb00>"
      ]
     },
     "metadata": {},
     "output_type": "display_data"
    }
   ],
   "source": [
    "y_score = clf.decision_function(X_test)\n",
    "\n",
    "# Compute ROC curve and ROC area for each class\n",
    "fpr, tpr, thresholds = roc_curve(y_test, y_score)\n",
    "roc_auc = auc(fpr, tpr)\n",
    "\n",
    "# Plotting the ROC curve\n",
    "plt.figure()\n",
    "lw = 2\n",
    "plt.plot(fpr, tpr, color='darkorange',\n",
    "         lw=lw, label='ROC curve (area = %0.2f)' % roc_auc)\n",
    "plt.plot([0, 1], [0, 1], color='navy', lw=lw, linestyle='--')\n",
    "plt.xlim([0.0, 1.0])\n",
    "plt.ylim([0.0, 1.05])\n",
    "plt.xlabel('False Positive Rate')\n",
    "plt.ylabel('True Positive Rate')\n",
    "plt.title('ROC Curve')\n",
    "plt.legend(loc=\"lower right\")\n",
    "plt.show()"
   ]
  },
  {
   "cell_type": "markdown",
   "metadata": {},
   "source": [
    "### Cross-Validation"
   ]
  },
  {
   "cell_type": "code",
   "execution_count": 59,
   "metadata": {},
   "outputs": [],
   "source": [
    "clf = SVC(kernel='linear')\n",
    "cv_results = cross_validate(clf, X, y.values.ravel(), return_train_score=False, cv=5, scoring = ['precision', 'recall', 'roc_auc'])"
   ]
  },
  {
   "cell_type": "code",
   "execution_count": 60,
   "metadata": {},
   "outputs": [
    {
     "data": {
      "text/plain": [
       "dict_keys(['fit_time', 'score_time', 'test_precision', 'test_recall', 'test_roc_auc'])"
      ]
     },
     "execution_count": 60,
     "metadata": {},
     "output_type": "execute_result"
    }
   ],
   "source": [
    "cv_results.keys()"
   ]
  },
  {
   "cell_type": "code",
   "execution_count": 61,
   "metadata": {},
   "outputs": [
    {
     "name": "stdout",
     "output_type": "stream",
     "text": [
      "Using cross-validation:\n",
      "The fit_time was: [ 45.39114285  45.61735773  50.71426201  44.16301799  49.56031179]\n",
      "The score_time was: [ 16.58702612  13.40687537  13.37206793  13.13113308  14.74525309]\n",
      "The test_precision was: [ 0.90909091  0.90755735  0.88997214  0.87054161  0.86648685]\n",
      "The test_recall was: [ 0.4275686   0.42916401  0.40778558  0.42054882  0.41015002]\n",
      "The test_roc_auc was: [ 0.80989573  0.7989994   0.79821036  0.79120528  0.78035172]\n"
     ]
    }
   ],
   "source": [
    "print('Using cross-validation:')\n",
    "for i in cv_results.keys():\n",
    "    print('The', i, 'was:', cv_results[i])"
   ]
  },
  {
   "cell_type": "code",
   "execution_count": 120,
   "metadata": {},
   "outputs": [],
   "source": [
    "clf = SVC(kernel='linear')\n",
    "params = {'C': 1}\n",
    "cv_clf = GridSearchCV(estimator = clf, param_grid = params, cv=5, scoring = 'precision')"
   ]
  },
  {
   "cell_type": "code",
   "execution_count": 121,
   "metadata": {},
   "outputs": [
    {
     "data": {
      "text/plain": [
       "GridSearchCV(cv=5, error_score='raise',\n",
       "       estimator=SVC(C=1.0, cache_size=200, class_weight=None, coef0=0.0,\n",
       "  decision_function_shape='ovr', degree=3, gamma='auto', kernel='linear',\n",
       "  max_iter=-1, probability=False, random_state=None, shrinking=True,\n",
       "  tol=0.001, verbose=False),\n",
       "       fit_params=None, iid=True, n_jobs=1,\n",
       "       param_grid={'C': array([  1.00000e+01,   1.00000e+00,   1.00000e-01,   1.00000e-02,\n",
       "         1.00000e-03])},\n",
       "       pre_dispatch='2*n_jobs', refit=True, return_train_score='warn',\n",
       "       scoring='precision', verbose=0)"
      ]
     },
     "execution_count": 121,
     "metadata": {},
     "output_type": "execute_result"
    }
   ],
   "source": [
    "cv_clf.fit(X_train, y_train.values.ravel())"
   ]
  },
  {
   "cell_type": "code",
   "execution_count": 123,
   "metadata": {},
   "outputs": [
    {
     "name": "stdout",
     "output_type": "stream",
     "text": [
      "             precision    recall  f1-score   support\n",
      "\n",
      "          0       0.86      0.99      0.92     18944\n",
      "          1       0.89      0.42      0.57      5139\n",
      "\n",
      "avg / total       0.87      0.86      0.84     24083\n",
      "\n"
     ]
    }
   ],
   "source": [
    "y_pred = cv_clf.predict(X_test)\n",
    "print(classification_report(y_test, y_pred))"
   ]
  },
  {
   "cell_type": "code",
   "execution_count": 124,
   "metadata": {},
   "outputs": [
    {
     "data": {
      "text/plain": [
       "array([[18679,   265],\n",
       "       [ 3003,  2136]])"
      ]
     },
     "execution_count": 124,
     "metadata": {},
     "output_type": "execute_result"
    }
   ],
   "source": [
    "confusion_matrix(y_test, y_pred)"
   ]
  },
  {
   "cell_type": "code",
   "execution_count": 125,
   "metadata": {},
   "outputs": [
    {
     "data": {
      "image/png": "[encoded data removed]",
      "text/plain": [
       "<matplotlib.figure.Figure at 0x10d2a7940>"
      ]
     },
     "metadata": {},
     "output_type": "display_data"
    }
   ],
   "source": [
    "y_score = cv_clf.decision_function(X_test)\n",
    "\n",
    "# Compute ROC curve and ROC area for each class\n",
    "fpr, tpr, thresholds = roc_curve(y_test, y_score)\n",
    "roc_auc = auc(fpr, tpr)\n",
    "\n",
    "# Plotting the ROC curve\n",
    "plt.figure()\n",
    "lw = 2\n",
    "plt.plot(fpr, tpr, color='darkorange',\n",
    "         lw=lw, label='ROC curve (area = %0.2f)' % roc_auc)\n",
    "plt.plot([0, 1], [0, 1], color='navy', lw=lw, linestyle='--')\n",
    "plt.xlim([0.0, 1.0])\n",
    "plt.ylim([0.0, 1.05])\n",
    "plt.xlabel('False Positive Rate')\n",
    "plt.ylabel('True Positive Rate')\n",
    "plt.title('ROC Curve')\n",
    "plt.legend(loc=\"lower right\")\n",
    "plt.show()"
   ]
  },
  {
   "cell_type": "markdown",
   "metadata": {},
   "source": [
    "---"
   ]
  },
  {
   "cell_type": "code",
   "execution_count": 16,
   "metadata": {},
   "outputs": [
    {
     "data": {
      "text/plain": [
       "SVC(C=1.0, cache_size=200, class_weight='balanced', coef0=0.0,\n",
       "  decision_function_shape='ovr', degree=3, gamma='auto', kernel='linear',\n",
       "  max_iter=-1, probability=False, random_state=None, shrinking=True,\n",
       "  tol=0.001, verbose=False)"
      ]
     },
     "execution_count": 16,
     "metadata": {},
     "output_type": "execute_result"
    }
   ],
   "source": [
    "# fit the model and get the separating hyperplane using weighted classes\n",
    "wclf = SVC(kernel='linear', class_weight='balanced')\n",
    "wclf.fit(X_train, y_train.values.ravel())"
   ]
  },
  {
   "cell_type": "code",
   "execution_count": 17,
   "metadata": {},
   "outputs": [
    {
     "data": {
      "text/plain": [
       "array([[17020,  1868],\n",
       "       [ 1859,  3336]])"
      ]
     },
     "execution_count": 17,
     "metadata": {},
     "output_type": "execute_result"
    }
   ],
   "source": [
    "y_pred = wclf.predict(X_test)\n",
    "confusion_matrix(y_test, y_pred)"
   ]
  },
  {
   "cell_type": "code",
   "execution_count": 18,
   "metadata": {},
   "outputs": [
    {
     "name": "stdout",
     "output_type": "stream",
     "text": [
      "             precision    recall  f1-score   support\n",
      "\n",
      "          0       0.90      0.90      0.90     18888\n",
      "          1       0.64      0.64      0.64      5195\n",
      "\n",
      "avg / total       0.85      0.85      0.85     24083\n",
      "\n"
     ]
    }
   ],
   "source": [
    "print(classification_report(y_test, y_pred))"
   ]
  },
  {
   "cell_type": "code",
   "execution_count": 19,
   "metadata": {},
   "outputs": [
    {
     "data": {
      "image/png": "[encoded data removed]",
      "text/plain": [
       "<matplotlib.figure.Figure at 0x10bdc1828>"
      ]
     },
     "metadata": {},
     "output_type": "display_data"
    }
   ],
   "source": [
    "y_score = wclf.decision_function(X_test)\n",
    "\n",
    "# Compute ROC curve and ROC area for each class\n",
    "fpr, tpr, thresholds = roc_curve(y_test, y_score)\n",
    "roc_auc = auc(fpr, tpr)\n",
    "\n",
    "# Plotting the ROC curve\n",
    "plt.figure()\n",
    "lw = 2\n",
    "plt.plot(fpr, tpr, color='darkorange',\n",
    "         lw=lw, label='ROC curve (area = %0.2f)' % roc_auc)\n",
    "plt.plot([0, 1], [0, 1], color='navy', lw=lw, linestyle='--')\n",
    "plt.xlim([0.0, 1.0])\n",
    "plt.ylim([0.0, 1.05])\n",
    "plt.xlabel('False Positive Rate')\n",
    "plt.ylabel('True Positive Rate')\n",
    "plt.title('ROC Curve')\n",
    "plt.legend(loc=\"lower right\")\n",
    "plt.show()"
   ]
  },
  {
   "cell_type": "markdown",
   "metadata": {},
   "source": [
    "---"
   ]
  },
  {
   "cell_type": "code",
   "execution_count": 30,
   "metadata": {},
   "outputs": [
    {
     "data": {
      "text/plain": [
       "LogisticRegression(C=0.1, class_weight=None, dual=False, fit_intercept=True,\n",
       "          intercept_scaling=1, max_iter=100, multi_class='ovr', n_jobs=1,\n",
       "          penalty='l2', random_state=None, solver='liblinear', tol=0.0001,\n",
       "          verbose=0, warm_start=False)"
      ]
     },
     "execution_count": 30,
     "metadata": {},
     "output_type": "execute_result"
    }
   ],
   "source": [
    "clf = LogisticRegression(C=.1)\n",
    "clf.fit(X_train, y_train.values.ravel())"
   ]
  },
  {
   "cell_type": "code",
   "execution_count": 31,
   "metadata": {},
   "outputs": [
    {
     "name": "stdout",
     "output_type": "stream",
     "text": [
      "             precision    recall  f1-score   support\n",
      "\n",
      "          0       0.88      0.97      0.92     18888\n",
      "          1       0.82      0.51      0.63      5195\n",
      "\n",
      "avg / total       0.87      0.87      0.86     24083\n",
      "\n"
     ]
    }
   ],
   "source": [
    "y_pred = clf.predict(X_test)\n",
    "print(classification_report(y_test, y_pred))"
   ]
  },
  {
   "cell_type": "code",
   "execution_count": 32,
   "metadata": {},
   "outputs": [
    {
     "data": {
      "text/plain": [
       "array([[18311,   577],\n",
       "       [ 2546,  2649]])"
      ]
     },
     "execution_count": 32,
     "metadata": {},
     "output_type": "execute_result"
    }
   ],
   "source": [
    "confusion_matrix(y_test, y_pred)\n",
    "# Diagonals are correct\n",
    "# Top right is false positives\n",
    "# Bottom left is false negatives"
   ]
  },
  {
   "cell_type": "code",
   "execution_count": 33,
   "metadata": {},
   "outputs": [
    {
     "data": {
      "image/png": "[encoded data removed]",
      "text/plain": [
       "<matplotlib.figure.Figure at 0x108d17cc0>"
      ]
     },
     "metadata": {},
     "output_type": "display_data"
    }
   ],
   "source": [
    "y_score = clf.decision_function(X_test)\n",
    "\n",
    "# Compute ROC curve and ROC area for each class\n",
    "fpr, tpr, thresholds = roc_curve(y_test, y_score)\n",
    "roc_auc = auc(fpr, tpr)\n",
    "\n",
    "# Plotting the ROC curve\n",
    "plt.figure()\n",
    "lw = 2\n",
    "plt.plot(fpr, tpr, color='darkorange',\n",
    "         lw=lw, label='ROC curve (area = %0.2f)' % roc_auc)\n",
    "plt.plot([0, 1], [0, 1], color='navy', lw=lw, linestyle='--')\n",
    "plt.xlim([0.0, 1.0])\n",
    "plt.ylim([0.0, 1.05])\n",
    "plt.xlabel('False Positive Rate')\n",
    "plt.ylabel('True Positive Rate')\n",
    "plt.title('ROC Curve')\n",
    "plt.legend(loc=\"lower right\")\n",
    "plt.show()"
   ]
  },
  {
   "cell_type": "markdown",
   "metadata": {},
   "source": [
    "---"
   ]
  },
  {
   "cell_type": "code",
   "execution_count": 13,
   "metadata": {},
   "outputs": [],
   "source": [
    "from sklearn import tree\n",
    "import graphviz"
   ]
  },
  {
   "cell_type": "code",
   "execution_count": 14,
   "metadata": {},
   "outputs": [
    {
     "data": {
      "text/plain": [
       "DecisionTreeRegressor(criterion='mse', max_depth=None, max_features=None,\n",
       "           max_leaf_nodes=5, min_impurity_decrease=0.0,\n",
       "           min_impurity_split=None, min_samples_leaf=1,\n",
       "           min_samples_split=2, min_weight_fraction_leaf=0.0,\n",
       "           presort=False, random_state=None, splitter='best')"
      ]
     },
     "execution_count": 14,
     "metadata": {},
     "output_type": "execute_result"
    }
   ],
   "source": [
    "regr = tree.DecisionTreeRegressor(max_leaf_nodes=5)\n",
    "regr.fit(X, y)"
   ]
  },
  {
   "cell_type": "code",
   "execution_count": 29,
   "metadata": {},
   "outputs": [
    {
     "data": {
      "image/svg+xml": [
       "<?xml version=\"1.0\" encoding=\"UTF-8\" standalone=\"no\"?>\n",
       "<!DOCTYPE svg PUBLIC \"-//W3C//DTD SVG 1.1//EN\"\n",
       " \"http://www.w3.org/Graphics/SVG/1.1/DTD/svg11.dtd\">\n",
       "<!-- Generated by graphviz version 2.40.1 (20161225.0304)\n",
       " -->\n",
       "<!-- Title: Tree Pages: 1 -->\n",
       "<svg width=\"364pt\" height=\"511pt\"\n",
       " viewBox=\"0.00 0.00 364.09 511.20\" xmlns=\"http://www.w3.org/2000/svg\" xmlns:xlink=\"http://www.w3.org/1999/xlink\">\n",
       "<g id=\"graph0\" class=\"graph\" transform=\"scale(1 1) rotate(0) translate(4 507.2)\">\n",
       "<title>Tree</title>\n",
       "<polygon fill=\"#ffffff\" stroke=\"transparent\" points=\"-4,4 -4,-507.2 360.0925,-507.2 360.0925,4 -4,4\"/>\n",
       "<!-- 0 -->\n",
       "<g id=\"node1\" class=\"node\">\n",
       "<title>0</title>\n",
       "<path fill=\"#e58139\" fill-opacity=\"0.050980\" stroke=\"#000000\" d=\"M231.0241,-503.3003C231.0241,-503.3003 49.9597,-503.3003 49.9597,-503.3003 43.9597,-503.3003 37.9597,-497.3003 37.9597,-491.3003 37.9597,-491.3003 37.9597,-439.8997 37.9597,-439.8997 37.9597,-433.8997 43.9597,-427.8997 49.9597,-427.8997 49.9597,-427.8997 231.0241,-427.8997 231.0241,-427.8997 237.0241,-427.8997 243.0241,-433.8997 243.0241,-439.8997 243.0241,-439.8997 243.0241,-491.3003 243.0241,-491.3003 243.0241,-497.3003 237.0241,-503.3003 231.0241,-503.3003\"/>\n",
       "<text text-anchor=\"start\" x=\"45.9758\" y=\"-486.6\" font-family=\"Helvetica,sans-Serif\" font-size=\"14.00\" fill=\"#000000\">D1COND_Fatigue / Sick ≤ 0.5</text>\n",
       "<text text-anchor=\"start\" x=\"105.6732\" y=\"-469.8\" font-family=\"Helvetica,sans-Serif\" font-size=\"14.00\" fill=\"#000000\">mse = 0.04</text>\n",
       "<text text-anchor=\"start\" x=\"87\" y=\"-453\" font-family=\"Helvetica,sans-Serif\" font-size=\"14.00\" fill=\"#000000\">samples = 72977</text>\n",
       "<text text-anchor=\"start\" x=\"102.1676\" y=\"-436.2\" font-family=\"Helvetica,sans-Serif\" font-size=\"14.00\" fill=\"#000000\">value = 0.04</text>\n",
       "</g>\n",
       "<!-- 1 -->\n",
       "<g id=\"node2\" class=\"node\">\n",
       "<title>1</title>\n",
       "<path fill=\"transparent\" stroke=\"#000000\" d=\"M110.9757,-383.8014C110.9757,-383.8014 12.0081,-383.8014 12.0081,-383.8014 6.0081,-383.8014 .0081,-377.8014 .0081,-371.8014 .0081,-371.8014 .0081,-336.9986 .0081,-336.9986 .0081,-330.9986 6.0081,-324.9986 12.0081,-324.9986 12.0081,-324.9986 110.9757,-324.9986 110.9757,-324.9986 116.9757,-324.9986 122.9757,-330.9986 122.9757,-336.9986 122.9757,-336.9986 122.9757,-371.8014 122.9757,-371.8014 122.9757,-377.8014 116.9757,-383.8014 110.9757,-383.8014\"/>\n",
       "<text text-anchor=\"start\" x=\"26.6732\" y=\"-367\" font-family=\"Helvetica,sans-Serif\" font-size=\"14.00\" fill=\"#000000\">mse = 0.01</text>\n",
       "<text text-anchor=\"start\" x=\"8\" y=\"-350.2\" font-family=\"Helvetica,sans-Serif\" font-size=\"14.00\" fill=\"#000000\">samples = 57087</text>\n",
       "<text text-anchor=\"start\" x=\"23.1676\" y=\"-333.4\" font-family=\"Helvetica,sans-Serif\" font-size=\"14.00\" fill=\"#000000\">value = 0.01</text>\n",
       "</g>\n",
       "<!-- 0&#45;&gt;1 -->\n",
       "<g id=\"edge1\" class=\"edge\">\n",
       "<title>0&#45;&gt;1</title>\n",
       "<path fill=\"none\" stroke=\"#000000\" d=\"M113.7461,-427.9528C105.5335,-416.3928 96.497,-403.673 88.2815,-392.1089\"/>\n",
       "<polygon fill=\"#000000\" stroke=\"#000000\" points=\"91.1129,-390.051 82.468,-383.9258 85.4063,-394.1051 91.1129,-390.051\"/>\n",
       "<text text-anchor=\"middle\" x=\"78.295\" y=\"-404.3751\" font-family=\"Helvetica,sans-Serif\" font-size=\"14.00\" fill=\"#000000\">True</text>\n",
       "</g>\n",
       "<!-- 2 -->\n",
       "<g id=\"node3\" class=\"node\">\n",
       "<title>2</title>\n",
       "<path fill=\"#e58139\" fill-opacity=\"0.231373\" stroke=\"#000000\" d=\"M285.5199,-392.1003C285.5199,-392.1003 153.4639,-392.1003 153.4639,-392.1003 147.4639,-392.1003 141.4639,-386.1003 141.4639,-380.1003 141.4639,-380.1003 141.4639,-328.6997 141.4639,-328.6997 141.4639,-322.6997 147.4639,-316.6997 153.4639,-316.6997 153.4639,-316.6997 285.5199,-316.6997 285.5199,-316.6997 291.5199,-316.6997 297.5199,-322.6997 297.5199,-328.6997 297.5199,-328.6997 297.5199,-380.1003 297.5199,-380.1003 297.5199,-386.1003 291.5199,-392.1003 285.5199,-392.1003\"/>\n",
       "<text text-anchor=\"start\" x=\"149.4779\" y=\"-375.4\" font-family=\"Helvetica,sans-Serif\" font-size=\"14.00\" fill=\"#000000\">DRIVER1AGE ≤ &#45;0.29</text>\n",
       "<text text-anchor=\"start\" x=\"184.6732\" y=\"-358.6\" font-family=\"Helvetica,sans-Serif\" font-size=\"14.00\" fill=\"#000000\">mse = 0.14</text>\n",
       "<text text-anchor=\"start\" x=\"166\" y=\"-341.8\" font-family=\"Helvetica,sans-Serif\" font-size=\"14.00\" fill=\"#000000\">samples = 15890</text>\n",
       "<text text-anchor=\"start\" x=\"181.1676\" y=\"-325\" font-family=\"Helvetica,sans-Serif\" font-size=\"14.00\" fill=\"#000000\">value = 0.17</text>\n",
       "</g>\n",
       "<!-- 0&#45;&gt;2 -->\n",
       "<g id=\"edge2\" class=\"edge\">\n",
       "<title>0&#45;&gt;2</title>\n",
       "<path fill=\"none\" stroke=\"#000000\" d=\"M167.2377,-427.9528C173.5436,-419.0765 180.3354,-409.5165 186.8683,-400.3209\"/>\n",
       "<polygon fill=\"#000000\" stroke=\"#000000\" points=\"189.8353,-402.1877 192.7736,-392.0085 184.1288,-398.1336 189.8353,-402.1877\"/>\n",
       "<text text-anchor=\"middle\" x=\"196.9467\" y=\"-412.4577\" font-family=\"Helvetica,sans-Serif\" font-size=\"14.00\" fill=\"#000000\">False</text>\n",
       "</g>\n",
       "<!-- 3 -->\n",
       "<g id=\"node4\" class=\"node\">\n",
       "<title>3</title>\n",
       "<path fill=\"#e58139\" fill-opacity=\"0.529412\" stroke=\"#000000\" d=\"M200.4598,-280.9003C200.4598,-280.9003 104.524,-280.9003 104.524,-280.9003 98.524,-280.9003 92.524,-274.9003 92.524,-268.9003 92.524,-268.9003 92.524,-217.4997 92.524,-217.4997 92.524,-211.4997 98.524,-205.4997 104.524,-205.4997 104.524,-205.4997 200.4598,-205.4997 200.4598,-205.4997 206.4598,-205.4997 212.4598,-211.4997 212.4598,-217.4997 212.4598,-217.4997 212.4598,-268.9003 212.4598,-268.9003 212.4598,-274.9003 206.4598,-280.9003 200.4598,-280.9003\"/>\n",
       "<text text-anchor=\"start\" x=\"100.7584\" y=\"-264.2\" font-family=\"Helvetica,sans-Serif\" font-size=\"14.00\" fill=\"#000000\">HOUR_Y ≤ 0.13</text>\n",
       "<text text-anchor=\"start\" x=\"117.6732\" y=\"-247.4\" font-family=\"Helvetica,sans-Serif\" font-size=\"14.00\" fill=\"#000000\">mse = 0.23</text>\n",
       "<text text-anchor=\"start\" x=\"102.8913\" y=\"-230.6\" font-family=\"Helvetica,sans-Serif\" font-size=\"14.00\" fill=\"#000000\">samples = 6705</text>\n",
       "<text text-anchor=\"start\" x=\"114.1676\" y=\"-213.8\" font-family=\"Helvetica,sans-Serif\" font-size=\"14.00\" fill=\"#000000\">value = 0.37</text>\n",
       "</g>\n",
       "<!-- 2&#45;&gt;3 -->\n",
       "<g id=\"edge3\" class=\"edge\">\n",
       "<title>2&#45;&gt;3</title>\n",
       "<path fill=\"none\" stroke=\"#000000\" d=\"M196.8088,-316.7528C191.5152,-307.9671 185.8181,-298.5115 180.3297,-289.4025\"/>\n",
       "<polygon fill=\"#000000\" stroke=\"#000000\" points=\"183.3104,-287.5676 175.1517,-280.8085 177.3146,-291.1802 183.3104,-287.5676\"/>\n",
       "</g>\n",
       "<!-- 4 -->\n",
       "<g id=\"node9\" class=\"node\">\n",
       "<title>4</title>\n",
       "<path fill=\"#e58139\" fill-opacity=\"0.015686\" stroke=\"#000000\" d=\"M333.1933,-272.6014C333.1933,-272.6014 241.7905,-272.6014 241.7905,-272.6014 235.7905,-272.6014 229.7905,-266.6014 229.7905,-260.6014 229.7905,-260.6014 229.7905,-225.7986 229.7905,-225.7986 229.7905,-219.7986 235.7905,-213.7986 241.7905,-213.7986 241.7905,-213.7986 333.1933,-213.7986 333.1933,-213.7986 339.1933,-213.7986 345.1933,-219.7986 345.1933,-225.7986 345.1933,-225.7986 345.1933,-260.6014 345.1933,-260.6014 345.1933,-266.6014 339.1933,-272.6014 333.1933,-272.6014\"/>\n",
       "<text text-anchor=\"start\" x=\"252.6732\" y=\"-255.8\" font-family=\"Helvetica,sans-Serif\" font-size=\"14.00\" fill=\"#000000\">mse = 0.02</text>\n",
       "<text text-anchor=\"start\" x=\"237.8913\" y=\"-239\" font-family=\"Helvetica,sans-Serif\" font-size=\"14.00\" fill=\"#000000\">samples = 9185</text>\n",
       "<text text-anchor=\"start\" x=\"249.1676\" y=\"-222.2\" font-family=\"Helvetica,sans-Serif\" font-size=\"14.00\" fill=\"#000000\">value = 0.02</text>\n",
       "</g>\n",
       "<!-- 2&#45;&gt;4 -->\n",
       "<g id=\"edge8\" class=\"edge\">\n",
       "<title>2&#45;&gt;4</title>\n",
       "<path fill=\"none\" stroke=\"#000000\" d=\"M242.5136,-316.7528C249.4454,-305.4173 257.0591,-292.9665 264.0198,-281.5838\"/>\n",
       "<polygon fill=\"#000000\" stroke=\"#000000\" points=\"267.2055,-283.0831 269.4365,-272.7258 261.2335,-279.4312 267.2055,-283.0831\"/>\n",
       "</g>\n",
       "<!-- 5 -->\n",
       "<g id=\"node5\" class=\"node\">\n",
       "<title>5</title>\n",
       "<path fill=\"#e58139\" fill-opacity=\"0.149020\" stroke=\"#000000\" d=\"M119.1933,-161.4014C119.1933,-161.4014 27.7905,-161.4014 27.7905,-161.4014 21.7905,-161.4014 15.7905,-155.4014 15.7905,-149.4014 15.7905,-149.4014 15.7905,-114.5986 15.7905,-114.5986 15.7905,-108.5986 21.7905,-102.5986 27.7905,-102.5986 27.7905,-102.5986 119.1933,-102.5986 119.1933,-102.5986 125.1933,-102.5986 131.1933,-108.5986 131.1933,-114.5986 131.1933,-114.5986 131.1933,-149.4014 131.1933,-149.4014 131.1933,-155.4014 125.1933,-161.4014 119.1933,-161.4014\"/>\n",
       "<text text-anchor=\"start\" x=\"42.5645\" y=\"-144.6\" font-family=\"Helvetica,sans-Serif\" font-size=\"14.00\" fill=\"#000000\">mse = 0.1</text>\n",
       "<text text-anchor=\"start\" x=\"23.8913\" y=\"-127.8\" font-family=\"Helvetica,sans-Serif\" font-size=\"14.00\" fill=\"#000000\">samples = 3141</text>\n",
       "<text text-anchor=\"start\" x=\"35.1676\" y=\"-111\" font-family=\"Helvetica,sans-Serif\" font-size=\"14.00\" fill=\"#000000\">value = 0.11</text>\n",
       "</g>\n",
       "<!-- 3&#45;&gt;5 -->\n",
       "<g id=\"edge4\" class=\"edge\">\n",
       "<title>3&#45;&gt;5</title>\n",
       "<path fill=\"none\" stroke=\"#000000\" d=\"M125.7461,-205.5528C117.5335,-193.9928 108.497,-181.273 100.2815,-169.7089\"/>\n",
       "<polygon fill=\"#000000\" stroke=\"#000000\" points=\"103.1129,-167.651 94.468,-161.5258 97.4063,-171.7051 103.1129,-167.651\"/>\n",
       "</g>\n",
       "<!-- 6 -->\n",
       "<g id=\"node6\" class=\"node\">\n",
       "<title>6</title>\n",
       "<path fill=\"#e58139\" fill-opacity=\"0.866667\" stroke=\"#000000\" d=\"M304.1682,-169.7003C304.1682,-169.7003 160.8156,-169.7003 160.8156,-169.7003 154.8156,-169.7003 148.8156,-163.7003 148.8156,-157.7003 148.8156,-157.7003 148.8156,-106.2997 148.8156,-106.2997 148.8156,-100.2997 154.8156,-94.2997 160.8156,-94.2997 160.8156,-94.2997 304.1682,-94.2997 304.1682,-94.2997 310.1682,-94.2997 316.1682,-100.2997 316.1682,-106.2997 316.1682,-106.2997 316.1682,-157.7003 316.1682,-157.7003 316.1682,-163.7003 310.1682,-169.7003 304.1682,-169.7003\"/>\n",
       "<text text-anchor=\"start\" x=\"156.6539\" y=\"-153\" font-family=\"Helvetica,sans-Serif\" font-size=\"14.00\" fill=\"#000000\">HITANDRUN_Yes ≤ 0.5</text>\n",
       "<text text-anchor=\"start\" x=\"197.6732\" y=\"-136.2\" font-family=\"Helvetica,sans-Serif\" font-size=\"14.00\" fill=\"#000000\">mse = 0.24</text>\n",
       "<text text-anchor=\"start\" x=\"182.8913\" y=\"-119.4\" font-family=\"Helvetica,sans-Serif\" font-size=\"14.00\" fill=\"#000000\">samples = 3564</text>\n",
       "<text text-anchor=\"start\" x=\"198.0589\" y=\"-102.6\" font-family=\"Helvetica,sans-Serif\" font-size=\"14.00\" fill=\"#000000\">value = 0.6</text>\n",
       "</g>\n",
       "<!-- 3&#45;&gt;6 -->\n",
       "<g id=\"edge5\" class=\"edge\">\n",
       "<title>3&#45;&gt;6</title>\n",
       "<path fill=\"none\" stroke=\"#000000\" d=\"M179.5763,-205.5528C185.962,-196.6765 192.8398,-187.1165 199.4553,-177.9209\"/>\n",
       "<polygon fill=\"#000000\" stroke=\"#000000\" points=\"202.4366,-179.7701 205.4354,-169.6085 196.7543,-175.6821 202.4366,-179.7701\"/>\n",
       "</g>\n",
       "<!-- 7 -->\n",
       "<g id=\"node7\" class=\"node\">\n",
       "<title>7</title>\n",
       "<path fill=\"#e58139\" stroke=\"#000000\" d=\"M211.1933,-58.6014C211.1933,-58.6014 119.7905,-58.6014 119.7905,-58.6014 113.7905,-58.6014 107.7905,-52.6014 107.7905,-46.6014 107.7905,-46.6014 107.7905,-11.7986 107.7905,-11.7986 107.7905,-5.7986 113.7905,.2014 119.7905,.2014 119.7905,.2014 211.1933,.2014 211.1933,.2014 217.1933,.2014 223.1933,-5.7986 223.1933,-11.7986 223.1933,-11.7986 223.1933,-46.6014 223.1933,-46.6014 223.1933,-52.6014 217.1933,-58.6014 211.1933,-58.6014\"/>\n",
       "<text text-anchor=\"start\" x=\"130.6732\" y=\"-41.8\" font-family=\"Helvetica,sans-Serif\" font-size=\"14.00\" fill=\"#000000\">mse = 0.21</text>\n",
       "<text text-anchor=\"start\" x=\"115.8913\" y=\"-25\" font-family=\"Helvetica,sans-Serif\" font-size=\"14.00\" fill=\"#000000\">samples = 2212</text>\n",
       "<text text-anchor=\"start\" x=\"127.1676\" y=\"-8.2\" font-family=\"Helvetica,sans-Serif\" font-size=\"14.00\" fill=\"#000000\">value = 0.69</text>\n",
       "</g>\n",
       "<!-- 6&#45;&gt;7 -->\n",
       "<g id=\"edge6\" class=\"edge\">\n",
       "<title>6&#45;&gt;7</title>\n",
       "<path fill=\"none\" stroke=\"#000000\" d=\"M207.924,-94.3048C202.1539,-85.4515 196.0023,-76.013 190.225,-67.1487\"/>\n",
       "<polygon fill=\"#000000\" stroke=\"#000000\" points=\"192.9928,-64.9853 184.6003,-58.5186 187.1284,-68.8075 192.9928,-64.9853\"/>\n",
       "</g>\n",
       "<!-- 8 -->\n",
       "<g id=\"node8\" class=\"node\">\n",
       "<title>8</title>\n",
       "<path fill=\"#e58139\" fill-opacity=\"0.643137\" stroke=\"#000000\" d=\"M344.1933,-58.6014C344.1933,-58.6014 252.7905,-58.6014 252.7905,-58.6014 246.7905,-58.6014 240.7905,-52.6014 240.7905,-46.6014 240.7905,-46.6014 240.7905,-11.7986 240.7905,-11.7986 240.7905,-5.7986 246.7905,.2014 252.7905,.2014 252.7905,.2014 344.1933,.2014 344.1933,.2014 350.1933,.2014 356.1933,-5.7986 356.1933,-11.7986 356.1933,-11.7986 356.1933,-46.6014 356.1933,-46.6014 356.1933,-52.6014 350.1933,-58.6014 344.1933,-58.6014\"/>\n",
       "<text text-anchor=\"start\" x=\"263.6732\" y=\"-41.8\" font-family=\"Helvetica,sans-Serif\" font-size=\"14.00\" fill=\"#000000\">mse = 0.25</text>\n",
       "<text text-anchor=\"start\" x=\"248.8913\" y=\"-25\" font-family=\"Helvetica,sans-Serif\" font-size=\"14.00\" fill=\"#000000\">samples = 1352</text>\n",
       "<text text-anchor=\"start\" x=\"260.1676\" y=\"-8.2\" font-family=\"Helvetica,sans-Serif\" font-size=\"14.00\" fill=\"#000000\">value = 0.45</text>\n",
       "</g>\n",
       "<!-- 6&#45;&gt;8 -->\n",
       "<g id=\"edge7\" class=\"edge\">\n",
       "<title>6&#45;&gt;8</title>\n",
       "<path fill=\"none\" stroke=\"#000000\" d=\"M256.6931,-94.3048C262.3771,-85.4515 268.4369,-76.013 274.128,-67.1487\"/>\n",
       "<polygon fill=\"#000000\" stroke=\"#000000\" points=\"277.2112,-68.8246 279.6687,-58.5186 271.3208,-65.0427 277.2112,-68.8246\"/>\n",
       "</g>\n",
       "</g>\n",
       "</svg>\n"
      ],
      "text/plain": [
       "<graphviz.files.Source at 0x1a15e92320>"
      ]
     },
     "execution_count": 29,
     "metadata": {},
     "output_type": "execute_result"
    }
   ],
   "source": [
    "dot_data = tree.export_graphviz(regr, out_file=None, \n",
    "                         feature_names=X.columns, \n",
    "                         filled=True, rounded=True,  \n",
    "                         special_characters=True,\n",
    "                               precision=2)\n",
    "tree_viz = graphviz.Source(dot_data)\n",
    "tree_viz"
   ]
  },
  {
   "cell_type": "code",
   "execution_count": null,
   "metadata": {},
   "outputs": [],
   "source": []
  }
 ],
 "metadata": {
  "kernelspec": {
   "display_name": "Python 3",
   "language": "python",
   "name": "python3"
  },
  "language_info": {
   "codemirror_mode": {
    "name": "ipython",
    "version": 3
   },
   "file_extension": ".py",
   "mimetype": "text/x-python",
   "name": "python",
   "nbconvert_exporter": "python",
   "pygments_lexer": "ipython3",
   "version": "3.6.3"
  }
 },
 "nbformat": 4,
 "nbformat_minor": 2
}
