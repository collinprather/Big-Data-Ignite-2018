{
 "cells": [
  {
   "cell_type": "code",
   "execution_count": 1,
   "metadata": {},
   "outputs": [],
   "source": [
    "import numpy as np\n",
    "import pandas as pd\n",
    "import matplotlib.pyplot as plt\n",
    "%matplotlib inline\n",
    "\n",
    "from sklearn.svm import SVC\n",
    "from sklearn.linear_model import SGDClassifier\n",
    "from sklearn.model_selection import train_test_split, cross_validate\n",
    "\n",
    "from sklearn.metrics import confusion_matrix, classification_report, precision_score, roc_curve, auc\n",
    "\n",
    "from collections import Counter"
   ]
  },
  {
   "cell_type": "code",
   "execution_count": 2,
   "metadata": {},
   "outputs": [],
   "source": [
    "X_cols = ['X', 'Y', 'DRIVER1AGE', 'NUMOFINJ', 'HOUR_X', 'HOUR_Y',\n",
    "       'CRASHSEVER_Fatal', 'CRASHSEVER_Injury', 'DRIVER1SEX_M', 'DRIVER1SEX_U',\n",
    "       'EMRGVEH_Yes', 'HITANDRUN_Yes', 'MOTORCYCLE_Yes',\n",
    "       'D1COND_Appeared Normal', 'D1COND_Fatigue / Sick']\n",
    "y_cols = 'ALCOHOL_INVOLVED_Yes'"
   ]
  },
  {
   "cell_type": "code",
   "execution_count": 3,
   "metadata": {},
   "outputs": [],
   "source": [
    "crash_data = pd.read_csv('Data/Analysis2/Crash_data_prepared.csv')\n",
    "X = crash_data.loc[:, X_cols]\n",
    "y = crash_data.loc[:, y_cols]"
   ]
  },
  {
   "cell_type": "code",
   "execution_count": 133,
   "metadata": {},
   "outputs": [
    {
     "name": "stdout",
     "output_type": "stream",
     "text": [
      "class weight for 0 is: 0.636708661967\n",
      "class weight for 1 is: 2.32870636288\n"
     ]
    }
   ],
   "source": [
    "# Class weights\n",
    "n_samples = len(X)\n",
    "n_classes = 2\n",
    "class_weights = n_samples / (n_classes * np.bincount(y))\n",
    "print('class weight for 0 is:', class_weights[0])\n",
    "print('class weight for 1 is:', class_weights[1])"
   ]
  },
  {
   "cell_type": "code",
   "execution_count": 164,
   "metadata": {},
   "outputs": [],
   "source": [
    "X_train, X_test, y_train, y_test = train_test_split(X, y, test_size=0.33, random_state=1)"
   ]
  },
  {
   "cell_type": "code",
   "execution_count": 165,
   "metadata": {},
   "outputs": [
    {
     "name": "stdout",
     "output_type": "stream",
     "text": [
      "[(0, 18944), (1, 5139)]\n"
     ]
    }
   ],
   "source": [
    "print(sorted(Counter(y_test).items()))"
   ]
  },
  {
   "cell_type": "code",
   "execution_count": 166,
   "metadata": {},
   "outputs": [
    {
     "data": {
      "text/plain": [
       "SVC(C=1.0, cache_size=200, class_weight=None, coef0=0.0,\n",
       "  decision_function_shape='ovr', degree=3, gamma='auto', kernel='linear',\n",
       "  max_iter=-1, probability=False, random_state=None, shrinking=True,\n",
       "  tol=0.001, verbose=False)"
      ]
     },
     "execution_count": 166,
     "metadata": {},
     "output_type": "execute_result"
    }
   ],
   "source": [
    "# Fit the SVM model\n",
    "clf = SVC(kernel='linear')\n",
    "clf.fit(X_train, y_train.values.ravel())"
   ]
  },
  {
   "cell_type": "markdown",
   "metadata": {},
   "source": [
    "* Here are [great classification metric explanations](https://machinelearningmastery.com/classification-accuracy-is-not-enough-more-performance-measures-you-can-use/) for unbalanced classification problems like this one, it looks like recall is our best bet"
   ]
  },
  {
   "cell_type": "code",
   "execution_count": 167,
   "metadata": {},
   "outputs": [
    {
     "name": "stdout",
     "output_type": "stream",
     "text": [
      "             precision    recall  f1-score   support\n",
      "\n",
      "          0       0.86      0.99      0.92     18944\n",
      "          1       0.89      0.42      0.57      5139\n",
      "\n",
      "avg / total       0.87      0.86      0.84     24083\n",
      "\n"
     ]
    }
   ],
   "source": [
    "y_pred = clf.predict(X_test)\n",
    "print(classification_report(y_test, y_pred))"
   ]
  },
  {
   "cell_type": "code",
   "execution_count": 168,
   "metadata": {},
   "outputs": [
    {
     "name": "stdout",
     "output_type": "stream",
     "text": [
      "True negatives: 18679\n",
      "True positives: 2136\n",
      "False negatives: 3003\n",
      "False Positives: 265\n"
     ]
    }
   ],
   "source": [
    "tn, fp, fn, tp = confusion_matrix(y_test, y_pred).ravel()\n",
    "print('True negatives:', tn)\n",
    "print('True positives:', tp)\n",
    "print('False negatives:', fn)\n",
    "print('False Positives:', fp)"
   ]
  },
  {
   "cell_type": "code",
   "execution_count": 169,
   "metadata": {},
   "outputs": [
    {
     "data": {
      "text/plain": [
       "array([[18679,   265],\n",
       "       [ 3003,  2136]])"
      ]
     },
     "execution_count": 169,
     "metadata": {},
     "output_type": "execute_result"
    }
   ],
   "source": [
    "confusion_matrix(y_test, y_pred)"
   ]
  },
  {
   "cell_type": "code",
   "execution_count": 170,
   "metadata": {},
   "outputs": [
    {
     "data": {
      "image/png": "[encoded data removed]",
      "text/plain": [
       "<matplotlib.figure.Figure at 0x1194eda58>"
      ]
     },
     "metadata": {},
     "output_type": "display_data"
    }
   ],
   "source": [
    "y_score = clf.decision_function(X_test)\n",
    "\n",
    "# Compute ROC curve and ROC area for each class\n",
    "fpr, tpr, thresholds = roc_curve(y_test, y_score)\n",
    "roc_auc = auc(fpr, tpr)\n",
    "\n",
    "# Plotting the ROC curve\n",
    "plt.figure()\n",
    "lw = 2\n",
    "plt.plot(fpr, tpr, color='darkorange',\n",
    "         lw=lw, label='ROC curve (area = %0.2f)' % roc_auc)\n",
    "plt.plot([0, 1], [0, 1], color='navy', lw=lw, linestyle='--')\n",
    "plt.xlim([0.0, 1.0])\n",
    "plt.ylim([0.0, 1.05])\n",
    "plt.xlabel('False Positive Rate')\n",
    "plt.ylabel('True Positive Rate')\n",
    "plt.title('ROC Curve')\n",
    "plt.legend(loc=\"lower right\")\n",
    "plt.show()"
   ]
  },
  {
   "cell_type": "markdown",
   "metadata": {},
   "source": [
    "---"
   ]
  },
  {
   "cell_type": "markdown",
   "metadata": {},
   "source": [
    "---"
   ]
  },
  {
   "cell_type": "markdown",
   "metadata": {},
   "source": [
    "## Statistical Re-sampling\n",
    "Since the recall was still very low after training our SVM, we will use a statistical re-sampling technique designed for dealing with imbalanced classes, like ours. We'll be using some tools from the [imbalanced-learn package](http://contrib.scikit-learn.org/imbalanced-learn/stable/under_sampling.html)"
   ]
  },
  {
   "cell_type": "code",
   "execution_count": 171,
   "metadata": {},
   "outputs": [],
   "source": [
    "from imblearn.pipeline import make_pipeline\n",
    "from imblearn.under_sampling import AllKNN"
   ]
  },
  {
   "cell_type": "code",
   "execution_count": 172,
   "metadata": {},
   "outputs": [
    {
     "name": "stdout",
     "output_type": "stream",
     "text": [
      "[(0, 57308), (1, 15669)]\n"
     ]
    }
   ],
   "source": [
    "print(sorted(Counter(y).items()))"
   ]
  },
  {
   "cell_type": "code",
   "execution_count": 182,
   "metadata": {},
   "outputs": [],
   "source": [
    "# This Pipeline can predict with 67% accuracy whether or not it was a hit-and-run, \n",
    "#or whether or not there was ALCOHOL_INVOLVED\n",
    "pipeline = make_pipeline(AllKNN(random_state=1),\n",
    "                            SVC(kernel = 'linear'))\n",
    "\n",
    "# Split the data\n",
    "X_train, X_test, y_train, y_test = train_test_split(X, y, random_state=1)\n",
    "\n",
    "# Train the classifier with balancing\n",
    "pipeline.fit(X_train, y_train)\n",
    "\n",
    "# Test the classifier and get the prediction\n",
    "y_pred = pipeline.predict(X_test)"
   ]
  },
  {
   "cell_type": "code",
   "execution_count": 183,
   "metadata": {},
   "outputs": [
    {
     "name": "stdout",
     "output_type": "stream",
     "text": [
      "             precision    recall  f1-score   support\n",
      "\n",
      "          0       0.98      0.97      0.98     17405\n",
      "          1       0.55      0.67      0.61       840\n",
      "\n",
      "avg / total       0.96      0.96      0.96     18245\n",
      "\n"
     ]
    }
   ],
   "source": [
    "print(classification_report(y_test, y_pred))"
   ]
  },
  {
   "cell_type": "code",
   "execution_count": 184,
   "metadata": {},
   "outputs": [
    {
     "name": "stdout",
     "output_type": "stream",
     "text": [
      "True negatives: 16948\n",
      "True positives: 564\n",
      "False negatives: 276\n",
      "False Positives: 457\n"
     ]
    }
   ],
   "source": [
    "tn, fp, fn, tp = confusion_matrix(y_test, y_pred).ravel()\n",
    "print('True negatives:', tn)\n",
    "print('True positives:', tp)\n",
    "print('False negatives:', fn)\n",
    "print('False Positives:', fp)"
   ]
  },
  {
   "cell_type": "code",
   "execution_count": 185,
   "metadata": {},
   "outputs": [
    {
     "data": {
      "image/png": "[encoded data removed]",
      "text/plain": [
       "<matplotlib.figure.Figure at 0x10e69a550>"
      ]
     },
     "metadata": {},
     "output_type": "display_data"
    }
   ],
   "source": [
    "y_score = clf.decision_function(X_test)\n",
    "\n",
    "# Compute ROC curve and ROC area for each class\n",
    "fpr, tpr, thresholds = roc_curve(y_test, y_score)\n",
    "roc_auc = auc(fpr, tpr)\n",
    "\n",
    "# Plotting the ROC curve\n",
    "plt.figure()\n",
    "lw = 2\n",
    "plt.plot(fpr, tpr, color='darkorange',\n",
    "         lw=lw, label='ROC curve (area = %0.2f)' % roc_auc)\n",
    "plt.plot([0, 1], [0, 1], color='navy', lw=lw, linestyle='--')\n",
    "plt.xlim([0.0, 1.0])\n",
    "plt.ylim([0.0, 1.05])\n",
    "plt.xlabel('False Positive Rate')\n",
    "plt.ylabel('True Positive Rate')\n",
    "plt.title('ROC Curve')\n",
    "plt.legend(loc=\"lower right\")\n",
    "plt.show()"
   ]
  },
  {
   "cell_type": "markdown",
   "metadata": {},
   "source": [
    "---"
   ]
  },
  {
   "cell_type": "code",
   "execution_count": 177,
   "metadata": {},
   "outputs": [],
   "source": [
    "from sklearn import tree\n",
    "import graphviz"
   ]
  },
  {
   "cell_type": "code",
   "execution_count": 178,
   "metadata": {},
   "outputs": [
    {
     "data": {
      "text/plain": [
       "DecisionTreeRegressor(criterion='mse', max_depth=None, max_features=None,\n",
       "           max_leaf_nodes=4, min_impurity_decrease=0.0,\n",
       "           min_impurity_split=None, min_samples_leaf=1,\n",
       "           min_samples_split=2, min_weight_fraction_leaf=0.0,\n",
       "           presort=False, random_state=None, splitter='best')"
      ]
     },
     "execution_count": 178,
     "metadata": {},
     "output_type": "execute_result"
    }
   ],
   "source": [
    "regr = tree.DecisionTreeRegressor(max_leaf_nodes=4)\n",
    "regr.fit(X, y)"
   ]
  },
  {
   "cell_type": "code",
   "execution_count": 179,
   "metadata": {},
   "outputs": [
    {
     "data": {
      "image/svg+xml": [
       "<?xml version=\"1.0\" encoding=\"UTF-8\" standalone=\"no\"?>\n",
       "<!DOCTYPE svg PUBLIC \"-//W3C//DTD SVG 1.1//EN\"\n",
       " \"http://www.w3.org/Graphics/SVG/1.1/DTD/svg11.dtd\">\n",
       "<!-- Generated by graphviz version 2.40.1 (20161225.0304)\n",
       " -->\n",
       "<!-- Title: Tree Pages: 1 -->\n",
       "<svg width=\"457pt\" height=\"400pt\"\n",
       " viewBox=\"0.00 0.00 457.20 400.00\" xmlns=\"http://www.w3.org/2000/svg\" xmlns:xlink=\"http://www.w3.org/1999/xlink\">\n",
       "<g id=\"graph0\" class=\"graph\" transform=\"scale(1 1) rotate(0) translate(4 396)\">\n",
       "<title>Tree</title>\n",
       "<polygon fill=\"#ffffff\" stroke=\"transparent\" points=\"-4,4 -4,-396 453.2012,-396 453.2012,4 -4,4\"/>\n",
       "<!-- 0 -->\n",
       "<g id=\"node1\" class=\"node\">\n",
       "<title>0</title>\n",
       "<path fill=\"#e58139\" fill-opacity=\"0.149020\" stroke=\"#000000\" d=\"M363.5206,-392.1003C363.5206,-392.1003 227.6806,-392.1003 227.6806,-392.1003 221.6806,-392.1003 215.6806,-386.1003 215.6806,-380.1003 215.6806,-380.1003 215.6806,-328.6997 215.6806,-328.6997 215.6806,-322.6997 221.6806,-316.6997 227.6806,-316.6997 227.6806,-316.6997 363.5206,-316.6997 363.5206,-316.6997 369.5206,-316.6997 375.5206,-322.6997 375.5206,-328.6997 375.5206,-328.6997 375.5206,-380.1003 375.5206,-380.1003 375.5206,-386.1003 369.5206,-392.1003 363.5206,-392.1003\"/>\n",
       "<text text-anchor=\"start\" x=\"223.6406\" y=\"-375.4\" font-family=\"Helvetica,sans-Serif\" font-size=\"14.00\" fill=\"#000000\">DRIVER1SEX_U ≤ 0.5</text>\n",
       "<text text-anchor=\"start\" x=\"260.7819\" y=\"-358.6\" font-family=\"Helvetica,sans-Serif\" font-size=\"14.00\" fill=\"#000000\">mse = 0.17</text>\n",
       "<text text-anchor=\"start\" x=\"242.1087\" y=\"-341.8\" font-family=\"Helvetica,sans-Serif\" font-size=\"14.00\" fill=\"#000000\">samples = 72977</text>\n",
       "<text text-anchor=\"start\" x=\"257.2763\" y=\"-325\" font-family=\"Helvetica,sans-Serif\" font-size=\"14.00\" fill=\"#000000\">value = 0.21</text>\n",
       "</g>\n",
       "<!-- 1 -->\n",
       "<g id=\"node2\" class=\"node\">\n",
       "<title>1</title>\n",
       "<path fill=\"#e58139\" fill-opacity=\"0.054902\" stroke=\"#000000\" d=\"M303.5206,-280.9003C303.5206,-280.9003 97.6806,-280.9003 97.6806,-280.9003 91.6806,-280.9003 85.6806,-274.9003 85.6806,-268.9003 85.6806,-268.9003 85.6806,-217.4997 85.6806,-217.4997 85.6806,-211.4997 91.6806,-205.4997 97.6806,-205.4997 97.6806,-205.4997 303.5206,-205.4997 303.5206,-205.4997 309.5206,-205.4997 315.5206,-211.4997 315.5206,-217.4997 315.5206,-217.4997 315.5206,-268.9003 315.5206,-268.9003 315.5206,-274.9003 309.5206,-280.9003 303.5206,-280.9003\"/>\n",
       "<text text-anchor=\"start\" x=\"93.6406\" y=\"-264.2\" font-family=\"Helvetica,sans-Serif\" font-size=\"14.00\" fill=\"#000000\">D1COND_Appeared Normal ≤ 0.5</text>\n",
       "<text text-anchor=\"start\" x=\"165.7819\" y=\"-247.4\" font-family=\"Helvetica,sans-Serif\" font-size=\"14.00\" fill=\"#000000\">mse = 0.12</text>\n",
       "<text text-anchor=\"start\" x=\"147.1087\" y=\"-230.6\" font-family=\"Helvetica,sans-Serif\" font-size=\"14.00\" fill=\"#000000\">samples = 65588</text>\n",
       "<text text-anchor=\"start\" x=\"162.2763\" y=\"-213.8\" font-family=\"Helvetica,sans-Serif\" font-size=\"14.00\" fill=\"#000000\">value = 0.14</text>\n",
       "</g>\n",
       "<!-- 0&#45;&gt;1 -->\n",
       "<g id=\"edge1\" class=\"edge\">\n",
       "<title>0&#45;&gt;1</title>\n",
       "<path fill=\"none\" stroke=\"#000000\" d=\"M263.4379,-316.7528C255.7001,-307.6954 247.3539,-297.926 239.351,-288.5584\"/>\n",
       "<polygon fill=\"#000000\" stroke=\"#000000\" points=\"241.8868,-286.1382 232.7301,-280.8085 236.5646,-290.6851 241.8868,-286.1382\"/>\n",
       "<text text-anchor=\"middle\" x=\"230.7721\" y=\"-301.5317\" font-family=\"Helvetica,sans-Serif\" font-size=\"14.00\" fill=\"#000000\">True</text>\n",
       "</g>\n",
       "<!-- 2 -->\n",
       "<g id=\"node7\" class=\"node\">\n",
       "<title>2</title>\n",
       "<path fill=\"#e58139\" stroke=\"#000000\" d=\"M437.302,-272.6014C437.302,-272.6014 345.8992,-272.6014 345.8992,-272.6014 339.8992,-272.6014 333.8992,-266.6014 333.8992,-260.6014 333.8992,-260.6014 333.8992,-225.7986 333.8992,-225.7986 333.8992,-219.7986 339.8992,-213.7986 345.8992,-213.7986 345.8992,-213.7986 437.302,-213.7986 437.302,-213.7986 443.302,-213.7986 449.302,-219.7986 449.302,-225.7986 449.302,-225.7986 449.302,-260.6014 449.302,-260.6014 449.302,-266.6014 443.302,-272.6014 437.302,-272.6014\"/>\n",
       "<text text-anchor=\"start\" x=\"360.6732\" y=\"-255.8\" font-family=\"Helvetica,sans-Serif\" font-size=\"14.00\" fill=\"#000000\">mse = 0.1</text>\n",
       "<text text-anchor=\"start\" x=\"342\" y=\"-239\" font-family=\"Helvetica,sans-Serif\" font-size=\"14.00\" fill=\"#000000\">samples = 7389</text>\n",
       "<text text-anchor=\"start\" x=\"353.2763\" y=\"-222.2\" font-family=\"Helvetica,sans-Serif\" font-size=\"14.00\" fill=\"#000000\">value = 0.89</text>\n",
       "</g>\n",
       "<!-- 0&#45;&gt;2 -->\n",
       "<g id=\"edge6\" class=\"edge\">\n",
       "<title>0&#45;&gt;2</title>\n",
       "<path fill=\"none\" stroke=\"#000000\" d=\"M328.1018,-316.7528C338.1785,-305.0806 349.2761,-292.2259 359.3366,-280.5724\"/>\n",
       "<polygon fill=\"#000000\" stroke=\"#000000\" points=\"362.2252,-282.5825 366.1107,-272.7258 356.9265,-278.0081 362.2252,-282.5825\"/>\n",
       "<text text-anchor=\"middle\" x=\"367.9397\" y=\"-293.4588\" font-family=\"Helvetica,sans-Serif\" font-size=\"14.00\" fill=\"#000000\">False</text>\n",
       "</g>\n",
       "<!-- 3 -->\n",
       "<g id=\"node3\" class=\"node\">\n",
       "<title>3</title>\n",
       "<path fill=\"#e58139\" fill-opacity=\"0.388235\" stroke=\"#000000\" d=\"M187.4684,-169.7003C187.4684,-169.7003 59.7328,-169.7003 59.7328,-169.7003 53.7328,-169.7003 47.7328,-163.7003 47.7328,-157.7003 47.7328,-157.7003 47.7328,-106.2997 47.7328,-106.2997 47.7328,-100.2997 53.7328,-94.2997 59.7328,-94.2997 59.7328,-94.2997 187.4684,-94.2997 187.4684,-94.2997 193.4684,-94.2997 199.4684,-100.2997 199.4684,-106.2997 199.4684,-106.2997 199.4684,-157.7003 199.4684,-157.7003 199.4684,-163.7003 193.4684,-169.7003 187.4684,-169.7003\"/>\n",
       "<text text-anchor=\"start\" x=\"55.9169\" y=\"-153\" font-family=\"Helvetica,sans-Serif\" font-size=\"14.00\" fill=\"#000000\">DRIVER1AGE ≤ 0.46</text>\n",
       "<text text-anchor=\"start\" x=\"88.7819\" y=\"-136.2\" font-family=\"Helvetica,sans-Serif\" font-size=\"14.00\" fill=\"#000000\">mse = 0.24</text>\n",
       "<text text-anchor=\"start\" x=\"74\" y=\"-119.4\" font-family=\"Helvetica,sans-Serif\" font-size=\"14.00\" fill=\"#000000\">samples = 9270</text>\n",
       "<text text-anchor=\"start\" x=\"89.1676\" y=\"-102.6\" font-family=\"Helvetica,sans-Serif\" font-size=\"14.00\" fill=\"#000000\">value = 0.4</text>\n",
       "</g>\n",
       "<!-- 1&#45;&gt;3 -->\n",
       "<g id=\"edge2\" class=\"edge\">\n",
       "<title>1&#45;&gt;3</title>\n",
       "<path fill=\"none\" stroke=\"#000000\" d=\"M174.5319,-205.5528C168.3856,-196.6765 161.7658,-187.1165 155.3983,-177.9209\"/>\n",
       "<polygon fill=\"#000000\" stroke=\"#000000\" points=\"158.2128,-175.8374 149.6424,-169.6085 152.4579,-179.8224 158.2128,-175.8374\"/>\n",
       "</g>\n",
       "<!-- 4 -->\n",
       "<g id=\"node6\" class=\"node\">\n",
       "<title>4</title>\n",
       "<path fill=\"transparent\" stroke=\"#000000\" d=\"M328.0844,-161.4014C328.0844,-161.4014 229.1168,-161.4014 229.1168,-161.4014 223.1168,-161.4014 217.1168,-155.4014 217.1168,-149.4014 217.1168,-149.4014 217.1168,-114.5986 217.1168,-114.5986 217.1168,-108.5986 223.1168,-102.5986 229.1168,-102.5986 229.1168,-102.5986 328.0844,-102.5986 328.0844,-102.5986 334.0844,-102.5986 340.0844,-108.5986 340.0844,-114.5986 340.0844,-114.5986 340.0844,-149.4014 340.0844,-149.4014 340.0844,-155.4014 334.0844,-161.4014 328.0844,-161.4014\"/>\n",
       "<text text-anchor=\"start\" x=\"243.7819\" y=\"-144.6\" font-family=\"Helvetica,sans-Serif\" font-size=\"14.00\" fill=\"#000000\">mse = 0.09</text>\n",
       "<text text-anchor=\"start\" x=\"225.1087\" y=\"-127.8\" font-family=\"Helvetica,sans-Serif\" font-size=\"14.00\" fill=\"#000000\">samples = 56318</text>\n",
       "<text text-anchor=\"start\" x=\"244.1676\" y=\"-111\" font-family=\"Helvetica,sans-Serif\" font-size=\"14.00\" fill=\"#000000\">value = 0.1</text>\n",
       "</g>\n",
       "<!-- 1&#45;&gt;4 -->\n",
       "<g id=\"edge5\" class=\"edge\">\n",
       "<title>1&#45;&gt;4</title>\n",
       "<path fill=\"none\" stroke=\"#000000\" d=\"M227.0078,-205.5528C235.0377,-194.105 243.8655,-181.5199 251.9136,-170.046\"/>\n",
       "<polygon fill=\"#000000\" stroke=\"#000000\" points=\"255.0128,-171.7225 257.89,-161.5258 249.2821,-167.7027 255.0128,-171.7225\"/>\n",
       "</g>\n",
       "<!-- 5 -->\n",
       "<g id=\"node4\" class=\"node\">\n",
       "<title>5</title>\n",
       "<path fill=\"#e58139\" fill-opacity=\"0.447059\" stroke=\"#000000\" d=\"M103.302,-58.6014C103.302,-58.6014 11.8992,-58.6014 11.8992,-58.6014 5.8992,-58.6014 -.1008,-52.6014 -.1008,-46.6014 -.1008,-46.6014 -.1008,-11.7986 -.1008,-11.7986 -.1008,-5.7986 5.8992,.2014 11.8992,.2014 11.8992,.2014 103.302,.2014 103.302,.2014 109.302,.2014 115.302,-5.7986 115.302,-11.7986 115.302,-11.7986 115.302,-46.6014 115.302,-46.6014 115.302,-52.6014 109.302,-58.6014 103.302,-58.6014\"/>\n",
       "<text text-anchor=\"start\" x=\"22.7819\" y=\"-41.8\" font-family=\"Helvetica,sans-Serif\" font-size=\"14.00\" fill=\"#000000\">mse = 0.25</text>\n",
       "<text text-anchor=\"start\" x=\"8\" y=\"-25\" font-family=\"Helvetica,sans-Serif\" font-size=\"14.00\" fill=\"#000000\">samples = 7100</text>\n",
       "<text text-anchor=\"start\" x=\"19.2763\" y=\"-8.2\" font-family=\"Helvetica,sans-Serif\" font-size=\"14.00\" fill=\"#000000\">value = 0.45</text>\n",
       "</g>\n",
       "<!-- 3&#45;&gt;5 -->\n",
       "<g id=\"edge3\" class=\"edge\">\n",
       "<title>3&#45;&gt;5</title>\n",
       "<path fill=\"none\" stroke=\"#000000\" d=\"M99.3994,-94.3048C93.7154,-85.4515 87.6556,-76.013 81.9645,-67.1487\"/>\n",
       "<polygon fill=\"#000000\" stroke=\"#000000\" points=\"84.7717,-65.0427 76.4238,-58.5186 78.8813,-68.8246 84.7717,-65.0427\"/>\n",
       "</g>\n",
       "<!-- 6 -->\n",
       "<g id=\"node5\" class=\"node\">\n",
       "<title>6</title>\n",
       "<path fill=\"#e58139\" fill-opacity=\"0.188235\" stroke=\"#000000\" d=\"M236.302,-58.6014C236.302,-58.6014 144.8992,-58.6014 144.8992,-58.6014 138.8992,-58.6014 132.8992,-52.6014 132.8992,-46.6014 132.8992,-46.6014 132.8992,-11.7986 132.8992,-11.7986 132.8992,-5.7986 138.8992,.2014 144.8992,.2014 144.8992,.2014 236.302,.2014 236.302,.2014 242.302,.2014 248.302,-5.7986 248.302,-11.7986 248.302,-11.7986 248.302,-46.6014 248.302,-46.6014 248.302,-52.6014 242.302,-58.6014 236.302,-58.6014\"/>\n",
       "<text text-anchor=\"start\" x=\"155.7819\" y=\"-41.8\" font-family=\"Helvetica,sans-Serif\" font-size=\"14.00\" fill=\"#000000\">mse = 0.19</text>\n",
       "<text text-anchor=\"start\" x=\"141\" y=\"-25\" font-family=\"Helvetica,sans-Serif\" font-size=\"14.00\" fill=\"#000000\">samples = 2170</text>\n",
       "<text text-anchor=\"start\" x=\"152.2763\" y=\"-8.2\" font-family=\"Helvetica,sans-Serif\" font-size=\"14.00\" fill=\"#000000\">value = 0.25</text>\n",
       "</g>\n",
       "<!-- 3&#45;&gt;6 -->\n",
       "<g id=\"edge4\" class=\"edge\">\n",
       "<title>3&#45;&gt;6</title>\n",
       "<path fill=\"none\" stroke=\"#000000\" d=\"M148.1685,-94.3048C153.9386,-85.4515 160.0902,-76.013 165.8675,-67.1487\"/>\n",
       "<polygon fill=\"#000000\" stroke=\"#000000\" points=\"168.9641,-68.8075 171.4922,-58.5186 163.0997,-64.9853 168.9641,-68.8075\"/>\n",
       "</g>\n",
       "</g>\n",
       "</svg>\n"
      ],
      "text/plain": [
       "<graphviz.files.Source at 0x10e69ab38>"
      ]
     },
     "execution_count": 179,
     "metadata": {},
     "output_type": "execute_result"
    }
   ],
   "source": [
    "dot_data = tree.export_graphviz(regr, out_file=None, \n",
    "                         feature_names=X.columns, \n",
    "                         filled=True, rounded=True,  \n",
    "                         special_characters=True,\n",
    "                               precision=2)\n",
    "tree_viz = graphviz.Source(dot_data)\n",
    "tree_viz"
   ]
  },
  {
   "cell_type": "markdown",
   "metadata": {},
   "source": [
    "---"
   ]
  },
  {
   "cell_type": "markdown",
   "metadata": {},
   "source": [
    "### This seems to be best model!\n",
    "\n",
    "* `Recall` is our metric of choice"
   ]
  },
  {
   "cell_type": "code",
   "execution_count": 4,
   "metadata": {},
   "outputs": [],
   "source": [
    "from imblearn.over_sampling import SMOTE"
   ]
  },
  {
   "cell_type": "code",
   "execution_count": 6,
   "metadata": {},
   "outputs": [],
   "source": [
    "X_train, X_test, y_train, y_test = train_test_split(X, y, random_state=742)"
   ]
  },
  {
   "cell_type": "code",
   "execution_count": 7,
   "metadata": {},
   "outputs": [],
   "source": [
    "X_train_resampled, y_train_resampled = SMOTE().fit_sample(X_train, y_train)"
   ]
  },
  {
   "cell_type": "code",
   "execution_count": 8,
   "metadata": {},
   "outputs": [
    {
     "name": "stdout",
     "output_type": "stream",
     "text": [
      "[(0, 52335), (1, 52335)]\n"
     ]
    }
   ],
   "source": [
    "print(sorted(Counter(y_train_resampled).items()))"
   ]
  },
  {
   "cell_type": "code",
   "execution_count": 10,
   "metadata": {},
   "outputs": [
    {
     "data": {
      "text/plain": [
       "SVC(C=1.0, cache_size=200, class_weight=None, coef0=0.0,\n",
       "  decision_function_shape='ovr', degree=3, gamma='auto', kernel='linear',\n",
       "  max_iter=-1, probability=False, random_state=None, shrinking=True,\n",
       "  tol=0.001, verbose=False)"
      ]
     },
     "execution_count": 10,
     "metadata": {},
     "output_type": "execute_result"
    }
   ],
   "source": [
    "clf = SVC(kernel='linear')\n",
    "clf.fit(X_train_resampled, y_train_resampled)"
   ]
  },
  {
   "cell_type": "code",
   "execution_count": 11,
   "metadata": {},
   "outputs": [
    {
     "name": "stdout",
     "output_type": "stream",
     "text": [
      "             precision    recall  f1-score   support\n",
      "\n",
      "          0       0.99      0.91      0.95     17418\n",
      "          1       0.31      0.80      0.44       827\n",
      "\n",
      "avg / total       0.96      0.91      0.93     18245\n",
      "\n"
     ]
    }
   ],
   "source": [
    "y_pred = clf.predict(X_test)\n",
    "print(classification_report(y_test, y_pred))"
   ]
  },
  {
   "cell_type": "code",
   "execution_count": 12,
   "metadata": {},
   "outputs": [
    {
     "name": "stdout",
     "output_type": "stream",
     "text": [
      "True negatives: 15914\n",
      "True positives: 664\n",
      "False negatives: 163\n",
      "False Positives: 1504\n"
     ]
    }
   ],
   "source": [
    "tn, fp, fn, tp = confusion_matrix(y_test, y_pred).ravel()\n",
    "print('True negatives:', tn)\n",
    "print('True positives:', tp)\n",
    "print('False negatives:', fn)\n",
    "print('False Positives:', fp)"
   ]
  },
  {
   "cell_type": "code",
   "execution_count": 14,
   "metadata": {},
   "outputs": [
    {
     "data": {
      "image/png": "[encoded data removed]",
      "text/plain": [
       "<matplotlib.figure.Figure at 0x10e3f4550>"
      ]
     },
     "metadata": {},
     "output_type": "display_data"
    }
   ],
   "source": [
    "y_score = clf.decision_function(X_test)\n",
    "\n",
    "# Compute ROC curve and ROC area for each class\n",
    "fpr, tpr, thresholds = roc_curve(y_test, y_score)\n",
    "roc_auc = auc(fpr, tpr)\n",
    "\n",
    "# Plotting the ROC curve\n",
    "plt.figure()\n",
    "lw = 2\n",
    "plt.plot(fpr, tpr, color='darkorange',\n",
    "         lw=lw, label='ROC curve (area = %0.2f)' % roc_auc)\n",
    "plt.plot([0, 1], [0, 1], color='navy', lw=lw, linestyle='--')\n",
    "plt.xlim([0.0, 1.0])\n",
    "plt.ylim([0.0, 1.05])\n",
    "plt.xlabel('False Positive Rate')\n",
    "plt.ylabel('True Positive Rate')\n",
    "plt.title('ROC Curve')\n",
    "plt.legend(loc=\"lower right\")\n",
    "plt.show()"
   ]
  },
  {
   "cell_type": "code",
   "execution_count": null,
   "metadata": {},
   "outputs": [],
   "source": []
  }
 ],
 "metadata": {
  "kernelspec": {
   "display_name": "Python 3",
   "language": "python",
   "name": "python3"
  },
  "language_info": {
   "codemirror_mode": {
    "name": "ipython",
    "version": 3
   },
   "file_extension": ".py",
   "mimetype": "text/x-python",
   "name": "python",
   "nbconvert_exporter": "python",
   "pygments_lexer": "ipython3",
   "version": "3.6.3"
  }
 },
 "nbformat": 4,
 "nbformat_minor": 2
}
