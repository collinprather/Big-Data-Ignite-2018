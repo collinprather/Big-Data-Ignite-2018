{
 "cells": [
  {
   "cell_type": "code",
   "execution_count": 1,
   "metadata": {},
   "outputs": [],
   "source": [
    "import numpy as np\n",
    "import pandas as pd\n",
    "import matplotlib.pyplot as plt\n",
    "%matplotlib inline\n",
    "\n",
    "from sklearn.svm import SVC\n",
    "from sklearn.linear_model import SGDClassifier\n",
    "from sklearn.model_selection import train_test_split, cross_validate\n",
    "\n",
    "from sklearn.metrics import confusion_matrix, classification_report, precision_score, roc_curve, auc\n",
    "\n",
    "from collections import Counter"
   ]
  },
  {
   "cell_type": "code",
   "execution_count": 2,
   "metadata": {},
   "outputs": [],
   "source": [
    "X_cols = ['X', 'Y', 'DRIVER1AGE', 'NUMOFINJ', 'HOUR_X', 'HOUR_Y',\n",
    "       'CRASHSEVER_Fatal', 'CRASHSEVER_Injury', 'DRIVER1SEX_M', 'DRIVER1SEX_U',\n",
    "       'EMRGVEH_Yes', 'HITANDRUN_Yes', 'MOTORCYCLE_Yes',\n",
    "       'D1COND_Appeared Normal', 'D1COND_Fatigue / Sick',\n",
    "         'SPEEDLIMIT_BINS_25<speed<45', 'SPEEDLIMIT_BINS_45<speed<65', 'SPEEDLIMIT_BINS_65<speed']\n",
    "y_cols = 'D1DRINKIN_Yes'"
   ]
  },
  {
   "cell_type": "code",
   "execution_count": 3,
   "metadata": {},
   "outputs": [],
   "source": [
    "crash_data = pd.read_csv('Data/Crash_data_prepared.csv')\n",
    "X = crash_data.loc[:, X_cols]\n",
    "y = crash_data.loc[:, y_cols]"
   ]
  },
  {
   "cell_type": "markdown",
   "metadata": {},
   "source": [
    "---"
   ]
  },
  {
   "cell_type": "markdown",
   "metadata": {},
   "source": [
    "---"
   ]
  },
  {
   "cell_type": "markdown",
   "metadata": {},
   "source": [
    "## Statistical Re-sampling\n",
    "Since the recall was still very low after training our SVM, we will use a statistical re-sampling technique designed for dealing with imbalanced classes, like ours. We'll be using some tools from the [imbalanced-learn package](http://contrib.scikit-learn.org/imbalanced-learn/stable/under_sampling.html)"
   ]
  },
  {
   "cell_type": "markdown",
   "metadata": {},
   "source": [
    "* `Recall` is our metric of choice. [this article](https://towardsdatascience.com/beyond-accuracy-precision-and-recall-3da06bea9f6c) provides a great explanation for why\n",
    "    * In our instance, we're okay with incorectly guessing that there was alcohol involved with some car crashes, if it means predicting all the instances when there was alcohol involved\n",
    "    * Generally speaking, when dealing with an imbalanced dataset, oversampling is a good technique to increase recall\n",
    "* [this](https://beckernick.github.io/oversampling-modeling/) is a great article on the right way to oversmple."
   ]
  },
  {
   "cell_type": "code",
   "execution_count": 4,
   "metadata": {},
   "outputs": [],
   "source": [
    "from imblearn.over_sampling import SMOTE"
   ]
  },
  {
   "cell_type": "code",
   "execution_count": 5,
   "metadata": {},
   "outputs": [],
   "source": [
    "X_train, X_test, y_train, y_test = train_test_split(X, y, random_state=742)"
   ]
  },
  {
   "cell_type": "code",
   "execution_count": 6,
   "metadata": {},
   "outputs": [],
   "source": [
    "X_train_resampled, y_train_resampled = SMOTE().fit_sample(X_train, y_train)"
   ]
  },
  {
   "cell_type": "code",
   "execution_count": 7,
   "metadata": {},
   "outputs": [
    {
     "name": "stdout",
     "output_type": "stream",
     "text": [
      "[(0, 52717), (1, 52717)]\n"
     ]
    }
   ],
   "source": [
    "print(sorted(Counter(y_train_resampled).items()))"
   ]
  },
  {
   "cell_type": "code",
   "execution_count": 8,
   "metadata": {},
   "outputs": [
    {
     "data": {
      "text/plain": [
       "SVC(C=1.0, cache_size=200, class_weight=None, coef0=0.0,\n",
       "  decision_function_shape='ovr', degree=3, gamma='auto', kernel='linear',\n",
       "  max_iter=-1, probability=False, random_state=None, shrinking=True,\n",
       "  tol=0.001, verbose=False)"
      ]
     },
     "execution_count": 8,
     "metadata": {},
     "output_type": "execute_result"
    }
   ],
   "source": [
    "clf = SVC(kernel='linear')\n",
    "clf.fit(X_train_resampled, y_train_resampled)"
   ]
  },
  {
   "cell_type": "code",
   "execution_count": 9,
   "metadata": {},
   "outputs": [
    {
     "name": "stdout",
     "output_type": "stream",
     "text": [
      "             precision    recall  f1-score   support\n",
      "\n",
      "          0       1.00      0.91      0.95     17543\n",
      "          1       0.30      0.94      0.46       702\n",
      "\n",
      "avg / total       0.97      0.91      0.93     18245\n",
      "\n"
     ]
    }
   ],
   "source": [
    "y_pred = clf.predict(X_test)\n",
    "print(classification_report(y_test, y_pred))"
   ]
  },
  {
   "cell_type": "code",
   "execution_count": 10,
   "metadata": {},
   "outputs": [
    {
     "name": "stdout",
     "output_type": "stream",
     "text": [
      "True negatives: 16032\n",
      "True positives: 657\n",
      "False negatives: 45\n",
      "False Positives: 1511\n",
      "\n",
      " [[16032  1511]\n",
      " [   45   657]]\n"
     ]
    }
   ],
   "source": [
    "tn, fp, fn, tp = confusion_matrix(y_test, y_pred).ravel()\n",
    "print('True negatives:', tn)\n",
    "print('True positives:', tp)\n",
    "print('False negatives:', fn)\n",
    "print('False Positives:', fp)\n",
    "print('\\n', confusion_matrix(y_test, y_pred))"
   ]
  },
  {
   "cell_type": "code",
   "execution_count": 11,
   "metadata": {},
   "outputs": [
    {
     "data": {
      "image/png": "[encoded data removed]",
      "text/plain": [
       "<matplotlib.figure.Figure at 0x1a13f5ebe0>"
      ]
     },
     "metadata": {},
     "output_type": "display_data"
    }
   ],
   "source": [
    "y_score = clf.decision_function(X_test)\n",
    "\n",
    "# Compute ROC curve and ROC area for each class\n",
    "fpr, tpr, thresholds = roc_curve(y_test, y_score)\n",
    "roc_auc = auc(fpr, tpr)\n",
    "\n",
    "# Plotting the ROC curve\n",
    "plt.figure(figsize = (6,6))\n",
    "lw = 2\n",
    "plt.plot(fpr, tpr, color='darkorange',\n",
    "         lw=lw, label='ROC curve (area = %0.2f)' % roc_auc)\n",
    "plt.plot([0, 1], [0, 1], color='navy', lw=lw, linestyle='--')\n",
    "plt.xlim([0.0, 1.0])\n",
    "plt.ylim([0.0, 1.05])\n",
    "plt.xlabel('False Positive Rate')\n",
    "plt.ylabel('True Positive Rate')\n",
    "plt.title('ROC Curve')\n",
    "plt.legend(loc=\"lower right\")\n",
    "plt.show()"
   ]
  },
  {
   "cell_type": "markdown",
   "metadata": {},
   "source": [
    "Thanks to [this page](http://scikit-learn.org/stable/auto_examples/model_selection/plot_confusion_matrix.html#sphx-glr-auto-examples-model-selection-plot-confusion-matrix-py) by Scikit-Learn for the great explanation of a normalized confusion matrix"
   ]
  },
  {
   "cell_type": "code",
   "execution_count": 12,
   "metadata": {},
   "outputs": [],
   "source": [
    "import itertools\n",
    "\n",
    "def plot_confusion_matrix(cm, classes,\n",
    "                          normalize=False,\n",
    "                          title='Confusion matrix',\n",
    "                          cmap=plt.cm.Blues):\n",
    "    \"\"\"\n",
    "    This function prints and plots the confusion matrix.\n",
    "    Normalization can be applied by setting `normalize=True`.\n",
    "    \"\"\"\n",
    "    if normalize:\n",
    "        cm = cm.astype('float') / cm.sum(axis=1)[:, np.newaxis]\n",
    "        print(\"Normalized confusion matrix\")\n",
    "    else:\n",
    "        print('Confusion matrix, without normalization')\n",
    "\n",
    "    print(cm)\n",
    "\n",
    "    plt.imshow(cm, interpolation='nearest', cmap=cmap)\n",
    "    plt.title(title)\n",
    "    plt.colorbar()\n",
    "    tick_marks = np.arange(len(classes))\n",
    "    plt.xticks(tick_marks, classes, rotation=45)\n",
    "    plt.yticks(tick_marks, classes)\n",
    "\n",
    "    fmt = '.2f' if normalize else 'd'\n",
    "    thresh = cm.max() / 2.\n",
    "    for i, j in itertools.product(range(cm.shape[0]), range(cm.shape[1])):\n",
    "        plt.text(j, i, format(cm[i, j], fmt),\n",
    "                 horizontalalignment=\"center\",\n",
    "                 color=\"white\" if cm[i, j] > thresh else \"black\")\n",
    "\n",
    "    plt.tight_layout()\n",
    "    plt.ylabel('True label')\n",
    "    plt.xlabel('Predicted label')"
   ]
  },
  {
   "cell_type": "code",
   "execution_count": 13,
   "metadata": {},
   "outputs": [
    {
     "name": "stdout",
     "output_type": "stream",
     "text": [
      "Normalized confusion matrix\n",
      "[[ 0.91  0.09]\n",
      " [ 0.06  0.94]]\n"
     ]
    },
    {
     "data": {
      "image/png": "[encoded data removed]",
      "text/plain": [
       "<matplotlib.figure.Figure at 0x1110016a0>"
      ]
     },
     "metadata": {},
     "output_type": "display_data"
    }
   ],
   "source": [
    "# Compute confusion matrix\n",
    "cm = confusion_matrix(y_test, y_pred)\n",
    "np.set_printoptions(precision=2)\n",
    "\n",
    "# Plot normalized confusion matrix\n",
    "plt.figure(figsize=(6,6))\n",
    "plot_confusion_matrix(cm, classes=['No Alcohol', 'Alcohol Involved'], normalize=True,\n",
    "                      title='Normalized confusion matrix')"
   ]
  },
  {
   "cell_type": "markdown",
   "metadata": {},
   "source": [
    "---"
   ]
  },
  {
   "cell_type": "markdown",
   "metadata": {},
   "source": [
    "---"
   ]
  },
  {
   "cell_type": "code",
   "execution_count": 14,
   "metadata": {},
   "outputs": [],
   "source": [
    "from sklearn import tree\n",
    "import graphviz"
   ]
  },
  {
   "cell_type": "code",
   "execution_count": 15,
   "metadata": {},
   "outputs": [
    {
     "data": {
      "text/plain": [
       "DecisionTreeRegressor(criterion='mse', max_depth=None, max_features=None,\n",
       "           max_leaf_nodes=4, min_impurity_decrease=0.0,\n",
       "           min_impurity_split=None, min_samples_leaf=1,\n",
       "           min_samples_split=2, min_weight_fraction_leaf=0.0,\n",
       "           presort=False, random_state=None, splitter='best')"
      ]
     },
     "execution_count": 15,
     "metadata": {},
     "output_type": "execute_result"
    }
   ],
   "source": [
    "regr = tree.DecisionTreeRegressor(max_leaf_nodes=4)\n",
    "regr.fit(X, y)"
   ]
  },
  {
   "cell_type": "code",
   "execution_count": 16,
   "metadata": {},
   "outputs": [
    {
     "data": {
      "image/svg+xml": [
       "<?xml version=\"1.0\" encoding=\"UTF-8\" standalone=\"no\"?>\n",
       "<!DOCTYPE svg PUBLIC \"-//W3C//DTD SVG 1.1//EN\"\n",
       " \"http://www.w3.org/Graphics/SVG/1.1/DTD/svg11.dtd\">\n",
       "<!-- Generated by graphviz version 2.40.1 (20161225.0304)\n",
       " -->\n",
       "<!-- Title: Tree Pages: 1 -->\n",
       "<svg width=\"419pt\" height=\"400pt\"\n",
       " viewBox=\"0.00 0.00 419.09 400.00\" xmlns=\"http://www.w3.org/2000/svg\" xmlns:xlink=\"http://www.w3.org/1999/xlink\">\n",
       "<g id=\"graph0\" class=\"graph\" transform=\"scale(1 1) rotate(0) translate(4 396)\">\n",
       "<title>Tree</title>\n",
       "<polygon fill=\"#ffffff\" stroke=\"transparent\" points=\"-4,4 -4,-396 415.0925,-396 415.0925,4 -4,4\"/>\n",
       "<!-- 0 -->\n",
       "<g id=\"node1\" class=\"node\">\n",
       "<title>0</title>\n",
       "<path fill=\"#e58139\" fill-opacity=\"0.070588\" stroke=\"#000000\" d=\"M372.5206,-392.1003C372.5206,-392.1003 166.6806,-392.1003 166.6806,-392.1003 160.6806,-392.1003 154.6806,-386.1003 154.6806,-380.1003 154.6806,-380.1003 154.6806,-328.6997 154.6806,-328.6997 154.6806,-322.6997 160.6806,-316.6997 166.6806,-316.6997 166.6806,-316.6997 372.5206,-316.6997 372.5206,-316.6997 378.5206,-316.6997 384.5206,-322.6997 384.5206,-328.6997 384.5206,-328.6997 384.5206,-380.1003 384.5206,-380.1003 384.5206,-386.1003 378.5206,-392.1003 372.5206,-392.1003\"/>\n",
       "<text text-anchor=\"start\" x=\"162.6406\" y=\"-375.4\" font-family=\"Helvetica,sans-Serif\" font-size=\"14.00\" fill=\"#000000\">D1COND_Appeared Normal ≤ 0.5</text>\n",
       "<text text-anchor=\"start\" x=\"234.7819\" y=\"-358.6\" font-family=\"Helvetica,sans-Serif\" font-size=\"14.00\" fill=\"#000000\">mse = 0.04</text>\n",
       "<text text-anchor=\"start\" x=\"216.1087\" y=\"-341.8\" font-family=\"Helvetica,sans-Serif\" font-size=\"14.00\" fill=\"#000000\">samples = 72977</text>\n",
       "<text text-anchor=\"start\" x=\"231.2763\" y=\"-325\" font-family=\"Helvetica,sans-Serif\" font-size=\"14.00\" fill=\"#000000\">value = 0.04</text>\n",
       "</g>\n",
       "<!-- 1 -->\n",
       "<g id=\"node2\" class=\"node\">\n",
       "<title>1</title>\n",
       "<path fill=\"#e58139\" fill-opacity=\"0.298039\" stroke=\"#000000\" d=\"M258.5206,-280.9003C258.5206,-280.9003 122.6806,-280.9003 122.6806,-280.9003 116.6806,-280.9003 110.6806,-274.9003 110.6806,-268.9003 110.6806,-268.9003 110.6806,-217.4997 110.6806,-217.4997 110.6806,-211.4997 116.6806,-205.4997 122.6806,-205.4997 122.6806,-205.4997 258.5206,-205.4997 258.5206,-205.4997 264.5206,-205.4997 270.5206,-211.4997 270.5206,-217.4997 270.5206,-217.4997 270.5206,-268.9003 270.5206,-268.9003 270.5206,-274.9003 264.5206,-280.9003 258.5206,-280.9003\"/>\n",
       "<text text-anchor=\"start\" x=\"118.6406\" y=\"-264.2\" font-family=\"Helvetica,sans-Serif\" font-size=\"14.00\" fill=\"#000000\">DRIVER1SEX_U ≤ 0.5</text>\n",
       "<text text-anchor=\"start\" x=\"155.7819\" y=\"-247.4\" font-family=\"Helvetica,sans-Serif\" font-size=\"14.00\" fill=\"#000000\">mse = 0.13</text>\n",
       "<text text-anchor=\"start\" x=\"137.1087\" y=\"-230.6\" font-family=\"Helvetica,sans-Serif\" font-size=\"14.00\" fill=\"#000000\">samples = 16565</text>\n",
       "<text text-anchor=\"start\" x=\"152.2763\" y=\"-213.8\" font-family=\"Helvetica,sans-Serif\" font-size=\"14.00\" fill=\"#000000\">value = 0.15</text>\n",
       "</g>\n",
       "<!-- 0&#45;&gt;1 -->\n",
       "<g id=\"edge1\" class=\"edge\">\n",
       "<title>0&#45;&gt;1</title>\n",
       "<path fill=\"none\" stroke=\"#000000\" d=\"M242.8548,-316.7528C236.5489,-307.8765 229.7571,-298.3165 223.2242,-289.1209\"/>\n",
       "<polygon fill=\"#000000\" stroke=\"#000000\" points=\"225.9637,-286.9336 217.3189,-280.8085 220.2572,-290.9877 225.9637,-286.9336\"/>\n",
       "<text text-anchor=\"middle\" x=\"213.1458\" y=\"-301.2577\" font-family=\"Helvetica,sans-Serif\" font-size=\"14.00\" fill=\"#000000\">True</text>\n",
       "</g>\n",
       "<!-- 2 -->\n",
       "<g id=\"node7\" class=\"node\">\n",
       "<title>2</title>\n",
       "<path fill=\"#e58139\" fill-opacity=\"0.003922\" stroke=\"#000000\" d=\"M399.0844,-272.6014C399.0844,-272.6014 300.1168,-272.6014 300.1168,-272.6014 294.1168,-272.6014 288.1168,-266.6014 288.1168,-260.6014 288.1168,-260.6014 288.1168,-225.7986 288.1168,-225.7986 288.1168,-219.7986 294.1168,-213.7986 300.1168,-213.7986 300.1168,-213.7986 399.0844,-213.7986 399.0844,-213.7986 405.0844,-213.7986 411.0844,-219.7986 411.0844,-225.7986 411.0844,-225.7986 411.0844,-260.6014 411.0844,-260.6014 411.0844,-266.6014 405.0844,-272.6014 399.0844,-272.6014\"/>\n",
       "<text text-anchor=\"start\" x=\"318.6732\" y=\"-255.8\" font-family=\"Helvetica,sans-Serif\" font-size=\"14.00\" fill=\"#000000\">mse = 0.0</text>\n",
       "<text text-anchor=\"start\" x=\"296.1087\" y=\"-239\" font-family=\"Helvetica,sans-Serif\" font-size=\"14.00\" fill=\"#000000\">samples = 56412</text>\n",
       "<text text-anchor=\"start\" x=\"315.1676\" y=\"-222.2\" font-family=\"Helvetica,sans-Serif\" font-size=\"14.00\" fill=\"#000000\">value = 0.0</text>\n",
       "</g>\n",
       "<!-- 0&#45;&gt;2 -->\n",
       "<g id=\"edge6\" class=\"edge\">\n",
       "<title>0&#45;&gt;2</title>\n",
       "<path fill=\"none\" stroke=\"#000000\" d=\"M296.685,-316.7528C305.0015,-305.1928 314.1524,-292.473 322.4719,-280.9089\"/>\n",
       "<polygon fill=\"#000000\" stroke=\"#000000\" points=\"325.3601,-282.8874 328.359,-272.7258 319.6778,-278.7994 325.3601,-282.8874\"/>\n",
       "<text text-anchor=\"middle\" x=\"332.3852\" y=\"-293.1995\" font-family=\"Helvetica,sans-Serif\" font-size=\"14.00\" fill=\"#000000\">False</text>\n",
       "</g>\n",
       "<!-- 3 -->\n",
       "<g id=\"node3\" class=\"node\">\n",
       "<title>3</title>\n",
       "<path fill=\"#e58139\" fill-opacity=\"0.533333\" stroke=\"#000000\" d=\"M171.5685,-169.7003C171.5685,-169.7003 75.6327,-169.7003 75.6327,-169.7003 69.6327,-169.7003 63.6327,-163.7003 63.6327,-157.7003 63.6327,-157.7003 63.6327,-106.2997 63.6327,-106.2997 63.6327,-100.2997 69.6327,-94.2997 75.6327,-94.2997 75.6327,-94.2997 171.5685,-94.2997 171.5685,-94.2997 177.5685,-94.2997 183.5685,-100.2997 183.5685,-106.2997 183.5685,-106.2997 183.5685,-157.7003 183.5685,-157.7003 183.5685,-163.7003 177.5685,-169.7003 171.5685,-169.7003\"/>\n",
       "<text text-anchor=\"start\" x=\"71.8671\" y=\"-153\" font-family=\"Helvetica,sans-Serif\" font-size=\"14.00\" fill=\"#000000\">HOUR_Y ≤ 0.38</text>\n",
       "<text text-anchor=\"start\" x=\"92.6732\" y=\"-136.2\" font-family=\"Helvetica,sans-Serif\" font-size=\"14.00\" fill=\"#000000\">mse = 0.2</text>\n",
       "<text text-anchor=\"start\" x=\"74\" y=\"-119.4\" font-family=\"Helvetica,sans-Serif\" font-size=\"14.00\" fill=\"#000000\">samples = 9270</text>\n",
       "<text text-anchor=\"start\" x=\"85.2763\" y=\"-102.6\" font-family=\"Helvetica,sans-Serif\" font-size=\"14.00\" fill=\"#000000\">value = 0.27</text>\n",
       "</g>\n",
       "<!-- 1&#45;&gt;3 -->\n",
       "<g id=\"edge2\" class=\"edge\">\n",
       "<title>1&#45;&gt;3</title>\n",
       "<path fill=\"none\" stroke=\"#000000\" d=\"M167.9175,-205.5528C162.6239,-196.7671 156.9268,-187.3115 151.4384,-178.2025\"/>\n",
       "<polygon fill=\"#000000\" stroke=\"#000000\" points=\"154.4191,-176.3676 146.2604,-169.6085 148.4233,-179.9802 154.4191,-176.3676\"/>\n",
       "</g>\n",
       "<!-- 4 -->\n",
       "<g id=\"node6\" class=\"node\">\n",
       "<title>4</title>\n",
       "<path fill=\"transparent\" stroke=\"#000000\" d=\"M304.302,-161.4014C304.302,-161.4014 212.8992,-161.4014 212.8992,-161.4014 206.8992,-161.4014 200.8992,-155.4014 200.8992,-149.4014 200.8992,-149.4014 200.8992,-114.5986 200.8992,-114.5986 200.8992,-108.5986 206.8992,-102.5986 212.8992,-102.5986 212.8992,-102.5986 304.302,-102.5986 304.302,-102.5986 310.302,-102.5986 316.302,-108.5986 316.302,-114.5986 316.302,-114.5986 316.302,-149.4014 316.302,-149.4014 316.302,-155.4014 310.302,-161.4014 304.302,-161.4014\"/>\n",
       "<text text-anchor=\"start\" x=\"227.6732\" y=\"-144.6\" font-family=\"Helvetica,sans-Serif\" font-size=\"14.00\" fill=\"#000000\">mse = 0.0</text>\n",
       "<text text-anchor=\"start\" x=\"209\" y=\"-127.8\" font-family=\"Helvetica,sans-Serif\" font-size=\"14.00\" fill=\"#000000\">samples = 7295</text>\n",
       "<text text-anchor=\"start\" x=\"224.1676\" y=\"-111\" font-family=\"Helvetica,sans-Serif\" font-size=\"14.00\" fill=\"#000000\">value = 0.0</text>\n",
       "</g>\n",
       "<!-- 1&#45;&gt;4 -->\n",
       "<g id=\"edge5\" class=\"edge\">\n",
       "<title>1&#45;&gt;4</title>\n",
       "<path fill=\"none\" stroke=\"#000000\" d=\"M213.6223,-205.5528C220.5541,-194.2173 228.1678,-181.7665 235.1285,-170.3838\"/>\n",
       "<polygon fill=\"#000000\" stroke=\"#000000\" points=\"238.3142,-171.8831 240.5452,-161.5258 232.3422,-168.2312 238.3142,-171.8831\"/>\n",
       "</g>\n",
       "<!-- 5 -->\n",
       "<g id=\"node4\" class=\"node\">\n",
       "<title>5</title>\n",
       "<path fill=\"#e58139\" fill-opacity=\"0.192157\" stroke=\"#000000\" d=\"M103.302,-58.6014C103.302,-58.6014 11.8992,-58.6014 11.8992,-58.6014 5.8992,-58.6014 -.1008,-52.6014 -.1008,-46.6014 -.1008,-46.6014 -.1008,-11.7986 -.1008,-11.7986 -.1008,-5.7986 5.8992,.2014 11.8992,.2014 11.8992,.2014 103.302,.2014 103.302,.2014 109.302,.2014 115.302,-5.7986 115.302,-11.7986 115.302,-11.7986 115.302,-46.6014 115.302,-46.6014 115.302,-52.6014 109.302,-58.6014 103.302,-58.6014\"/>\n",
       "<text text-anchor=\"start\" x=\"22.7819\" y=\"-41.8\" font-family=\"Helvetica,sans-Serif\" font-size=\"14.00\" fill=\"#000000\">mse = 0.09</text>\n",
       "<text text-anchor=\"start\" x=\"8\" y=\"-25\" font-family=\"Helvetica,sans-Serif\" font-size=\"14.00\" fill=\"#000000\">samples = 5343</text>\n",
       "<text text-anchor=\"start\" x=\"23.1676\" y=\"-8.2\" font-family=\"Helvetica,sans-Serif\" font-size=\"14.00\" fill=\"#000000\">value = 0.1</text>\n",
       "</g>\n",
       "<!-- 3&#45;&gt;5 -->\n",
       "<g id=\"edge3\" class=\"edge\">\n",
       "<title>3&#45;&gt;5</title>\n",
       "<path fill=\"none\" stroke=\"#000000\" d=\"M99.3994,-94.3048C93.7154,-85.4515 87.6556,-76.013 81.9645,-67.1487\"/>\n",
       "<polygon fill=\"#000000\" stroke=\"#000000\" points=\"84.7717,-65.0427 76.4238,-58.5186 78.8813,-68.8246 84.7717,-65.0427\"/>\n",
       "</g>\n",
       "<!-- 6 -->\n",
       "<g id=\"node5\" class=\"node\">\n",
       "<title>6</title>\n",
       "<path fill=\"#e58139\" stroke=\"#000000\" d=\"M236.302,-58.6014C236.302,-58.6014 144.8992,-58.6014 144.8992,-58.6014 138.8992,-58.6014 132.8992,-52.6014 132.8992,-46.6014 132.8992,-46.6014 132.8992,-11.7986 132.8992,-11.7986 132.8992,-5.7986 138.8992,.2014 144.8992,.2014 144.8992,.2014 236.302,.2014 236.302,.2014 242.302,.2014 248.302,-5.7986 248.302,-11.7986 248.302,-11.7986 248.302,-46.6014 248.302,-46.6014 248.302,-52.6014 242.302,-58.6014 236.302,-58.6014\"/>\n",
       "<text text-anchor=\"start\" x=\"155.7819\" y=\"-41.8\" font-family=\"Helvetica,sans-Serif\" font-size=\"14.00\" fill=\"#000000\">mse = 0.25</text>\n",
       "<text text-anchor=\"start\" x=\"141\" y=\"-25\" font-family=\"Helvetica,sans-Serif\" font-size=\"14.00\" fill=\"#000000\">samples = 3927</text>\n",
       "<text text-anchor=\"start\" x=\"152.2763\" y=\"-8.2\" font-family=\"Helvetica,sans-Serif\" font-size=\"14.00\" fill=\"#000000\">value = 0.51</text>\n",
       "</g>\n",
       "<!-- 3&#45;&gt;6 -->\n",
       "<g id=\"edge4\" class=\"edge\">\n",
       "<title>3&#45;&gt;6</title>\n",
       "<path fill=\"none\" stroke=\"#000000\" d=\"M148.1685,-94.3048C153.9386,-85.4515 160.0902,-76.013 165.8675,-67.1487\"/>\n",
       "<polygon fill=\"#000000\" stroke=\"#000000\" points=\"168.9641,-68.8075 171.4922,-58.5186 163.0997,-64.9853 168.9641,-68.8075\"/>\n",
       "</g>\n",
       "</g>\n",
       "</svg>\n"
      ],
      "text/plain": [
       "<graphviz.files.Source at 0x1a14530d68>"
      ]
     },
     "execution_count": 16,
     "metadata": {},
     "output_type": "execute_result"
    }
   ],
   "source": [
    "dot_data = tree.export_graphviz(regr, out_file=None, \n",
    "                         feature_names=X.columns, \n",
    "                         filled=True, rounded=True,  \n",
    "                         special_characters=True,\n",
    "                               precision=2)\n",
    "tree_viz = graphviz.Source(dot_data)\n",
    "tree_viz"
   ]
  }
 ],
 "metadata": {
  "kernelspec": {
   "display_name": "Python 3",
   "language": "python",
   "name": "python3"
  },
  "language_info": {
   "codemirror_mode": {
    "name": "ipython",
    "version": 3
   },
   "file_extension": ".py",
   "mimetype": "text/x-python",
   "name": "python",
   "nbconvert_exporter": "python",
   "pygments_lexer": "ipython3",
   "version": "3.6.3"
  }
 },
 "nbformat": 4,
 "nbformat_minor": 2
}
